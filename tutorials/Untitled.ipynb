{
 "cells": [
  {
   "cell_type": "code",
   "execution_count": 1,
   "metadata": {},
   "outputs": [
    {
     "name": "stderr",
     "output_type": "stream",
     "text": [
      "INFO:root:Found local kubernetes config. Initialized with kube_config.\n",
      "INFO:root:Checking workflow name/generatedName runpy-\n",
      "INFO:root:Submitting workflow to Argo\n",
      "INFO:root:Workflow runpy-6q7h5 has been submitted in \"default\" namespace!\n"
     ]
    },
    {
     "name": "stdout",
     "output_type": "stream",
     "text": [
      "<module 'couler.argo' from '/gpfs/bsc_home/xpliu/anaconda3/lib/python3.8/site-packages/couler/argo.py'>\n"
     ]
    },
    {
     "data": {
      "text/plain": [
       "{'apiVersion': 'argoproj.io/v1alpha1',\n",
       " 'kind': 'Workflow',\n",
       " 'metadata': {'creationTimestamp': '2021-04-09T08:32:20Z',\n",
       "  'generateName': 'runpy-',\n",
       "  'generation': 1,\n",
       "  'managedFields': [{'apiVersion': 'argoproj.io/v1alpha1',\n",
       "    'fieldsType': 'FieldsV1',\n",
       "    'fieldsV1': {'f:metadata': {'f:generateName': {}},\n",
       "     'f:spec': {'.': {}, 'f:entrypoint': {}, 'f:templates': {}}},\n",
       "    'manager': 'OpenAPI-Generator',\n",
       "    'operation': 'Update',\n",
       "    'time': '2021-04-09T08:32:20Z'}],\n",
       "  'name': 'runpy-6q7h5',\n",
       "  'namespace': 'default',\n",
       "  'resourceVersion': '20199845',\n",
       "  'selfLink': '/apis/argoproj.io/v1alpha1/namespaces/default/workflows/runpy-6q7h5',\n",
       "  'uid': '83a90ab4-8575-4b8f-b6d9-c2efef9b83fe'},\n",
       " 'spec': {'entrypoint': 'runpy',\n",
       "  'templates': [{'name': 'runpy',\n",
       "    'steps': [[{'name': 'flip-coin-28', 'template': 'flip-coin'}],\n",
       "     [{'name': 'heads-29',\n",
       "       'template': 'heads',\n",
       "       'when': '{{steps.flip-coin-28.outputs.result}} == heads'},\n",
       "      {'name': 'tails-30',\n",
       "       'template': 'tails',\n",
       "       'when': '{{steps.flip-coin-28.outputs.result}} == tails'}]]},\n",
       "   {'name': 'flip-coin',\n",
       "    'script': {'command': ['python'],\n",
       "     'image': 'python:alpine3.6',\n",
       "     'source': '\\nimport random\\n\\nres = \"heads\" if random.randint(0, 1) == 0 else \"tails\"\\nprint(res)\\n'}},\n",
       "   {'container': {'command': ['sh', '-c', 'echo \"it was heads\"'],\n",
       "     'image': 'alpine:3.6'},\n",
       "    'name': 'heads'},\n",
       "   {'container': {'command': ['sh', '-c', 'echo \"it was tails\"'],\n",
       "     'image': 'alpine:3.6'},\n",
       "    'name': 'tails'}]}}"
      ]
     },
     "execution_count": 1,
     "metadata": {},
     "output_type": "execute_result"
    }
   ],
   "source": [
    "import couler.argo as couler\n",
    "from couler.argo_submitter import ArgoSubmitter\n",
    "\n",
    "\n",
    "def random_code():\n",
    "    import random\n",
    "\n",
    "    res = \"heads\" if random.randint(0, 1) == 0 else \"tails\"\n",
    "    print(res)\n",
    "\n",
    "\n",
    "def flip_coin():\n",
    "    return couler.run_script(image=\"python:alpine3.6\", source=random_code)\n",
    "\n",
    "\n",
    "def heads():\n",
    "    return couler.run_container(\n",
    "        image=\"alpine:3.6\", command=[\"sh\", \"-c\", 'echo \"it was heads\"']\n",
    "    )\n",
    "\n",
    "\n",
    "def tails():\n",
    "    return couler.run_container(\n",
    "        image=\"alpine:3.6\", command=[\"sh\", \"-c\", 'echo \"it was tails\"']\n",
    "    )\n",
    "\n",
    "\n",
    "result = flip_coin()\n",
    "couler.when(couler.equal(result, \"heads\"), lambda: heads())\n",
    "couler.when(couler.equal(result, \"tails\"), lambda: tails())\n",
    "\n",
    "submitter = ArgoSubmitter()\n",
    "print(couler)\n",
    "couler.run(submitter=submitter)"
   ]
  },
  {
   "cell_type": "code",
   "execution_count": 2,
   "metadata": {},
   "outputs": [],
   "source": [
    "import yaml\n",
    "import pyaml\n",
    "\n",
    "with open('./store_file.yaml', 'w') as file:\n",
    "    documents = yaml.dump(couler.states.workflow, file)\n"
   ]
  },
  {
   "cell_type": "code",
   "execution_count": 4,
   "metadata": {},
   "outputs": [
    {
     "name": "stderr",
     "output_type": "stream",
     "text": [
      "INFO:root:Found local kubernetes config. Initialized with kube_config.\n"
     ]
    },
    {
     "data": {
      "text/plain": [
       "{'kind': 'Status',\n",
       " 'apiVersion': 'v1',\n",
       " 'metadata': {},\n",
       " 'status': 'Success',\n",
       " 'details': {'name': 'runpy-5ghvx',\n",
       "  'group': 'argoproj.io',\n",
       "  'kind': 'workflows',\n",
       "  'uid': 'eb431d22-3f67-44cc-9200-cc116b082515'}}"
      ]
     },
     "execution_count": 4,
     "metadata": {},
     "output_type": "execute_result"
    }
   ],
   "source": [
    "couler.delete(\"runpy-5ghvx\")"
   ]
  },
  {
   "cell_type": "code",
   "execution_count": 2,
   "metadata": {},
   "outputs": [
    {
     "name": "stdout",
     "output_type": "stream",
     "text": [
      "<couler.core.templates.workflow.Workflow object at 0x2b7612fa1040>\n"
     ]
    },
    {
     "data": {
      "text/plain": [
       "OrderedDict([('apiVersion', 'argoproj.io/v1alpha1'),\n",
       "             ('kind', 'Workflow'),\n",
       "             ('metadata', {'generateName': 'runpy-'}),\n",
       "             ('spec',\n",
       "              {'entrypoint': 'runpy',\n",
       "               'templates': [{'name': 'runpy', 'steps': {}}]})])"
      ]
     },
     "execution_count": 2,
     "metadata": {},
     "output_type": "execute_result"
    }
   ],
   "source": [
    "couler.workflow_yaml()"
   ]
  },
  {
   "cell_type": "code",
   "execution_count": 12,
   "metadata": {},
   "outputs": [],
   "source": [
    "couler.init_yaml_dump()"
   ]
  },
  {
   "cell_type": "code",
   "execution_count": 13,
   "metadata": {},
   "outputs": [],
   "source": [
    "couler._dump_yaml()"
   ]
  },
  {
   "cell_type": "code",
   "execution_count": 3,
   "metadata": {},
   "outputs": [
    {
     "name": "stderr",
     "output_type": "stream",
     "text": [
      "INFO:root:Found local kubernetes config. Initialized with kube_config.\n",
      "INFO:root:Checking workflow name/generatedName runpy-\n",
      "INFO:root:Submitting workflow to Argo\n",
      "INFO:root:Workflow runpy-5stcs has been submitted in \"default\" namespace!\n"
     ]
    },
    {
     "name": "stdout",
     "output_type": "stream",
     "text": [
      "<couler.core.templates.workflow.Workflow object at 0x2b0780902040>\n"
     ]
    },
    {
     "data": {
      "text/plain": [
       "{'apiVersion': 'argoproj.io/v1alpha1',\n",
       " 'kind': 'Workflow',\n",
       " 'metadata': {'creationTimestamp': '2021-04-08T09:32:52Z',\n",
       "  'generateName': 'runpy-',\n",
       "  'generation': 1,\n",
       "  'managedFields': [{'apiVersion': 'argoproj.io/v1alpha1',\n",
       "    'fieldsType': 'FieldsV1',\n",
       "    'fieldsV1': {'f:metadata': {'f:generateName': {}},\n",
       "     'f:spec': {'.': {}, 'f:entrypoint': {}, 'f:templates': {}}},\n",
       "    'manager': 'OpenAPI-Generator',\n",
       "    'operation': 'Update',\n",
       "    'time': '2021-04-08T09:32:52Z'}],\n",
       "  'name': 'runpy-5stcs',\n",
       "  'namespace': 'default',\n",
       "  'resourceVersion': '19690930',\n",
       "  'selfLink': '/apis/argoproj.io/v1alpha1/namespaces/default/workflows/runpy-5stcs',\n",
       "  'uid': '64c09bb3-5ce7-4018-9bca-2cd56fcc94ec'},\n",
       " 'spec': {'entrypoint': 'runpy',\n",
       "  'templates': [{'dag': {'tasks': [{'arguments': {'parameters': [{'name': 'para-A-0',\n",
       "          'value': 'A'}]},\n",
       "       'name': 'A',\n",
       "       'template': 'A'},\n",
       "      {'arguments': {'parameters': [{'name': 'para-B-0', 'value': 'B'}]},\n",
       "       'dependencies': ['A'],\n",
       "       'name': 'B',\n",
       "       'template': 'B'},\n",
       "      {'arguments': {'parameters': [{'name': 'para-C-0', 'value': 'C'}]},\n",
       "       'dependencies': ['A'],\n",
       "       'name': 'C',\n",
       "       'template': 'C'},\n",
       "      {'arguments': {'parameters': [{'name': 'para-D-0', 'value': 'D'}]},\n",
       "       'dependencies': ['B'],\n",
       "       'name': 'D',\n",
       "       'template': 'D'}]},\n",
       "    'name': 'runpy'},\n",
       "   {'container': {'args': ['{{inputs.parameters.para-A-0}}'],\n",
       "     'command': ['cowsay'],\n",
       "     'image': 'docker/whalesay:latest'},\n",
       "    'inputs': {'parameters': [{'name': 'para-A-0'}]},\n",
       "    'name': 'A'},\n",
       "   {'container': {'args': ['{{inputs.parameters.para-B-0}}'],\n",
       "     'command': ['cowsay'],\n",
       "     'image': 'docker/whalesay:latest'},\n",
       "    'inputs': {'parameters': [{'name': 'para-B-0'}]},\n",
       "    'name': 'B'},\n",
       "   {'container': {'args': ['{{inputs.parameters.para-C-0}}'],\n",
       "     'command': ['cowsay'],\n",
       "     'image': 'docker/whalesay:latest'},\n",
       "    'inputs': {'parameters': [{'name': 'para-C-0'}]},\n",
       "    'name': 'C'},\n",
       "   {'container': {'args': ['{{inputs.parameters.para-D-0}}'],\n",
       "     'command': ['cowsay'],\n",
       "     'image': 'docker/whalesay:latest'},\n",
       "    'inputs': {'parameters': [{'name': 'para-D-0'}]},\n",
       "    'name': 'D'}]}}"
      ]
     },
     "execution_count": 3,
     "metadata": {},
     "output_type": "execute_result"
    }
   ],
   "source": [
    "import couler.argo as couler\n",
    "from couler.argo_submitter import ArgoSubmitter\n",
    "\n",
    "\n",
    "def job_a(message):\n",
    "    couler.run_container(\n",
    "        image=\"docker/whalesay:latest\",\n",
    "        command=[\"cowsay\"],\n",
    "        args=[message],\n",
    "        step_name=\"A\",\n",
    "    )\n",
    "\n",
    "\n",
    "def job_b(message):\n",
    "    couler.run_container(\n",
    "        image=\"docker/whalesay:latest\",\n",
    "        command=[\"cowsay\"],\n",
    "        args=[message],\n",
    "        step_name=\"B\",\n",
    "    )\n",
    "\n",
    "\n",
    "def job_c(message):\n",
    "    couler.run_container(\n",
    "        image=\"docker/whalesay:latest\",\n",
    "        command=[\"cowsay\"],\n",
    "        args=[message],\n",
    "        step_name=\"C\",\n",
    "    )\n",
    "\n",
    "\n",
    "def job_d(message):\n",
    "    couler.run_container(\n",
    "        image=\"docker/whalesay:latest\",\n",
    "        command=[\"cowsay\"],\n",
    "        args=[message],\n",
    "        step_name=\"D\",\n",
    "    )\n",
    "\n",
    "#     A\n",
    "#    / \\\n",
    "#   B   C\n",
    "#  /\n",
    "# D\n",
    "def linear():\n",
    "    couler.set_dependencies(lambda: job_a(message=\"A\"), dependencies=None)\n",
    "    couler.set_dependencies(lambda: job_b(message=\"B\"), dependencies=[\"A\"])\n",
    "    couler.set_dependencies(lambda: job_c(message=\"C\"), dependencies=[\"A\"])\n",
    "    couler.set_dependencies(lambda: job_d(message=\"D\"), dependencies=[\"B\"])\n",
    "\n",
    "\n",
    "#   A\n",
    "#  / \\\n",
    "# B   C\n",
    "#  \\ /\n",
    "#   D\n",
    "def diamond():\n",
    "    couler.dag(\n",
    "        [\n",
    "            [lambda: job_a(message=\"A\")],\n",
    "            [lambda: job_a(message=\"A\"), lambda: job_b(message=\"B\")],  # A -> B\n",
    "            [lambda: job_a(message=\"A\"), lambda: job_c(message=\"C\")],  # A -> C\n",
    "            [lambda: job_b(message=\"B\"), lambda: job_d(message=\"D\")],  # B -> D\n",
    "            [lambda: job_c(message=\"C\"), lambda: job_d(message=\"D\")],  # C -> D\n",
    "        ]\n",
    "    )\n",
    "\n",
    "\n",
    "linear()\n",
    "submitter = ArgoSubmitter()\n",
    "couler.run(submitter=submitter)"
   ]
  },
  {
   "cell_type": "code",
   "execution_count": 3,
   "metadata": {},
   "outputs": [
    {
     "ename": "TypeError",
     "evalue": "'NoneType' object is not iterable",
     "output_type": "error",
     "traceback": [
      "\u001b[0;31m---------------------------------------------------------------------------\u001b[0m",
      "\u001b[0;31mTypeError\u001b[0m                                 Traceback (most recent call last)",
      "\u001b[0;32m<ipython-input-3-dfced1b8c8fc>\u001b[0m in \u001b[0;36m<module>\u001b[0;34m\u001b[0m\n\u001b[1;32m     25\u001b[0m \u001b[0;34m\u001b[0m\u001b[0m\n\u001b[1;32m     26\u001b[0m \u001b[0;34m\u001b[0m\u001b[0m\n\u001b[0;32m---> 27\u001b[0;31m \u001b[0mlinear\u001b[0m\u001b[0;34m(\u001b[0m\u001b[0;34m)\u001b[0m\u001b[0;34m\u001b[0m\u001b[0;34m\u001b[0m\u001b[0m\n\u001b[0m\u001b[1;32m     28\u001b[0m \u001b[0;34m\u001b[0m\u001b[0m\n\u001b[1;32m     29\u001b[0m \u001b[0;34m\u001b[0m\u001b[0m\n",
      "\u001b[0;32m<ipython-input-3-dfced1b8c8fc>\u001b[0m in \u001b[0;36mlinear\u001b[0;34m()\u001b[0m\n\u001b[1;32m     21\u001b[0m \u001b[0;32mdef\u001b[0m \u001b[0mlinear\u001b[0m\u001b[0;34m(\u001b[0m\u001b[0;34m)\u001b[0m\u001b[0;34m:\u001b[0m\u001b[0;34m\u001b[0m\u001b[0;34m\u001b[0m\u001b[0m\n\u001b[1;32m     22\u001b[0m     \u001b[0mcouler\u001b[0m\u001b[0;34m.\u001b[0m\u001b[0mset_dependencies\u001b[0m\u001b[0;34m(\u001b[0m\u001b[0;32mlambda\u001b[0m\u001b[0;34m:\u001b[0m \u001b[0mtask\u001b[0m\u001b[0;34m,\u001b[0m \u001b[0mdependencies\u001b[0m\u001b[0;34m=\u001b[0m\u001b[0;32mNone\u001b[0m\u001b[0;34m)\u001b[0m\u001b[0;34m\u001b[0m\u001b[0;34m\u001b[0m\u001b[0m\n\u001b[0;32m---> 23\u001b[0;31m     \u001b[0mcouler\u001b[0m\u001b[0;34m.\u001b[0m\u001b[0mset_dependencies\u001b[0m\u001b[0;34m(\u001b[0m\u001b[0;32mlambda\u001b[0m\u001b[0;34m:\u001b[0m \u001b[0mjob\u001b[0m\u001b[0;34m(\u001b[0m\u001b[0mmessage\u001b[0m\u001b[0;34m=\u001b[0m\u001b[0;34m\"B\"\u001b[0m\u001b[0;34m,\u001b[0m \u001b[0mstepname\u001b[0m\u001b[0;34m=\u001b[0m\u001b[0;34m\"B\"\u001b[0m\u001b[0;34m)\u001b[0m\u001b[0;34m,\u001b[0m \u001b[0mdependencies\u001b[0m\u001b[0;34m=\u001b[0m\u001b[0;34m[\u001b[0m\u001b[0;34m\"A\"\u001b[0m\u001b[0;34m]\u001b[0m\u001b[0;34m)\u001b[0m\u001b[0;34m\u001b[0m\u001b[0;34m\u001b[0m\u001b[0m\n\u001b[0m\u001b[1;32m     24\u001b[0m \u001b[0;34m\u001b[0m\u001b[0m\n\u001b[1;32m     25\u001b[0m \u001b[0;34m\u001b[0m\u001b[0m\n",
      "\u001b[0;32m~/anaconda3/lib/python3.8/site-packages/couler/core/syntax/dag.py\u001b[0m in \u001b[0;36mset_dependencies\u001b[0;34m(step_function, dependencies)\u001b[0m\n\u001b[1;32m     79\u001b[0m             \u001b[0moutput\u001b[0m \u001b[0;34m=\u001b[0m \u001b[0mstates\u001b[0m\u001b[0;34m.\u001b[0m\u001b[0mget_step_output\u001b[0m\u001b[0;34m(\u001b[0m\u001b[0mstep\u001b[0m\u001b[0;34m)\u001b[0m\u001b[0;34m\u001b[0m\u001b[0;34m\u001b[0m\u001b[0m\n\u001b[1;32m     80\u001b[0m \u001b[0;34m\u001b[0m\u001b[0m\n\u001b[0;32m---> 81\u001b[0;31m             \u001b[0;32mfor\u001b[0m \u001b[0mo\u001b[0m \u001b[0;32min\u001b[0m \u001b[0moutput\u001b[0m\u001b[0;34m:\u001b[0m\u001b[0;34m\u001b[0m\u001b[0;34m\u001b[0m\u001b[0m\n\u001b[0m\u001b[1;32m     82\u001b[0m                 \u001b[0;32mif\u001b[0m \u001b[0misinstance\u001b[0m\u001b[0;34m(\u001b[0m\u001b[0mo\u001b[0m\u001b[0;34m,\u001b[0m \u001b[0;34m(\u001b[0m\u001b[0mOutputArtifact\u001b[0m\u001b[0;34m,\u001b[0m \u001b[0mOutputParameter\u001b[0m\u001b[0;34m,\u001b[0m \u001b[0mOutputJob\u001b[0m\u001b[0;34m)\u001b[0m\u001b[0;34m)\u001b[0m\u001b[0;34m:\u001b[0m\u001b[0;34m\u001b[0m\u001b[0;34m\u001b[0m\u001b[0m\n\u001b[1;32m     83\u001b[0m                     \u001b[0mstates\u001b[0m\u001b[0;34m.\u001b[0m\u001b[0m_outputs_tmp\u001b[0m\u001b[0;34m.\u001b[0m\u001b[0mappend\u001b[0m\u001b[0;34m(\u001b[0m\u001b[0mo\u001b[0m\u001b[0;34m)\u001b[0m\u001b[0;34m\u001b[0m\u001b[0;34m\u001b[0m\u001b[0m\n",
      "\u001b[0;31mTypeError\u001b[0m: 'NoneType' object is not iterable"
     ]
    }
   ],
   "source": [
    "import couler.argo as couler\n",
    "from couler.argo_submitter import ArgoSubmitter\n",
    "\n",
    "\n",
    "def job(message, stepname):\n",
    "    task = couler.run_container(\n",
    "        image=\"docker/whalesay:latest\",\n",
    "        command=[\"cowsay\"],\n",
    "        args=[message],\n",
    "        step_name=stepname,\n",
    "    )\n",
    "    return task\n",
    "\n",
    "task = job(message=\"A\", stepname=\"A\")\n",
    "\n",
    "#     A\n",
    "#    / \\\n",
    "#   B   C\n",
    "#  /\n",
    "# D\n",
    "def linear():\n",
    "    couler.set_dependencies(lambda: task, dependencies=None)\n",
    "    couler.set_dependencies(lambda: job(message=\"B\", stepname=\"B\"), dependencies=[\"A\"])\n",
    "\n",
    "\n",
    "    \n",
    "linear()\n",
    "\n",
    "\n",
    "submitter = ArgoSubmitter()\n",
    "couler.run(submitter=submitter)"
   ]
  },
  {
   "cell_type": "code",
   "execution_count": 4,
   "metadata": {},
   "outputs": [
    {
     "name": "stderr",
     "output_type": "stream",
     "text": [
      "INFO:root:Found local kubernetes config. Initialized with kube_config.\n",
      "INFO:root:Checking workflow name/generatedName runpy-\n",
      "INFO:root:Submitting workflow to Argo\n",
      "INFO:root:Workflow runpy-qcmvh has been submitted in \"argo\" namespace!\n"
     ]
    },
    {
     "name": "stdout",
     "output_type": "stream",
     "text": [
      "[<couler.core.templates.output.OutputEmpty object at 0x2afaddb7cb50>]\n"
     ]
    },
    {
     "data": {
      "text/plain": [
       "{'apiVersion': 'argoproj.io/v1alpha1',\n",
       " 'kind': 'Workflow',\n",
       " 'metadata': {'creationTimestamp': '2021-04-08T15:05:36Z',\n",
       "  'generateName': 'runpy-',\n",
       "  'generation': 1,\n",
       "  'managedFields': [{'apiVersion': 'argoproj.io/v1alpha1',\n",
       "    'fieldsType': 'FieldsV1',\n",
       "    'fieldsV1': {'f:metadata': {'f:generateName': {}},\n",
       "     'f:spec': {'.': {},\n",
       "      'f:entrypoint': {},\n",
       "      'f:templates': {},\n",
       "      'f:volumeClaimTemplates': {}}},\n",
       "    'manager': 'OpenAPI-Generator',\n",
       "    'operation': 'Update',\n",
       "    'time': '2021-04-08T15:05:36Z'}],\n",
       "  'name': 'runpy-qcmvh',\n",
       "  'namespace': 'argo',\n",
       "  'resourceVersion': '19813708',\n",
       "  'selfLink': '/apis/argoproj.io/v1alpha1/namespaces/argo/workflows/runpy-qcmvh',\n",
       "  'uid': '5071a5ea-5b82-4c08-b03e-9b36a8d61abf'},\n",
       " 'spec': {'entrypoint': 'runpy',\n",
       "  'templates': [{'dag': {'tasks': [{'dependencies': ['A'],\n",
       "       'name': 'touch-op-None',\n",
       "       'template': 'touch-op'},\n",
       "      {'dependencies': ['touch-op-None'],\n",
       "       'name': 'ls-op-None',\n",
       "       'template': 'ls-op'}]},\n",
       "    'name': 'runpy'},\n",
       "   {'container': {'args': ['{{inputs.parameters.para-A-0}}'],\n",
       "     'command': ['cowsay'],\n",
       "     'image': 'docker/whalesay:latest'},\n",
       "    'inputs': {'parameters': [{'name': 'para-A-0'}]},\n",
       "    'name': 'A'},\n",
       "   {'container': {'command': ['touch', '/data/hello_world.txt'],\n",
       "     'image': 'alpine:3.12.0',\n",
       "     'volumeMounts': [{'mountPath': '/data/', 'name': 'pvc-test'}]},\n",
       "    'name': 'touch-op',\n",
       "    'volumes': [{'emptyDir': {}, 'name': 'pvc-test'}]},\n",
       "   {'container': {'command': ['ls', '/data/'],\n",
       "     'image': 'alpine:3.12.0',\n",
       "     'volumeMounts': [{'mountPath': '/data/', 'name': 'pvc-test'}]},\n",
       "    'name': 'ls-op',\n",
       "    'volumes': [{'emptyDir': {}, 'name': 'pvc-test'}]}],\n",
       "  'volumeClaimTemplates': [{'metadata': {'name': 'pvc-test'},\n",
       "    'spec': {'accessModes': ['ReadWriteOnce'],\n",
       "     'resources': {'requests': {'storage': '1Gi'}}}}]}}"
      ]
     },
     "execution_count": 4,
     "metadata": {},
     "output_type": "execute_result"
    }
   ],
   "source": [
    "import os\n",
    "\n",
    "import couler.argo as couler\n",
    "from couler.argo_submitter import ArgoSubmitter\n",
    "from couler.core.templates.volume_claim import VolumeClaimTemplate\n",
    "from couler.core.templates.volume import VolumeMount\n",
    "from couler.core.syntax import create_workflow_volume\n",
    "\n",
    "\n",
    "def touch_op(data_mount):\n",
    "    command = [\"touch\", os.path.join(data_mount.mount_path, 'hello_world.txt')]\n",
    "    return couler.run_container(\n",
    "        image=\"alpine:3.12.0\", command=command, volume_mounts=[data_mount]\n",
    "    )\n",
    "\n",
    "\n",
    "def ls_op(data_mount):\n",
    "    command = [\"ls\", data_mount.mount_path]\n",
    "    return couler.run_container(\n",
    "        image=\"alpine:3.12.0\", command=command, volume_mounts=[data_mount]\n",
    "    )\n",
    "\n",
    "\n",
    "volume_name = \"pvc-test\"\n",
    "volume_path = \"/data/\"\n",
    "pvc = VolumeClaimTemplate(volume_name)\n",
    "mount = VolumeMount(volume_name, volume_path)\n",
    "create_workflow_volume(pvc)\n",
    "touch_op(mount)\n",
    "ls_op(mount)\n",
    "\n",
    "submitter = ArgoSubmitter(namespace=\"argo\")\n",
    "couler.run(submitter=submitter)"
   ]
  },
  {
   "cell_type": "code",
   "execution_count": 2,
   "metadata": {},
   "outputs": [
    {
     "name": "stderr",
     "output_type": "stream",
     "text": [
      "INFO:root:Found local kubernetes config. Initialized with kube_config.\n",
      "INFO:root:Checking workflow name/generatedName runpy-\n",
      "INFO:root:Submitting workflow to Argo\n",
      "INFO:root:Workflow runpy-x2lkw has been submitted in \"testagent\" namespace!\n"
     ]
    },
    {
     "name": "stdout",
     "output_type": "stream",
     "text": [
      "OrderedDict([('apiVersion', 'argoproj.io/v1alpha1'), ('kind', 'Workflow'), ('metadata', {'generateName': 'runpy-'}), ('spec', {'entrypoint': 'runpy', 'volumes': [OrderedDict([('name', 'apppath'), ('persistentVolumeClaim', {'claimName': 'mnist'})])], 'templates': [{'name': 'runpy', 'steps': [[OrderedDict([('name', 'module-3418'), ('template', 'module')])]]}, OrderedDict([('name', 'module'), ('container', OrderedDict([('image', 'alpine:3.12.0'), ('command', ['ls', '/data/']), ('volumeMounts', [OrderedDict([('name', 'apppath'), ('mountPath', '/data/')])])])), ('volumes', [])])]})])\n"
     ]
    },
    {
     "data": {
      "text/plain": [
       "{'apiVersion': 'argoproj.io/v1alpha1',\n",
       " 'kind': 'Workflow',\n",
       " 'metadata': {'creationTimestamp': '2021-04-09T16:35:39Z',\n",
       "  'generateName': 'runpy-',\n",
       "  'generation': 1,\n",
       "  'managedFields': [{'apiVersion': 'argoproj.io/v1alpha1',\n",
       "    'fieldsType': 'FieldsV1',\n",
       "    'fieldsV1': {'f:metadata': {'f:generateName': {}},\n",
       "     'f:spec': {'.': {},\n",
       "      'f:entrypoint': {},\n",
       "      'f:templates': {},\n",
       "      'f:volumes': {}}},\n",
       "    'manager': 'OpenAPI-Generator',\n",
       "    'operation': 'Update',\n",
       "    'time': '2021-04-09T16:35:39Z'}],\n",
       "  'name': 'runpy-x2lkw',\n",
       "  'namespace': 'testagent',\n",
       "  'resourceVersion': '20379154',\n",
       "  'selfLink': '/apis/argoproj.io/v1alpha1/namespaces/testagent/workflows/runpy-x2lkw',\n",
       "  'uid': '9dea87f5-df41-4a8a-89e3-27cd4d396343'},\n",
       " 'spec': {'entrypoint': 'runpy',\n",
       "  'templates': [{'name': 'runpy',\n",
       "    'steps': [[{'name': 'module-3418', 'template': 'module'}]]},\n",
       "   {'container': {'command': ['ls', '/data/'],\n",
       "     'image': 'alpine:3.12.0',\n",
       "     'volumeMounts': [{'mountPath': '/data/', 'name': 'apppath'}]},\n",
       "    'name': 'module',\n",
       "    'volumes': []}],\n",
       "  'volumes': [{'name': 'apppath',\n",
       "    'persistentVolumeClaim': {'claimName': 'mnist'}}]}}"
      ]
     },
     "execution_count": 2,
     "metadata": {},
     "output_type": "execute_result"
    }
   ],
   "source": [
    "import os\n",
    "\n",
    "import couler.argo as couler\n",
    "from couler.argo_submitter import ArgoSubmitter\n",
    "from couler.core.templates.volume import VolumeMount, Volume\n",
    "\n",
    "couler.add_volume(Volume(\"apppath\", \"mnist\"))\n",
    "\n",
    "mount = VolumeMount(\"apppath\", \"/data/\")\n",
    "command = [\"ls\", mount.mount_path]\n",
    "\n",
    "couler.run_container(\n",
    "        image=\"alpine:3.12.0\", command=command, volume_mounts=[mount]\n",
    "    )\n",
    "\n",
    "submitter = ArgoSubmitter(namespace=\"testagent\")\n",
    "couler.run(submitter=submitter)"
   ]
  },
  {
   "cell_type": "code",
   "execution_count": null,
   "metadata": {},
   "outputs": [],
   "source": []
  }
 ],
 "metadata": {
  "kernelspec": {
   "display_name": "Python 3",
   "language": "python",
   "name": "python3"
  },
  "language_info": {
   "codemirror_mode": {
    "name": "ipython",
    "version": 3
   },
   "file_extension": ".py",
   "mimetype": "text/x-python",
   "name": "python",
   "nbconvert_exporter": "python",
   "pygments_lexer": "ipython3",
   "version": "3.8.5"
  }
 },
 "nbformat": 4,
 "nbformat_minor": 4
}
