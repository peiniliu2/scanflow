{
 "cells": [
  {
   "cell_type": "markdown",
   "metadata": {},
   "source": [
    "# End-to-end MNIST"
   ]
  },
  {
   "cell_type": "markdown",
   "metadata": {},
   "source": [
    "# Training"
   ]
  },
  {
   "cell_type": "code",
   "execution_count": 13,
   "metadata": {},
   "outputs": [],
   "source": [
    "import utils\n",
    "\n",
    "x_train_sample, y_train_sample = utils.sample_train_mnist()\n",
    "x_test_sample, y_test_sample = utils.sample_test_mnist()"
   ]
  },
  {
   "cell_type": "code",
   "execution_count": 2,
   "metadata": {},
   "outputs": [
    {
     "data": {
      "image/png": "[encoded data removed]",
      "text/plain": [
       "<Figure size 360x360 with 9 Axes>"
      ]
     },
     "metadata": {},
     "output_type": "display_data"
    }
   ],
   "source": [
    "utils.show_numbers(x_train_sample, y_train_sample, title=f\"MNIST sample\")"
   ]
  },
  {
   "cell_type": "code",
   "execution_count": 5,
   "metadata": {},
   "outputs": [
    {
     "data": {
      "text/plain": [
       "\n",
       "Setup = (\n",
       "    Workflows: ['mnist']\n",
       ")"
      ]
     },
     "execution_count": 5,
     "metadata": {},
     "output_type": "execute_result"
    }
   ],
   "source": [
    "import sys\n",
    "import matplotlib.pyplot as plt\n",
    "import os\n",
    "sys.path.insert(0,'..')\n",
    "\n",
    "import scanflow\n",
    "\n",
    "from scanflow.setup import Setup, Executor, Workflow\n",
    "from scanflow.special import Tracker, Checker, Improver, Planner\n",
    "from scanflow.deploy import Deploy\n",
    "\n",
    "# App folder\n",
    "base_path = os.path.dirname(os.getcwd())\n",
    "app_dir = os.path.join(base_path, \"examples/demo_mnist/data-science/\")\n",
    "\n",
    "\n",
    "executors = [Executor(name='modeling-mnist', \n",
    "                      file='modeling.py',\n",
    "                      parameters={'x_train_path': './mnist_sample/train_images.npy', \n",
    "                                  'y_train_path': './mnist_sample/train_labels.npy',\n",
    "                                  'x_test_path': './mnist/test_images.npy',\n",
    "                                  'y_test_path': './mnist/test_labels.npy'},\n",
    "                      requirements='req_modeling.txt')           \n",
    "            ]\n",
    "\n",
    "\n",
    "workflow1 = Workflow(name='mnist', \n",
    "                     executors=executors,\n",
    "                     # Online debugging: activate agents\n",
    "                     tracker=Tracker(mode='online'),\n",
    "                     checker=Checker(mode='online'))\n",
    "    \n",
    "setup = Setup(app_dir, workflows=[workflow1],\n",
    "                             verbose=True)\n",
    "\n",
    "setup"
   ]
  },
  {
   "cell_type": "code",
   "execution_count": 8,
   "metadata": {},
   "outputs": [
    {
     "name": "stderr",
     "output_type": "stream",
     "text": [
      "100%|██████████| 1/1 [00:00<00:00, 37.22it/s]\n"
     ]
    }
   ],
   "source": [
    "deployer = Deploy(setup, verbose=True)\n",
    "\n",
    "deployer.build_workflows()\n",
    "deployer.start_workflows()"
   ]
  },
  {
   "cell_type": "code",
   "execution_count": 7,
   "metadata": {},
   "outputs": [
    {
     "name": "stderr",
     "output_type": "stream",
     "text": [
      "  0%|          | 0/1 [00:00<?, ?it/s]22-Mar-21 13:26:23 -  INFO - [++] Running workflow: [mnist].\n",
      "22-Mar-21 13:26:23 -  INFO - [+] Running env: [mnist:modeling-mnist].\n",
      "22-Mar-21 13:26:37 -  INFO - [+] Running (modeling.py). \n",
      "100%|██████████| 16/16 [00:01<00:00, 10.50it/s]\n",
      "  0%|          | 0/10 [00:00<?, ?it/s]Train Epoch: 1 [0/1000 (0%)]\tLoss: 2.299094\n",
      "100%|██████████| 10/10 [00:05<00:00,  1.99it/s]\n",
      "Successfully registered model 'mnist_cnn'.\n",
      "2021/03/22 12:26:36 INFO mlflow.tracking._model_registry.client: Waiting up to 300 seconds for model version to finish creation.                     Model name: mnist_cnn, version 1\n",
      "Created version '1' of model 'mnist_cnn'.\n",
      " \n",
      "22-Mar-21 13:26:37 -  INFO - [+] Environment (modeling-mnist) finished successfully. \n",
      "22-Mar-21 13:26:37 -  INFO - [+] Workflow: [mnist] was run successfully.\n",
      "100%|██████████| 1/1 [00:13<00:00, 13.42s/it]"
     ]
    },
    {
     "name": "stdout",
     "output_type": "stream",
     "text": [
      "Elapsed time: 13.42105770111084\n"
     ]
    },
    {
     "name": "stderr",
     "output_type": "stream",
     "text": [
      "\n"
     ]
    }
   ],
   "source": [
    "deployer.run_workflows()"
   ]
  },
  {
   "cell_type": "code",
   "execution_count": 4,
   "metadata": {},
   "outputs": [],
   "source": [
    "# deployer.stop_workflows()"
   ]
  },
  {
   "cell_type": "markdown",
   "metadata": {},
   "source": [
    "# Predictor (batch)"
   ]
  },
  {
   "cell_type": "code",
   "execution_count": 23,
   "metadata": {},
   "outputs": [
    {
     "name": "stderr",
     "output_type": "stream",
     "text": [
      "22-Mar-21 13:32:06 -  INFO - [Tracker] Port 8002 is set successfully.\n",
      "22-Mar-21 13:32:06 -  INFO - [Checker] Port 8004 is set successfully.\n",
      "22-Mar-21 13:32:06 -  INFO - [Improver] Port 8006 is set successfully.\n",
      "22-Mar-21 13:32:06 -  INFO - [Planner] Port 8007 is set successfully.\n"
     ]
    },
    {
     "data": {
      "text/plain": [
       "\n",
       "Setup = (\n",
       "    Workflows: ['mnist']\n",
       ")"
      ]
     },
     "execution_count": 23,
     "metadata": {},
     "output_type": "execute_result"
    }
   ],
   "source": [
    "import sys\n",
    "import numpy as np\n",
    "import matplotlib.pyplot as plt\n",
    "import os\n",
    "sys.path.insert(0,'..')\n",
    "\n",
    "import scanflow\n",
    "\n",
    "from scanflow.setup import Setup, Executor, Workflow\n",
    "from scanflow.special import Tracker, Checker, Improver, Planner\n",
    "from scanflow.deploy import Deploy\n",
    "\n",
    "# App folder\n",
    "base_path = os.path.dirname(os.getcwd())\n",
    "app_dir = os.path.join(base_path, \"examples/demo_mnist/data-science/\")\n",
    "\n",
    "\n",
    "executors = [Executor(name='predictor', \n",
    "                      file='predictor-batch.py',\n",
    "                      parameters={'input_path': './mnist_sample/test_images.npy',\n",
    "                                 'model_name':'mnist_cnn', 'model_version':1},\n",
    "                      requirements='req_predictor.txt')           \n",
    "            ]\n",
    "\n",
    "\n",
    "workflow1 = Workflow(name='mnist', \n",
    "                     executors=executors,\n",
    "                     tracker=Tracker(mode='online'),\n",
    "                     checker=Checker(mode='online'),\n",
    "                     improver=Improver(mode='online'),\n",
    "                     planner=Planner(mode='online'))\n",
    "    \n",
    "setup = Setup(app_dir, workflows=[workflow1],\n",
    "                             verbose=False)\n",
    "\n",
    "setup"
   ]
  },
  {
   "cell_type": "code",
   "execution_count": 5,
   "metadata": {},
   "outputs": [],
   "source": [
    "# setup.draw_graph()"
   ]
  },
  {
   "cell_type": "code",
   "execution_count": 24,
   "metadata": {},
   "outputs": [
    {
     "name": "stderr",
     "output_type": "stream",
     "text": [
      "22-Mar-21 13:32:06 -  INFO - [+] Compose file [/home/guess/Desktop/scanflow/examples/demo_mnist/data-science/ad-stuff/ad-meta/compose-repository/docker-compose.yml] was created successfully.\n",
      "22-Mar-21 13:32:06 -  INFO - [+] Main file [/home/guess/Desktop/scanflow/examples/demo_mnist/data-science/ad-stuff/ad-meta/compose-repository/main.py] was created successfully.\n",
      "22-Mar-21 13:32:06 -  INFO - [+] Compose file [/home/guess/Desktop/scanflow/examples/demo_mnist/data-science/ad-stuff/ad-meta/compose-verbose/docker-compose.yml] was created successfully.\n",
      "22-Mar-21 13:32:06 -  INFO - [+] Main file [/home/guess/Desktop/scanflow/examples/demo_mnist/data-science/ad-stuff/ad-meta/compose-verbose/main.py] was created successfully.\n",
      "22-Mar-21 13:32:06 -  INFO - [+] Compose file [/home/guess/Desktop/scanflow/examples/demo_mnist/data-science/ad-stuff/ad-meta/compose-swarm/docker-compose.yml] was created successfully.\n",
      "22-Mar-21 13:32:06 -  INFO - [+] Main file [/home/guess/Desktop/scanflow/examples/demo_mnist/data-science/ad-stuff/ad-meta/compose-swarm/main.py] was created successfully.\n",
      "22-Mar-21 13:32:06 -  INFO - [+] Compose file [/home/guess/Desktop/scanflow/examples/demo_mnist/data-science/ad-stuff/ad-meta/compose-kubernetes/docker-compose.yml] was created successfully.\n",
      "22-Mar-21 13:32:06 -  INFO - [+] Main file [/home/guess/Desktop/scanflow/examples/demo_mnist/data-science/ad-stuff/ad-meta/compose-kubernetes/main.py] was created successfully.\n",
      "22-Mar-21 13:32:06 -  INFO - [++] Building workflow: [mnist].\n",
      "22-Mar-21 13:32:06 -  INFO - [+] Building env: [mnist:predictor].\n",
      "22-Mar-21 13:32:06 -  INFO - [+] Dockerfile: [Dockerfile_predictor] was created successfully.\n",
      "22-Mar-21 13:32:06 -  WARNING - [+] Image [predictor] already exists.\n",
      "22-Mar-21 13:32:06 -  INFO - [+] Image [predictor] was loaded successfully.\n",
      "22-Mar-21 13:32:06 -  INFO - [+] Dockerfile: [Dockerfile_tracker_mnist] was created successfully.\n",
      "22-Mar-21 13:32:06 -  WARNING - [+] Image [tracker-mnist] already exists.\n",
      "22-Mar-21 13:32:06 -  INFO - [+] Image [tracker-mnist] was loaded successfully.\n",
      "22-Mar-21 13:32:06 -  INFO - [+] Dockerfile: [Dockerfile_tracker_agent_mnist] was created successfully.\n",
      "22-Mar-21 13:32:06 -  WARNING - [+] Image [tracker-agent-mnist] already exists.\n",
      "22-Mar-21 13:32:06 -  INFO - [+] Image [tracker-agent-mnist] was loaded successfully.\n",
      "22-Mar-21 13:32:06 -  INFO - [+] Dockerfile: [Dockerfile_checker_mnist] was created successfully.\n",
      "22-Mar-21 13:32:06 -  WARNING - [+] Image [checker-mnist] already exists.\n",
      "22-Mar-21 13:32:06 -  INFO - [+] Image [checker-mnist] was loaded successfully.\n",
      "22-Mar-21 13:32:06 -  INFO - [+] Dockerfile: [Dockerfile_checker_agent_mnist] was created successfully.\n",
      "22-Mar-21 13:32:06 -  WARNING - [+] Image [checker-agent-mnist] already exists.\n",
      "22-Mar-21 13:32:06 -  INFO - [+] Image [checker-agent-mnist] was loaded successfully.\n",
      "22-Mar-21 13:32:06 -  INFO - [+] Dockerfile: [Dockerfile_improver_agent_mnist] was created successfully.\n",
      "22-Mar-21 13:32:06 -  WARNING - [+] Image [improver-agent-mnist] already exists.\n",
      "22-Mar-21 13:32:06 -  INFO - [+] Image [improver-agent-mnist] was loaded successfully.\n",
      "22-Mar-21 13:32:06 -  INFO - [+] Dockerfile: [Dockerfile_planner_agent_mnist] was created successfully.\n",
      "22-Mar-21 13:32:06 -  WARNING - [+] Image [planner-agent-mnist] already exists.\n",
      "22-Mar-21 13:32:06 -  INFO - [+] Image [planner-agent-mnist] was loaded successfully.\n",
      "22-Mar-21 13:32:06 -  INFO - [+] Workflow: [mnist] was built successfully.\n",
      "  0%|          | 0/1 [00:00<?, ?it/s]22-Mar-21 13:32:06 -  INFO - [++] Starting workflow: [mnist].\n",
      "22-Mar-21 13:32:06 -  WARNING - [+] Network: [network_mnist] is already running.\n",
      "22-Mar-21 13:32:06 -  INFO - [+] Starting env: [mnist:predictor].\n",
      "22-Mar-21 13:32:06 -  INFO - [+] Environment: [predictor] has not been started in local. Starting a new one.\n",
      "22-Mar-21 13:32:06 -  INFO - [+] Starting image: [tracker-mnist.\n",
      "22-Mar-21 13:32:06 -  INFO - [+] Environment: [tracker-mnist] has not been started in local. Starting a new one.\n",
      "22-Mar-21 13:32:07 -  INFO - [+] Environment: [tracker-agent-mnist] has not been started in local. Starting a new one.\n",
      "22-Mar-21 13:32:08 -  INFO - [+] Environment: [checker-mnist] has not been started in local. Starting a new one.\n",
      "22-Mar-21 13:32:09 -  INFO - [+] Environment: [checker-agent-mnist] has not been started in local. Starting a new one.\n",
      "22-Mar-21 13:32:10 -  INFO - [+] Environment: [improver-agent-mnist] has not been started in local. Starting a new one.\n",
      "22-Mar-21 13:32:12 -  INFO - [+] Environment: [planner-agent-mnist] has not been started in local. Starting a new one.\n",
      "22-Mar-21 13:32:13 -  INFO - [+] Workflow: [mnist] was started successfully.\n",
      "100%|██████████| 1/1 [00:06<00:00,  6.95s/it]\n"
     ]
    }
   ],
   "source": [
    "deployer = Deploy(setup, verbose=True)\n",
    "\n",
    "deployer.build_workflows()\n",
    "deployer.start_workflows()\n",
    "# deployer.pipeline() # Build, Start and Run"
   ]
  },
  {
   "cell_type": "code",
   "execution_count": 25,
   "metadata": {},
   "outputs": [
    {
     "data": {
      "image/png": "[encoded data removed]",
      "text/plain": [
       "<Figure size 360x360 with 9 Axes>"
      ]
     },
     "metadata": {},
     "output_type": "display_data"
    }
   ],
   "source": [
    "utils.show_numbers(x_test_sample, y_test_sample, title=f\"MNIST_original\")"
   ]
  },
  {
   "cell_type": "code",
   "execution_count": 26,
   "metadata": {},
   "outputs": [
    {
     "name": "stderr",
     "output_type": "stream",
     "text": [
      "  0%|          | 0/1 [00:00<?, ?it/s]22-Mar-21 13:32:13 -  INFO - [++] Running workflow: [mnist].\n",
      "22-Mar-21 13:32:13 -  INFO - [+] Running env: [mnist:predictor].\n",
      "22-Mar-21 13:32:16 -  INFO - [+] Running (predictor-batch.py). \n",
      "22-Mar-21 13:32:16 -  INFO - [+] Output:     predictions\n",
      "0            6\n",
      "1            2\n",
      "2            3\n",
      "3            4\n",
      "4            4\n",
      "5            2\n",
      "6            3\n",
      "7            4\n",
      "8            4\n",
      "9            0\n",
      " \n",
      "22-Mar-21 13:32:16 -  INFO - [+] Environment (predictor) finished successfully. \n",
      "22-Mar-21 13:32:16 -  INFO - [+] Workflow: [mnist] was run successfully.\n",
      "100%|██████████| 1/1 [00:02<00:00,  2.65s/it]"
     ]
    },
    {
     "name": "stdout",
     "output_type": "stream",
     "text": [
      "Elapsed time: 2.6496496200561523\n"
     ]
    },
    {
     "name": "stderr",
     "output_type": "stream",
     "text": [
      "\n"
     ]
    }
   ],
   "source": [
    "deployer.run_workflows()"
   ]
  },
  {
   "cell_type": "code",
   "execution_count": 27,
   "metadata": {},
   "outputs": [
    {
     "name": "stdout",
     "output_type": "stream",
     "text": [
      "{\"feedback\":{\"input_run_id\":\"adbc5d92b3a54860b86583d41bc493d9\",\"input_path\":\"input.npy\",\"n_anomalies\":108,\"percentage_anomalies\":0.108},\"conclusions\":{\"action\":\"Retraining the model using the new data: /tmp/input.npy\",\"planner\":{\"Plan\":{\"action\":\"Transition new model to Production.\",\"current_model_name\":\"mnist_cnn\",\"new_model_name\":\"mnist_cnn_new\",\"result\":\"Current model stage = Staging. New model stage = Production\"}}}}"
     ]
    }
   ],
   "source": [
    "!curl -X 'GET' \\\n",
    "  'http://localhost:8003/send/checker/anomaly' \\\n",
    "  -H 'accept: application/json'"
   ]
  },
  {
   "cell_type": "markdown",
   "metadata": {},
   "source": [
    "# Input anomalies"
   ]
  },
  {
   "cell_type": "code",
   "execution_count": 28,
   "metadata": {},
   "outputs": [
    {
     "data": {
      "image/png": "[encoded data removed]",
      "text/plain": [
       "<Figure size 360x360 with 9 Axes>"
      ]
     },
     "metadata": {},
     "output_type": "display_data"
    }
   ],
   "source": [
    "x_test_sample_c, y_test_sample_c = utils.sample_test_mnist_c(corruption='stripe')\n",
    "utils.show_numbers(x_test_sample_c, y_test_sample_c, title=f\"MNIST stripe\")\n"
   ]
  },
  {
   "cell_type": "code",
   "execution_count": 29,
   "metadata": {},
   "outputs": [
    {
     "name": "stderr",
     "output_type": "stream",
     "text": [
      "  0%|          | 0/1 [00:00<?, ?it/s]22-Mar-21 13:32:18 -  INFO - [++] Running workflow: [mnist].\n",
      "22-Mar-21 13:32:18 -  INFO - [+] Running env: [mnist:predictor].\n",
      "22-Mar-21 13:32:20 -  INFO - [+] Running (predictor-batch.py). \n",
      "22-Mar-21 13:32:20 -  INFO - [+] Output:     predictions\n",
      "0            6\n",
      "1            2\n",
      "2            3\n",
      "3            4\n",
      "4            4\n",
      "5            2\n",
      "6            3\n",
      "7            4\n",
      "8            4\n",
      "9            0\n",
      " \n",
      "22-Mar-21 13:32:20 -  INFO - [+] Environment (predictor) finished successfully. \n",
      "22-Mar-21 13:32:20 -  INFO - [+] Workflow: [mnist] was run successfully.\n",
      "100%|██████████| 1/1 [00:02<00:00,  2.40s/it]"
     ]
    },
    {
     "name": "stdout",
     "output_type": "stream",
     "text": [
      "Elapsed time: 2.405897378921509\n"
     ]
    },
    {
     "name": "stderr",
     "output_type": "stream",
     "text": [
      "\n"
     ]
    }
   ],
   "source": [
    "deployer.run_workflows()"
   ]
  },
  {
   "cell_type": "code",
   "execution_count": 30,
   "metadata": {},
   "outputs": [
    {
     "name": "stdout",
     "output_type": "stream",
     "text": [
      "{\"feedback\":{\"input_run_id\":\"75195cdf72244b8a83d4dc009f1f7550\",\"input_path\":\"input.npy\",\"n_anomalies\":109,\"percentage_anomalies\":0.109},\"conclusions\":{\"action\":\"Retraining the model using the new data: /tmp/input.npy\",\"planner\":{\"Plan\":{\"action\":\"Transition new model to Production.\",\"current_model_name\":\"mnist_cnn\",\"new_model_name\":\"mnist_cnn_new\",\"result\":\"Current model stage = Staging. New model stage = Production\"}}}}"
     ]
    }
   ],
   "source": [
    "!curl -X 'GET' \\\n",
    "  'http://localhost:8003/send/checker/anomaly' \\\n",
    "  -H 'accept: application/json'"
   ]
  },
  {
   "cell_type": "code",
   "execution_count": 22,
   "metadata": {},
   "outputs": [
    {
     "name": "stderr",
     "output_type": "stream",
     "text": [
      "22-Mar-21 13:31:13 -  INFO - [+] Environment: [predictor] was stopped successfully.\n",
      "22-Mar-21 13:31:23 -  INFO - [+] Tracker: [tracker-mnist] was stopped successfully.\n",
      "22-Mar-21 13:31:34 -  INFO - [+] Tracker agent: [tracker-agent-mnist] was stopped successfully.\n",
      "22-Mar-21 13:31:34 -  INFO - [+] Checker: [checker-mnist] was stopped successfully.\n",
      "22-Mar-21 13:31:45 -  INFO - [+] Checker agent: [checker-agent-mnist] was stopped successfully.\n",
      "22-Mar-21 13:31:55 -  INFO - [+] Improver agent: [improver-agent-mnist] was stopped successfully.\n",
      "22-Mar-21 13:32:06 -  INFO - [+] Planner agent: [planner-agent-mnist] was stopped successfully.\n",
      "22-Mar-21 13:32:06 -  INFO - [+] Stopped containers were pruned.\n",
      "22-Mar-21 13:32:06 -  INFO - [+] Network: [network_mnist] is not running in local.\n"
     ]
    }
   ],
   "source": [
    "deployer.stop_workflows()"
   ]
  },
  {
   "cell_type": "markdown",
   "metadata": {},
   "source": [
    "# Tracker"
   ]
  },
  {
   "cell_type": "code",
   "execution_count": 3,
   "metadata": {},
   "outputs": [
    {
     "name": "stderr",
     "output_type": "stream",
     "text": [
      "21-Mar-21 18:11:15 -  INFO - [Tracker]  'run_id' is not provided. Loading the latest experiment.\n",
      "21-Mar-21 18:11:15 -  INFO - [Tracker]  'experiment_name' is not provided. Loading the 'Default' experiment.\n"
     ]
    },
    {
     "name": "stdout",
     "output_type": "stream",
     "text": [
      "dict_keys(['input.npy', 'preds.csv'])\n"
     ]
    }
   ],
   "source": [
    "import pandas as pd\n",
    "from scanflow import track\n",
    "\n",
    "tracker = track.Tracker(app_dir)\n",
    "last_artifacts = tracker.list_artifacts(workflow_name='mnist')\n",
    "print(last_artifacts.keys())\n"
   ]
  },
  {
   "cell_type": "code",
   "execution_count": 4,
   "metadata": {},
   "outputs": [
    {
     "data": {
      "text/plain": [
       "(1000, 28, 28)"
      ]
     },
     "execution_count": 4,
     "metadata": {},
     "output_type": "execute_result"
    }
   ],
   "source": [
    "input_loaded = np.load(last_artifacts['input.npy'])\n",
    "input_loaded.shape"
   ]
  },
  {
   "cell_type": "markdown",
   "metadata": {},
   "source": [
    "# TODO\n",
    "\n",
    "\n",
    "- let human label the inputs using checker"
   ]
  }
 ],
 "metadata": {
  "kernelspec": {
   "display_name": "Python 3",
   "language": "python",
   "name": "python3"
  },
  "language_info": {
   "codemirror_mode": {
    "name": "ipython",
    "version": 3
   },
   "file_extension": ".py",
   "mimetype": "text/x-python",
   "name": "python",
   "nbconvert_exporter": "python",
   "pygments_lexer": "ipython3",
   "version": "3.7.5"
  }
 },
 "nbformat": 4,
 "nbformat_minor": 4
}
