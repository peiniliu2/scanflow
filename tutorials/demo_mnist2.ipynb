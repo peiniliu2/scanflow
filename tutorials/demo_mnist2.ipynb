{
 "cells": [
  {
   "cell_type": "markdown",
   "metadata": {},
   "source": [
    "# End-to-end MNIST"
   ]
  },
  {
   "cell_type": "markdown",
   "metadata": {},
   "source": [
    "# Training"
   ]
  },
  {
   "cell_type": "code",
   "execution_count": 1,
   "metadata": {},
   "outputs": [],
   "source": [
    "import utils\n",
    "\n",
    "x_train_sample, y_train_sample = utils.sample_train_mnist()\n",
    "x_test_sample, y_test_sample = utils.sample_test_mnist()"
   ]
  },
  {
   "cell_type": "code",
   "execution_count": 2,
   "metadata": {},
   "outputs": [
    {
     "data": {
      "image/png": "[encoded data removed]",
      "text/plain": [
       "<Figure size 360x360 with 9 Axes>"
      ]
     },
     "metadata": {},
     "output_type": "display_data"
    }
   ],
   "source": [
    "utils.show_numbers(x_train_sample, y_train_sample, title=f\"MNIST sample\")"
   ]
  },
  {
   "cell_type": "code",
   "execution_count": 3,
   "metadata": {},
   "outputs": [
    {
     "name": "stderr",
     "output_type": "stream",
     "text": [
      "04-Apr-21 19:17:32 -  INFO - [Tracker] Port 8002 is set successfully.\n",
      "04-Apr-21 19:17:32 -  INFO - [Checker] Port 8004 is set successfully.\n"
     ]
    },
    {
     "data": {
      "text/plain": [
       "\n",
       "Setup = (\n",
       "    Workflows: ['mnist']\n",
       ")"
      ]
     },
     "execution_count": 3,
     "metadata": {},
     "output_type": "execute_result"
    }
   ],
   "source": [
    "import sys\n",
    "import matplotlib.pyplot as plt\n",
    "import os\n",
    "sys.path.insert(0,'..')\n",
    "\n",
    "import scanflow\n",
    "\n",
    "from scanflow.setup import Setup, Executor, Workflow\n",
    "from scanflow.special import Tracker, Checker, Improver, Planner\n",
    "from scanflow.deploy import Deploy\n",
    "\n",
    "# App folder\n",
    "base_path = os.path.dirname(os.getcwd())\n",
    "app_dir = os.path.join(base_path, \"examples/demo_mnist/data-science/\")\n",
    "\n",
    "\n",
    "executors = [Executor(name='modeling-mnist', \n",
    "                      file='modeling.py',\n",
    "                      parameters={'x_train_path': './mnist_sample/train_images.npy', \n",
    "                                  'y_train_path': './mnist_sample/train_labels.npy',\n",
    "                                  'x_test_path': './mnist/test_images.npy',\n",
    "                                  'y_test_path': './mnist/test_labels.npy'},\n",
    "                      requirements='req_modeling.txt')           \n",
    "            ]\n",
    "\n",
    "\n",
    "workflow1 = Workflow(name='mnist', \n",
    "                     executors=executors,\n",
    "                     # Online debugging: activate agents\n",
    "                     tracker=Tracker(mode='online'),\n",
    "                     checker=Checker(mode='online'))\n",
    "    \n",
    "setup = Setup(app_dir, workflows=[workflow1],\n",
    "                             verbose=True)\n",
    "\n",
    "setup"
   ]
  },
  {
   "cell_type": "code",
   "execution_count": 4,
   "metadata": {},
   "outputs": [],
   "source": [
    "deployer = Deploy(setup, verbose=True)\n",
    "docker  = deployer.get_backend()"
   ]
  },
  {
   "cell_type": "code",
   "execution_count": 5,
   "metadata": {},
   "outputs": [
    {
     "name": "stderr",
     "output_type": "stream",
     "text": [
      "04-Apr-21 19:17:33 -  INFO - [+] Compose file [/gpfs/bsc_home/xpliu/pv/jupyterhubpeini/scanflow/examples/demo_mnist/data-science/ad-stuff/ad-meta/compose-repository/docker-compose.yml] was created successfully.\n",
      "04-Apr-21 19:17:33 -  INFO - [+] Main file [/gpfs/bsc_home/xpliu/pv/jupyterhubpeini/scanflow/examples/demo_mnist/data-science/ad-stuff/ad-meta/compose-repository/main.py] was created successfully.\n",
      "04-Apr-21 19:17:33 -  INFO - [+] Compose file [/gpfs/bsc_home/xpliu/pv/jupyterhubpeini/scanflow/examples/demo_mnist/data-science/ad-stuff/ad-meta/compose-verbose/docker-compose.yml] was created successfully.\n",
      "04-Apr-21 19:17:33 -  INFO - [+] Main file [/gpfs/bsc_home/xpliu/pv/jupyterhubpeini/scanflow/examples/demo_mnist/data-science/ad-stuff/ad-meta/compose-verbose/main.py] was created successfully.\n",
      "04-Apr-21 19:17:33 -  INFO - [+] Compose file [/gpfs/bsc_home/xpliu/pv/jupyterhubpeini/scanflow/examples/demo_mnist/data-science/ad-stuff/ad-meta/compose-swarm/docker-compose.yml] was created successfully.\n",
      "04-Apr-21 19:17:33 -  INFO - [+] Main file [/gpfs/bsc_home/xpliu/pv/jupyterhubpeini/scanflow/examples/demo_mnist/data-science/ad-stuff/ad-meta/compose-swarm/main.py] was created successfully.\n",
      "04-Apr-21 19:17:33 -  INFO - [+] Compose file [/gpfs/bsc_home/xpliu/pv/jupyterhubpeini/scanflow/examples/demo_mnist/data-science/ad-stuff/ad-meta/compose-kubernetes/docker-compose.yml] was created successfully.\n",
      "04-Apr-21 19:17:33 -  INFO - [+] Main file [/gpfs/bsc_home/xpliu/pv/jupyterhubpeini/scanflow/examples/demo_mnist/data-science/ad-stuff/ad-meta/compose-kubernetes/main.py] was created successfully.\n",
      "04-Apr-21 19:17:33 -  INFO - [++] Building workflow: [mnist].\n",
      "04-Apr-21 19:17:33 -  INFO - [+] Building env: [mnist:modeling-mnist].\n",
      "04-Apr-21 19:17:33 -  INFO - [+] Dockerfile: [Dockerfile_modeling-mnist] was created successfully.\n",
      "04-Apr-21 19:17:33 -  WARNING - [+] Image [modeling-mnist] already exists.\n",
      "04-Apr-21 19:17:33 -  INFO - [+] Image [modeling-mnist] was loaded successfully.\n",
      "04-Apr-21 19:17:33 -  INFO - [+] Dockerfile: [Dockerfile_tracker_mnist] was created successfully.\n",
      "04-Apr-21 19:17:33 -  WARNING - [+] Image [tracker-mnist] already exists.\n",
      "04-Apr-21 19:17:33 -  INFO - [+] Image [tracker-mnist] was loaded successfully.\n",
      "04-Apr-21 19:17:33 -  INFO - [+] Dockerfile: [Dockerfile_tracker_agent_mnist] was created successfully.\n",
      "04-Apr-21 19:17:33 -  WARNING - [+] Image [tracker-agent-mnist] already exists.\n",
      "04-Apr-21 19:17:33 -  INFO - [+] Image [tracker-agent-mnist] was loaded successfully.\n",
      "04-Apr-21 19:17:33 -  INFO - [+] Dockerfile: [Dockerfile_checker_mnist] was created successfully.\n",
      "04-Apr-21 19:17:33 -  WARNING - [+] Image [checker-mnist] already exists.\n",
      "04-Apr-21 19:17:33 -  INFO - [+] Image [checker-mnist] was loaded successfully.\n",
      "04-Apr-21 19:17:33 -  INFO - [+] Dockerfile: [Dockerfile_checker_agent_mnist] was created successfully.\n",
      "04-Apr-21 19:17:33 -  WARNING - [+] Image [checker-agent-mnist] already exists.\n",
      "04-Apr-21 19:17:33 -  INFO - [+] Image [checker-agent-mnist] was loaded successfully.\n",
      "04-Apr-21 19:17:33 -  INFO - [+] Workflow: [mnist] was built successfully.\n",
      "  0%|          | 0/1 [00:00<?, ?it/s]04-Apr-21 19:17:33 -  INFO - [++] Starting workflow: [mnist].\n",
      "04-Apr-21 19:17:33 -  INFO - [+] Network: [network_mnist] has not been started in local. Starting a new one.\n",
      "04-Apr-21 19:17:33 -  INFO - [+] Network: [network_mnist] was started successfully\n",
      "04-Apr-21 19:17:33 -  INFO - [+] Starting env: [mnist:modeling-mnist].\n",
      "04-Apr-21 19:17:33 -  INFO - [+] Environment: [modeling-mnist] has not been started in local. Starting a new one.\n",
      "04-Apr-21 19:17:34 -  INFO - [+] Starting image: [tracker-mnist.\n",
      "04-Apr-21 19:17:34 -  INFO - [+] Environment: [tracker-mnist] has not been started in local. Starting a new one.\n",
      "04-Apr-21 19:17:34 -  INFO - [+] Environment: [tracker-agent-mnist] has not been started in local. Starting a new one.\n",
      "04-Apr-21 19:17:35 -  INFO - [+] Environment: [checker-mnist] has not been started in local. Starting a new one.\n",
      "04-Apr-21 19:17:35 -  INFO - [+] Environment: [checker-agent-mnist] has not been started in local. Starting a new one.\n",
      "04-Apr-21 19:17:35 -  INFO - [+] Workflow: [mnist] was started successfully.\n",
      "100%|██████████| 1/1 [00:01<00:00,  1.87s/it]\n",
      "  0%|          | 0/1 [00:00<?, ?it/s]04-Apr-21 19:17:35 -  INFO - [++] Running workflow: [mnist].\n",
      "04-Apr-21 19:17:35 -  INFO - [+] Running env: [mnist:modeling-mnist].\n",
      "04-Apr-21 19:17:40 -  INFO - [+] Running (modeling.py). \n",
      "100%|██████████| 16/16 [00:00<00:00, 34.51it/s]\n",
      "  0%|          | 0/10 [00:00<?, ?it/s]Train Epoch: 1 [0/1000 (0%)]\tLoss: 2.299094\n",
      "100%|██████████| 10/10 [00:01<00:00,  9.34it/s]\n",
      "Registered model 'mnist_cnn' already exists. Creating a new version of this model...\n",
      "2021/04/04 17:17:40 INFO mlflow.tracking._model_registry.client: Waiting up to 300 seconds for model version to finish creation.                     Model name: mnist_cnn, version 16\n",
      "Created version '16' of model 'mnist_cnn'.\n",
      " \n",
      "04-Apr-21 19:17:40 -  INFO - [+] Environment (modeling-mnist) finished successfully. \n",
      "04-Apr-21 19:17:40 -  INFO - [+] Workflow: [mnist] was run successfully.\n",
      "100%|██████████| 1/1 [00:04<00:00,  4.61s/it]"
     ]
    },
    {
     "name": "stdout",
     "output_type": "stream",
     "text": [
      "Elapsed time: 4.613558530807495\n"
     ]
    },
    {
     "name": "stderr",
     "output_type": "stream",
     "text": [
      "\n"
     ]
    }
   ],
   "source": [
    "docker.build_workflows()\n",
    "docker.start_workflows()\n",
    "docker.run_workflows()\n",
    "# docker.stop_workflows()"
   ]
  },
  {
   "cell_type": "markdown",
   "metadata": {},
   "source": [
    "# Predictor (batch)"
   ]
  },
  {
   "cell_type": "code",
   "execution_count": 6,
   "metadata": {},
   "outputs": [
    {
     "name": "stderr",
     "output_type": "stream",
     "text": [
      "04-Apr-21 19:17:48 -  INFO - [Tracker] Port 8002 is in use by Tracker.\n",
      "04-Apr-21 19:17:48 -  INFO - [Checker] Port 8004 is set successfully.\n",
      "04-Apr-21 19:17:48 -  INFO - [Improver] Port 8006 is set successfully.\n",
      "04-Apr-21 19:17:48 -  INFO - [Planner] Port 8007 is set successfully.\n"
     ]
    },
    {
     "data": {
      "text/plain": [
       "\n",
       "Setup = (\n",
       "    Workflows: ['mnist']\n",
       ")"
      ]
     },
     "execution_count": 6,
     "metadata": {},
     "output_type": "execute_result"
    }
   ],
   "source": [
    "import sys\n",
    "import numpy as np\n",
    "import matplotlib.pyplot as plt\n",
    "import os\n",
    "sys.path.insert(0,'..')\n",
    "\n",
    "import scanflow\n",
    "\n",
    "from scanflow.setup import Setup, Executor, Workflow\n",
    "from scanflow.special import Tracker, Checker, Improver, Planner\n",
    "from scanflow.deploy import Deploy\n",
    "\n",
    "# App folder\n",
    "base_path = os.path.dirname(os.getcwd())\n",
    "app_dir = os.path.join(base_path, \"examples/demo_mnist/data-science/\")\n",
    "\n",
    "\n",
    "executors = [Executor(name='predictor', \n",
    "                      file='predictor-batch.py',\n",
    "                      parameters={'input_path': './mnist_sample/test_images.npy',\n",
    "                                 'model_name':'mnist_cnn', 'model_version':13},\n",
    "                      requirements='req_predictor.txt')           \n",
    "            ]\n",
    "\n",
    "\n",
    "workflow1 = Workflow(name='mnist', \n",
    "                     executors=executors,\n",
    "                     tracker=Tracker(mode='online'),\n",
    "                     checker=Checker(mode='online'),\n",
    "                     improver=Improver(mode='online'),\n",
    "                     planner=Planner(mode='online'))\n",
    "    \n",
    "setup1 = Setup(app_dir, workflows=[workflow1],\n",
    "                             verbose=True)\n",
    "\n",
    "setup1"
   ]
  },
  {
   "cell_type": "code",
   "execution_count": 7,
   "metadata": {},
   "outputs": [
    {
     "data": {
      "image/png": "[encoded data removed]",
      "text/plain": [
       "<Figure size 720x504 with 1 Axes>"
      ]
     },
     "metadata": {},
     "output_type": "display_data"
    }
   ],
   "source": [
    "setup1.draw_graph()"
   ]
  },
  {
   "cell_type": "code",
   "execution_count": 8,
   "metadata": {},
   "outputs": [],
   "source": [
    "deployer1 = Deploy(setup1, verbose=True)\n",
    "docker1 = deployer1.get_backend()"
   ]
  },
  {
   "cell_type": "code",
   "execution_count": 9,
   "metadata": {},
   "outputs": [
    {
     "name": "stderr",
     "output_type": "stream",
     "text": [
      "04-Apr-21 19:18:22 -  INFO - [+] Compose file [/gpfs/bsc_home/xpliu/pv/jupyterhubpeini/scanflow/examples/demo_mnist/data-science/ad-stuff/ad-meta/compose-repository/docker-compose.yml] was created successfully.\n",
      "04-Apr-21 19:18:22 -  INFO - [+] Main file [/gpfs/bsc_home/xpliu/pv/jupyterhubpeini/scanflow/examples/demo_mnist/data-science/ad-stuff/ad-meta/compose-repository/main.py] was created successfully.\n",
      "04-Apr-21 19:18:22 -  INFO - [+] Compose file [/gpfs/bsc_home/xpliu/pv/jupyterhubpeini/scanflow/examples/demo_mnist/data-science/ad-stuff/ad-meta/compose-verbose/docker-compose.yml] was created successfully.\n",
      "04-Apr-21 19:18:22 -  INFO - [+] Main file [/gpfs/bsc_home/xpliu/pv/jupyterhubpeini/scanflow/examples/demo_mnist/data-science/ad-stuff/ad-meta/compose-verbose/main.py] was created successfully.\n",
      "04-Apr-21 19:18:22 -  INFO - [+] Compose file [/gpfs/bsc_home/xpliu/pv/jupyterhubpeini/scanflow/examples/demo_mnist/data-science/ad-stuff/ad-meta/compose-swarm/docker-compose.yml] was created successfully.\n",
      "04-Apr-21 19:18:22 -  INFO - [+] Main file [/gpfs/bsc_home/xpliu/pv/jupyterhubpeini/scanflow/examples/demo_mnist/data-science/ad-stuff/ad-meta/compose-swarm/main.py] was created successfully.\n",
      "04-Apr-21 19:18:22 -  INFO - [+] Compose file [/gpfs/bsc_home/xpliu/pv/jupyterhubpeini/scanflow/examples/demo_mnist/data-science/ad-stuff/ad-meta/compose-kubernetes/docker-compose.yml] was created successfully.\n",
      "04-Apr-21 19:18:22 -  INFO - [+] Main file [/gpfs/bsc_home/xpliu/pv/jupyterhubpeini/scanflow/examples/demo_mnist/data-science/ad-stuff/ad-meta/compose-kubernetes/main.py] was created successfully.\n",
      "04-Apr-21 19:18:22 -  INFO - [++] Building workflow: [mnist].\n",
      "04-Apr-21 19:18:22 -  INFO - [+] Building env: [mnist:predictor].\n",
      "04-Apr-21 19:18:22 -  INFO - [+] Dockerfile: [Dockerfile_predictor] was created successfully.\n",
      "04-Apr-21 19:18:22 -  WARNING - [+] Image [predictor] already exists.\n",
      "04-Apr-21 19:18:22 -  INFO - [+] Image [predictor] was loaded successfully.\n",
      "04-Apr-21 19:18:22 -  INFO - [+] Dockerfile: [Dockerfile_tracker_mnist] was created successfully.\n",
      "04-Apr-21 19:18:22 -  WARNING - [+] Image [tracker-mnist] already exists.\n",
      "04-Apr-21 19:18:22 -  INFO - [+] Image [tracker-mnist] was loaded successfully.\n",
      "04-Apr-21 19:18:22 -  INFO - [+] Dockerfile: [Dockerfile_tracker_agent_mnist] was created successfully.\n",
      "04-Apr-21 19:18:22 -  WARNING - [+] Image [tracker-agent-mnist] already exists.\n",
      "04-Apr-21 19:18:22 -  INFO - [+] Image [tracker-agent-mnist] was loaded successfully.\n",
      "04-Apr-21 19:18:22 -  INFO - [+] Dockerfile: [Dockerfile_checker_mnist] was created successfully.\n",
      "04-Apr-21 19:18:22 -  WARNING - [+] Image [checker-mnist] already exists.\n",
      "04-Apr-21 19:18:22 -  INFO - [+] Image [checker-mnist] was loaded successfully.\n",
      "04-Apr-21 19:18:22 -  INFO - [+] Dockerfile: [Dockerfile_checker_agent_mnist] was created successfully.\n",
      "04-Apr-21 19:18:22 -  WARNING - [+] Image [checker-agent-mnist] already exists.\n",
      "04-Apr-21 19:18:22 -  INFO - [+] Image [checker-agent-mnist] was loaded successfully.\n",
      "04-Apr-21 19:18:22 -  INFO - [+] Dockerfile: [Dockerfile_improver_agent_mnist] was created successfully.\n",
      "04-Apr-21 19:18:22 -  WARNING - [+] Image [improver-agent-mnist] already exists.\n",
      "04-Apr-21 19:18:22 -  INFO - [+] Image [improver-agent-mnist] was loaded successfully.\n",
      "04-Apr-21 19:18:22 -  INFO - [+] Dockerfile: [Dockerfile_planner_agent_mnist] was created successfully.\n",
      "04-Apr-21 19:18:22 -  WARNING - [+] Image [planner-agent-mnist] already exists.\n",
      "04-Apr-21 19:18:22 -  INFO - [+] Image [planner-agent-mnist] was loaded successfully.\n",
      "04-Apr-21 19:18:22 -  INFO - [+] Workflow: [mnist] was built successfully.\n",
      "  0%|          | 0/1 [00:00<?, ?it/s]04-Apr-21 19:18:22 -  INFO - [++] Starting workflow: [mnist].\n",
      "04-Apr-21 19:18:22 -  WARNING - [+] Network: [network_mnist] is already running.\n",
      "04-Apr-21 19:18:22 -  INFO - [+] Starting env: [mnist:predictor].\n",
      "04-Apr-21 19:18:22 -  INFO - [+] Environment: [predictor] has not been started in local. Starting a new one.\n",
      "04-Apr-21 19:18:23 -  INFO - [+] Starting image: [tracker-mnist.\n",
      "04-Apr-21 19:18:23 -  WARNING - [+] Environment: [tracker-mnist] is already running.\n",
      "04-Apr-21 19:18:23 -  WARNING - [+] Environment: [tracker-agent-mnist] is already running.\n",
      "04-Apr-21 19:18:23 -  WARNING - [+] Environment: [checker-mnist] is already running.\n",
      "04-Apr-21 19:18:23 -  WARNING - [+] Environment: [checker-agent-mnist] is already running.\n",
      "04-Apr-21 19:18:23 -  INFO - [+] Environment: [improver-agent-mnist] has not been started in local. Starting a new one.\n",
      "04-Apr-21 19:18:23 -  INFO - [+] Environment: [planner-agent-mnist] has not been started in local. Starting a new one.\n",
      "04-Apr-21 19:18:24 -  INFO - [+] Workflow: [mnist] was started successfully.\n",
      "100%|██████████| 1/1 [00:01<00:00,  1.12s/it]\n",
      "  0%|          | 0/1 [00:00<?, ?it/s]04-Apr-21 19:18:24 -  INFO - [++] Running workflow: [mnist].\n",
      "04-Apr-21 19:18:24 -  INFO - [+] Running env: [mnist:predictor].\n",
      "04-Apr-21 19:18:26 -  INFO - [+] Running (predictor-batch.py). \n",
      "04-Apr-21 19:18:26 -  INFO - [+] Output:     predictions\n",
      "0            6\n",
      "1            2\n",
      "2            3\n",
      "3            4\n",
      "4            9\n",
      "5            2\n",
      "6            3\n",
      "7            4\n",
      "8            9\n",
      "9            6\n",
      " \n",
      "04-Apr-21 19:18:26 -  INFO - [+] Environment (predictor) finished successfully. \n",
      "04-Apr-21 19:18:26 -  INFO - [+] Workflow: [mnist] was run successfully.\n",
      "100%|██████████| 1/1 [00:01<00:00,  1.93s/it]"
     ]
    },
    {
     "name": "stdout",
     "output_type": "stream",
     "text": [
      "Elapsed time: 1.9268102645874023\n"
     ]
    },
    {
     "name": "stderr",
     "output_type": "stream",
     "text": [
      "\n"
     ]
    }
   ],
   "source": [
    "\n",
    "docker1.build_workflows()\n",
    "docker1.start_workflows()\n",
    "docker1.run_workflows()"
   ]
  },
  {
   "cell_type": "code",
   "execution_count": 44,
   "metadata": {},
   "outputs": [
    {
     "data": {
      "image/png": "[encoded data removed]",
      "text/plain": [
       "<Figure size 360x360 with 9 Axes>"
      ]
     },
     "metadata": {},
     "output_type": "display_data"
    }
   ],
   "source": [
    "utils.show_numbers(x_test_sample, y_test_sample, title=f\"MNIST_original\")"
   ]
  },
  {
   "cell_type": "code",
   "execution_count": 45,
   "metadata": {},
   "outputs": [
    {
     "name": "stderr",
     "output_type": "stream",
     "text": [
      "  0%|          | 0/1 [00:00<?, ?it/s]04-Apr-21 11:29:01 -  INFO - [++] Running workflow: [mnist].\n",
      "04-Apr-21 11:29:01 -  INFO - [+] Running env: [mnist:predictor].\n",
      "04-Apr-21 11:29:02 -  INFO - [+] Running (predictor-batch.py). \n",
      "04-Apr-21 11:29:02 -  INFO - [+] Output:     predictions\n",
      "0            6\n",
      "1            2\n",
      "2            3\n",
      "3            4\n",
      "4            9\n",
      "5            2\n",
      "6            3\n",
      "7            4\n",
      "8            9\n",
      "9            6\n",
      " \n",
      "04-Apr-21 11:29:02 -  INFO - [+] Environment (predictor) finished successfully. \n",
      "04-Apr-21 11:29:02 -  INFO - [+] Workflow: [mnist] was run successfully.\n",
      "100%|██████████| 1/1 [00:01<00:00,  1.54s/it]"
     ]
    },
    {
     "name": "stdout",
     "output_type": "stream",
     "text": [
      "Elapsed time: 1.5378730297088623\n"
     ]
    },
    {
     "name": "stderr",
     "output_type": "stream",
     "text": [
      "\n"
     ]
    }
   ],
   "source": [
    "docker1.run_workflows()"
   ]
  },
  {
   "cell_type": "code",
   "execution_count": 10,
   "metadata": {},
   "outputs": [
    {
     "name": "stdout",
     "output_type": "stream",
     "text": [
      "{\"feedback\":{\"input_run_id\":\"7df84bf4c0524ead94b5f1e4b87b68e4\",\"input_path\":\"input.npy\",\"n_anomalies\":88,\"percentage_anomalies\":0.088},\"conclusions\":\"Alert!, 0.088% anomalies\"}"
     ]
    }
   ],
   "source": [
    "!curl -X 'GET' \\\n",
    "  'http://localhost:8003/send/checker/anomaly' \\\n",
    "  -H 'accept: application/json'"
   ]
  },
  {
   "cell_type": "markdown",
   "metadata": {},
   "source": [
    "# Input anomalies"
   ]
  },
  {
   "cell_type": "code",
   "execution_count": 11,
   "metadata": {},
   "outputs": [
    {
     "ename": "FileNotFoundError",
     "evalue": "[Errno 2] No such file or directory: 'mnist_c/stripe/train_images.npy'",
     "output_type": "error",
     "traceback": [
      "\u001b[0;31m---------------------------------------------------------------------------\u001b[0m",
      "\u001b[0;31mFileNotFoundError\u001b[0m                         Traceback (most recent call last)",
      "\u001b[0;32m<ipython-input-11-b886a5300f26>\u001b[0m in \u001b[0;36m<module>\u001b[0;34m\u001b[0m\n\u001b[0;32m----> 1\u001b[0;31m \u001b[0mx_test_sample_c\u001b[0m\u001b[0;34m,\u001b[0m \u001b[0my_test_sample_c\u001b[0m \u001b[0;34m=\u001b[0m \u001b[0mutils\u001b[0m\u001b[0;34m.\u001b[0m\u001b[0msample_test_mnist_c\u001b[0m\u001b[0;34m(\u001b[0m\u001b[0mcorruption\u001b[0m\u001b[0;34m=\u001b[0m\u001b[0;34m'stripe'\u001b[0m\u001b[0;34m)\u001b[0m\u001b[0;34m\u001b[0m\u001b[0;34m\u001b[0m\u001b[0m\n\u001b[0m\u001b[1;32m      2\u001b[0m \u001b[0mutils\u001b[0m\u001b[0;34m.\u001b[0m\u001b[0mshow_numbers\u001b[0m\u001b[0;34m(\u001b[0m\u001b[0mx_test_sample_c\u001b[0m\u001b[0;34m,\u001b[0m \u001b[0my_test_sample_c\u001b[0m\u001b[0;34m,\u001b[0m \u001b[0mtitle\u001b[0m\u001b[0;34m=\u001b[0m\u001b[0;34mf\"MNIST stripe\"\u001b[0m\u001b[0;34m)\u001b[0m\u001b[0;34m\u001b[0m\u001b[0;34m\u001b[0m\u001b[0m\n",
      "\u001b[0;32m~/pv/jupyterhubpeini/scanflow/tutorials/utils.py\u001b[0m in \u001b[0;36msample_test_mnist_c\u001b[0;34m(corruption)\u001b[0m\n\u001b[1;32m    130\u001b[0m \u001b[0;32mdef\u001b[0m \u001b[0msample_test_mnist_c\u001b[0m\u001b[0;34m(\u001b[0m\u001b[0mcorruption\u001b[0m\u001b[0;34m=\u001b[0m\u001b[0;34m'stripe'\u001b[0m\u001b[0;34m)\u001b[0m\u001b[0;34m:\u001b[0m\u001b[0;34m\u001b[0m\u001b[0;34m\u001b[0m\u001b[0m\n\u001b[1;32m    131\u001b[0m \u001b[0;34m\u001b[0m\u001b[0m\n\u001b[0;32m--> 132\u001b[0;31m     \u001b[0;34m(\u001b[0m\u001b[0mx_train\u001b[0m\u001b[0;34m,\u001b[0m \u001b[0my_train\u001b[0m\u001b[0;34m)\u001b[0m\u001b[0;34m,\u001b[0m \u001b[0;34m(\u001b[0m\u001b[0mx_test\u001b[0m\u001b[0;34m,\u001b[0m \u001b[0my_test\u001b[0m\u001b[0;34m)\u001b[0m \u001b[0;34m=\u001b[0m \u001b[0mload_mnist_c\u001b[0m\u001b[0;34m(\u001b[0m\u001b[0mcorruption\u001b[0m\u001b[0;34m)\u001b[0m\u001b[0;34m\u001b[0m\u001b[0;34m\u001b[0m\u001b[0m\n\u001b[0m\u001b[1;32m    133\u001b[0m     \u001b[0mnp\u001b[0m\u001b[0;34m.\u001b[0m\u001b[0mrandom\u001b[0m\u001b[0;34m.\u001b[0m\u001b[0mseed\u001b[0m\u001b[0;34m(\u001b[0m\u001b[0;36m42\u001b[0m\u001b[0;34m)\u001b[0m\u001b[0;34m\u001b[0m\u001b[0;34m\u001b[0m\u001b[0m\n\u001b[1;32m    134\u001b[0m     \u001b[0msample_testing\u001b[0m \u001b[0;34m=\u001b[0m \u001b[0;36m1000\u001b[0m\u001b[0;34m\u001b[0m\u001b[0;34m\u001b[0m\u001b[0m\n",
      "\u001b[0;32m~/pv/jupyterhubpeini/scanflow/tutorials/utils.py\u001b[0m in \u001b[0;36mload_mnist_c\u001b[0;34m(corruption)\u001b[0m\n\u001b[1;32m     63\u001b[0m \u001b[0;34m\u001b[0m\u001b[0m\n\u001b[1;32m     64\u001b[0m     \u001b[0mimg_rows\u001b[0m\u001b[0;34m,\u001b[0m \u001b[0mimg_cols\u001b[0m \u001b[0;34m=\u001b[0m \u001b[0;36m28\u001b[0m\u001b[0;34m,\u001b[0m \u001b[0;36m28\u001b[0m\u001b[0;34m\u001b[0m\u001b[0;34m\u001b[0m\u001b[0m\n\u001b[0;32m---> 65\u001b[0;31m     \u001b[0mx_train\u001b[0m \u001b[0;34m=\u001b[0m \u001b[0mnp\u001b[0m\u001b[0;34m.\u001b[0m\u001b[0mload\u001b[0m\u001b[0;34m(\u001b[0m\u001b[0;34mf'mnist_c/{corruption}/train_images.npy'\u001b[0m\u001b[0;34m)\u001b[0m\u001b[0;34m\u001b[0m\u001b[0;34m\u001b[0m\u001b[0m\n\u001b[0m\u001b[1;32m     66\u001b[0m     \u001b[0my_train\u001b[0m \u001b[0;34m=\u001b[0m \u001b[0mnp\u001b[0m\u001b[0;34m.\u001b[0m\u001b[0mload\u001b[0m\u001b[0;34m(\u001b[0m\u001b[0;34mf'mnist_c/{corruption}/train_labels.npy'\u001b[0m\u001b[0;34m)\u001b[0m\u001b[0;34m\u001b[0m\u001b[0;34m\u001b[0m\u001b[0m\n\u001b[1;32m     67\u001b[0m \u001b[0;34m\u001b[0m\u001b[0m\n",
      "\u001b[0;32m~/anaconda3/lib/python3.8/site-packages/numpy/lib/npyio.py\u001b[0m in \u001b[0;36mload\u001b[0;34m(file, mmap_mode, allow_pickle, fix_imports, encoding)\u001b[0m\n\u001b[1;32m    414\u001b[0m             \u001b[0mown_fid\u001b[0m \u001b[0;34m=\u001b[0m \u001b[0;32mFalse\u001b[0m\u001b[0;34m\u001b[0m\u001b[0;34m\u001b[0m\u001b[0m\n\u001b[1;32m    415\u001b[0m         \u001b[0;32melse\u001b[0m\u001b[0;34m:\u001b[0m\u001b[0;34m\u001b[0m\u001b[0;34m\u001b[0m\u001b[0m\n\u001b[0;32m--> 416\u001b[0;31m             \u001b[0mfid\u001b[0m \u001b[0;34m=\u001b[0m \u001b[0mstack\u001b[0m\u001b[0;34m.\u001b[0m\u001b[0menter_context\u001b[0m\u001b[0;34m(\u001b[0m\u001b[0mopen\u001b[0m\u001b[0;34m(\u001b[0m\u001b[0mos_fspath\u001b[0m\u001b[0;34m(\u001b[0m\u001b[0mfile\u001b[0m\u001b[0;34m)\u001b[0m\u001b[0;34m,\u001b[0m \u001b[0;34m\"rb\"\u001b[0m\u001b[0;34m)\u001b[0m\u001b[0;34m)\u001b[0m\u001b[0;34m\u001b[0m\u001b[0;34m\u001b[0m\u001b[0m\n\u001b[0m\u001b[1;32m    417\u001b[0m             \u001b[0mown_fid\u001b[0m \u001b[0;34m=\u001b[0m \u001b[0;32mTrue\u001b[0m\u001b[0;34m\u001b[0m\u001b[0;34m\u001b[0m\u001b[0m\n\u001b[1;32m    418\u001b[0m \u001b[0;34m\u001b[0m\u001b[0m\n",
      "\u001b[0;31mFileNotFoundError\u001b[0m: [Errno 2] No such file or directory: 'mnist_c/stripe/train_images.npy'"
     ]
    }
   ],
   "source": [
    "x_test_sample_c, y_test_sample_c = utils.sample_test_mnist_c(corruption='stripe')\n",
    "utils.show_numbers(x_test_sample_c, y_test_sample_c, title=f\"MNIST stripe\")"
   ]
  },
  {
   "cell_type": "code",
   "execution_count": 48,
   "metadata": {},
   "outputs": [
    {
     "name": "stderr",
     "output_type": "stream",
     "text": [
      "  0%|          | 0/1 [00:00<?, ?it/s]04-Apr-21 11:29:05 -  INFO - [++] Running workflow: [mnist].\n",
      "04-Apr-21 11:29:05 -  INFO - [+] Running env: [mnist:modeling-mnist].\n",
      "04-Apr-21 11:29:09 -  INFO - [+] Running (modeling.py). \n",
      "100%|██████████| 16/16 [00:00<00:00, 34.27it/s]\n",
      "  0%|          | 0/10 [00:00<?, ?it/s]Train Epoch: 1 [0/1000 (0%)]\tLoss: 2.299094\n",
      "100%|██████████| 10/10 [00:01<00:00,  9.49it/s]\n",
      "Registered model 'mnist_cnn' already exists. Creating a new version of this model...\n",
      "2021/04/04 09:29:08 INFO mlflow.tracking._model_registry.client: Waiting up to 300 seconds for model version to finish creation.                     Model name: mnist_cnn, version 15\n",
      "Created version '15' of model 'mnist_cnn'.\n",
      " \n",
      "04-Apr-21 11:29:09 -  INFO - [+] Environment (modeling-mnist) finished successfully. \n",
      "04-Apr-21 11:29:09 -  INFO - [+] Workflow: [mnist] was run successfully.\n",
      "100%|██████████| 1/1 [00:04<00:00,  4.06s/it]"
     ]
    },
    {
     "name": "stdout",
     "output_type": "stream",
     "text": [
      "Elapsed time: 4.065953731536865\n"
     ]
    },
    {
     "name": "stderr",
     "output_type": "stream",
     "text": [
      "\n"
     ]
    }
   ],
   "source": [
    "docker.run_workflows()"
   ]
  },
  {
   "cell_type": "code",
   "execution_count": 52,
   "metadata": {},
   "outputs": [
    {
     "name": "stdout",
     "output_type": "stream",
     "text": [
      "curl: (7) Failed to connect to localhost port 8003: Connection refused\n"
     ]
    }
   ],
   "source": [
    "!curl -X 'GET' \\\n",
    "  'http://localhost:8003/send/checker/anomaly' \\\n",
    "  -H 'accept: application/json'"
   ]
  },
  {
   "cell_type": "code",
   "execution_count": 50,
   "metadata": {},
   "outputs": [
    {
     "name": "stderr",
     "output_type": "stream",
     "text": [
      "04-Apr-21 11:29:09 -  INFO - [+] Environment: [modeling-mnist] was stopped successfully.\n",
      "04-Apr-21 11:29:19 -  INFO - [+] Tracker: [tracker-mnist] was stopped successfully.\n",
      "04-Apr-21 11:29:30 -  INFO - [+] Tracker agent: [tracker-agent-mnist] was stopped successfully.\n",
      "04-Apr-21 11:29:30 -  INFO - [+] Checker: [checker-mnist] was stopped successfully.\n",
      "04-Apr-21 11:29:40 -  INFO - [+] Checker agent: [checker-agent-mnist] was stopped successfully.\n",
      "04-Apr-21 11:29:40 -  INFO - [+] Stopped containers were pruned.\n",
      "04-Apr-21 11:29:40 -  INFO - [+] Network: [network_mnist] is not running in local.\n"
     ]
    }
   ],
   "source": [
    "docker.stop_workflows()"
   ]
  },
  {
   "cell_type": "markdown",
   "metadata": {},
   "source": [
    "# Tracker"
   ]
  },
  {
   "cell_type": "code",
   "execution_count": 3,
   "metadata": {},
   "outputs": [
    {
     "name": "stderr",
     "output_type": "stream",
     "text": [
      "21-Mar-21 18:11:15 -  INFO - [Tracker]  'run_id' is not provided. Loading the latest experiment.\n",
      "21-Mar-21 18:11:15 -  INFO - [Tracker]  'experiment_name' is not provided. Loading the 'Default' experiment.\n"
     ]
    },
    {
     "name": "stdout",
     "output_type": "stream",
     "text": [
      "dict_keys(['input.npy', 'preds.csv'])\n"
     ]
    }
   ],
   "source": [
    "import pandas as pd\n",
    "from scanflow import track\n",
    "\n",
    "tracker = track.Tracker(app_dir)\n",
    "last_artifacts = tracker.list_artifacts(workflow_name='mnist')\n",
    "print(last_artifacts.keys())\n"
   ]
  },
  {
   "cell_type": "code",
   "execution_count": 4,
   "metadata": {},
   "outputs": [
    {
     "data": {
      "text/plain": [
       "(1000, 28, 28)"
      ]
     },
     "execution_count": 4,
     "metadata": {},
     "output_type": "execute_result"
    }
   ],
   "source": [
    "input_loaded = np.load(last_artifacts['input.npy'])\n",
    "input_loaded.shape"
   ]
  },
  {
   "cell_type": "markdown",
   "metadata": {},
   "source": [
    "# TODO\n",
    "\n",
    "\n",
    "- let human label the inputs using checker"
   ]
  }
 ],
 "metadata": {
  "kernelspec": {
   "display_name": "Python 3",
   "language": "python",
   "name": "python3"
  },
  "language_info": {
   "codemirror_mode": {
    "name": "ipython",
    "version": 3
   },
   "file_extension": ".py",
   "mimetype": "text/x-python",
   "name": "python",
   "nbconvert_exporter": "python",
   "pygments_lexer": "ipython3",
   "version": "3.8.5"
  }
 },
 "nbformat": 4,
 "nbformat_minor": 4
}
