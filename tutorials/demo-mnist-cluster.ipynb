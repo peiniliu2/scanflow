{
 "cells": [
  {
   "cell_type": "markdown",
   "metadata": {},
   "source": [
    "# Mnist on cluster\n",
    "\n",
    "1. load the workflow from the datascience team\n",
    "\n",
    "2. build the images to the registry\n",
    "\n",
    "4. start the agents, start the workflow\n"
   ]
  },
  {
   "cell_type": "code",
   "execution_count": 1,
   "metadata": {},
   "outputs": [
    {
     "name": "stderr",
     "output_type": "stream",
     "text": [
      "09-Apr-21 11:07:13 -  INFO - [Tracker] Port 8002 is in use by Tracker.\n",
      "09-Apr-21 11:07:13 -  INFO - [Checker] Port 8004 is set successfully.\n",
      "09-Apr-21 11:07:13 -  INFO - [Improver] Port 8006 is set successfully.\n",
      "09-Apr-21 11:07:13 -  INFO - [Planner] Port 8007 is set successfully.\n",
      "09-Apr-21 11:07:14 -  INFO - [++]Creating namespace \"testagent\"\n",
      "09-Apr-21 11:07:14 -  ERROR - create_namespace error\n",
      "09-Apr-21 11:07:14 -  INFO - [++]Creating Role for 'default service account'\n",
      "09-Apr-21 11:07:14 -  ERROR - create_rolebinding error\n"
     ]
    }
   ],
   "source": [
    "import sys\n",
    "import numpy as np\n",
    "import matplotlib.pyplot as plt\n",
    "import os\n",
    "sys.path.insert(0,'..')\n",
    "\n",
    "import scanflow\n",
    "\n",
    "from scanflow.setup import Setup, Executor, Workflow\n",
    "from scanflow.special import Tracker, Checker, Improver, Planner\n",
    "from scanflow.deploy import Deploy\n",
    "\n",
    "\n",
    "# App folder\n",
    "base_path = os.path.dirname(os.getcwd())\n",
    "app_dir = os.path.join(base_path, \"examples/demo_mnist/data-science\")\n",
    "\n",
    "\n",
    "executors = [Executor(name='predictor', \n",
    "                      file='predictor-batch.py',\n",
    "                      parameters={'input_path': './mnist_sample/test_images.npy',\n",
    "                                 'model_name':'mnist_cnn', 'model_version':13},\n",
    "                      requirements='req_predictor.txt')           \n",
    "            ]\n",
    "\n",
    "\n",
    "workflow1 = Workflow(name='mnist', \n",
    "                     executors=executors,\n",
    "                     tracker=Tracker(mode='online'),\n",
    "                     checker=Checker(mode='online'),\n",
    "                     improver=Improver(mode='online'),\n",
    "                     planner=Planner(mode='online'))\n",
    "    \n",
    "    \n",
    "## setup for the workflow\n",
    "setup = Setup(app_dir, workflows=[workflow1],\n",
    "                             verbose=False)\n",
    "\n",
    "# ## deploy for the operations\n",
    "deployer = Deploy(setup, \n",
    "                  backend=\"argo\", \n",
    "                  namespace=\"testagent\",\n",
    "                  registry=\"172.30.0.49:5000\",\n",
    "                  k8sconfigdir=\"/gpfs/bsc_home/xpliu/.kube/config\",\n",
    "                  verbose=True)\n",
    "\n",
    "# ## backend argo\n",
    "argo = deployer.get_backend()\n",
    "                  "
   ]
  },
  {
   "cell_type": "code",
   "execution_count": 2,
   "metadata": {},
   "outputs": [
    {
     "name": "stderr",
     "output_type": "stream",
     "text": [
      "09-Apr-21 11:02:46 -  INFO - [++] Starting workflow agents: [mnist].\n",
      "09-Apr-21 11:02:46 -  INFO - [+] Starting tracker: [tracker-mnist].\n",
      "09-Apr-21 11:02:46 -  INFO - [+] Create tracker PV\n",
      "09-Apr-21 11:02:46 -  INFO - [+] Create tracker PVC\n",
      "09-Apr-21 11:02:46 -  INFO - [+] Create tracker Deployment\n",
      "09-Apr-21 11:02:46 -  INFO - [+] Create tracker Service\n",
      "09-Apr-21 11:02:46 -  INFO - [+] Starting tracker agent: [tracker-agent-mnist].\n",
      "09-Apr-21 11:02:46 -  INFO - [+] Create tracker agent PV\n",
      "09-Apr-21 11:02:46 -  INFO - [+] Create tracker agent PVC\n",
      "09-Apr-21 11:02:46 -  INFO - [+] Create tracker agent Service\n",
      "09-Apr-21 11:02:47 -  INFO - [+] Create tracker Deployment\n",
      "09-Apr-21 11:02:47 -  INFO - [+] Starting checker: [checker-mnist].\n",
      "09-Apr-21 11:02:47 -  INFO - [+] Starting checker agent: [checker-agent-mnist].\n",
      "09-Apr-21 11:02:47 -  INFO - [+] Create checker agent PV\n",
      "09-Apr-21 11:02:47 -  INFO - [+] Create checker agent PVC\n",
      "09-Apr-21 11:02:47 -  INFO - [+] Create checker agent Service\n",
      "09-Apr-21 11:02:47 -  INFO - [+] Create checker agent Deployment\n",
      "09-Apr-21 11:02:47 -  INFO - [+] Starting improver agent: [improver-agent-mnist].\n",
      "09-Apr-21 11:02:47 -  INFO - [+] Create improver agent PV\n",
      "09-Apr-21 11:02:47 -  INFO - [+] Create improver agent PVC\n",
      "09-Apr-21 11:02:47 -  INFO - [+] Create improver agent Service\n",
      "09-Apr-21 11:02:47 -  INFO - [+] Create improver agent Deployment\n",
      "09-Apr-21 11:02:47 -  INFO - [+] Starting planner agent: [planner-agent-mnist].\n",
      "09-Apr-21 11:02:47 -  INFO - [+] Create planner agent PV\n",
      "09-Apr-21 11:02:47 -  INFO - [+] Create planner agent PVC\n",
      "09-Apr-21 11:02:47 -  INFO - [+] Create planner agent Service\n",
      "09-Apr-21 11:02:47 -  INFO - [+] Create planner agent Deployment\n",
      "09-Apr-21 11:02:47 -  INFO - [+] Workflow Agents: [mnist] agents were started successfully.\n"
     ]
    }
   ],
   "source": [
    "# argo.stop_agents()\n",
    "# argo.build_workflows()\n",
    "argo.start_agents()"
   ]
  },
  {
   "cell_type": "code",
   "execution_count": 4,
   "metadata": {},
   "outputs": [
    {
     "name": "stderr",
     "output_type": "stream",
     "text": [
      "09-Apr-21 11:14:28 -  INFO - [++] Running workflow: [mnist].\n",
      "09-Apr-21 11:14:28 -  INFO - [+] Create mnist PV\n",
      "09-Apr-21 11:14:28 -  ERROR - create_pv error\n",
      "09-Apr-21 11:14:28 -  INFO - [+] Create mnist PVC\n",
      "09-Apr-21 11:14:28 -  ERROR - create_pvc error\n",
      "09-Apr-21 11:14:28 -  INFO - [+] Running workflow: [mnist:predictor].\n",
      "09-Apr-21 11:14:28 -  INFO - Found local kubernetes config. Initialized with kube_config.\n",
      "09-Apr-21 11:14:28 -  INFO - Checking workflow name/generatedName runpy-\n",
      "09-Apr-21 11:14:28 -  INFO - Submitting workflow to Argo\n",
      "09-Apr-21 11:14:28 -  INFO - Workflow runpy-qnddw has been submitted in \"testagent\" namespace!\n",
      "09-Apr-21 11:14:28 -  INFO - [+] Workflow: [mnist] was run successfully.\n"
     ]
    },
    {
     "name": "stdout",
     "output_type": "stream",
     "text": [
      "OrderedDict([('apiVersion', 'argoproj.io/v1alpha1'), ('kind', 'Workflow'), ('metadata', {'generateName': 'runpy-'}), ('spec', {'entrypoint': 'runpy', 'volumes': [OrderedDict([('name', 'apppath'), ('persistentVolumeClaim', {'claimName': 'mnist'})]), OrderedDict([('name', 'mlflowpath'), ('persistentVolumeClaim', {'claimName': 'tracker-mnist'})])], 'templates': [OrderedDict([('name', 'runpy'), ('dag', {'tasks': [OrderedDict([('name', 'predictor'), ('template', 'predictor')])]})]), OrderedDict([('name', 'predictor'), ('container', OrderedDict([('image', '172.30.0.49:5000/predictor'), ('command', None), ('env', [{'name': 'MLFLOW_TRACKING_URI', 'value': 'http://tracker-mnist:8002'}]), ('volumeMounts', [OrderedDict([('name', 'apppath'), ('mountPath', '/app')]), OrderedDict([('name', 'mlflowpath'), ('mountPath', '/mlflow')])])])), ('volumes', [])])]})])\n"
     ]
    }
   ],
   "source": [
    "argo.run_workflows()"
   ]
  },
  {
   "cell_type": "code",
   "execution_count": 4,
   "metadata": {},
   "outputs": [
    {
     "name": "stderr",
     "output_type": "stream",
     "text": [
      "09-Apr-21 10:59:38 -  INFO - [++] Stopping workflow agents: [mnist].\n",
      "09-Apr-21 10:59:38 -  INFO - [++] Stopping checker: [checker-mnist].\n",
      "09-Apr-21 10:59:38 -  ERROR - delete_deployment error\n",
      "09-Apr-21 10:59:38 -  ERROR - delete_service error\n",
      "09-Apr-21 10:59:38 -  ERROR - delete_pvc error\n",
      "09-Apr-21 10:59:38 -  ERROR - delete_pv error\n",
      "09-Apr-21 10:59:38 -  INFO - [++] Stopping checker agent: [checker-agent-mnist].\n",
      "09-Apr-21 10:59:38 -  INFO - [++] Stopping improver agent: [improver-agent-mnist].\n",
      "09-Apr-21 10:59:38 -  INFO - [++] Stopping planner agent: [planner-agent-mnist].\n",
      "09-Apr-21 10:59:38 -  INFO - [++] Stopping tracker agent: [tracker-agent-mnist].\n",
      "09-Apr-21 10:59:38 -  INFO - [++] Stopping tracker: [tracker-mnist].\n",
      "09-Apr-21 10:59:38 -  INFO - [+] Workflow Agents: [mnist] agents were deleted successfully.\n",
      "09-Apr-21 10:59:38 -  INFO - [++]Delete rolebinding default-admin\n",
      "09-Apr-21 10:59:38 -  INFO - [++]Delete namespace \"testagent\"\n"
     ]
    }
   ],
   "source": [
    "argo.clean_environment()"
   ]
  },
  {
   "cell_type": "code",
   "execution_count": null,
   "metadata": {},
   "outputs": [],
   "source": []
  }
 ],
 "metadata": {
  "kernelspec": {
   "display_name": "Python 3",
   "language": "python",
   "name": "python3"
  },
  "language_info": {
   "codemirror_mode": {
    "name": "ipython",
    "version": 3
   },
   "file_extension": ".py",
   "mimetype": "text/x-python",
   "name": "python",
   "nbconvert_exporter": "python",
   "pygments_lexer": "ipython3",
   "version": "3.8.5"
  }
 },
 "nbformat": 4,
 "nbformat_minor": 4
}
