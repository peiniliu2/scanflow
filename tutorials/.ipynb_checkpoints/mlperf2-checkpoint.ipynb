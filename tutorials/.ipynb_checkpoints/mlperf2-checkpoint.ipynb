{
 "cells": [
  {
   "cell_type": "markdown",
   "metadata": {},
   "source": [
    "# MLPERF INFERENCE"
   ]
  },
  {
   "cell_type": "markdown",
   "metadata": {},
   "source": [
    "# Scanflow for MLPerf, **News**"
   ]
  },
  {
   "cell_type": "markdown",
   "metadata": {},
   "source": [
    "- Image building process is handled by scanflow.\n",
    "- Container initialization, as well as, input custom parameters like volumes, environments, ports is done by Scanflow\n",
    "- Control of container's running now is handled by scanflow.\n",
    "- Only support for Image Classification tasks."
   ]
  },
  {
   "cell_type": "markdown",
   "metadata": {},
   "source": [
    "**Benefits**\n",
    "\n",
    "- Image control version, Docker registry. Not fully supported though.\n",
    "- Flexible manipulation of nodes for experiments. For instance, run several versions of the same model at once.\n",
    "- Easy manipulation of metadata. Since all the experiments are tracked, we can easily access to them.\n",
    "- Use of scanflow special nodes. Not fully supported though. Needs implementations"
   ]
  },
  {
   "cell_type": "code",
   "execution_count": 1,
   "metadata": {
    "jupyter": {
     "source_hidden": true
    }
   },
   "outputs": [],
   "source": [
    "import os, sys\n",
    "import click\n",
    "\n",
    "\n",
    "def get_params(backend, model, model_dir, device):\n",
    "    if device == 'cpu':\n",
    "        os.environ[\"CUDA_VISIBLE_DEVICES\"] = \"\"\n",
    "\n",
    "    name = f\"{model}-{backend}\"\n",
    "    extra_args = dict()\n",
    "    MODEL_DIR = model_dir\n",
    "    # Tensorflow\n",
    "    if name == \"resnet50-tf\":\n",
    "        model_path = os.path.join(MODEL_DIR, \"resnet50_v1.pb\")\n",
    "        profile = \"resnet50-tf\"\n",
    "    elif name == \"mobilenet-tf\":\n",
    "        model_path = os.path.join(MODEL_DIR, \"mobilenet_v1_1.0_224_frozen.pb\")\n",
    "        profile = \"mobilenet-tf\"\n",
    "    elif name == \"ssd-mobilenet-tf\":\n",
    "        model_path = os.path.join(MODEL_DIR, \"ssd_mobilenet_v1_coco_2018_01_28.pb\")\n",
    "        profile = \"ssd-mobilenet-tf\"\n",
    "    elif name == \"ssd-resnet34-tf\":\n",
    "        model_path = os.path.join(MODEL_DIR, \"resnet34_tf.22.1.pb\")\n",
    "        profile = \"ssd-resnet34-tf\"\n",
    "\n",
    "    # onnxruntime\n",
    "    if name == \"resnet50-onnxruntime\":\n",
    "        model_path = os.path.join(MODEL_DIR, \"resnet50_v1.onnx\")\n",
    "        profile = \"resnet50-onnxruntime\"\n",
    "    elif name == \"mobilenet-onnxruntime\":\n",
    "        model_path = os.path.join(MODEL_DIR, \"mobilenet_v1_1.0_224.onnx\")\n",
    "        profile = \"mobilenet-onnxruntime\"\n",
    "    elif name == \"ssd-mobilenet-onnxruntime\":\n",
    "        model_path = os.path.join(MODEL_DIR, \"ssd_mobilenet_v1_coco_2018_01_28.pb\")\n",
    "        profile = \"ssd-mobilenet-onnxruntime\"\n",
    "    elif name == \"ssd-resnet34-onnxruntime\":\n",
    "        model_path = os.path.join(MODEL_DIR, \"resnet34-ssd1200.onnx\")\n",
    "        profile = \"ssd-resnet34-onnxruntime\"\n",
    "    elif name == \"ssd-resnet34-tf-onnxruntime\":\n",
    "        model_path = os.path.join(MODEL_DIR, \"ssd_resnet34_mAP_20.2.onnx\")\n",
    "        profile = \"ssd-resnet34-onnxruntime-tf\"\n",
    "\n",
    "    # pytorch\n",
    "\n",
    "    if name == \"resnet50-pytorch\":\n",
    "        model_path = os.path.join(MODEL_DIR, \"resnet50_v1.onnx\")\n",
    "        profile = \"resnet50-onnxruntime\"\n",
    "        extra_args['backend'] = \"pytorch\"\n",
    "    elif name == \"mobilenet-pytorch\":\n",
    "        model_path = os.path.join(MODEL_DIR, \"mobilenet_v1_1.0_224.onnx\")\n",
    "        profile = \"mobilenet-onnxruntime\"\n",
    "        extra_args['backend'] = \"pytorch\"\n",
    "    elif name == \"ssd-resnet34-pytorch\":\n",
    "        model_path = os.path.join(MODEL_DIR, \"resnet34-ssd1200.pytorch\")\n",
    "        profile = \"ssd-resnet34-pytorch\"\n",
    "\n",
    "\n",
    "    # tflite\n",
    "\n",
    "    if name == \"resnet50-tflite\":\n",
    "        model_path = os.path.join(MODEL_DIR, \"resnet50_v1.tflite\")\n",
    "        profile = \"resnet50-tf\"\n",
    "        extra_args['backend'] = \"tflite\"\n",
    "\n",
    "    elif name == \"mobilenet-tflite\":\n",
    "        model_path = os.path.join(MODEL_DIR, \"mobilenet_v1_1.0_224.tflite\")\n",
    "        profile = \"mobilenet-tf\"\n",
    "#         extra_args=f\"{extra_args} --backend tflite\"\n",
    "        extra_args['backend'] = \"tflite\"\n",
    "#     else:\n",
    "#         print(\"Incorrect backend\")\n",
    "#         sys.exit(1)\n",
    "\n",
    "    name = f\"{backend}-{device}/{model}\"\n",
    "#     os.environ[\"EXTRA_OPS\"] = f\"{extra_args} {os.environ['EXTRA_OPS']}\"\n",
    "\n",
    "    return name, model_path, profile, extra_args\n"
   ]
  },
  {
   "cell_type": "code",
   "execution_count": 2,
   "metadata": {
    "jupyter": {
     "source_hidden": true
    }
   },
   "outputs": [],
   "source": [
    "def set_params(backend, model, model_dir, data_dir, device, root):\n",
    "    name, model_path, profile, extra_args = get_params(backend, model, model_dir, device)\n",
    "    output = os.path.join(root, 'output', name)\n",
    "    os.makedirs(output, exist_ok=True)\n",
    "\n",
    "    ctn_root = '/mlperf'\n",
    "    ctn_data = os.path.basename(data_dir)\n",
    "    ctn_data = os.path.join(ctn_root, ctn_data)\n",
    "    ctn_output = os.path.join(ctn_root, 'output')\n",
    "    ctn_model = os.path.basename(model_dir)\n",
    "    ctn_model = os.path.join(ctn_root, ctn_model, os.path.basename(model_path))\n",
    "\n",
    "\n",
    "    volumes = {'/proc': {'bind': '/host_proc', 'mode':'rw'},\n",
    "              root: {'bind': ctn_root, 'mode':'rw'}}\n",
    "\n",
    "    environment = {'opts': f\"--mlperf_conf ./mlperf.conf --profile {profile} --model {ctn_model} \\\n",
    "       --dataset-path {ctn_data} --output {ctn_output}\"}\n",
    "\n",
    "    base_params = {'mlperf_conf': './mlperf.conf', 'profile': profile,\n",
    "                   'model': ctn_model, 'dataset-path': ctn_data,\n",
    "                   'output': ctn_output, 'time': 10, 'max-latency': 0.2,\n",
    "                   'accuracy': ''}\n",
    "\n",
    "    base_params = dict(base_params, **extra_args)\n",
    "\n",
    "    return volumes, environment, base_params\n"
   ]
  },
  {
   "cell_type": "code",
   "execution_count": 3,
   "metadata": {},
   "outputs": [
    {
     "data": {
      "text/plain": [
       "{'mlperf_conf': './mlperf.conf',\n",
       " 'profile': 'resnet50-tf',\n",
       " 'model': '/mlperf/models/resnet50_v1.pb',\n",
       " 'dataset-path': '/mlperf/fake_imagenet',\n",
       " 'output': '/mlperf/output',\n",
       " 'time': 10,\n",
       " 'max-latency': 0.2,\n",
       " 'accuracy': ''}"
      ]
     },
     "execution_count": 3,
     "metadata": {},
     "output_type": "execute_result"
    }
   ],
   "source": [
    "root = '/home/guess/Desktop/scanflow/examples/mlperf/workflow'\n",
    "# os.environ['MODEL_DIR'] = os.path.join(root, 'models')\n",
    "\n",
    "# os.environ['DATA_DIR'] = os.path.join(root, \"fake_imagenet\")\n",
    "\n",
    "# os.environ['EXTRA_OPS'] =\"--samples-per-query 20 --time 10 --max-latency 0.2 --accuracy\"\n",
    "\n",
    "backend = \"tf\"\n",
    "model = \"resnet50\"\n",
    "model_dir = os.path.join(root, 'models')\n",
    "data_dir= os.path.join(root, \"fake_imagenet\")\n",
    "device = \"cpu\"\n",
    "\n",
    "volumes, environment, base_params1 = set_params(backend, model, model_dir,\n",
    "                                               data_dir, device, root)\n",
    "base_params1"
   ]
  },
  {
   "cell_type": "code",
   "execution_count": 4,
   "metadata": {},
   "outputs": [
    {
     "data": {
      "text/plain": [
       "{'mlperf_conf': './mlperf.conf',\n",
       " 'profile': 'resnet50-onnxruntime',\n",
       " 'model': '/mlperf/models/resnet50_v1.onnx',\n",
       " 'dataset-path': '/mlperf/fake_imagenet',\n",
       " 'output': '/mlperf/output',\n",
       " 'time': 10,\n",
       " 'max-latency': 0.2,\n",
       " 'accuracy': '',\n",
       " 'backend': 'pytorch'}"
      ]
     },
     "execution_count": 4,
     "metadata": {},
     "output_type": "execute_result"
    }
   ],
   "source": [
    "backend = \"pytorch\"\n",
    "model = \"resnet50\"\n",
    "volumes, environment, base_params2 = set_params(backend, model, model_dir,\n",
    "                                               data_dir, device, root)\n",
    "base_params2"
   ]
  },
  {
   "cell_type": "code",
   "execution_count": 5,
   "metadata": {},
   "outputs": [
    {
     "data": {
      "text/plain": [
       "{'mlperf_conf': './mlperf.conf',\n",
       " 'profile': 'mobilenet-tf',\n",
       " 'model': '/mlperf/models/mobilenet_v1_1.0_224_frozen.pb',\n",
       " 'dataset-path': '/mlperf/fake_imagenet',\n",
       " 'output': '/mlperf/output',\n",
       " 'time': 10,\n",
       " 'max-latency': 0.2,\n",
       " 'accuracy': ''}"
      ]
     },
     "execution_count": 5,
     "metadata": {},
     "output_type": "execute_result"
    }
   ],
   "source": [
    "backend = \"tf\"\n",
    "model = \"mobilenet\"\n",
    "volumes, environment, base_params3= set_params(backend, model, model_dir,\n",
    "                                               data_dir, device, root)\n",
    "base_params3"
   ]
  },
  {
   "cell_type": "code",
   "execution_count": 6,
   "metadata": {},
   "outputs": [
    {
     "data": {
      "text/plain": [
       "{'mlperf_conf': './mlperf.conf',\n",
       " 'profile': 'mobilenet-tf',\n",
       " 'model': '/mlperf/models/mobilenet_v1_1.0_224.tflite',\n",
       " 'dataset-path': '/mlperf/fake_imagenet',\n",
       " 'output': '/mlperf/output',\n",
       " 'time': 10,\n",
       " 'max-latency': 0.2,\n",
       " 'accuracy': '',\n",
       " 'backend': 'tflite'}"
      ]
     },
     "execution_count": 6,
     "metadata": {},
     "output_type": "execute_result"
    }
   ],
   "source": [
    "backend = \"tflite\"\n",
    "model = \"mobilenet\"\n",
    "volumes, environment, base_params4= set_params(backend, model, model_dir,\n",
    "                                               data_dir, device, root)\n",
    "base_params4"
   ]
  },
  {
   "cell_type": "code",
   "execution_count": 9,
   "metadata": {},
   "outputs": [
    {
     "name": "stdout",
     "output_type": "stream",
     "text": [
      "CPU times: user 1.3 s, sys: 269 ms, total: 1.57 s\n",
      "Wall time: 1.77 s\n"
     ]
    },
    {
     "data": {
      "text/plain": [
       "[{'name': 'workflow1',\n",
       "  'nodes': [{'name': 'mlperf-tf-resnet',\n",
       "    'image': ['mlperf-infer-imgclassify-cpu:mlflow'],\n",
       "    'type': 'executor'},\n",
       "   {'name': 'mlperf-pytorch-resnet',\n",
       "    'image': ['mlperf-infer-imgclassify-cpu:mlflow'],\n",
       "    'type': 'executor'},\n",
       "   {'name': 'mlperf-tf-mobilenet',\n",
       "    'image': ['mlperf-infer-imgclassify-cpu:mlflow'],\n",
       "    'type': 'executor'},\n",
       "   {'name': 'mlperf-tflite-mobilenet',\n",
       "    'image': ['mlperf-infer-imgclassify-cpu:mlflow'],\n",
       "    'type': 'executor'},\n",
       "   {'name': 'tracker-workflow1',\n",
       "    'image': ['tracker-workflow1:latest'],\n",
       "    'type': 'tracker',\n",
       "    'status': 0,\n",
       "    'port': 8001,\n",
       "    'url': 'http://localhost:8001/',\n",
       "    'tracker_dir': '/home/guess/Desktop/scanflow/examples/mlperf/ad-stuff/ad-tracker/tracker-workflow1'}]}]"
      ]
     },
     "execution_count": 9,
     "metadata": {},
     "output_type": "execute_result"
    }
   ],
   "source": [
    "%%time\n",
    "\n",
    "import sys\n",
    "sys.path.insert(0,'..')\n",
    "\n",
    "from scanflow.setup import Setup, Executor, Tracker, Workflow\n",
    "from scanflow.deploy import Deploy\n",
    "\n",
    "# App folder\n",
    "app_dir = '/home/guess/Desktop/scanflow/examples/mlperf/'\n",
    "\n",
    "executors = [Executor(name='mlperf-tf-resnet',\n",
    "                       file='python/mlperf_main.py',\n",
    "#                        file='python/main.py',\n",
    "                       parameters=dict({'samples-per-query': 20},\n",
    "                                       **base_params1),\n",
    "#                        dockerfile='Dockerfile2.cpu',\n",
    "                       env='mlperf-infer-imgclassify-cpu:mlflow'),\n",
    "\n",
    "             Executor(name='mlperf-pytorch-resnet',\n",
    "                       file='python/mlperf_main.py',\n",
    "#                        file='python/main.py',\n",
    "                       parameters=dict({'samples-per-query': 20},\n",
    "                                       **base_params2),\n",
    "#                        dockerfile='Dockerfile2.cpu',\n",
    "                       env='mlperf-infer-imgclassify-cpu:mlflow'),\n",
    "\n",
    "             Executor(name='mlperf-tf-mobilenet',\n",
    "                       file='python/mlperf_main.py',\n",
    "#                        file='python/main.py',\n",
    "                       parameters=dict({'samples-per-query': 20},\n",
    "                                       **base_params3),\n",
    "#                        dockerfile='Dockerfile2.cpu',\n",
    "                       env='mlperf-infer-imgclassify-cpu:mlflow'),\n",
    "\n",
    "             Executor(name='mlperf-tflite-mobilenet',\n",
    "                       file='python/mlperf_main.py',\n",
    "#                        file='python/main.py',\n",
    "                       parameters=dict({'samples-per-query': 20},\n",
    "                                       **base_params4),\n",
    "#                        dockerfile='Dockerfile2.cpu',\n",
    "                       env='mlperf-infer-imgclassify-cpu:mlflow')\n",
    "\n",
    "]\n",
    "\n",
    "workflow1 = Workflow(name='workflow1',\n",
    "                     executors=executors,\n",
    "                     tracker=Tracker(port=8001),\n",
    "                     parallel=False)\n",
    "\n",
    "\n",
    "workflower = Setup(app_dir, workflows=[workflow1],\n",
    "                             verbose=False)\n",
    "\n",
    "# Build the nodes\n",
    "\n",
    "workflower.build_workflows()\n",
    "workflower.workflows\n",
    "\n"
   ]
  },
  {
   "cell_type": "code",
   "execution_count": 10,
   "metadata": {},
   "outputs": [
    {
     "name": "stderr",
     "output_type": "stream",
     "text": [
      "  0%|          | 0/1 [00:00<?, ?it/s]26-Oct-20 09:55:03 -  INFO - [++] Starting workflow: [workflow1].\n",
      "26-Oct-20 09:55:04 -  INFO - [+] Network: [network_workflow1] has not been started in local. Starting a new one.\n",
      "26-Oct-20 09:55:04 -  INFO - [+] Network: [network_workflow1] was started successfully\n",
      "26-Oct-20 09:55:04 -  INFO - [+] Starting env: [workflow1:mlperf-tf-resnet].\n",
      "26-Oct-20 09:55:04 -  INFO - [+] Environment: [mlperf-tf-resnet] has not been started in local. Starting a new one.\n",
      "26-Oct-20 09:55:04 -  INFO - [+] Starting env: [workflow1:mlperf-pytorch-resnet].\n",
      "26-Oct-20 09:55:04 -  INFO - [+] Environment: [mlperf-pytorch-resnet] has not been started in local. Starting a new one.\n",
      "26-Oct-20 09:55:04 -  INFO - [+] Starting env: [workflow1:mlperf-tf-mobilenet].\n",
      "26-Oct-20 09:55:05 -  INFO - [+] Environment: [mlperf-tf-mobilenet] has not been started in local. Starting a new one.\n",
      "26-Oct-20 09:55:05 -  INFO - [+] Starting env: [workflow1:mlperf-tflite-mobilenet].\n",
      "26-Oct-20 09:55:05 -  INFO - [+] Environment: [mlperf-tflite-mobilenet] has not been started in local. Starting a new one.\n",
      "26-Oct-20 09:55:05 -  INFO - [+] Starting image: [tracker-workflow1.\n",
      "26-Oct-20 09:55:05 -  INFO - [+] Environment: [tracker-workflow1] has not been started in local. Starting a new one.\n",
      "26-Oct-20 09:55:06 -  INFO - [+] Workflow: [workflow1] was started successfully.\n",
      "100%|██████████| 1/1 [00:02<00:00,  2.51s/it]\n"
     ]
    }
   ],
   "source": [
    "# Start containers\n",
    "\n",
    "deployer = Deploy(app_dir, workflower, verbose=True)\n",
    "\n",
    "deployer.start_workflows(volumes=volumes, environment=environment)\n",
    "\n"
   ]
  },
  {
   "cell_type": "code",
   "execution_count": 170,
   "metadata": {},
   "outputs": [],
   "source": [
    "# deployer.stop_workflows()"
   ]
  },
  {
   "cell_type": "code",
   "execution_count": 171,
   "metadata": {},
   "outputs": [],
   "source": [
    "deployer.run_workflows()"
   ]
  },
  {
   "cell_type": "code",
   "execution_count": 11,
   "metadata": {},
   "outputs": [
    {
     "data": {
      "image/png": "[encoded data removed]",
      "text/plain": [
       "<Figure size 432x288 with 1 Axes>"
      ]
     },
     "metadata": {},
     "output_type": "display_data"
    }
   ],
   "source": [
    "workflower.draw_workflow('My inferences')"
   ]
  },
  {
   "cell_type": "markdown",
   "metadata": {},
   "source": [
    "## Symbolic manipulation: guarantee the generalization\n",
    "\n",
    "> **What happen if an inference node reach a certain limit value?. For instance, qps = 2, acc=0.6** .\n",
    ">> First, maybe the workload on that node is heavy. Therefore, there should be a mechanism to control it. For instance, perform a load balancing, spreading the traffic across diferent nodes.\n",
    ">> Second, perhaps the \"B\" model in the A/B testing is behaving badly. Therefore, automatically an action should be perfom to change the inference node to previous stable version.\n",
    "\n",
    "\n",
    " ```python\n",
    " if inference_time is critical:\n",
    "     pick model A,\n",
    " elif (accuracy is critical)\n",
    "     pick model B\n",
    " else pick model  C\n",
    " ```\n",
    "> **Can we explain tracked results (metrics)?** .\n",
    ">> Yes, because we don't only track inference values but also the whole workflow (extracting, preprocessing, feature engineering, ...). Having a graph structure allows user to traverse the workflow and get a clue about \"causality\".\n",
    "\n",
    "> **Can we add a human agent to perform certain actions?** .\n",
    ">> Yes, some events could raise an alarm (critical cases), so that a human can intervene. For instance, in a batch scenario (Offline inference) a logic bug fix is needed.\n",
    "\n",
    "> **Can we use this KB (knowledge base, tracked values somehow) to perform reasoning?** .\n",
    ">> Not at this point because it requires a cognitive framework.\n",
    "\n",
    "> **Can we use this KB (knowledge base, tracked values somehow) to perform planning?** .\n",
    ">> Not yet. However, the Scanflow's structure proposal is an initiative to at least manipulate variables to do a state-transition system."
   ]
  },
  {
   "cell_type": "markdown",
   "metadata": {},
   "source": [
    "## Learning: get insights through patterns\n",
    "\n",
    "> **Can we predict request trends?**\n",
    ">> We can use a Time series node to forecast behaviours. This is useful to prevent lack of resources, for instance.\n",
    "\n",
    "> **Can we predict anomalies on input data and metrics such as accuracy, time, qps?**\n",
    ">> Yes, using a drift distribution node. It detects anomalies on bothc requests and events regarding the platform.\n",
    "\n",
    "\n"
   ]
  },
  {
   "cell_type": "markdown",
   "metadata": {},
   "source": [
    "## Next steps\n",
    "\n",
    "- Make a usecase with assertions (rule based) by manipulating the nodes. if metric > 3: gather more similar nodes and make an embeded model = {m1, m2, m3}, and voting.\n",
    "\n",
    "- Pick one metric, qps, accuracy or time and apply a drift detection."
   ]
  },
  {
   "cell_type": "markdown",
   "metadata": {},
   "source": [
    "# Use case: precision agriculture\n",
    "\n",
    "A certain company works in the field of precision agriculture. It has deployed 4 sensor's towers\n",
    "(e.g, 1 tower contains several sensors) and 5 actuators (e.g, irrigation sprinklers)\n",
    "over a target region. These actuators depend on a decision-making processs (e.g, to output a watering duration).\n",
    "The most important metric is to activate the actuators for the most accurate duration (maybe because of saving water).\n",
    "However, there are some times where the second most important metric is to active the actuators as soon as possible (to scare away the bugs, a suddenly fire, etc ).\n",
    "\n",
    "So if the actuators' activation response time is behaving wrongly for some reason, for instance, decrease in computational resources,\n",
    "the deployed decision-making model (the predictor) should be changed to a faster but less accurate model."
   ]
  },
  {
   "cell_type": "markdown",
   "metadata": {},
   "source": [
    "# Plan\n",
    "\n",
    "- Use a process to gather the qps (query per second) metric. Tracker.\n",
    "- Use a process to analyze the qps behaviour and detect a drift (anomaly for a season). Checker.\n",
    "- Use a process to perform the required changes in order to accelerate the response time. Improver."
   ]
  },
  {
   "cell_type": "markdown",
   "metadata": {},
   "source": [
    "# Scanflow\n",
    "\n",
    "- Let's remember the scanflow abstract overview:\n"
   ]
  },
  {
   "cell_type": "code",
   "execution_count": 12,
   "metadata": {
    "collapsed": false,
    "jupyter": {
     "outputs_hidden": false
    },
    "pycharm": {
     "name": "#%%\n"
    }
   },
   "outputs": [
    {
     "data": {
      "image/png": "[encoded data removed]",
      "text/plain": [
       "<IPython.core.display.Image object>"
      ]
     },
     "execution_count": 12,
     "metadata": {
      "image/png": {
       "height": 400,
       "width": 400
      }
     },
     "output_type": "execute_result"
    }
   ],
   "source": [
    "from IPython.display import Image\n",
    "Image(\"../pictures/abstract_overview.png\", width=400, height=400)"
   ]
  },
  {
   "cell_type": "markdown",
   "metadata": {
    "pycharm": {
     "name": "#%% md\n"
    }
   },
   "source": [
    "# Tracking\n",
    "\n",
    "- Track the inference process metadata. In particular, the qps (query per second) metric.\n",
    "- Let's track this metric for one model."
   ]
  },
  {
   "cell_type": "code",
   "execution_count": 13,
   "metadata": {
    "collapsed": false,
    "jupyter": {
     "outputs_hidden": false
    },
    "pycharm": {
     "name": "#%%\n"
    }
   },
   "outputs": [
    {
     "data": {
      "image/png": "[encoded data removed]",
      "text/plain": [
       "<IPython.core.display.Image object>"
      ]
     },
     "execution_count": 13,
     "metadata": {
      "image/png": {
       "height": 400,
       "width": 400
      }
     },
     "output_type": "execute_result"
    }
   ],
   "source": [
    "from IPython.display import Image\n",
    "Image(\"../pictures/tracking.png\", width=400, height=400)"
   ]
  },
  {
   "cell_type": "code",
   "execution_count": 1,
   "metadata": {
    "collapsed": false,
    "jupyter": {
     "outputs_hidden": false
    },
    "pycharm": {
     "name": "#%%\n"
    }
   },
   "outputs": [],
   "source": [
    "import importlib\n",
    "import matplotlib.pyplot as plt\n",
    "# import scanflow\n",
    "# importlib.reload(scanflow.check.dd_autoencoder)\n",
    "\n",
    "import numpy as np\n",
    "import pandas as pd\n",
    "\n",
    "N_train = 500\n",
    "N_test = 100\n",
    "d_train = {'qps': 35 + 7*np.random.rand(N_train)}\n",
    "d_test = {'qps': 34 + 2*np.random.rand(N_test)}\n",
    "\n",
    "X_train = pd.DataFrame(d_train)\n",
    "X_test = pd.DataFrame(d_test)"
   ]
  },
  {
   "cell_type": "code",
   "execution_count": 2,
   "metadata": {},
   "outputs": [
    {
     "data": {
      "image/png": "[encoded data removed]",
      "text/plain": [
       "<Figure size 432x288 with 1 Axes>"
      ]
     },
     "metadata": {
      "needs_background": "light"
     },
     "output_type": "display_data"
    }
   ],
   "source": [
    "plt.hist(d_train['qps'], density=True, alpha=0.5, label=\"Train\")\n",
    "plt.hist(d_test['qps'], density=True, alpha=0.5, label=\"Test\")\n",
    "plt.legend(loc=\"upper left\")\n",
    "plt.ylabel('Frequency')\n",
    "plt.xlabel('QPS')\n",
    "plt.title('QPS distribution ')\n",
    "plt.savefig('response_time.png', dpi=600)\n",
    "plt.show();"
   ]
  },
  {
   "cell_type": "code",
   "execution_count": 2,
   "metadata": {
    "collapsed": false,
    "jupyter": {
     "outputs_hidden": false
    },
    "pycharm": {
     "name": "#%%\n"
    }
   },
   "outputs": [
    {
     "data": {
      "text/html": [
       "<div>\n",
       "<style scoped>\n",
       "    .dataframe tbody tr th:only-of-type {\n",
       "        vertical-align: middle;\n",
       "    }\n",
       "\n",
       "    .dataframe tbody tr th {\n",
       "        vertical-align: top;\n",
       "    }\n",
       "\n",
       "    .dataframe thead th {\n",
       "        text-align: right;\n",
       "    }\n",
       "</style>\n",
       "<table border=\"1\" class=\"dataframe\">\n",
       "  <thead>\n",
       "    <tr style=\"text-align: right;\">\n",
       "      <th></th>\n",
       "      <th>qps</th>\n",
       "    </tr>\n",
       "  </thead>\n",
       "  <tbody>\n",
       "    <tr>\n",
       "      <th>0</th>\n",
       "      <td>37.972547</td>\n",
       "    </tr>\n",
       "    <tr>\n",
       "      <th>1</th>\n",
       "      <td>38.073713</td>\n",
       "    </tr>\n",
       "    <tr>\n",
       "      <th>2</th>\n",
       "      <td>40.544881</td>\n",
       "    </tr>\n",
       "    <tr>\n",
       "      <th>3</th>\n",
       "      <td>39.386204</td>\n",
       "    </tr>\n",
       "    <tr>\n",
       "      <th>4</th>\n",
       "      <td>41.763842</td>\n",
       "    </tr>\n",
       "  </tbody>\n",
       "</table>\n",
       "</div>"
      ],
      "text/plain": [
       "         qps\n",
       "0  37.972547\n",
       "1  38.073713\n",
       "2  40.544881\n",
       "3  39.386204\n",
       "4  41.763842"
      ]
     },
     "execution_count": 2,
     "metadata": {},
     "output_type": "execute_result"
    }
   ],
   "source": [
    "X_train.head(5)"
   ]
  },
  {
   "cell_type": "code",
   "execution_count": 18,
   "metadata": {
    "collapsed": false,
    "jupyter": {
     "outputs_hidden": false
    },
    "pycharm": {
     "name": "#%%\n"
    }
   },
   "outputs": [],
   "source": [
    "from scanflow.track import Tracker\n",
    "from scanflow.check import dd_autoencoder\n",
    "from datetime import datetime\n",
    "\n",
    "tracker = Tracker(app_dir)\n",
    "\n",
    "# tracker.ad_paths"
   ]
  },
  {
   "cell_type": "markdown",
   "metadata": {},
   "source": [
    "# Checking\n",
    "\n",
    "- Let's use the built-in checker for distribution drift."
   ]
  },
  {
   "cell_type": "code",
   "execution_count": 19,
   "metadata": {
    "collapsed": false,
    "jupyter": {
     "outputs_hidden": false
    },
    "pycharm": {
     "name": "#%%\n"
    }
   },
   "outputs": [
    {
     "data": {
      "image/png": "[encoded data removed]",
      "text/plain": [
       "<IPython.core.display.Image object>"
      ]
     },
     "execution_count": 19,
     "metadata": {
      "image/png": {
       "height": 400,
       "width": 400
      }
     },
     "output_type": "execute_result"
    }
   ],
   "source": [
    "from IPython.display import Image\n",
    "Image(\"../pictures/checking.png\", width=400, height=400)"
   ]
  },
  {
   "cell_type": "code",
   "execution_count": 22,
   "metadata": {
    "collapsed": false,
    "jupyter": {
     "outputs_hidden": false
    },
    "pycharm": {
     "name": "#%%\n"
    }
   },
   "outputs": [
    {
     "name": "stderr",
     "output_type": "stream",
     "text": [
      "/home/guess/anaconda3/lib/python3.7/site-packages/sklearn/base.py:318: UserWarning:\n",
      "\n",
      "Trying to unpickle estimator MinMaxScaler from version 0.22.1 when using version 0.22. This might lead to breaking code or invalid results. Use at your own risk.\n",
      "\n",
      "/home/guess/anaconda3/lib/python3.7/site-packages/sklearn/base.py:318: UserWarning:\n",
      "\n",
      "Trying to unpickle estimator MinMaxScaler from version 0.22.1 when using version 0.22. This might lead to breaking code or invalid results. Use at your own risk.\n",
      "\n"
     ]
    },
    {
     "data": {
      "application/vnd.plotly.v1+json": {
       "config": {
        "plotlyServerURL": "https://plot.ly"
       },
       "data": [
        {
         "line": {
          "color": "dimgray"
         },
         "name": "Threshold",
         "type": "scatter",
         "x": [
          "2020-10-26T09:57:45.010929",
          "2020-10-26T09:57:45.011029",
          "2020-10-26T09:57:45.011129",
          "2020-10-26T09:57:45.011229",
          "2020-10-26T09:57:45.011329",
          "2020-10-26T09:57:45.011429",
          "2020-10-26T09:57:45.011529",
          "2020-10-26T09:57:45.011629",
          "2020-10-26T09:57:45.011729",
          "2020-10-26T09:57:45.011829",
          "2020-10-26T09:57:45.011929",
          "2020-10-26T09:57:45.012029",
          "2020-10-26T09:57:45.012129",
          "2020-10-26T09:57:45.012229",
          "2020-10-26T09:57:45.012329",
          "2020-10-26T09:57:45.012429",
          "2020-10-26T09:57:45.012529",
          "2020-10-26T09:57:45.012629",
          "2020-10-26T09:57:45.012729",
          "2020-10-26T09:57:45.012829",
          "2020-10-26T09:57:45.012929",
          "2020-10-26T09:57:45.013029",
          "2020-10-26T09:57:45.013129",
          "2020-10-26T09:57:45.013229",
          "2020-10-26T09:57:45.013329",
          "2020-10-26T09:57:45.013429",
          "2020-10-26T09:57:45.013529",
          "2020-10-26T09:57:45.013629",
          "2020-10-26T09:57:45.013729",
          "2020-10-26T09:57:45.013829",
          "2020-10-26T09:57:45.013929",
          "2020-10-26T09:57:45.014029",
          "2020-10-26T09:57:45.014129",
          "2020-10-26T09:57:45.014229",
          "2020-10-26T09:57:45.014329",
          "2020-10-26T09:57:45.014429",
          "2020-10-26T09:57:45.014529",
          "2020-10-26T09:57:45.014629",
          "2020-10-26T09:57:45.014729",
          "2020-10-26T09:57:45.014829",
          "2020-10-26T09:57:45.014929",
          "2020-10-26T09:57:45.015029",
          "2020-10-26T09:57:45.015129",
          "2020-10-26T09:57:45.015229",
          "2020-10-26T09:57:45.015329",
          "2020-10-26T09:57:45.015429",
          "2020-10-26T09:57:45.015529",
          "2020-10-26T09:57:45.015629",
          "2020-10-26T09:57:45.015729",
          "2020-10-26T09:57:45.015829",
          "2020-10-26T09:57:45.015929",
          "2020-10-26T09:57:45.016029",
          "2020-10-26T09:57:45.016129",
          "2020-10-26T09:57:45.016229",
          "2020-10-26T09:57:45.016329",
          "2020-10-26T09:57:45.016429",
          "2020-10-26T09:57:45.016529",
          "2020-10-26T09:57:45.016629",
          "2020-10-26T09:57:45.016729",
          "2020-10-26T09:57:45.016829",
          "2020-10-26T09:57:45.016929",
          "2020-10-26T09:57:45.017029",
          "2020-10-26T09:57:45.017129",
          "2020-10-26T09:57:45.017229",
          "2020-10-26T09:57:45.017329",
          "2020-10-26T09:57:45.017429",
          "2020-10-26T09:57:45.017529",
          "2020-10-26T09:57:45.017629",
          "2020-10-26T09:57:45.017729",
          "2020-10-26T09:57:45.017829",
          "2020-10-26T09:57:45.017929",
          "2020-10-26T09:57:45.018029",
          "2020-10-26T09:57:45.018129",
          "2020-10-26T09:57:45.018229",
          "2020-10-26T09:57:45.018329",
          "2020-10-26T09:57:45.018429",
          "2020-10-26T09:57:45.018529",
          "2020-10-26T09:57:45.018629",
          "2020-10-26T09:57:45.018729",
          "2020-10-26T09:57:45.018829",
          "2020-10-26T09:57:45.018929",
          "2020-10-26T09:57:45.019029",
          "2020-10-26T09:57:45.019129",
          "2020-10-26T09:57:45.019229",
          "2020-10-26T09:57:45.019329",
          "2020-10-26T09:57:45.019429",
          "2020-10-26T09:57:45.019529",
          "2020-10-26T09:57:45.019629",
          "2020-10-26T09:57:45.019729",
          "2020-10-26T09:57:45.019829",
          "2020-10-26T09:57:45.019929",
          "2020-10-26T09:57:45.020029",
          "2020-10-26T09:57:45.020129",
          "2020-10-26T09:57:45.020229",
          "2020-10-26T09:57:45.020329",
          "2020-10-26T09:57:45.020429",
          "2020-10-26T09:57:45.020529",
          "2020-10-26T09:57:45.020629",
          "2020-10-26T09:57:45.020729",
          "2020-10-26T09:57:45.020829",
          "2020-10-26T09:57:45.020929",
          "2020-10-26T09:57:45.021029",
          "2020-10-26T09:57:45.021129",
          "2020-10-26T09:57:45.021229",
          "2020-10-26T09:57:45.021329",
          "2020-10-26T09:57:45.021429",
          "2020-10-26T09:57:45.021529",
          "2020-10-26T09:57:45.021629",
          "2020-10-26T09:57:45.021729",
          "2020-10-26T09:57:45.021829",
          "2020-10-26T09:57:45.021929",
          "2020-10-26T09:57:45.022029",
          "2020-10-26T09:57:45.022129",
          "2020-10-26T09:57:45.022229",
          "2020-10-26T09:57:45.022329",
          "2020-10-26T09:57:45.022429",
          "2020-10-26T09:57:45.022529",
          "2020-10-26T09:57:45.022629",
          "2020-10-26T09:57:45.022729",
          "2020-10-26T09:57:45.022829",
          "2020-10-26T09:57:45.022929",
          "2020-10-26T09:57:45.023029",
          "2020-10-26T09:57:45.023129",
          "2020-10-26T09:57:45.023229",
          "2020-10-26T09:57:45.023329",
          "2020-10-26T09:57:45.023429",
          "2020-10-26T09:57:45.023529",
          "2020-10-26T09:57:45.023629",
          "2020-10-26T09:57:45.023729",
          "2020-10-26T09:57:45.023829",
          "2020-10-26T09:57:45.023929",
          "2020-10-26T09:57:45.024029",
          "2020-10-26T09:57:45.024129",
          "2020-10-26T09:57:45.024229",
          "2020-10-26T09:57:45.024329",
          "2020-10-26T09:57:45.024429",
          "2020-10-26T09:57:45.024529",
          "2020-10-26T09:57:45.024629",
          "2020-10-26T09:57:45.024729",
          "2020-10-26T09:57:45.024829",
          "2020-10-26T09:57:45.024929",
          "2020-10-26T09:57:45.025029",
          "2020-10-26T09:57:45.025129",
          "2020-10-26T09:57:45.025229",
          "2020-10-26T09:57:45.025329",
          "2020-10-26T09:57:45.025429",
          "2020-10-26T09:57:45.025529",
          "2020-10-26T09:57:45.025629",
          "2020-10-26T09:57:45.025729",
          "2020-10-26T09:57:45.025829",
          "2020-10-26T09:57:45.025929",
          "2020-10-26T09:57:45.026029",
          "2020-10-26T09:57:45.026129",
          "2020-10-26T09:57:45.026229",
          "2020-10-26T09:57:45.026329",
          "2020-10-26T09:57:45.026429",
          "2020-10-26T09:57:45.026529",
          "2020-10-26T09:57:45.026629",
          "2020-10-26T09:57:45.026729",
          "2020-10-26T09:57:45.026829",
          "2020-10-26T09:57:45.026929",
          "2020-10-26T09:57:45.027029",
          "2020-10-26T09:57:45.027129",
          "2020-10-26T09:57:45.027229",
          "2020-10-26T09:57:45.027329",
          "2020-10-26T09:57:45.027429",
          "2020-10-26T09:57:45.027529",
          "2020-10-26T09:57:45.027629",
          "2020-10-26T09:57:45.027729",
          "2020-10-26T09:57:45.027829",
          "2020-10-26T09:57:45.027929",
          "2020-10-26T09:57:45.028029",
          "2020-10-26T09:57:45.028129",
          "2020-10-26T09:57:45.028229",
          "2020-10-26T09:57:45.028329",
          "2020-10-26T09:57:45.028429",
          "2020-10-26T09:57:45.028529",
          "2020-10-26T09:57:45.028629",
          "2020-10-26T09:57:45.028729",
          "2020-10-26T09:57:45.028829",
          "2020-10-26T09:57:45.028929",
          "2020-10-26T09:57:45.029029",
          "2020-10-26T09:57:45.029129",
          "2020-10-26T09:57:45.029229",
          "2020-10-26T09:57:45.029329",
          "2020-10-26T09:57:45.029429",
          "2020-10-26T09:57:45.029529",
          "2020-10-26T09:57:45.029629",
          "2020-10-26T09:57:45.029729",
          "2020-10-26T09:57:45.029829",
          "2020-10-26T09:57:45.029929",
          "2020-10-26T09:57:45.030029",
          "2020-10-26T09:57:45.030129",
          "2020-10-26T09:57:45.030229",
          "2020-10-26T09:57:45.030329",
          "2020-10-26T09:57:45.030429",
          "2020-10-26T09:57:45.030529",
          "2020-10-26T09:57:45.030629",
          "2020-10-26T09:57:45.030729",
          "2020-10-26T09:57:45.030829",
          "2020-10-26T09:57:45.030929",
          "2020-10-26T09:57:45.031029",
          "2020-10-26T09:57:45.031129",
          "2020-10-26T09:57:45.031229",
          "2020-10-26T09:57:45.031329",
          "2020-10-26T09:57:45.031429",
          "2020-10-26T09:57:45.031529",
          "2020-10-26T09:57:45.031629",
          "2020-10-26T09:57:45.031729",
          "2020-10-26T09:57:45.031829",
          "2020-10-26T09:57:45.031929",
          "2020-10-26T09:57:45.032029",
          "2020-10-26T09:57:45.032129",
          "2020-10-26T09:57:45.032229",
          "2020-10-26T09:57:45.032329",
          "2020-10-26T09:57:45.032429",
          "2020-10-26T09:57:45.032529",
          "2020-10-26T09:57:45.032629",
          "2020-10-26T09:57:45.032729",
          "2020-10-26T09:57:45.032829",
          "2020-10-26T09:57:45.032929",
          "2020-10-26T09:57:45.033029",
          "2020-10-26T09:57:45.033129",
          "2020-10-26T09:57:45.033229",
          "2020-10-26T09:57:45.033329",
          "2020-10-26T09:57:45.033429",
          "2020-10-26T09:57:45.033529",
          "2020-10-26T09:57:45.033629",
          "2020-10-26T09:57:45.033729",
          "2020-10-26T09:57:45.033829",
          "2020-10-26T09:57:45.033929",
          "2020-10-26T09:57:45.034029",
          "2020-10-26T09:57:45.034129",
          "2020-10-26T09:57:45.034229",
          "2020-10-26T09:57:45.034329",
          "2020-10-26T09:57:45.034429",
          "2020-10-26T09:57:45.034529",
          "2020-10-26T09:57:45.034629",
          "2020-10-26T09:57:45.034729",
          "2020-10-26T09:57:45.034829",
          "2020-10-26T09:57:45.034929",
          "2020-10-26T09:57:45.035029",
          "2020-10-26T09:57:45.035129",
          "2020-10-26T09:57:45.035229",
          "2020-10-26T09:57:45.035329",
          "2020-10-26T09:57:45.035429",
          "2020-10-26T09:57:45.035529",
          "2020-10-26T09:57:45.035629",
          "2020-10-26T09:57:45.035729",
          "2020-10-26T09:57:45.035829",
          "2020-10-26T09:57:45.035929",
          "2020-10-26T09:57:45.036029",
          "2020-10-26T09:57:45.036129",
          "2020-10-26T09:57:45.036229",
          "2020-10-26T09:57:45.036329",
          "2020-10-26T09:57:45.036429",
          "2020-10-26T09:57:45.036529",
          "2020-10-26T09:57:45.036629",
          "2020-10-26T09:57:45.036729",
          "2020-10-26T09:57:45.036829",
          "2020-10-26T09:57:45.036929",
          "2020-10-26T09:57:45.037029",
          "2020-10-26T09:57:45.037129",
          "2020-10-26T09:57:45.037229",
          "2020-10-26T09:57:45.037329",
          "2020-10-26T09:57:45.037429",
          "2020-10-26T09:57:45.037529",
          "2020-10-26T09:57:45.037629",
          "2020-10-26T09:57:45.037729",
          "2020-10-26T09:57:45.037829",
          "2020-10-26T09:57:45.037929",
          "2020-10-26T09:57:45.038029",
          "2020-10-26T09:57:45.038129",
          "2020-10-26T09:57:45.038229",
          "2020-10-26T09:57:45.038329",
          "2020-10-26T09:57:45.038429",
          "2020-10-26T09:57:45.038529",
          "2020-10-26T09:57:45.038629",
          "2020-10-26T09:57:45.038729",
          "2020-10-26T09:57:45.038829",
          "2020-10-26T09:57:45.038929",
          "2020-10-26T09:57:45.039029",
          "2020-10-26T09:57:45.039129",
          "2020-10-26T09:57:45.039229",
          "2020-10-26T09:57:45.039329",
          "2020-10-26T09:57:45.039429",
          "2020-10-26T09:57:45.039529",
          "2020-10-26T09:57:45.039629",
          "2020-10-26T09:57:45.039729",
          "2020-10-26T09:57:45.039829",
          "2020-10-26T09:57:45.039929",
          "2020-10-26T09:57:45.040029",
          "2020-10-26T09:57:45.040129",
          "2020-10-26T09:57:45.040229",
          "2020-10-26T09:57:45.040329",
          "2020-10-26T09:57:45.040429",
          "2020-10-26T09:57:45.040529",
          "2020-10-26T09:57:45.040629",
          "2020-10-26T09:57:45.040729",
          "2020-10-26T09:57:45.040829",
          "2020-10-26T09:57:45.040929",
          "2020-10-26T09:57:45.041029",
          "2020-10-26T09:57:45.041129",
          "2020-10-26T09:57:45.041229",
          "2020-10-26T09:57:45.041329",
          "2020-10-26T09:57:45.041429",
          "2020-10-26T09:57:45.041529",
          "2020-10-26T09:57:45.041629",
          "2020-10-26T09:57:45.041729",
          "2020-10-26T09:57:45.041829",
          "2020-10-26T09:57:45.041929",
          "2020-10-26T09:57:45.042029",
          "2020-10-26T09:57:45.042129",
          "2020-10-26T09:57:45.042229",
          "2020-10-26T09:57:45.042329",
          "2020-10-26T09:57:45.042429",
          "2020-10-26T09:57:45.042529",
          "2020-10-26T09:57:45.042629",
          "2020-10-26T09:57:45.042729",
          "2020-10-26T09:57:45.042829",
          "2020-10-26T09:57:45.042929",
          "2020-10-26T09:57:45.043029",
          "2020-10-26T09:57:45.043129",
          "2020-10-26T09:57:45.043229",
          "2020-10-26T09:57:45.043329",
          "2020-10-26T09:57:45.043429",
          "2020-10-26T09:57:45.043529",
          "2020-10-26T09:57:45.043629",
          "2020-10-26T09:57:45.043729",
          "2020-10-26T09:57:45.043829",
          "2020-10-26T09:57:45.043929",
          "2020-10-26T09:57:45.044029",
          "2020-10-26T09:57:45.044129",
          "2020-10-26T09:57:45.044229",
          "2020-10-26T09:57:45.044329",
          "2020-10-26T09:57:45.044429",
          "2020-10-26T09:57:45.044529",
          "2020-10-26T09:57:45.044629",
          "2020-10-26T09:57:45.044729",
          "2020-10-26T09:57:45.044829",
          "2020-10-26T09:57:45.044929",
          "2020-10-26T09:57:45.045029",
          "2020-10-26T09:57:45.045129",
          "2020-10-26T09:57:45.045229",
          "2020-10-26T09:57:45.045329",
          "2020-10-26T09:57:45.045429",
          "2020-10-26T09:57:45.045529",
          "2020-10-26T09:57:45.045629",
          "2020-10-26T09:57:45.045729",
          "2020-10-26T09:57:45.045829",
          "2020-10-26T09:57:45.045929",
          "2020-10-26T09:57:45.046029",
          "2020-10-26T09:57:45.046129",
          "2020-10-26T09:57:45.046229",
          "2020-10-26T09:57:45.046329",
          "2020-10-26T09:57:45.046429",
          "2020-10-26T09:57:45.046529",
          "2020-10-26T09:57:45.046629",
          "2020-10-26T09:57:45.046729",
          "2020-10-26T09:57:45.046829",
          "2020-10-26T09:57:45.046929",
          "2020-10-26T09:57:45.047029",
          "2020-10-26T09:57:45.047129",
          "2020-10-26T09:57:45.047229",
          "2020-10-26T09:57:45.047329",
          "2020-10-26T09:57:45.047429",
          "2020-10-26T09:57:45.047529",
          "2020-10-26T09:57:45.047629",
          "2020-10-26T09:57:45.047729",
          "2020-10-26T09:57:45.047829",
          "2020-10-26T09:57:45.047929",
          "2020-10-26T09:57:45.048029",
          "2020-10-26T09:57:45.048129",
          "2020-10-26T09:57:45.048229",
          "2020-10-26T09:57:45.048329",
          "2020-10-26T09:57:45.048429",
          "2020-10-26T09:57:45.048529",
          "2020-10-26T09:57:45.048629",
          "2020-10-26T09:57:45.048729",
          "2020-10-26T09:57:45.048829",
          "2020-10-26T09:57:45.048929",
          "2020-10-26T09:57:45.049029",
          "2020-10-26T09:57:45.049129",
          "2020-10-26T09:57:45.049229",
          "2020-10-26T09:57:45.049329",
          "2020-10-26T09:57:45.049429",
          "2020-10-26T09:57:45.049529",
          "2020-10-26T09:57:45.049629",
          "2020-10-26T09:57:45.049729",
          "2020-10-26T09:57:45.049829",
          "2020-10-26T09:57:45.049929",
          "2020-10-26T09:57:45.050029",
          "2020-10-26T09:57:45.050129",
          "2020-10-26T09:57:45.050229",
          "2020-10-26T09:57:45.050329",
          "2020-10-26T09:57:45.050429",
          "2020-10-26T09:57:45.050529",
          "2020-10-26T09:57:45.050629",
          "2020-10-26T09:57:45.050729",
          "2020-10-26T09:57:45.050829",
          "2020-10-26T09:57:45.050929",
          "2020-10-26T09:57:45.051029",
          "2020-10-26T09:57:45.051129",
          "2020-10-26T09:57:45.051229",
          "2020-10-26T09:57:45.051329",
          "2020-10-26T09:57:45.051429",
          "2020-10-26T09:57:45.051529",
          "2020-10-26T09:57:45.051629",
          "2020-10-26T09:57:45.051729",
          "2020-10-26T09:57:45.051829",
          "2020-10-26T09:57:45.051929",
          "2020-10-26T09:57:45.052029",
          "2020-10-26T09:57:45.052129",
          "2020-10-26T09:57:45.052229",
          "2020-10-26T09:57:45.052329",
          "2020-10-26T09:57:45.052429",
          "2020-10-26T09:57:45.052529",
          "2020-10-26T09:57:45.052629",
          "2020-10-26T09:57:45.052729",
          "2020-10-26T09:57:45.052829",
          "2020-10-26T09:57:45.052929",
          "2020-10-26T09:57:45.053029",
          "2020-10-26T09:57:45.053129",
          "2020-10-26T09:57:45.053229",
          "2020-10-26T09:57:45.053329",
          "2020-10-26T09:57:45.053429",
          "2020-10-26T09:57:45.053529",
          "2020-10-26T09:57:45.053629",
          "2020-10-26T09:57:45.053729",
          "2020-10-26T09:57:45.053829",
          "2020-10-26T09:57:45.053929",
          "2020-10-26T09:57:45.054029",
          "2020-10-26T09:57:45.054129",
          "2020-10-26T09:57:45.054229",
          "2020-10-26T09:57:45.054329",
          "2020-10-26T09:57:45.054429",
          "2020-10-26T09:57:45.054529",
          "2020-10-26T09:57:45.054629",
          "2020-10-26T09:57:45.054729",
          "2020-10-26T09:57:45.054829",
          "2020-10-26T09:57:45.054929",
          "2020-10-26T09:57:45.055029",
          "2020-10-26T09:57:45.055129",
          "2020-10-26T09:57:45.055229",
          "2020-10-26T09:57:45.055329",
          "2020-10-26T09:57:45.055429",
          "2020-10-26T09:57:45.055529",
          "2020-10-26T09:57:45.055629",
          "2020-10-26T09:57:45.055729",
          "2020-10-26T09:57:45.055829",
          "2020-10-26T09:57:45.055929",
          "2020-10-26T09:57:45.056029",
          "2020-10-26T09:57:45.056129",
          "2020-10-26T09:57:45.056229",
          "2020-10-26T09:57:45.056329",
          "2020-10-26T09:57:45.056429",
          "2020-10-26T09:57:45.056529",
          "2020-10-26T09:57:45.056629",
          "2020-10-26T09:57:45.056729",
          "2020-10-26T09:57:45.056829",
          "2020-10-26T09:57:45.056929",
          "2020-10-26T09:57:45.057029",
          "2020-10-26T09:57:45.057129",
          "2020-10-26T09:57:45.057229",
          "2020-10-26T09:57:45.057329",
          "2020-10-26T09:57:45.057429",
          "2020-10-26T09:57:45.057529",
          "2020-10-26T09:57:45.057629",
          "2020-10-26T09:57:45.057729",
          "2020-10-26T09:57:45.057829",
          "2020-10-26T09:57:45.057929",
          "2020-10-26T09:57:45.058029",
          "2020-10-26T09:57:45.058129",
          "2020-10-26T09:57:45.058229",
          "2020-10-26T09:57:45.058329",
          "2020-10-26T09:57:45.058429",
          "2020-10-26T09:57:45.058529",
          "2020-10-26T09:57:45.058629",
          "2020-10-26T09:57:45.058729",
          "2020-10-26T09:57:45.058829",
          "2020-10-26T09:57:45.058929",
          "2020-10-26T09:57:45.059029",
          "2020-10-26T09:57:45.059129",
          "2020-10-26T09:57:45.059229",
          "2020-10-26T09:57:45.059329",
          "2020-10-26T09:57:45.059429",
          "2020-10-26T09:57:45.059529",
          "2020-10-26T09:57:45.059629",
          "2020-10-26T09:57:45.059729",
          "2020-10-26T09:57:45.059829",
          "2020-10-26T09:57:45.059929",
          "2020-10-26T09:57:45.060029",
          "2020-10-26T09:57:45.060129",
          "2020-10-26T09:57:45.060229",
          "2020-10-26T09:57:45.060329",
          "2020-10-26T09:57:45.060429",
          "2020-10-26T09:57:45.060529",
          "2020-10-26T09:57:45.060629",
          "2020-10-26T09:57:45.060729",
          "2020-10-26T09:57:45.060829",
          "2020-10-26T09:57:45.060929",
          "2020-10-26T09:57:45.061029",
          "2020-10-26T09:57:45.061129",
          "2020-10-26T09:57:45.061229",
          "2020-10-26T09:57:45.061329",
          "2020-10-26T09:57:45.061429",
          "2020-10-26T09:57:45.061529",
          "2020-10-26T09:57:45.061629",
          "2020-10-26T09:57:45.061729",
          "2020-10-26T09:57:45.061829",
          "2020-10-26T09:57:45.061929",
          "2020-10-26T09:57:45.062029",
          "2020-10-26T09:57:45.062129",
          "2020-10-26T09:57:45.062229",
          "2020-10-26T09:57:45.062329",
          "2020-10-26T09:57:45.062429",
          "2020-10-26T09:57:45.062529",
          "2020-10-26T09:57:45.062629",
          "2020-10-26T09:57:45.062729",
          "2020-10-26T09:57:45.062829",
          "2020-10-26T09:57:45.062929",
          "2020-10-26T09:57:45.063029",
          "2020-10-26T09:57:45.063129",
          "2020-10-26T09:57:45.063229",
          "2020-10-26T09:57:45.063329",
          "2020-10-26T09:57:45.063429",
          "2020-10-26T09:57:45.063529",
          "2020-10-26T09:57:45.063629",
          "2020-10-26T09:57:45.063729",
          "2020-10-26T09:57:45.063829",
          "2020-10-26T09:57:45.063929",
          "2020-10-26T09:57:45.064029",
          "2020-10-26T09:57:45.064129",
          "2020-10-26T09:57:45.064229",
          "2020-10-26T09:57:45.064329",
          "2020-10-26T09:57:45.064429",
          "2020-10-26T09:57:45.064529",
          "2020-10-26T09:57:45.064629",
          "2020-10-26T09:57:45.064729",
          "2020-10-26T09:57:45.064829",
          "2020-10-26T09:57:45.064929",
          "2020-10-26T09:57:45.065029",
          "2020-10-26T09:57:45.065129",
          "2020-10-26T09:57:45.065229",
          "2020-10-26T09:57:45.065329",
          "2020-10-26T09:57:45.065429",
          "2020-10-26T09:57:45.065529",
          "2020-10-26T09:57:45.065629",
          "2020-10-26T09:57:45.065729",
          "2020-10-26T09:57:45.065829",
          "2020-10-26T09:57:45.065929",
          "2020-10-26T09:57:45.066029",
          "2020-10-26T09:57:45.066129",
          "2020-10-26T09:57:45.066229",
          "2020-10-26T09:57:45.066329",
          "2020-10-26T09:57:45.066429",
          "2020-10-26T09:57:45.066529",
          "2020-10-26T09:57:45.066629",
          "2020-10-26T09:57:45.066729",
          "2020-10-26T09:57:45.066829",
          "2020-10-26T09:57:45.066929",
          "2020-10-26T09:57:45.067029",
          "2020-10-26T09:57:45.067129",
          "2020-10-26T09:57:45.067229",
          "2020-10-26T09:57:45.067329",
          "2020-10-26T09:57:45.067429",
          "2020-10-26T09:57:45.067529",
          "2020-10-26T09:57:45.067629",
          "2020-10-26T09:57:45.067729",
          "2020-10-26T09:57:45.067829",
          "2020-10-26T09:57:45.067929",
          "2020-10-26T09:57:45.068029",
          "2020-10-26T09:57:45.068129",
          "2020-10-26T09:57:45.068229",
          "2020-10-26T09:57:45.068329",
          "2020-10-26T09:57:45.068429",
          "2020-10-26T09:57:45.068529",
          "2020-10-26T09:57:45.068629",
          "2020-10-26T09:57:45.068729",
          "2020-10-26T09:57:45.068829",
          "2020-10-26T09:57:45.068929",
          "2020-10-26T09:57:45.069029",
          "2020-10-26T09:57:45.069129",
          "2020-10-26T09:57:45.069229",
          "2020-10-26T09:57:45.069329",
          "2020-10-26T09:57:45.069429",
          "2020-10-26T09:57:45.069529",
          "2020-10-26T09:57:45.069629",
          "2020-10-26T09:57:45.069729",
          "2020-10-26T09:57:45.069829",
          "2020-10-26T09:57:45.069929",
          "2020-10-26T09:57:45.070029",
          "2020-10-26T09:57:45.070129",
          "2020-10-26T09:57:45.070229",
          "2020-10-26T09:57:45.070329",
          "2020-10-26T09:57:45.070429",
          "2020-10-26T09:57:45.070529",
          "2020-10-26T09:57:45.070629",
          "2020-10-26T09:57:45.070729",
          "2020-10-26T09:57:45.070829"
         ],
         "y": [
          0.5081132937511927,
          0.5081132937511927,
          0.5081132937511927,
          0.5081132937511927,
          0.5081132937511927,
          0.5081132937511927,
          0.5081132937511927,
          0.5081132937511927,
          0.5081132937511927,
          0.5081132937511927,
          0.5081132937511927,
          0.5081132937511927,
          0.5081132937511927,
          0.5081132937511927,
          0.5081132937511927,
          0.5081132937511927,
          0.5081132937511927,
          0.5081132937511927,
          0.5081132937511927,
          0.5081132937511927,
          0.5081132937511927,
          0.5081132937511927,
          0.5081132937511927,
          0.5081132937511927,
          0.5081132937511927,
          0.5081132937511927,
          0.5081132937511927,
          0.5081132937511927,
          0.5081132937511927,
          0.5081132937511927,
          0.5081132937511927,
          0.5081132937511927,
          0.5081132937511927,
          0.5081132937511927,
          0.5081132937511927,
          0.5081132937511927,
          0.5081132937511927,
          0.5081132937511927,
          0.5081132937511927,
          0.5081132937511927,
          0.5081132937511927,
          0.5081132937511927,
          0.5081132937511927,
          0.5081132937511927,
          0.5081132937511927,
          0.5081132937511927,
          0.5081132937511927,
          0.5081132937511927,
          0.5081132937511927,
          0.5081132937511927,
          0.5081132937511927,
          0.5081132937511927,
          0.5081132937511927,
          0.5081132937511927,
          0.5081132937511927,
          0.5081132937511927,
          0.5081132937511927,
          0.5081132937511927,
          0.5081132937511927,
          0.5081132937511927,
          0.5081132937511927,
          0.5081132937511927,
          0.5081132937511927,
          0.5081132937511927,
          0.5081132937511927,
          0.5081132937511927,
          0.5081132937511927,
          0.5081132937511927,
          0.5081132937511927,
          0.5081132937511927,
          0.5081132937511927,
          0.5081132937511927,
          0.5081132937511927,
          0.5081132937511927,
          0.5081132937511927,
          0.5081132937511927,
          0.5081132937511927,
          0.5081132937511927,
          0.5081132937511927,
          0.5081132937511927,
          0.5081132937511927,
          0.5081132937511927,
          0.5081132937511927,
          0.5081132937511927,
          0.5081132937511927,
          0.5081132937511927,
          0.5081132937511927,
          0.5081132937511927,
          0.5081132937511927,
          0.5081132937511927,
          0.5081132937511927,
          0.5081132937511927,
          0.5081132937511927,
          0.5081132937511927,
          0.5081132937511927,
          0.5081132937511927,
          0.5081132937511927,
          0.5081132937511927,
          0.5081132937511927,
          0.5081132937511927,
          0.5081132937511927,
          0.5081132937511927,
          0.5081132937511927,
          0.5081132937511927,
          0.5081132937511927,
          0.5081132937511927,
          0.5081132937511927,
          0.5081132937511927,
          0.5081132937511927,
          0.5081132937511927,
          0.5081132937511927,
          0.5081132937511927,
          0.5081132937511927,
          0.5081132937511927,
          0.5081132937511927,
          0.5081132937511927,
          0.5081132937511927,
          0.5081132937511927,
          0.5081132937511927,
          0.5081132937511927,
          0.5081132937511927,
          0.5081132937511927,
          0.5081132937511927,
          0.5081132937511927,
          0.5081132937511927,
          0.5081132937511927,
          0.5081132937511927,
          0.5081132937511927,
          0.5081132937511927,
          0.5081132937511927,
          0.5081132937511927,
          0.5081132937511927,
          0.5081132937511927,
          0.5081132937511927,
          0.5081132937511927,
          0.5081132937511927,
          0.5081132937511927,
          0.5081132937511927,
          0.5081132937511927,
          0.5081132937511927,
          0.5081132937511927,
          0.5081132937511927,
          0.5081132937511927,
          0.5081132937511927,
          0.5081132937511927,
          0.5081132937511927,
          0.5081132937511927,
          0.5081132937511927,
          0.5081132937511927,
          0.5081132937511927,
          0.5081132937511927,
          0.5081132937511927,
          0.5081132937511927,
          0.5081132937511927,
          0.5081132937511927,
          0.5081132937511927,
          0.5081132937511927,
          0.5081132937511927,
          0.5081132937511927,
          0.5081132937511927,
          0.5081132937511927,
          0.5081132937511927,
          0.5081132937511927,
          0.5081132937511927,
          0.5081132937511927,
          0.5081132937511927,
          0.5081132937511927,
          0.5081132937511927,
          0.5081132937511927,
          0.5081132937511927,
          0.5081132937511927,
          0.5081132937511927,
          0.5081132937511927,
          0.5081132937511927,
          0.5081132937511927,
          0.5081132937511927,
          0.5081132937511927,
          0.5081132937511927,
          0.5081132937511927,
          0.5081132937511927,
          0.5081132937511927,
          0.5081132937511927,
          0.5081132937511927,
          0.5081132937511927,
          0.5081132937511927,
          0.5081132937511927,
          0.5081132937511927,
          0.5081132937511927,
          0.5081132937511927,
          0.5081132937511927,
          0.5081132937511927,
          0.5081132937511927,
          0.5081132937511927,
          0.5081132937511927,
          0.5081132937511927,
          0.5081132937511927,
          0.5081132937511927,
          0.5081132937511927,
          0.5081132937511927,
          0.5081132937511927,
          0.5081132937511927,
          0.5081132937511927,
          0.5081132937511927,
          0.5081132937511927,
          0.5081132937511927,
          0.5081132937511927,
          0.5081132937511927,
          0.5081132937511927,
          0.5081132937511927,
          0.5081132937511927,
          0.5081132937511927,
          0.5081132937511927,
          0.5081132937511927,
          0.5081132937511927,
          0.5081132937511927,
          0.5081132937511927,
          0.5081132937511927,
          0.5081132937511927,
          0.5081132937511927,
          0.5081132937511927,
          0.5081132937511927,
          0.5081132937511927,
          0.5081132937511927,
          0.5081132937511927,
          0.5081132937511927,
          0.5081132937511927,
          0.5081132937511927,
          0.5081132937511927,
          0.5081132937511927,
          0.5081132937511927,
          0.5081132937511927,
          0.5081132937511927,
          0.5081132937511927,
          0.5081132937511927,
          0.5081132937511927,
          0.5081132937511927,
          0.5081132937511927,
          0.5081132937511927,
          0.5081132937511927,
          0.5081132937511927,
          0.5081132937511927,
          0.5081132937511927,
          0.5081132937511927,
          0.5081132937511927,
          0.5081132937511927,
          0.5081132937511927,
          0.5081132937511927,
          0.5081132937511927,
          0.5081132937511927,
          0.5081132937511927,
          0.5081132937511927,
          0.5081132937511927,
          0.5081132937511927,
          0.5081132937511927,
          0.5081132937511927,
          0.5081132937511927,
          0.5081132937511927,
          0.5081132937511927,
          0.5081132937511927,
          0.5081132937511927,
          0.5081132937511927,
          0.5081132937511927,
          0.5081132937511927,
          0.5081132937511927,
          0.5081132937511927,
          0.5081132937511927,
          0.5081132937511927,
          0.5081132937511927,
          0.5081132937511927,
          0.5081132937511927,
          0.5081132937511927,
          0.5081132937511927,
          0.5081132937511927,
          0.5081132937511927,
          0.5081132937511927,
          0.5081132937511927,
          0.5081132937511927,
          0.5081132937511927,
          0.5081132937511927,
          0.5081132937511927,
          0.5081132937511927,
          0.5081132937511927,
          0.5081132937511927,
          0.5081132937511927,
          0.5081132937511927,
          0.5081132937511927,
          0.5081132937511927,
          0.5081132937511927,
          0.5081132937511927,
          0.5081132937511927,
          0.5081132937511927,
          0.5081132937511927,
          0.5081132937511927,
          0.5081132937511927,
          0.5081132937511927,
          0.5081132937511927,
          0.5081132937511927,
          0.5081132937511927,
          0.5081132937511927,
          0.5081132937511927,
          0.5081132937511927,
          0.5081132937511927,
          0.5081132937511927,
          0.5081132937511927,
          0.5081132937511927,
          0.5081132937511927,
          0.5081132937511927,
          0.5081132937511927,
          0.5081132937511927,
          0.5081132937511927,
          0.5081132937511927,
          0.5081132937511927,
          0.5081132937511927,
          0.5081132937511927,
          0.5081132937511927,
          0.5081132937511927,
          0.5081132937511927,
          0.5081132937511927,
          0.5081132937511927,
          0.5081132937511927,
          0.5081132937511927,
          0.5081132937511927,
          0.5081132937511927,
          0.5081132937511927,
          0.5081132937511927,
          0.5081132937511927,
          0.5081132937511927,
          0.5081132937511927,
          0.5081132937511927,
          0.5081132937511927,
          0.5081132937511927,
          0.5081132937511927,
          0.5081132937511927,
          0.5081132937511927,
          0.5081132937511927,
          0.5081132937511927,
          0.5081132937511927,
          0.5081132937511927,
          0.5081132937511927,
          0.5081132937511927,
          0.5081132937511927,
          0.5081132937511927,
          0.5081132937511927,
          0.5081132937511927,
          0.5081132937511927,
          0.5081132937511927,
          0.5081132937511927,
          0.5081132937511927,
          0.5081132937511927,
          0.5081132937511927,
          0.5081132937511927,
          0.5081132937511927,
          0.5081132937511927,
          0.5081132937511927,
          0.5081132937511927,
          0.5081132937511927,
          0.5081132937511927,
          0.5081132937511927,
          0.5081132937511927,
          0.5081132937511927,
          0.5081132937511927,
          0.5081132937511927,
          0.5081132937511927,
          0.5081132937511927,
          0.5081132937511927,
          0.5081132937511927,
          0.5081132937511927,
          0.5081132937511927,
          0.5081132937511927,
          0.5081132937511927,
          0.5081132937511927,
          0.5081132937511927,
          0.5081132937511927,
          0.5081132937511927,
          0.5081132937511927,
          0.5081132937511927,
          0.5081132937511927,
          0.5081132937511927,
          0.5081132937511927,
          0.5081132937511927,
          0.5081132937511927,
          0.5081132937511927,
          0.5081132937511927,
          0.5081132937511927,
          0.5081132937511927,
          0.5081132937511927,
          0.5081132937511927,
          0.5081132937511927,
          0.5081132937511927,
          0.5081132937511927,
          0.5081132937511927,
          0.5081132937511927,
          0.5081132937511927,
          0.5081132937511927,
          0.5081132937511927,
          0.5081132937511927,
          0.5081132937511927,
          0.5081132937511927,
          0.5081132937511927,
          0.5081132937511927,
          0.5081132937511927,
          0.5081132937511927,
          0.5081132937511927,
          0.5081132937511927,
          0.5081132937511927,
          0.5081132937511927,
          0.5081132937511927,
          0.5081132937511927,
          0.5081132937511927,
          0.5081132937511927,
          0.5081132937511927,
          0.5081132937511927,
          0.5081132937511927,
          0.5081132937511927,
          0.5081132937511927,
          0.5081132937511927,
          0.5081132937511927,
          0.5081132937511927,
          0.5081132937511927,
          0.5081132937511927,
          0.5081132937511927,
          0.5081132937511927,
          0.5081132937511927,
          0.5081132937511927,
          0.5081132937511927,
          0.5081132937511927,
          0.5081132937511927,
          0.5081132937511927,
          0.5081132937511927,
          0.5081132937511927,
          0.5081132937511927,
          0.5081132937511927,
          0.5081132937511927,
          0.5081132937511927,
          0.5081132937511927,
          0.5081132937511927,
          0.5081132937511927,
          0.5081132937511927,
          0.5081132937511927,
          0.5081132937511927,
          0.5081132937511927,
          0.5081132937511927,
          0.5081132937511927,
          0.5081132937511927,
          0.5081132937511927,
          0.5081132937511927,
          0.5081132937511927,
          0.5081132937511927,
          0.5081132937511927,
          0.5081132937511927,
          0.5081132937511927,
          0.5081132937511927,
          0.5081132937511927,
          0.5081132937511927,
          0.5081132937511927,
          0.5081132937511927,
          0.5081132937511927,
          0.5081132937511927,
          0.5081132937511927,
          0.5081132937511927,
          0.5081132937511927,
          0.5081132937511927,
          0.5081132937511927,
          0.5081132937511927,
          0.5081132937511927,
          0.5081132937511927,
          0.5081132937511927,
          0.5081132937511927,
          0.5081132937511927,
          0.5081132937511927,
          0.5081132937511927,
          0.5081132937511927,
          0.5081132937511927,
          0.5081132937511927,
          0.5081132937511927,
          0.5081132937511927,
          0.5081132937511927,
          0.5081132937511927,
          0.5081132937511927,
          0.5081132937511927,
          0.5081132937511927,
          0.5081132937511927,
          0.5081132937511927,
          0.5081132937511927,
          0.5081132937511927,
          0.5081132937511927,
          0.5081132937511927,
          0.5081132937511927,
          0.5081132937511927,
          0.5081132937511927,
          0.5081132937511927,
          0.5081132937511927,
          0.5081132937511927,
          0.5081132937511927,
          0.5081132937511927,
          0.5081132937511927,
          0.5081132937511927,
          0.5081132937511927,
          0.5081132937511927,
          0.5081132937511927,
          0.5081132937511927,
          0.5081132937511927,
          0.5081132937511927,
          0.5081132937511927,
          0.5081132937511927,
          0.5081132937511927,
          0.5081132937511927,
          0.5081132937511927,
          0.5081132937511927,
          0.5081132937511927,
          0.5081132937511927,
          0.5081132937511927,
          0.5081132937511927,
          0.5081132937511927,
          0.5081132937511927,
          0.5081132937511927,
          0.5081132937511927,
          0.5081132937511927,
          0.5081132937511927,
          0.5081132937511927,
          0.5081132937511927,
          0.5081132937511927,
          0.5081132937511927,
          0.5081132937511927,
          0.5081132937511927,
          0.5081132937511927,
          0.5081132937511927,
          0.5081132937511927,
          0.5081132937511927,
          0.5081132937511927,
          0.5081132937511927,
          0.5081132937511927,
          0.5081132937511927,
          0.5081132937511927,
          0.5081132937511927,
          0.5081132937511927,
          0.5081132937511927,
          0.5081132937511927,
          0.5081132937511927,
          0.5081132937511927,
          0.5081132937511927,
          0.5081132937511927,
          0.5081132937511927,
          0.5081132937511927,
          0.5081132937511927,
          0.5081132937511927,
          0.5081132937511927,
          0.5081132937511927,
          0.5081132937511927,
          0.5081132937511927,
          0.5081132937511927,
          0.5081132937511927,
          0.5081132937511927,
          0.5081132937511927,
          0.5081132937511927,
          0.5081132937511927,
          0.5081132937511927,
          0.5081132937511927,
          0.5081132937511927,
          0.5081132937511927,
          0.5081132937511927,
          0.5081132937511927,
          0.5081132937511927,
          0.5081132937511927,
          0.5081132937511927,
          0.5081132937511927,
          0.5081132937511927,
          0.5081132937511927,
          0.5081132937511927,
          0.5081132937511927,
          0.5081132937511927,
          0.5081132937511927,
          0.5081132937511927,
          0.5081132937511927,
          0.5081132937511927,
          0.5081132937511927,
          0.5081132937511927,
          0.5081132937511927,
          0.5081132937511927,
          0.5081132937511927,
          0.5081132937511927,
          0.5081132937511927,
          0.5081132937511927,
          0.5081132937511927,
          0.5081132937511927,
          0.5081132937511927,
          0.5081132937511927,
          0.5081132937511927,
          0.5081132937511927,
          0.5081132937511927,
          0.5081132937511927,
          0.5081132937511927,
          0.5081132937511927,
          0.5081132937511927,
          0.5081132937511927,
          0.5081132937511927,
          0.5081132937511927,
          0.5081132937511927,
          0.5081132937511927,
          0.5081132937511927
         ]
        },
        {
         "line": {
          "color": "deepskyblue"
         },
         "name": "Loss Training",
         "type": "scatter",
         "x": [
          "2020-10-26T09:57:45.010929",
          "2020-10-26T09:57:45.011029",
          "2020-10-26T09:57:45.011129",
          "2020-10-26T09:57:45.011229",
          "2020-10-26T09:57:45.011329",
          "2020-10-26T09:57:45.011429",
          "2020-10-26T09:57:45.011529",
          "2020-10-26T09:57:45.011629",
          "2020-10-26T09:57:45.011729",
          "2020-10-26T09:57:45.011829",
          "2020-10-26T09:57:45.011929",
          "2020-10-26T09:57:45.012029",
          "2020-10-26T09:57:45.012129",
          "2020-10-26T09:57:45.012229",
          "2020-10-26T09:57:45.012329",
          "2020-10-26T09:57:45.012429",
          "2020-10-26T09:57:45.012529",
          "2020-10-26T09:57:45.012629",
          "2020-10-26T09:57:45.012729",
          "2020-10-26T09:57:45.012829",
          "2020-10-26T09:57:45.012929",
          "2020-10-26T09:57:45.013029",
          "2020-10-26T09:57:45.013129",
          "2020-10-26T09:57:45.013229",
          "2020-10-26T09:57:45.013329",
          "2020-10-26T09:57:45.013429",
          "2020-10-26T09:57:45.013529",
          "2020-10-26T09:57:45.013629",
          "2020-10-26T09:57:45.013729",
          "2020-10-26T09:57:45.013829",
          "2020-10-26T09:57:45.013929",
          "2020-10-26T09:57:45.014029",
          "2020-10-26T09:57:45.014129",
          "2020-10-26T09:57:45.014229",
          "2020-10-26T09:57:45.014329",
          "2020-10-26T09:57:45.014429",
          "2020-10-26T09:57:45.014529",
          "2020-10-26T09:57:45.014629",
          "2020-10-26T09:57:45.014729",
          "2020-10-26T09:57:45.014829",
          "2020-10-26T09:57:45.014929",
          "2020-10-26T09:57:45.015029",
          "2020-10-26T09:57:45.015129",
          "2020-10-26T09:57:45.015229",
          "2020-10-26T09:57:45.015329",
          "2020-10-26T09:57:45.015429",
          "2020-10-26T09:57:45.015529",
          "2020-10-26T09:57:45.015629",
          "2020-10-26T09:57:45.015729",
          "2020-10-26T09:57:45.015829",
          "2020-10-26T09:57:45.015929",
          "2020-10-26T09:57:45.016029",
          "2020-10-26T09:57:45.016129",
          "2020-10-26T09:57:45.016229",
          "2020-10-26T09:57:45.016329",
          "2020-10-26T09:57:45.016429",
          "2020-10-26T09:57:45.016529",
          "2020-10-26T09:57:45.016629",
          "2020-10-26T09:57:45.016729",
          "2020-10-26T09:57:45.016829",
          "2020-10-26T09:57:45.016929",
          "2020-10-26T09:57:45.017029",
          "2020-10-26T09:57:45.017129",
          "2020-10-26T09:57:45.017229",
          "2020-10-26T09:57:45.017329",
          "2020-10-26T09:57:45.017429",
          "2020-10-26T09:57:45.017529",
          "2020-10-26T09:57:45.017629",
          "2020-10-26T09:57:45.017729",
          "2020-10-26T09:57:45.017829",
          "2020-10-26T09:57:45.017929",
          "2020-10-26T09:57:45.018029",
          "2020-10-26T09:57:45.018129",
          "2020-10-26T09:57:45.018229",
          "2020-10-26T09:57:45.018329",
          "2020-10-26T09:57:45.018429",
          "2020-10-26T09:57:45.018529",
          "2020-10-26T09:57:45.018629",
          "2020-10-26T09:57:45.018729",
          "2020-10-26T09:57:45.018829",
          "2020-10-26T09:57:45.018929",
          "2020-10-26T09:57:45.019029",
          "2020-10-26T09:57:45.019129",
          "2020-10-26T09:57:45.019229",
          "2020-10-26T09:57:45.019329",
          "2020-10-26T09:57:45.019429",
          "2020-10-26T09:57:45.019529",
          "2020-10-26T09:57:45.019629",
          "2020-10-26T09:57:45.019729",
          "2020-10-26T09:57:45.019829",
          "2020-10-26T09:57:45.019929",
          "2020-10-26T09:57:45.020029",
          "2020-10-26T09:57:45.020129",
          "2020-10-26T09:57:45.020229",
          "2020-10-26T09:57:45.020329",
          "2020-10-26T09:57:45.020429",
          "2020-10-26T09:57:45.020529",
          "2020-10-26T09:57:45.020629",
          "2020-10-26T09:57:45.020729",
          "2020-10-26T09:57:45.020829",
          "2020-10-26T09:57:45.020929",
          "2020-10-26T09:57:45.021029",
          "2020-10-26T09:57:45.021129",
          "2020-10-26T09:57:45.021229",
          "2020-10-26T09:57:45.021329",
          "2020-10-26T09:57:45.021429",
          "2020-10-26T09:57:45.021529",
          "2020-10-26T09:57:45.021629",
          "2020-10-26T09:57:45.021729",
          "2020-10-26T09:57:45.021829",
          "2020-10-26T09:57:45.021929",
          "2020-10-26T09:57:45.022029",
          "2020-10-26T09:57:45.022129",
          "2020-10-26T09:57:45.022229",
          "2020-10-26T09:57:45.022329",
          "2020-10-26T09:57:45.022429",
          "2020-10-26T09:57:45.022529",
          "2020-10-26T09:57:45.022629",
          "2020-10-26T09:57:45.022729",
          "2020-10-26T09:57:45.022829",
          "2020-10-26T09:57:45.022929",
          "2020-10-26T09:57:45.023029",
          "2020-10-26T09:57:45.023129",
          "2020-10-26T09:57:45.023229",
          "2020-10-26T09:57:45.023329",
          "2020-10-26T09:57:45.023429",
          "2020-10-26T09:57:45.023529",
          "2020-10-26T09:57:45.023629",
          "2020-10-26T09:57:45.023729",
          "2020-10-26T09:57:45.023829",
          "2020-10-26T09:57:45.023929",
          "2020-10-26T09:57:45.024029",
          "2020-10-26T09:57:45.024129",
          "2020-10-26T09:57:45.024229",
          "2020-10-26T09:57:45.024329",
          "2020-10-26T09:57:45.024429",
          "2020-10-26T09:57:45.024529",
          "2020-10-26T09:57:45.024629",
          "2020-10-26T09:57:45.024729",
          "2020-10-26T09:57:45.024829",
          "2020-10-26T09:57:45.024929",
          "2020-10-26T09:57:45.025029",
          "2020-10-26T09:57:45.025129",
          "2020-10-26T09:57:45.025229",
          "2020-10-26T09:57:45.025329",
          "2020-10-26T09:57:45.025429",
          "2020-10-26T09:57:45.025529",
          "2020-10-26T09:57:45.025629",
          "2020-10-26T09:57:45.025729",
          "2020-10-26T09:57:45.025829",
          "2020-10-26T09:57:45.025929",
          "2020-10-26T09:57:45.026029",
          "2020-10-26T09:57:45.026129",
          "2020-10-26T09:57:45.026229",
          "2020-10-26T09:57:45.026329",
          "2020-10-26T09:57:45.026429",
          "2020-10-26T09:57:45.026529",
          "2020-10-26T09:57:45.026629",
          "2020-10-26T09:57:45.026729",
          "2020-10-26T09:57:45.026829",
          "2020-10-26T09:57:45.026929",
          "2020-10-26T09:57:45.027029",
          "2020-10-26T09:57:45.027129",
          "2020-10-26T09:57:45.027229",
          "2020-10-26T09:57:45.027329",
          "2020-10-26T09:57:45.027429",
          "2020-10-26T09:57:45.027529",
          "2020-10-26T09:57:45.027629",
          "2020-10-26T09:57:45.027729",
          "2020-10-26T09:57:45.027829",
          "2020-10-26T09:57:45.027929",
          "2020-10-26T09:57:45.028029",
          "2020-10-26T09:57:45.028129",
          "2020-10-26T09:57:45.028229",
          "2020-10-26T09:57:45.028329",
          "2020-10-26T09:57:45.028429",
          "2020-10-26T09:57:45.028529",
          "2020-10-26T09:57:45.028629",
          "2020-10-26T09:57:45.028729",
          "2020-10-26T09:57:45.028829",
          "2020-10-26T09:57:45.028929",
          "2020-10-26T09:57:45.029029",
          "2020-10-26T09:57:45.029129",
          "2020-10-26T09:57:45.029229",
          "2020-10-26T09:57:45.029329",
          "2020-10-26T09:57:45.029429",
          "2020-10-26T09:57:45.029529",
          "2020-10-26T09:57:45.029629",
          "2020-10-26T09:57:45.029729",
          "2020-10-26T09:57:45.029829",
          "2020-10-26T09:57:45.029929",
          "2020-10-26T09:57:45.030029",
          "2020-10-26T09:57:45.030129",
          "2020-10-26T09:57:45.030229",
          "2020-10-26T09:57:45.030329",
          "2020-10-26T09:57:45.030429",
          "2020-10-26T09:57:45.030529",
          "2020-10-26T09:57:45.030629",
          "2020-10-26T09:57:45.030729",
          "2020-10-26T09:57:45.030829",
          "2020-10-26T09:57:45.030929",
          "2020-10-26T09:57:45.031029",
          "2020-10-26T09:57:45.031129",
          "2020-10-26T09:57:45.031229",
          "2020-10-26T09:57:45.031329",
          "2020-10-26T09:57:45.031429",
          "2020-10-26T09:57:45.031529",
          "2020-10-26T09:57:45.031629",
          "2020-10-26T09:57:45.031729",
          "2020-10-26T09:57:45.031829",
          "2020-10-26T09:57:45.031929",
          "2020-10-26T09:57:45.032029",
          "2020-10-26T09:57:45.032129",
          "2020-10-26T09:57:45.032229",
          "2020-10-26T09:57:45.032329",
          "2020-10-26T09:57:45.032429",
          "2020-10-26T09:57:45.032529",
          "2020-10-26T09:57:45.032629",
          "2020-10-26T09:57:45.032729",
          "2020-10-26T09:57:45.032829",
          "2020-10-26T09:57:45.032929",
          "2020-10-26T09:57:45.033029",
          "2020-10-26T09:57:45.033129",
          "2020-10-26T09:57:45.033229",
          "2020-10-26T09:57:45.033329",
          "2020-10-26T09:57:45.033429",
          "2020-10-26T09:57:45.033529",
          "2020-10-26T09:57:45.033629",
          "2020-10-26T09:57:45.033729",
          "2020-10-26T09:57:45.033829",
          "2020-10-26T09:57:45.033929",
          "2020-10-26T09:57:45.034029",
          "2020-10-26T09:57:45.034129",
          "2020-10-26T09:57:45.034229",
          "2020-10-26T09:57:45.034329",
          "2020-10-26T09:57:45.034429",
          "2020-10-26T09:57:45.034529",
          "2020-10-26T09:57:45.034629",
          "2020-10-26T09:57:45.034729",
          "2020-10-26T09:57:45.034829",
          "2020-10-26T09:57:45.034929",
          "2020-10-26T09:57:45.035029",
          "2020-10-26T09:57:45.035129",
          "2020-10-26T09:57:45.035229",
          "2020-10-26T09:57:45.035329",
          "2020-10-26T09:57:45.035429",
          "2020-10-26T09:57:45.035529",
          "2020-10-26T09:57:45.035629",
          "2020-10-26T09:57:45.035729",
          "2020-10-26T09:57:45.035829",
          "2020-10-26T09:57:45.035929",
          "2020-10-26T09:57:45.036029",
          "2020-10-26T09:57:45.036129",
          "2020-10-26T09:57:45.036229",
          "2020-10-26T09:57:45.036329",
          "2020-10-26T09:57:45.036429",
          "2020-10-26T09:57:45.036529",
          "2020-10-26T09:57:45.036629",
          "2020-10-26T09:57:45.036729",
          "2020-10-26T09:57:45.036829",
          "2020-10-26T09:57:45.036929",
          "2020-10-26T09:57:45.037029",
          "2020-10-26T09:57:45.037129",
          "2020-10-26T09:57:45.037229",
          "2020-10-26T09:57:45.037329",
          "2020-10-26T09:57:45.037429",
          "2020-10-26T09:57:45.037529",
          "2020-10-26T09:57:45.037629",
          "2020-10-26T09:57:45.037729",
          "2020-10-26T09:57:45.037829",
          "2020-10-26T09:57:45.037929",
          "2020-10-26T09:57:45.038029",
          "2020-10-26T09:57:45.038129",
          "2020-10-26T09:57:45.038229",
          "2020-10-26T09:57:45.038329",
          "2020-10-26T09:57:45.038429",
          "2020-10-26T09:57:45.038529",
          "2020-10-26T09:57:45.038629",
          "2020-10-26T09:57:45.038729",
          "2020-10-26T09:57:45.038829",
          "2020-10-26T09:57:45.038929",
          "2020-10-26T09:57:45.039029",
          "2020-10-26T09:57:45.039129",
          "2020-10-26T09:57:45.039229",
          "2020-10-26T09:57:45.039329",
          "2020-10-26T09:57:45.039429",
          "2020-10-26T09:57:45.039529",
          "2020-10-26T09:57:45.039629",
          "2020-10-26T09:57:45.039729",
          "2020-10-26T09:57:45.039829",
          "2020-10-26T09:57:45.039929",
          "2020-10-26T09:57:45.040029",
          "2020-10-26T09:57:45.040129",
          "2020-10-26T09:57:45.040229",
          "2020-10-26T09:57:45.040329",
          "2020-10-26T09:57:45.040429",
          "2020-10-26T09:57:45.040529",
          "2020-10-26T09:57:45.040629",
          "2020-10-26T09:57:45.040729",
          "2020-10-26T09:57:45.040829",
          "2020-10-26T09:57:45.040929",
          "2020-10-26T09:57:45.041029",
          "2020-10-26T09:57:45.041129",
          "2020-10-26T09:57:45.041229",
          "2020-10-26T09:57:45.041329",
          "2020-10-26T09:57:45.041429",
          "2020-10-26T09:57:45.041529",
          "2020-10-26T09:57:45.041629",
          "2020-10-26T09:57:45.041729",
          "2020-10-26T09:57:45.041829",
          "2020-10-26T09:57:45.041929",
          "2020-10-26T09:57:45.042029",
          "2020-10-26T09:57:45.042129",
          "2020-10-26T09:57:45.042229",
          "2020-10-26T09:57:45.042329",
          "2020-10-26T09:57:45.042429",
          "2020-10-26T09:57:45.042529",
          "2020-10-26T09:57:45.042629",
          "2020-10-26T09:57:45.042729",
          "2020-10-26T09:57:45.042829",
          "2020-10-26T09:57:45.042929",
          "2020-10-26T09:57:45.043029",
          "2020-10-26T09:57:45.043129",
          "2020-10-26T09:57:45.043229",
          "2020-10-26T09:57:45.043329",
          "2020-10-26T09:57:45.043429",
          "2020-10-26T09:57:45.043529",
          "2020-10-26T09:57:45.043629",
          "2020-10-26T09:57:45.043729",
          "2020-10-26T09:57:45.043829",
          "2020-10-26T09:57:45.043929",
          "2020-10-26T09:57:45.044029",
          "2020-10-26T09:57:45.044129",
          "2020-10-26T09:57:45.044229",
          "2020-10-26T09:57:45.044329",
          "2020-10-26T09:57:45.044429",
          "2020-10-26T09:57:45.044529",
          "2020-10-26T09:57:45.044629",
          "2020-10-26T09:57:45.044729",
          "2020-10-26T09:57:45.044829",
          "2020-10-26T09:57:45.044929",
          "2020-10-26T09:57:45.045029",
          "2020-10-26T09:57:45.045129",
          "2020-10-26T09:57:45.045229",
          "2020-10-26T09:57:45.045329",
          "2020-10-26T09:57:45.045429",
          "2020-10-26T09:57:45.045529",
          "2020-10-26T09:57:45.045629",
          "2020-10-26T09:57:45.045729",
          "2020-10-26T09:57:45.045829",
          "2020-10-26T09:57:45.045929",
          "2020-10-26T09:57:45.046029",
          "2020-10-26T09:57:45.046129",
          "2020-10-26T09:57:45.046229",
          "2020-10-26T09:57:45.046329",
          "2020-10-26T09:57:45.046429",
          "2020-10-26T09:57:45.046529",
          "2020-10-26T09:57:45.046629",
          "2020-10-26T09:57:45.046729",
          "2020-10-26T09:57:45.046829",
          "2020-10-26T09:57:45.046929",
          "2020-10-26T09:57:45.047029",
          "2020-10-26T09:57:45.047129",
          "2020-10-26T09:57:45.047229",
          "2020-10-26T09:57:45.047329",
          "2020-10-26T09:57:45.047429",
          "2020-10-26T09:57:45.047529",
          "2020-10-26T09:57:45.047629",
          "2020-10-26T09:57:45.047729",
          "2020-10-26T09:57:45.047829",
          "2020-10-26T09:57:45.047929",
          "2020-10-26T09:57:45.048029",
          "2020-10-26T09:57:45.048129",
          "2020-10-26T09:57:45.048229",
          "2020-10-26T09:57:45.048329",
          "2020-10-26T09:57:45.048429",
          "2020-10-26T09:57:45.048529",
          "2020-10-26T09:57:45.048629",
          "2020-10-26T09:57:45.048729",
          "2020-10-26T09:57:45.048829",
          "2020-10-26T09:57:45.048929",
          "2020-10-26T09:57:45.049029",
          "2020-10-26T09:57:45.049129",
          "2020-10-26T09:57:45.049229",
          "2020-10-26T09:57:45.049329",
          "2020-10-26T09:57:45.049429",
          "2020-10-26T09:57:45.049529",
          "2020-10-26T09:57:45.049629",
          "2020-10-26T09:57:45.049729",
          "2020-10-26T09:57:45.049829",
          "2020-10-26T09:57:45.049929",
          "2020-10-26T09:57:45.050029",
          "2020-10-26T09:57:45.050129",
          "2020-10-26T09:57:45.050229",
          "2020-10-26T09:57:45.050329",
          "2020-10-26T09:57:45.050429",
          "2020-10-26T09:57:45.050529",
          "2020-10-26T09:57:45.050629",
          "2020-10-26T09:57:45.050729",
          "2020-10-26T09:57:45.050829",
          "2020-10-26T09:57:45.050929",
          "2020-10-26T09:57:45.051029",
          "2020-10-26T09:57:45.051129",
          "2020-10-26T09:57:45.051229",
          "2020-10-26T09:57:45.051329",
          "2020-10-26T09:57:45.051429",
          "2020-10-26T09:57:45.051529",
          "2020-10-26T09:57:45.051629",
          "2020-10-26T09:57:45.051729",
          "2020-10-26T09:57:45.051829",
          "2020-10-26T09:57:45.051929",
          "2020-10-26T09:57:45.052029",
          "2020-10-26T09:57:45.052129",
          "2020-10-26T09:57:45.052229",
          "2020-10-26T09:57:45.052329",
          "2020-10-26T09:57:45.052429",
          "2020-10-26T09:57:45.052529",
          "2020-10-26T09:57:45.052629",
          "2020-10-26T09:57:45.052729",
          "2020-10-26T09:57:45.052829",
          "2020-10-26T09:57:45.052929",
          "2020-10-26T09:57:45.053029",
          "2020-10-26T09:57:45.053129",
          "2020-10-26T09:57:45.053229",
          "2020-10-26T09:57:45.053329",
          "2020-10-26T09:57:45.053429",
          "2020-10-26T09:57:45.053529",
          "2020-10-26T09:57:45.053629",
          "2020-10-26T09:57:45.053729",
          "2020-10-26T09:57:45.053829",
          "2020-10-26T09:57:45.053929",
          "2020-10-26T09:57:45.054029",
          "2020-10-26T09:57:45.054129",
          "2020-10-26T09:57:45.054229",
          "2020-10-26T09:57:45.054329",
          "2020-10-26T09:57:45.054429",
          "2020-10-26T09:57:45.054529",
          "2020-10-26T09:57:45.054629",
          "2020-10-26T09:57:45.054729",
          "2020-10-26T09:57:45.054829",
          "2020-10-26T09:57:45.054929",
          "2020-10-26T09:57:45.055029",
          "2020-10-26T09:57:45.055129",
          "2020-10-26T09:57:45.055229",
          "2020-10-26T09:57:45.055329",
          "2020-10-26T09:57:45.055429",
          "2020-10-26T09:57:45.055529",
          "2020-10-26T09:57:45.055629",
          "2020-10-26T09:57:45.055729",
          "2020-10-26T09:57:45.055829",
          "2020-10-26T09:57:45.055929",
          "2020-10-26T09:57:45.056029",
          "2020-10-26T09:57:45.056129",
          "2020-10-26T09:57:45.056229",
          "2020-10-26T09:57:45.056329",
          "2020-10-26T09:57:45.056429",
          "2020-10-26T09:57:45.056529",
          "2020-10-26T09:57:45.056629",
          "2020-10-26T09:57:45.056729",
          "2020-10-26T09:57:45.056829",
          "2020-10-26T09:57:45.056929",
          "2020-10-26T09:57:45.057029",
          "2020-10-26T09:57:45.057129",
          "2020-10-26T09:57:45.057229",
          "2020-10-26T09:57:45.057329",
          "2020-10-26T09:57:45.057429",
          "2020-10-26T09:57:45.057529",
          "2020-10-26T09:57:45.057629",
          "2020-10-26T09:57:45.057729",
          "2020-10-26T09:57:45.057829",
          "2020-10-26T09:57:45.057929",
          "2020-10-26T09:57:45.058029",
          "2020-10-26T09:57:45.058129",
          "2020-10-26T09:57:45.058229",
          "2020-10-26T09:57:45.058329",
          "2020-10-26T09:57:45.058429",
          "2020-10-26T09:57:45.058529",
          "2020-10-26T09:57:45.058629",
          "2020-10-26T09:57:45.058729",
          "2020-10-26T09:57:45.058829",
          "2020-10-26T09:57:45.058929",
          "2020-10-26T09:57:45.059029",
          "2020-10-26T09:57:45.059129",
          "2020-10-26T09:57:45.059229",
          "2020-10-26T09:57:45.059329",
          "2020-10-26T09:57:45.059429",
          "2020-10-26T09:57:45.059529",
          "2020-10-26T09:57:45.059629",
          "2020-10-26T09:57:45.059729",
          "2020-10-26T09:57:45.059829",
          "2020-10-26T09:57:45.059929",
          "2020-10-26T09:57:45.060029",
          "2020-10-26T09:57:45.060129",
          "2020-10-26T09:57:45.060229",
          "2020-10-26T09:57:45.060329",
          "2020-10-26T09:57:45.060429",
          "2020-10-26T09:57:45.060529",
          "2020-10-26T09:57:45.060629",
          "2020-10-26T09:57:45.060729",
          "2020-10-26T09:57:45.060829"
         ],
         "y": [
          0.14970786139659964,
          0.24257861373370915,
          0.2915182586498757,
          0.19517328501737286,
          0.49132167261522763,
          0.2955434079798911,
          0.4019472814121361,
          0.15826008024468852,
          0.4955344199626541,
          0.031250672257426615,
          0.3729257594942297,
          0.476643615737145,
          0.122035531803947,
          0.10689596903235721,
          0.020825191808557797,
          0.06507996444478259,
          0.2414326749711888,
          0.47039853762493955,
          0.32417495804330265,
          0.4387380828538747,
          0.07011142813271753,
          0.03390454469801707,
          0.09485317374519742,
          0.40862820094658847,
          0.48527711112420135,
          0.0833563874511789,
          0.2636715581511071,
          0.42497519987090193,
          0.19743830983010913,
          0.13499477868327592,
          0.22814468675559496,
          0.08447697707398838,
          0.35815511105188325,
          0.2229829655194866,
          0.12559751821278908,
          0.02390748856972369,
          0.14302664699188838,
          0.05419642444087458,
          0.27630213858500774,
          0.42636050766104994,
          0.3535849185270621,
          0.08020808559699955,
          0.017528286643852198,
          0.41458825293510415,
          0.20489318053510264,
          0.1823019539471069,
          0.07268741124842304,
          0.2914973125127531,
          0.07326931709247209,
          0.2702059453219503,
          0.07285280070010458,
          0.2926087738784764,
          0.024552421691739212,
          0.4770261400428728,
          0.09865521081880946,
          0.056646589797550106,
          0.35607332886698995,
          0.4056408122123454,
          0.24644467321524388,
          0.007192944746480023,
          0.3795071327518915,
          0.20139419834239902,
          0.4476259940372218,
          0.11951682870098956,
          0.051431561311314766,
          0.3920064548144859,
          0.3761637278496659,
          0.10000338240183915,
          0.3658322704083714,
          0.2852933905940489,
          0.42954570064228026,
          0.2185068692764247,
          0.18753596281716334,
          0.11193113636543561,
          0.15045899793452655,
          0.16067600701553708,
          0.16523737151854956,
          0.20494053316434258,
          0.4557966167893239,
          0.37592316325826847,
          0.475875928205336,
          0.36382184228249237,
          0.15397519451768638,
          0.40759318425454083,
          0.3965165061171225,
          0.11437677898313048,
          0.17033079296635822,
          0.2639825364463162,
          0.17529658581509544,
          0.037420647379668104,
          0.19846978088026823,
          0.09549099759190849,
          0.41568864993704846,
          0.21126174412056908,
          0.2377835769008385,
          0.44745511418747785,
          0.0053352026835016275,
          0.349235387366881,
          0.1329041309132597,
          0.0933932276737588,
          0.08142801713145165,
          0.44329445791317745,
          0.12525413166238852,
          0.056508974088887776,
          0.0818367856214186,
          0.17749177102660063,
          0.014683397131673992,
          0.47830018456247103,
          0.24453541351692554,
          0.11021278439904414,
          0.009795398652472365,
          0.27521005584846314,
          0.005844325023721453,
          0.07483806122919034,
          0.4654218270971233,
          0.4858315519536678,
          0.08466556798889435,
          0.3086739976800281,
          0.2958090544759777,
          0.023930335941144243,
          0.07254146029532027,
          0.19276878821828625,
          0.41329502746433455,
          0.34702873310089544,
          0.37220930607237523,
          0.32234931296769087,
          0.18545280456616808,
          0.03985756267727858,
          0.4751514967084285,
          0.015315267482945316,
          0.4224172687308787,
          0.1325191277807356,
          0.17780794780607323,
          0.41836646242850417,
          0.18054864914775592,
          0.4187498867135604,
          0.3063057419401325,
          0.05325441548521148,
          0.026114019924098564,
          0.3692626742449212,
          0.31445207269411046,
          0.44590242253825707,
          0.02470303553187403,
          0.40754377640311734,
          0.3109939374211734,
          0.43297792175093264,
          0.3287820277274225,
          0.35699009165733386,
          0.15977040558214828,
          0.4212125124812296,
          0.21755356753755262,
          0.2242705463197101,
          0.4741827498965083,
          0.4650871757502886,
          0.047915912530243965,
          0.43933798376809374,
          0.1587984553088182,
          0.16906188934810285,
          0.2136281792346173,
          0.21680411564431257,
          0.15505556256285047,
          0.17762753336772352,
          0.16062512564247022,
          0.12032421272089255,
          0.40062665050713875,
          0.4215616081138194,
          0.10376695074475695,
          0.09413369798434079,
          0.4320632575677559,
          0.5030824690605868,
          0.193361756845011,
          0.037504422426286155,
          0.445812650242039,
          0.10809878881039658,
          0.18345580578769116,
          0.47596687068352583,
          0.32477903008028797,
          0.16825296286076252,
          0.4108174000522151,
          0.09717976457297706,
          0.3714921601578398,
          0.06220991991496483,
          0.3442332748582375,
          0.14921793971537411,
          0.2915130322423831,
          0.3481699264248981,
          0.11871423407734571,
          0.2874624141677504,
          0.4969889260946063,
          0.29742442137727476,
          0.17413735265760177,
          0.39365761565109114,
          0.14923847914591004,
          0.31127399528651,
          0.051866936259562735,
          0.058475867554243166,
          0.16266746196347093,
          0.0020810008397944557,
          0.06028228675794978,
          0.04268798014809949,
          0.1587332188916637,
          0.007239098718872405,
          0.13921435035739904,
          0.3664382330495286,
          0.011837862947506217,
          0.36067461148140545,
          0.33975921883920623,
          0.0844890940150913,
          0.2696539172791068,
          0.46037126549253315,
          0.37594703702522114,
          0.05460566166455827,
          0.15882367097533567,
          0.35946996952887655,
          0.153676784847379,
          0.5017258894224916,
          0.42557295563220876,
          0.4662137998709506,
          0.08188883629250121,
          0.0450390941583132,
          0.43323768626843684,
          0.0017206536795297822,
          0.12704412053520908,
          0.10655206437570097,
          0.22019491530102364,
          0.1431763195923743,
          0.2578365612076121,
          0.07632478971329792,
          0.250830609230035,
          0.06690395652585313,
          0.44435317273555963,
          0.17038482217877426,
          0.10888749424870703,
          0.4352657710079386,
          0.08631079123650132,
          0.01106173543180855,
          0.2704667766270852,
          0.03308804916478447,
          0.40314866623500567,
          0.08168417474073664,
          0.13694381911906106,
          0.14028702762403888,
          0.18163883930890545,
          0.5013403281065045,
          0.19429009769941263,
          0.0742359776315693,
          0.24143306178354962,
          0.14271702138539943,
          0.019049441810037315,
          0.49157402925705806,
          0.0023963513001596937,
          0.08312835396178908,
          0.4400854403271133,
          0.38066479804007614,
          0.07203964892493175,
          0.39480170289821714,
          0.07646053954709497,
          0.39519683033584396,
          0.07537447006275944,
          0.3838318276856052,
          0.2586693539962015,
          0.20346261038177005,
          0.27984262469858123,
          0.0017991155646592816,
          0.43772677273280003,
          0.30109143254994564,
          0.32338063844913023,
          0.14231631053468785,
          0.11788576565326458,
          0.31408801594380265,
          0.28041107863748316,
          0.04692517949574704,
          0.2048455036996204,
          0.2541621470419271,
          0.3818242912996901,
          0.33876193165027857,
          0.10813292093943261,
          0.06914103488504342,
          0.40311214591568056,
          0.007558603634832295,
          0.12123563507754298,
          0.060702585447229396,
          0.41958418553296806,
          0.40106906616582005,
          0.31367452816684693,
          0.24305938292056783,
          0.38036615406680774,
          0.30595182597116377,
          0.2808796639355977,
          0.39080408317346116,
          0.35014289850988956,
          0.28062064430527656,
          0.17435319473776545,
          0.2214642214833411,
          0.26648817481208376,
          0.26797814182416424,
          0.3613753610153161,
          0.34584634121425406,
          0.37155625126877023,
          0.3056713870807499,
          0.473106650387348,
          0.40978956471012484,
          0.09066516820692083,
          0.06737558442874025,
          0.408201386949715,
          0.14179564204320183,
          0.03662566390858757,
          0.03395011964228356,
          0.39194455474187695,
          0.43811687955566647,
          0.23788460048766868,
          0.48520108686774144,
          0.18185067379770725,
          0.185610711845003,
          0.31229626579615566,
          0.4548919024791065,
          0.14020256643125073,
          0.14138855987019205,
          0.06785224352019625,
          0.26915735495739934,
          0.49891384419966744,
          0.03408424884918748,
          0.26785564875861123,
          0.29580007392089236,
          0.33797123332005086,
          0.4421819941362477,
          0.1370669881436788,
          0.10690488514979091,
          0.34473326633298473,
          0.3826908611767843,
          0.3433417835934254,
          0.2654084352968855,
          0.4205539010479864,
          0.2781165262798915,
          0.10151540131042136,
          0.07709678227086059,
          0.3287991588649266,
          0.19797447784215105,
          0.1205346889725405,
          0.44932102295615906,
          0.38092517845054097,
          0.02454676365648023,
          0.47987345165635364,
          0.2701118445695414,
          0.33112704811733895,
          0.03953042173132548,
          0.08215141389504055,
          0.3981447460077927,
          0.09886334090915039,
          0.09001977608484513,
          0.04476958797640407,
          0.2662023234579154,
          0.33971090075071153,
          0.21803935350629544,
          0.06794073566380554,
          0.00018780874081247845,
          0.4650030341389835,
          0.14999024728678112,
          0.1395447901175091,
          0.07117260032014094,
          0.14927886109099564,
          0.026704780384446458,
          0.18894204477666765,
          0.21459943074791532,
          0.3644339546686659,
          0.4045699848097648,
          0.009467007844767394,
          0.41237432897644144,
          0.11620916057043473,
          0.0193316753774484,
          0.1842202087589664,
          0.47682576762381146,
          0.3937145092637149,
          0.17839817589519935,
          0.2408221611176522,
          0.4752433633251796,
          0.4604618230551534,
          0.12404633228671447,
          0.44656435437939734,
          0.19135229380888852,
          0.010619807186919239,
          0.46186507499183094,
          0.2779952683055509,
          0.2414709389245724,
          0.39827228659715974,
          0.08461270235570417,
          0.009443578199349822,
          0.021475648263794334,
          0.4584020949014649,
          0.398644636385983,
          0.40211231013905113,
          0.3585219662552177,
          0.4844461046948494,
          0.20360562626278078,
          0.12382944361169645,
          0.25757932071344225,
          0.23840192834571639,
          0.16102157366296588,
          0.484750061270975,
          0.3746607462541931,
          0.3659763798928459,
          0.36258974275417266,
          0.41241069910709083,
          0.22830361397244214,
          0.15327157475369013,
          0.5026070503365654,
          0.3698754329376239,
          0.2733119508247537,
          0.04104722975870079,
          0.03190321534556784,
          0.3573925232365438,
          0.2229113845549895,
          0.47634590750008154,
          0.37285778502909306,
          0.47104672303727924,
          0.26282046815071336,
          0.2707814568900355,
          0.35693434971236826,
          0.13359807460896445,
          0.12977897546690542,
          0.01812211435240485,
          0.20899040693632642,
          0.3785129261981135,
          0.2226353033127344,
          0.08258740230236494,
          0.05588607208879193,
          0.44615969472986894,
          0.18427963789066037,
          0.4467081235016588,
          0.019651454361801157,
          0.2983814295406475,
          0.08087521635970152,
          0.02673854391900843,
          0.4295696387785837,
          0.2590372756330801,
          0.20323109352057767,
          0.37192106135531233,
          0.4550725048772142,
          0.19069847859897227,
          0.042889340115404906,
          0.19332338378737557,
          0.1882551421707861,
          0.4362315048494212,
          0.16038967650892033,
          0.24480872101595264,
          0.29890335139420987,
          0.4379066628338597,
          0.1910213419363167,
          0.10160079525608445,
          0.16156111477929702,
          0.3401453398121159,
          0.22469612830279218,
          0.49145586864620316,
          0.2906372554798393,
          0.03412123209494311,
          0.1969258392754316,
          0.3153710496305955,
          0.136382910226291,
          0.06816858951127625,
          0.183331219955714,
          0.2569205394346987,
          0.105045428586239,
          0.403704191643814,
          0.24573272619740738,
          0.002885972472086884,
          0.12175803615671743,
          0.15823760710227486,
          0.1568875587955798,
          0.07974583515975464,
          0.41673933555444975,
          0.37637927469330545,
          0.3308997368243247,
          0.1482916311235929,
          0.37349261890400864,
          0.3113408589842166,
          0.3346928236479343,
          0.1502657289382725,
          0.08335464472770138,
          0.42294257571209837,
          0.4035313536266507,
          0.3653054453803417,
          0.03089430845012764,
          0.16501035685757337,
          0.46438146088585697,
          0.08442686296274271,
          0.006362109565305474,
          0.15533117105767147,
          0.07194527191692313,
          0.19717370823120905,
          0.48683097098189254,
          0.4165934840553067,
          0.4113335486631593,
          0.20606213806716678,
          0.4067553321726667,
          0.16126317649110788,
          0.11604148847216411,
          0.2771124775747298,
          0.3487409385913427,
          0.10892676101581067,
          0.4384235631888851
         ]
        },
        {
         "line": {
          "color": "blue"
         },
         "name": "Loss Testing",
         "type": "scatter",
         "x": [
          "2020-10-26T09:57:45.060929",
          "2020-10-26T09:57:45.061029",
          "2020-10-26T09:57:45.061129",
          "2020-10-26T09:57:45.061229",
          "2020-10-26T09:57:45.061329",
          "2020-10-26T09:57:45.061429",
          "2020-10-26T09:57:45.061529",
          "2020-10-26T09:57:45.061629",
          "2020-10-26T09:57:45.061729",
          "2020-10-26T09:57:45.061829",
          "2020-10-26T09:57:45.061929",
          "2020-10-26T09:57:45.062029",
          "2020-10-26T09:57:45.062129",
          "2020-10-26T09:57:45.062229",
          "2020-10-26T09:57:45.062329",
          "2020-10-26T09:57:45.062429",
          "2020-10-26T09:57:45.062529",
          "2020-10-26T09:57:45.062629",
          "2020-10-26T09:57:45.062729",
          "2020-10-26T09:57:45.062829",
          "2020-10-26T09:57:45.062929",
          "2020-10-26T09:57:45.063029",
          "2020-10-26T09:57:45.063129",
          "2020-10-26T09:57:45.063229",
          "2020-10-26T09:57:45.063329",
          "2020-10-26T09:57:45.063429",
          "2020-10-26T09:57:45.063529",
          "2020-10-26T09:57:45.063629",
          "2020-10-26T09:57:45.063729",
          "2020-10-26T09:57:45.063829",
          "2020-10-26T09:57:45.063929",
          "2020-10-26T09:57:45.064029",
          "2020-10-26T09:57:45.064129",
          "2020-10-26T09:57:45.064229",
          "2020-10-26T09:57:45.064329",
          "2020-10-26T09:57:45.064429",
          "2020-10-26T09:57:45.064529",
          "2020-10-26T09:57:45.064629",
          "2020-10-26T09:57:45.064729",
          "2020-10-26T09:57:45.064829",
          "2020-10-26T09:57:45.064929",
          "2020-10-26T09:57:45.065029",
          "2020-10-26T09:57:45.065129",
          "2020-10-26T09:57:45.065229",
          "2020-10-26T09:57:45.065329",
          "2020-10-26T09:57:45.065429",
          "2020-10-26T09:57:45.065529",
          "2020-10-26T09:57:45.065629",
          "2020-10-26T09:57:45.065729",
          "2020-10-26T09:57:45.065829",
          "2020-10-26T09:57:45.065929",
          "2020-10-26T09:57:45.066029",
          "2020-10-26T09:57:45.066129",
          "2020-10-26T09:57:45.066229",
          "2020-10-26T09:57:45.066329",
          "2020-10-26T09:57:45.066429",
          "2020-10-26T09:57:45.066529",
          "2020-10-26T09:57:45.066629",
          "2020-10-26T09:57:45.066729",
          "2020-10-26T09:57:45.066829",
          "2020-10-26T09:57:45.066929",
          "2020-10-26T09:57:45.067029",
          "2020-10-26T09:57:45.067129",
          "2020-10-26T09:57:45.067229",
          "2020-10-26T09:57:45.067329",
          "2020-10-26T09:57:45.067429",
          "2020-10-26T09:57:45.067529",
          "2020-10-26T09:57:45.067629",
          "2020-10-26T09:57:45.067729",
          "2020-10-26T09:57:45.067829",
          "2020-10-26T09:57:45.067929",
          "2020-10-26T09:57:45.068029",
          "2020-10-26T09:57:45.068129",
          "2020-10-26T09:57:45.068229",
          "2020-10-26T09:57:45.068329",
          "2020-10-26T09:57:45.068429",
          "2020-10-26T09:57:45.068529",
          "2020-10-26T09:57:45.068629",
          "2020-10-26T09:57:45.068729",
          "2020-10-26T09:57:45.068829",
          "2020-10-26T09:57:45.068929",
          "2020-10-26T09:57:45.069029",
          "2020-10-26T09:57:45.069129",
          "2020-10-26T09:57:45.069229",
          "2020-10-26T09:57:45.069329",
          "2020-10-26T09:57:45.069429",
          "2020-10-26T09:57:45.069529",
          "2020-10-26T09:57:45.069629",
          "2020-10-26T09:57:45.069729",
          "2020-10-26T09:57:45.069829",
          "2020-10-26T09:57:45.069929",
          "2020-10-26T09:57:45.070029",
          "2020-10-26T09:57:45.070129",
          "2020-10-26T09:57:45.070229",
          "2020-10-26T09:57:45.070329",
          "2020-10-26T09:57:45.070429",
          "2020-10-26T09:57:45.070529",
          "2020-10-26T09:57:45.070629",
          "2020-10-26T09:57:45.070729",
          "2020-10-26T09:57:45.070829"
         ],
         "y": [
          0.5583893297183327,
          0.474363694359055,
          0.3904974524097504,
          0.40655259019966206,
          0.39606224333968854,
          0.5008944466506282,
          0.5782367068736436,
          0.46284492940877975,
          0.5429601780778031,
          0.5616873646999343,
          0.5856014542302868,
          0.558598672151625,
          0.5524951322062144,
          0.5265397473700224,
          0.3602645205072692,
          0.4644630217447405,
          0.3692477645034815,
          0.5752258112286937,
          0.3579519053018414,
          0.5645350247925185,
          0.41394318166279387,
          0.6304503124411864,
          0.5638790020648816,
          0.6001099253788933,
          0.5055698870990764,
          0.569223005517439,
          0.3987798643993017,
          0.6497925158570972,
          0.3841783997519457,
          0.4029208507995117,
          0.3774648657054369,
          0.4665951469607732,
          0.4645475586570882,
          0.4842649974190367,
          0.4128399061939332,
          0.5030237399355535,
          0.46833607291786983,
          0.6021072980995701,
          0.39290334293905005,
          0.36429640183368317,
          0.5497130487391733,
          0.45924450092458535,
          0.4019712534658053,
          0.39929513994870103,
          0.5150547924900666,
          0.6170080480847107,
          0.6480171889425801,
          0.6160176874370062,
          0.47156112491681945,
          0.5268814251341452,
          0.40599299552284407,
          0.47523847850070133,
          0.4725383431092993,
          0.4384359535742126,
          0.5144457968558571,
          0.5820360770332007,
          0.5112013982857695,
          0.48789770957414635,
          0.5833458035303334,
          0.55467520921139,
          0.3578879869508409,
          0.6452586120687425,
          0.4362261617511498,
          0.509478525905914,
          0.510250951929601,
          0.6280330225228576,
          0.4903461035132999,
          0.5321628409211705,
          0.48900125228024205,
          0.3913213032588443,
          0.6126228813957244,
          0.3948180260759857,
          0.6018203445517836,
          0.37591065657871603,
          0.5811540269065842,
          0.38238799032371595,
          0.4416615968552664,
          0.3710423954086579,
          0.49189820008092777,
          0.43150655822778283,
          0.5429474167774773,
          0.5283607396479644,
          0.5120341492987919,
          0.6388633737317644,
          0.6422624321367971,
          0.4483796593328675,
          0.39468150915722333,
          0.4151302761417428,
          0.411697496323125,
          0.41727841327127546,
          0.4300349212719752,
          0.3759307903413802,
          0.5835395229444922,
          0.4719111398754334,
          0.44030520146928165,
          0.5503036386893676,
          0.6042268250781389,
          0.6174812163017842,
          0.44530295375219087,
          0.5468781974204626
         ]
        }
       ],
       "layout": {
        "autosize": true,
        "template": {
         "data": {
          "bar": [
           {
            "error_x": {
             "color": "#2a3f5f"
            },
            "error_y": {
             "color": "#2a3f5f"
            },
            "marker": {
             "line": {
              "color": "#E5ECF6",
              "width": 0.5
             }
            },
            "type": "bar"
           }
          ],
          "barpolar": [
           {
            "marker": {
             "line": {
              "color": "#E5ECF6",
              "width": 0.5
             }
            },
            "type": "barpolar"
           }
          ],
          "carpet": [
           {
            "aaxis": {
             "endlinecolor": "#2a3f5f",
             "gridcolor": "white",
             "linecolor": "white",
             "minorgridcolor": "white",
             "startlinecolor": "#2a3f5f"
            },
            "baxis": {
             "endlinecolor": "#2a3f5f",
             "gridcolor": "white",
             "linecolor": "white",
             "minorgridcolor": "white",
             "startlinecolor": "#2a3f5f"
            },
            "type": "carpet"
           }
          ],
          "choropleth": [
           {
            "colorbar": {
             "outlinewidth": 0,
             "ticks": ""
            },
            "type": "choropleth"
           }
          ],
          "contour": [
           {
            "colorbar": {
             "outlinewidth": 0,
             "ticks": ""
            },
            "colorscale": [
             [
              0,
              "#0d0887"
             ],
             [
              0.1111111111111111,
              "#46039f"
             ],
             [
              0.2222222222222222,
              "#7201a8"
             ],
             [
              0.3333333333333333,
              "#9c179e"
             ],
             [
              0.4444444444444444,
              "#bd3786"
             ],
             [
              0.5555555555555556,
              "#d8576b"
             ],
             [
              0.6666666666666666,
              "#ed7953"
             ],
             [
              0.7777777777777778,
              "#fb9f3a"
             ],
             [
              0.8888888888888888,
              "#fdca26"
             ],
             [
              1,
              "#f0f921"
             ]
            ],
            "type": "contour"
           }
          ],
          "contourcarpet": [
           {
            "colorbar": {
             "outlinewidth": 0,
             "ticks": ""
            },
            "type": "contourcarpet"
           }
          ],
          "heatmap": [
           {
            "colorbar": {
             "outlinewidth": 0,
             "ticks": ""
            },
            "colorscale": [
             [
              0,
              "#0d0887"
             ],
             [
              0.1111111111111111,
              "#46039f"
             ],
             [
              0.2222222222222222,
              "#7201a8"
             ],
             [
              0.3333333333333333,
              "#9c179e"
             ],
             [
              0.4444444444444444,
              "#bd3786"
             ],
             [
              0.5555555555555556,
              "#d8576b"
             ],
             [
              0.6666666666666666,
              "#ed7953"
             ],
             [
              0.7777777777777778,
              "#fb9f3a"
             ],
             [
              0.8888888888888888,
              "#fdca26"
             ],
             [
              1,
              "#f0f921"
             ]
            ],
            "type": "heatmap"
           }
          ],
          "heatmapgl": [
           {
            "colorbar": {
             "outlinewidth": 0,
             "ticks": ""
            },
            "colorscale": [
             [
              0,
              "#0d0887"
             ],
             [
              0.1111111111111111,
              "#46039f"
             ],
             [
              0.2222222222222222,
              "#7201a8"
             ],
             [
              0.3333333333333333,
              "#9c179e"
             ],
             [
              0.4444444444444444,
              "#bd3786"
             ],
             [
              0.5555555555555556,
              "#d8576b"
             ],
             [
              0.6666666666666666,
              "#ed7953"
             ],
             [
              0.7777777777777778,
              "#fb9f3a"
             ],
             [
              0.8888888888888888,
              "#fdca26"
             ],
             [
              1,
              "#f0f921"
             ]
            ],
            "type": "heatmapgl"
           }
          ],
          "histogram": [
           {
            "marker": {
             "colorbar": {
              "outlinewidth": 0,
              "ticks": ""
             }
            },
            "type": "histogram"
           }
          ],
          "histogram2d": [
           {
            "colorbar": {
             "outlinewidth": 0,
             "ticks": ""
            },
            "colorscale": [
             [
              0,
              "#0d0887"
             ],
             [
              0.1111111111111111,
              "#46039f"
             ],
             [
              0.2222222222222222,
              "#7201a8"
             ],
             [
              0.3333333333333333,
              "#9c179e"
             ],
             [
              0.4444444444444444,
              "#bd3786"
             ],
             [
              0.5555555555555556,
              "#d8576b"
             ],
             [
              0.6666666666666666,
              "#ed7953"
             ],
             [
              0.7777777777777778,
              "#fb9f3a"
             ],
             [
              0.8888888888888888,
              "#fdca26"
             ],
             [
              1,
              "#f0f921"
             ]
            ],
            "type": "histogram2d"
           }
          ],
          "histogram2dcontour": [
           {
            "colorbar": {
             "outlinewidth": 0,
             "ticks": ""
            },
            "colorscale": [
             [
              0,
              "#0d0887"
             ],
             [
              0.1111111111111111,
              "#46039f"
             ],
             [
              0.2222222222222222,
              "#7201a8"
             ],
             [
              0.3333333333333333,
              "#9c179e"
             ],
             [
              0.4444444444444444,
              "#bd3786"
             ],
             [
              0.5555555555555556,
              "#d8576b"
             ],
             [
              0.6666666666666666,
              "#ed7953"
             ],
             [
              0.7777777777777778,
              "#fb9f3a"
             ],
             [
              0.8888888888888888,
              "#fdca26"
             ],
             [
              1,
              "#f0f921"
             ]
            ],
            "type": "histogram2dcontour"
           }
          ],
          "mesh3d": [
           {
            "colorbar": {
             "outlinewidth": 0,
             "ticks": ""
            },
            "type": "mesh3d"
           }
          ],
          "parcoords": [
           {
            "line": {
             "colorbar": {
              "outlinewidth": 0,
              "ticks": ""
             }
            },
            "type": "parcoords"
           }
          ],
          "pie": [
           {
            "automargin": true,
            "type": "pie"
           }
          ],
          "scatter": [
           {
            "marker": {
             "colorbar": {
              "outlinewidth": 0,
              "ticks": ""
             }
            },
            "type": "scatter"
           }
          ],
          "scatter3d": [
           {
            "line": {
             "colorbar": {
              "outlinewidth": 0,
              "ticks": ""
             }
            },
            "marker": {
             "colorbar": {
              "outlinewidth": 0,
              "ticks": ""
             }
            },
            "type": "scatter3d"
           }
          ],
          "scattercarpet": [
           {
            "marker": {
             "colorbar": {
              "outlinewidth": 0,
              "ticks": ""
             }
            },
            "type": "scattercarpet"
           }
          ],
          "scattergeo": [
           {
            "marker": {
             "colorbar": {
              "outlinewidth": 0,
              "ticks": ""
             }
            },
            "type": "scattergeo"
           }
          ],
          "scattergl": [
           {
            "marker": {
             "colorbar": {
              "outlinewidth": 0,
              "ticks": ""
             }
            },
            "type": "scattergl"
           }
          ],
          "scattermapbox": [
           {
            "marker": {
             "colorbar": {
              "outlinewidth": 0,
              "ticks": ""
             }
            },
            "type": "scattermapbox"
           }
          ],
          "scatterpolar": [
           {
            "marker": {
             "colorbar": {
              "outlinewidth": 0,
              "ticks": ""
             }
            },
            "type": "scatterpolar"
           }
          ],
          "scatterpolargl": [
           {
            "marker": {
             "colorbar": {
              "outlinewidth": 0,
              "ticks": ""
             }
            },
            "type": "scatterpolargl"
           }
          ],
          "scatterternary": [
           {
            "marker": {
             "colorbar": {
              "outlinewidth": 0,
              "ticks": ""
             }
            },
            "type": "scatterternary"
           }
          ],
          "surface": [
           {
            "colorbar": {
             "outlinewidth": 0,
             "ticks": ""
            },
            "colorscale": [
             [
              0,
              "#0d0887"
             ],
             [
              0.1111111111111111,
              "#46039f"
             ],
             [
              0.2222222222222222,
              "#7201a8"
             ],
             [
              0.3333333333333333,
              "#9c179e"
             ],
             [
              0.4444444444444444,
              "#bd3786"
             ],
             [
              0.5555555555555556,
              "#d8576b"
             ],
             [
              0.6666666666666666,
              "#ed7953"
             ],
             [
              0.7777777777777778,
              "#fb9f3a"
             ],
             [
              0.8888888888888888,
              "#fdca26"
             ],
             [
              1,
              "#f0f921"
             ]
            ],
            "type": "surface"
           }
          ],
          "table": [
           {
            "cells": {
             "fill": {
              "color": "#EBF0F8"
             },
             "line": {
              "color": "white"
             }
            },
            "header": {
             "fill": {
              "color": "#C8D4E3"
             },
             "line": {
              "color": "white"
             }
            },
            "type": "table"
           }
          ]
         },
         "layout": {
          "annotationdefaults": {
           "arrowcolor": "#2a3f5f",
           "arrowhead": 0,
           "arrowwidth": 1
          },
          "coloraxis": {
           "colorbar": {
            "outlinewidth": 0,
            "ticks": ""
           }
          },
          "colorscale": {
           "diverging": [
            [
             0,
             "#8e0152"
            ],
            [
             0.1,
             "#c51b7d"
            ],
            [
             0.2,
             "#de77ae"
            ],
            [
             0.3,
             "#f1b6da"
            ],
            [
             0.4,
             "#fde0ef"
            ],
            [
             0.5,
             "#f7f7f7"
            ],
            [
             0.6,
             "#e6f5d0"
            ],
            [
             0.7,
             "#b8e186"
            ],
            [
             0.8,
             "#7fbc41"
            ],
            [
             0.9,
             "#4d9221"
            ],
            [
             1,
             "#276419"
            ]
           ],
           "sequential": [
            [
             0,
             "#0d0887"
            ],
            [
             0.1111111111111111,
             "#46039f"
            ],
            [
             0.2222222222222222,
             "#7201a8"
            ],
            [
             0.3333333333333333,
             "#9c179e"
            ],
            [
             0.4444444444444444,
             "#bd3786"
            ],
            [
             0.5555555555555556,
             "#d8576b"
            ],
            [
             0.6666666666666666,
             "#ed7953"
            ],
            [
             0.7777777777777778,
             "#fb9f3a"
            ],
            [
             0.8888888888888888,
             "#fdca26"
            ],
            [
             1,
             "#f0f921"
            ]
           ],
           "sequentialminus": [
            [
             0,
             "#0d0887"
            ],
            [
             0.1111111111111111,
             "#46039f"
            ],
            [
             0.2222222222222222,
             "#7201a8"
            ],
            [
             0.3333333333333333,
             "#9c179e"
            ],
            [
             0.4444444444444444,
             "#bd3786"
            ],
            [
             0.5555555555555556,
             "#d8576b"
            ],
            [
             0.6666666666666666,
             "#ed7953"
            ],
            [
             0.7777777777777778,
             "#fb9f3a"
            ],
            [
             0.8888888888888888,
             "#fdca26"
            ],
            [
             1,
             "#f0f921"
            ]
           ]
          },
          "colorway": [
           "#636efa",
           "#EF553B",
           "#00cc96",
           "#ab63fa",
           "#FFA15A",
           "#19d3f3",
           "#FF6692",
           "#B6E880",
           "#FF97FF",
           "#FECB52"
          ],
          "font": {
           "color": "#2a3f5f"
          },
          "geo": {
           "bgcolor": "white",
           "lakecolor": "white",
           "landcolor": "#E5ECF6",
           "showlakes": true,
           "showland": true,
           "subunitcolor": "white"
          },
          "hoverlabel": {
           "align": "left"
          },
          "hovermode": "closest",
          "mapbox": {
           "style": "light"
          },
          "paper_bgcolor": "white",
          "plot_bgcolor": "#E5ECF6",
          "polar": {
           "angularaxis": {
            "gridcolor": "white",
            "linecolor": "white",
            "ticks": ""
           },
           "bgcolor": "#E5ECF6",
           "radialaxis": {
            "gridcolor": "white",
            "linecolor": "white",
            "ticks": ""
           }
          },
          "scene": {
           "xaxis": {
            "backgroundcolor": "#E5ECF6",
            "gridcolor": "white",
            "gridwidth": 2,
            "linecolor": "white",
            "showbackground": true,
            "ticks": "",
            "zerolinecolor": "white"
           },
           "yaxis": {
            "backgroundcolor": "#E5ECF6",
            "gridcolor": "white",
            "gridwidth": 2,
            "linecolor": "white",
            "showbackground": true,
            "ticks": "",
            "zerolinecolor": "white"
           },
           "zaxis": {
            "backgroundcolor": "#E5ECF6",
            "gridcolor": "white",
            "gridwidth": 2,
            "linecolor": "white",
            "showbackground": true,
            "ticks": "",
            "zerolinecolor": "white"
           }
          },
          "shapedefaults": {
           "line": {
            "color": "#2a3f5f"
           }
          },
          "ternary": {
           "aaxis": {
            "gridcolor": "white",
            "linecolor": "white",
            "ticks": ""
           },
           "baxis": {
            "gridcolor": "white",
            "linecolor": "white",
            "ticks": ""
           },
           "bgcolor": "#E5ECF6",
           "caxis": {
            "gridcolor": "white",
            "linecolor": "white",
            "ticks": ""
           }
          },
          "title": {
           "x": 0.05
          },
          "xaxis": {
           "automargin": true,
           "gridcolor": "white",
           "linecolor": "white",
           "ticks": "",
           "title": {
            "standoff": 15
           },
           "zerolinecolor": "white",
           "zerolinewidth": 2
          },
          "yaxis": {
           "automargin": true,
           "gridcolor": "white",
           "linecolor": "white",
           "ticks": "",
           "title": {
            "standoff": 15
           },
           "zerolinecolor": "white",
           "zerolinewidth": 2
          }
         }
        },
        "title": {
         "text": "Checker prediction on test data"
        },
        "xaxis": {
         "autorange": true,
         "range": [
          "2020-10-26 09:57:45.0109",
          "2020-10-26 09:57:45.0708"
         ],
         "rangeslider": {
          "autorange": true,
          "range": [
           "2020-10-26 09:57:45.0109",
           "2020-10-26 09:57:45.0708"
          ],
          "visible": true,
          "yaxis": {
           "_template": null,
           "rangemode": "match"
          }
         },
         "type": "date"
        },
        "yaxis": {
         "autorange": true,
         "range": [
          -0.03590134165453668,
          0.6858816662524463
         ],
         "type": "linear"
        }
       }
      },
      "image/png": "[encoded data removed]",
      "text/html": [
       "<div>\n",
       "        \n",
       "        \n",
       "            <div id=\"166662fb-34c6-497c-999d-e2458ce35d82\" class=\"plotly-graph-div\" style=\"height:525px; width:100%;\"></div>\n",
       "            <script type=\"text/javascript\">\n",
       "                require([\"plotly\"], function(Plotly) {\n",
       "                    window.PLOTLYENV=window.PLOTLYENV || {};\n",
       "                    \n",
       "                if (document.getElementById(\"166662fb-34c6-497c-999d-e2458ce35d82\")) {\n",
       "                    Plotly.newPlot(\n",
       "                        '166662fb-34c6-497c-999d-e2458ce35d82',\n",
       "                        [{\"line\": {\"color\": \"dimgray\"}, \"name\": \"Threshold\", \"type\": \"scatter\", \"x\": [\"2020-10-26T09:57:45.010929\", \"2020-10-26T09:57:45.011029\", \"2020-10-26T09:57:45.011129\", \"2020-10-26T09:57:45.011229\", \"2020-10-26T09:57:45.011329\", \"2020-10-26T09:57:45.011429\", \"2020-10-26T09:57:45.011529\", \"2020-10-26T09:57:45.011629\", \"2020-10-26T09:57:45.011729\", \"2020-10-26T09:57:45.011829\", \"2020-10-26T09:57:45.011929\", \"2020-10-26T09:57:45.012029\", \"2020-10-26T09:57:45.012129\", \"2020-10-26T09:57:45.012229\", \"2020-10-26T09:57:45.012329\", \"2020-10-26T09:57:45.012429\", \"2020-10-26T09:57:45.012529\", \"2020-10-26T09:57:45.012629\", \"2020-10-26T09:57:45.012729\", \"2020-10-26T09:57:45.012829\", \"2020-10-26T09:57:45.012929\", \"2020-10-26T09:57:45.013029\", \"2020-10-26T09:57:45.013129\", \"2020-10-26T09:57:45.013229\", \"2020-10-26T09:57:45.013329\", \"2020-10-26T09:57:45.013429\", \"2020-10-26T09:57:45.013529\", \"2020-10-26T09:57:45.013629\", \"2020-10-26T09:57:45.013729\", \"2020-10-26T09:57:45.013829\", \"2020-10-26T09:57:45.013929\", \"2020-10-26T09:57:45.014029\", \"2020-10-26T09:57:45.014129\", \"2020-10-26T09:57:45.014229\", \"2020-10-26T09:57:45.014329\", \"2020-10-26T09:57:45.014429\", \"2020-10-26T09:57:45.014529\", \"2020-10-26T09:57:45.014629\", \"2020-10-26T09:57:45.014729\", \"2020-10-26T09:57:45.014829\", \"2020-10-26T09:57:45.014929\", \"2020-10-26T09:57:45.015029\", \"2020-10-26T09:57:45.015129\", \"2020-10-26T09:57:45.015229\", \"2020-10-26T09:57:45.015329\", \"2020-10-26T09:57:45.015429\", \"2020-10-26T09:57:45.015529\", \"2020-10-26T09:57:45.015629\", \"2020-10-26T09:57:45.015729\", \"2020-10-26T09:57:45.015829\", \"2020-10-26T09:57:45.015929\", \"2020-10-26T09:57:45.016029\", \"2020-10-26T09:57:45.016129\", \"2020-10-26T09:57:45.016229\", \"2020-10-26T09:57:45.016329\", \"2020-10-26T09:57:45.016429\", \"2020-10-26T09:57:45.016529\", \"2020-10-26T09:57:45.016629\", \"2020-10-26T09:57:45.016729\", \"2020-10-26T09:57:45.016829\", \"2020-10-26T09:57:45.016929\", \"2020-10-26T09:57:45.017029\", \"2020-10-26T09:57:45.017129\", \"2020-10-26T09:57:45.017229\", \"2020-10-26T09:57:45.017329\", \"2020-10-26T09:57:45.017429\", \"2020-10-26T09:57:45.017529\", \"2020-10-26T09:57:45.017629\", \"2020-10-26T09:57:45.017729\", \"2020-10-26T09:57:45.017829\", \"2020-10-26T09:57:45.017929\", \"2020-10-26T09:57:45.018029\", \"2020-10-26T09:57:45.018129\", \"2020-10-26T09:57:45.018229\", \"2020-10-26T09:57:45.018329\", \"2020-10-26T09:57:45.018429\", \"2020-10-26T09:57:45.018529\", \"2020-10-26T09:57:45.018629\", \"2020-10-26T09:57:45.018729\", \"2020-10-26T09:57:45.018829\", \"2020-10-26T09:57:45.018929\", \"2020-10-26T09:57:45.019029\", \"2020-10-26T09:57:45.019129\", \"2020-10-26T09:57:45.019229\", \"2020-10-26T09:57:45.019329\", \"2020-10-26T09:57:45.019429\", \"2020-10-26T09:57:45.019529\", \"2020-10-26T09:57:45.019629\", \"2020-10-26T09:57:45.019729\", \"2020-10-26T09:57:45.019829\", \"2020-10-26T09:57:45.019929\", \"2020-10-26T09:57:45.020029\", \"2020-10-26T09:57:45.020129\", \"2020-10-26T09:57:45.020229\", \"2020-10-26T09:57:45.020329\", \"2020-10-26T09:57:45.020429\", \"2020-10-26T09:57:45.020529\", \"2020-10-26T09:57:45.020629\", \"2020-10-26T09:57:45.020729\", \"2020-10-26T09:57:45.020829\", \"2020-10-26T09:57:45.020929\", \"2020-10-26T09:57:45.021029\", \"2020-10-26T09:57:45.021129\", \"2020-10-26T09:57:45.021229\", \"2020-10-26T09:57:45.021329\", \"2020-10-26T09:57:45.021429\", \"2020-10-26T09:57:45.021529\", \"2020-10-26T09:57:45.021629\", \"2020-10-26T09:57:45.021729\", \"2020-10-26T09:57:45.021829\", \"2020-10-26T09:57:45.021929\", \"2020-10-26T09:57:45.022029\", \"2020-10-26T09:57:45.022129\", \"2020-10-26T09:57:45.022229\", \"2020-10-26T09:57:45.022329\", \"2020-10-26T09:57:45.022429\", \"2020-10-26T09:57:45.022529\", \"2020-10-26T09:57:45.022629\", \"2020-10-26T09:57:45.022729\", \"2020-10-26T09:57:45.022829\", \"2020-10-26T09:57:45.022929\", \"2020-10-26T09:57:45.023029\", \"2020-10-26T09:57:45.023129\", \"2020-10-26T09:57:45.023229\", \"2020-10-26T09:57:45.023329\", \"2020-10-26T09:57:45.023429\", \"2020-10-26T09:57:45.023529\", \"2020-10-26T09:57:45.023629\", \"2020-10-26T09:57:45.023729\", \"2020-10-26T09:57:45.023829\", \"2020-10-26T09:57:45.023929\", \"2020-10-26T09:57:45.024029\", \"2020-10-26T09:57:45.024129\", \"2020-10-26T09:57:45.024229\", \"2020-10-26T09:57:45.024329\", \"2020-10-26T09:57:45.024429\", \"2020-10-26T09:57:45.024529\", \"2020-10-26T09:57:45.024629\", \"2020-10-26T09:57:45.024729\", \"2020-10-26T09:57:45.024829\", \"2020-10-26T09:57:45.024929\", \"2020-10-26T09:57:45.025029\", \"2020-10-26T09:57:45.025129\", \"2020-10-26T09:57:45.025229\", \"2020-10-26T09:57:45.025329\", \"2020-10-26T09:57:45.025429\", \"2020-10-26T09:57:45.025529\", \"2020-10-26T09:57:45.025629\", \"2020-10-26T09:57:45.025729\", \"2020-10-26T09:57:45.025829\", \"2020-10-26T09:57:45.025929\", \"2020-10-26T09:57:45.026029\", \"2020-10-26T09:57:45.026129\", \"2020-10-26T09:57:45.026229\", \"2020-10-26T09:57:45.026329\", \"2020-10-26T09:57:45.026429\", \"2020-10-26T09:57:45.026529\", \"2020-10-26T09:57:45.026629\", \"2020-10-26T09:57:45.026729\", \"2020-10-26T09:57:45.026829\", \"2020-10-26T09:57:45.026929\", \"2020-10-26T09:57:45.027029\", \"2020-10-26T09:57:45.027129\", \"2020-10-26T09:57:45.027229\", \"2020-10-26T09:57:45.027329\", \"2020-10-26T09:57:45.027429\", \"2020-10-26T09:57:45.027529\", \"2020-10-26T09:57:45.027629\", \"2020-10-26T09:57:45.027729\", \"2020-10-26T09:57:45.027829\", \"2020-10-26T09:57:45.027929\", \"2020-10-26T09:57:45.028029\", \"2020-10-26T09:57:45.028129\", \"2020-10-26T09:57:45.028229\", \"2020-10-26T09:57:45.028329\", \"2020-10-26T09:57:45.028429\", \"2020-10-26T09:57:45.028529\", \"2020-10-26T09:57:45.028629\", \"2020-10-26T09:57:45.028729\", \"2020-10-26T09:57:45.028829\", \"2020-10-26T09:57:45.028929\", \"2020-10-26T09:57:45.029029\", \"2020-10-26T09:57:45.029129\", \"2020-10-26T09:57:45.029229\", \"2020-10-26T09:57:45.029329\", \"2020-10-26T09:57:45.029429\", \"2020-10-26T09:57:45.029529\", \"2020-10-26T09:57:45.029629\", \"2020-10-26T09:57:45.029729\", \"2020-10-26T09:57:45.029829\", \"2020-10-26T09:57:45.029929\", \"2020-10-26T09:57:45.030029\", \"2020-10-26T09:57:45.030129\", \"2020-10-26T09:57:45.030229\", \"2020-10-26T09:57:45.030329\", \"2020-10-26T09:57:45.030429\", \"2020-10-26T09:57:45.030529\", \"2020-10-26T09:57:45.030629\", \"2020-10-26T09:57:45.030729\", \"2020-10-26T09:57:45.030829\", \"2020-10-26T09:57:45.030929\", \"2020-10-26T09:57:45.031029\", \"2020-10-26T09:57:45.031129\", \"2020-10-26T09:57:45.031229\", \"2020-10-26T09:57:45.031329\", \"2020-10-26T09:57:45.031429\", \"2020-10-26T09:57:45.031529\", \"2020-10-26T09:57:45.031629\", \"2020-10-26T09:57:45.031729\", \"2020-10-26T09:57:45.031829\", \"2020-10-26T09:57:45.031929\", \"2020-10-26T09:57:45.032029\", \"2020-10-26T09:57:45.032129\", \"2020-10-26T09:57:45.032229\", \"2020-10-26T09:57:45.032329\", \"2020-10-26T09:57:45.032429\", \"2020-10-26T09:57:45.032529\", \"2020-10-26T09:57:45.032629\", \"2020-10-26T09:57:45.032729\", \"2020-10-26T09:57:45.032829\", \"2020-10-26T09:57:45.032929\", \"2020-10-26T09:57:45.033029\", \"2020-10-26T09:57:45.033129\", \"2020-10-26T09:57:45.033229\", \"2020-10-26T09:57:45.033329\", \"2020-10-26T09:57:45.033429\", \"2020-10-26T09:57:45.033529\", \"2020-10-26T09:57:45.033629\", \"2020-10-26T09:57:45.033729\", \"2020-10-26T09:57:45.033829\", \"2020-10-26T09:57:45.033929\", \"2020-10-26T09:57:45.034029\", \"2020-10-26T09:57:45.034129\", \"2020-10-26T09:57:45.034229\", \"2020-10-26T09:57:45.034329\", \"2020-10-26T09:57:45.034429\", \"2020-10-26T09:57:45.034529\", \"2020-10-26T09:57:45.034629\", \"2020-10-26T09:57:45.034729\", \"2020-10-26T09:57:45.034829\", \"2020-10-26T09:57:45.034929\", \"2020-10-26T09:57:45.035029\", \"2020-10-26T09:57:45.035129\", \"2020-10-26T09:57:45.035229\", \"2020-10-26T09:57:45.035329\", \"2020-10-26T09:57:45.035429\", \"2020-10-26T09:57:45.035529\", \"2020-10-26T09:57:45.035629\", \"2020-10-26T09:57:45.035729\", \"2020-10-26T09:57:45.035829\", \"2020-10-26T09:57:45.035929\", \"2020-10-26T09:57:45.036029\", \"2020-10-26T09:57:45.036129\", \"2020-10-26T09:57:45.036229\", \"2020-10-26T09:57:45.036329\", \"2020-10-26T09:57:45.036429\", \"2020-10-26T09:57:45.036529\", \"2020-10-26T09:57:45.036629\", \"2020-10-26T09:57:45.036729\", \"2020-10-26T09:57:45.036829\", \"2020-10-26T09:57:45.036929\", \"2020-10-26T09:57:45.037029\", \"2020-10-26T09:57:45.037129\", \"2020-10-26T09:57:45.037229\", \"2020-10-26T09:57:45.037329\", \"2020-10-26T09:57:45.037429\", \"2020-10-26T09:57:45.037529\", \"2020-10-26T09:57:45.037629\", \"2020-10-26T09:57:45.037729\", \"2020-10-26T09:57:45.037829\", \"2020-10-26T09:57:45.037929\", \"2020-10-26T09:57:45.038029\", \"2020-10-26T09:57:45.038129\", \"2020-10-26T09:57:45.038229\", \"2020-10-26T09:57:45.038329\", \"2020-10-26T09:57:45.038429\", \"2020-10-26T09:57:45.038529\", \"2020-10-26T09:57:45.038629\", \"2020-10-26T09:57:45.038729\", \"2020-10-26T09:57:45.038829\", \"2020-10-26T09:57:45.038929\", \"2020-10-26T09:57:45.039029\", \"2020-10-26T09:57:45.039129\", \"2020-10-26T09:57:45.039229\", \"2020-10-26T09:57:45.039329\", \"2020-10-26T09:57:45.039429\", \"2020-10-26T09:57:45.039529\", \"2020-10-26T09:57:45.039629\", \"2020-10-26T09:57:45.039729\", \"2020-10-26T09:57:45.039829\", \"2020-10-26T09:57:45.039929\", \"2020-10-26T09:57:45.040029\", \"2020-10-26T09:57:45.040129\", \"2020-10-26T09:57:45.040229\", \"2020-10-26T09:57:45.040329\", \"2020-10-26T09:57:45.040429\", \"2020-10-26T09:57:45.040529\", \"2020-10-26T09:57:45.040629\", \"2020-10-26T09:57:45.040729\", \"2020-10-26T09:57:45.040829\", \"2020-10-26T09:57:45.040929\", \"2020-10-26T09:57:45.041029\", \"2020-10-26T09:57:45.041129\", \"2020-10-26T09:57:45.041229\", \"2020-10-26T09:57:45.041329\", \"2020-10-26T09:57:45.041429\", \"2020-10-26T09:57:45.041529\", \"2020-10-26T09:57:45.041629\", \"2020-10-26T09:57:45.041729\", \"2020-10-26T09:57:45.041829\", \"2020-10-26T09:57:45.041929\", \"2020-10-26T09:57:45.042029\", \"2020-10-26T09:57:45.042129\", \"2020-10-26T09:57:45.042229\", \"2020-10-26T09:57:45.042329\", \"2020-10-26T09:57:45.042429\", \"2020-10-26T09:57:45.042529\", \"2020-10-26T09:57:45.042629\", \"2020-10-26T09:57:45.042729\", \"2020-10-26T09:57:45.042829\", \"2020-10-26T09:57:45.042929\", \"2020-10-26T09:57:45.043029\", \"2020-10-26T09:57:45.043129\", \"2020-10-26T09:57:45.043229\", \"2020-10-26T09:57:45.043329\", \"2020-10-26T09:57:45.043429\", \"2020-10-26T09:57:45.043529\", \"2020-10-26T09:57:45.043629\", \"2020-10-26T09:57:45.043729\", \"2020-10-26T09:57:45.043829\", \"2020-10-26T09:57:45.043929\", \"2020-10-26T09:57:45.044029\", \"2020-10-26T09:57:45.044129\", \"2020-10-26T09:57:45.044229\", \"2020-10-26T09:57:45.044329\", \"2020-10-26T09:57:45.044429\", \"2020-10-26T09:57:45.044529\", \"2020-10-26T09:57:45.044629\", \"2020-10-26T09:57:45.044729\", \"2020-10-26T09:57:45.044829\", \"2020-10-26T09:57:45.044929\", \"2020-10-26T09:57:45.045029\", \"2020-10-26T09:57:45.045129\", \"2020-10-26T09:57:45.045229\", \"2020-10-26T09:57:45.045329\", \"2020-10-26T09:57:45.045429\", \"2020-10-26T09:57:45.045529\", \"2020-10-26T09:57:45.045629\", \"2020-10-26T09:57:45.045729\", \"2020-10-26T09:57:45.045829\", \"2020-10-26T09:57:45.045929\", \"2020-10-26T09:57:45.046029\", \"2020-10-26T09:57:45.046129\", \"2020-10-26T09:57:45.046229\", \"2020-10-26T09:57:45.046329\", \"2020-10-26T09:57:45.046429\", \"2020-10-26T09:57:45.046529\", \"2020-10-26T09:57:45.046629\", \"2020-10-26T09:57:45.046729\", \"2020-10-26T09:57:45.046829\", \"2020-10-26T09:57:45.046929\", \"2020-10-26T09:57:45.047029\", \"2020-10-26T09:57:45.047129\", \"2020-10-26T09:57:45.047229\", \"2020-10-26T09:57:45.047329\", \"2020-10-26T09:57:45.047429\", \"2020-10-26T09:57:45.047529\", \"2020-10-26T09:57:45.047629\", \"2020-10-26T09:57:45.047729\", \"2020-10-26T09:57:45.047829\", \"2020-10-26T09:57:45.047929\", \"2020-10-26T09:57:45.048029\", \"2020-10-26T09:57:45.048129\", \"2020-10-26T09:57:45.048229\", \"2020-10-26T09:57:45.048329\", \"2020-10-26T09:57:45.048429\", \"2020-10-26T09:57:45.048529\", \"2020-10-26T09:57:45.048629\", \"2020-10-26T09:57:45.048729\", \"2020-10-26T09:57:45.048829\", \"2020-10-26T09:57:45.048929\", \"2020-10-26T09:57:45.049029\", \"2020-10-26T09:57:45.049129\", \"2020-10-26T09:57:45.049229\", \"2020-10-26T09:57:45.049329\", \"2020-10-26T09:57:45.049429\", \"2020-10-26T09:57:45.049529\", \"2020-10-26T09:57:45.049629\", \"2020-10-26T09:57:45.049729\", \"2020-10-26T09:57:45.049829\", \"2020-10-26T09:57:45.049929\", \"2020-10-26T09:57:45.050029\", \"2020-10-26T09:57:45.050129\", \"2020-10-26T09:57:45.050229\", \"2020-10-26T09:57:45.050329\", \"2020-10-26T09:57:45.050429\", \"2020-10-26T09:57:45.050529\", \"2020-10-26T09:57:45.050629\", \"2020-10-26T09:57:45.050729\", \"2020-10-26T09:57:45.050829\", \"2020-10-26T09:57:45.050929\", \"2020-10-26T09:57:45.051029\", \"2020-10-26T09:57:45.051129\", \"2020-10-26T09:57:45.051229\", \"2020-10-26T09:57:45.051329\", \"2020-10-26T09:57:45.051429\", \"2020-10-26T09:57:45.051529\", \"2020-10-26T09:57:45.051629\", \"2020-10-26T09:57:45.051729\", \"2020-10-26T09:57:45.051829\", \"2020-10-26T09:57:45.051929\", \"2020-10-26T09:57:45.052029\", \"2020-10-26T09:57:45.052129\", \"2020-10-26T09:57:45.052229\", \"2020-10-26T09:57:45.052329\", \"2020-10-26T09:57:45.052429\", \"2020-10-26T09:57:45.052529\", \"2020-10-26T09:57:45.052629\", \"2020-10-26T09:57:45.052729\", \"2020-10-26T09:57:45.052829\", \"2020-10-26T09:57:45.052929\", \"2020-10-26T09:57:45.053029\", \"2020-10-26T09:57:45.053129\", \"2020-10-26T09:57:45.053229\", \"2020-10-26T09:57:45.053329\", \"2020-10-26T09:57:45.053429\", \"2020-10-26T09:57:45.053529\", \"2020-10-26T09:57:45.053629\", \"2020-10-26T09:57:45.053729\", \"2020-10-26T09:57:45.053829\", \"2020-10-26T09:57:45.053929\", \"2020-10-26T09:57:45.054029\", \"2020-10-26T09:57:45.054129\", \"2020-10-26T09:57:45.054229\", \"2020-10-26T09:57:45.054329\", \"2020-10-26T09:57:45.054429\", \"2020-10-26T09:57:45.054529\", \"2020-10-26T09:57:45.054629\", \"2020-10-26T09:57:45.054729\", \"2020-10-26T09:57:45.054829\", \"2020-10-26T09:57:45.054929\", \"2020-10-26T09:57:45.055029\", \"2020-10-26T09:57:45.055129\", \"2020-10-26T09:57:45.055229\", \"2020-10-26T09:57:45.055329\", \"2020-10-26T09:57:45.055429\", \"2020-10-26T09:57:45.055529\", \"2020-10-26T09:57:45.055629\", \"2020-10-26T09:57:45.055729\", \"2020-10-26T09:57:45.055829\", \"2020-10-26T09:57:45.055929\", \"2020-10-26T09:57:45.056029\", \"2020-10-26T09:57:45.056129\", \"2020-10-26T09:57:45.056229\", \"2020-10-26T09:57:45.056329\", \"2020-10-26T09:57:45.056429\", \"2020-10-26T09:57:45.056529\", \"2020-10-26T09:57:45.056629\", \"2020-10-26T09:57:45.056729\", \"2020-10-26T09:57:45.056829\", \"2020-10-26T09:57:45.056929\", \"2020-10-26T09:57:45.057029\", \"2020-10-26T09:57:45.057129\", \"2020-10-26T09:57:45.057229\", \"2020-10-26T09:57:45.057329\", \"2020-10-26T09:57:45.057429\", \"2020-10-26T09:57:45.057529\", \"2020-10-26T09:57:45.057629\", \"2020-10-26T09:57:45.057729\", \"2020-10-26T09:57:45.057829\", \"2020-10-26T09:57:45.057929\", \"2020-10-26T09:57:45.058029\", \"2020-10-26T09:57:45.058129\", \"2020-10-26T09:57:45.058229\", \"2020-10-26T09:57:45.058329\", \"2020-10-26T09:57:45.058429\", \"2020-10-26T09:57:45.058529\", \"2020-10-26T09:57:45.058629\", \"2020-10-26T09:57:45.058729\", \"2020-10-26T09:57:45.058829\", \"2020-10-26T09:57:45.058929\", \"2020-10-26T09:57:45.059029\", \"2020-10-26T09:57:45.059129\", \"2020-10-26T09:57:45.059229\", \"2020-10-26T09:57:45.059329\", \"2020-10-26T09:57:45.059429\", \"2020-10-26T09:57:45.059529\", \"2020-10-26T09:57:45.059629\", \"2020-10-26T09:57:45.059729\", \"2020-10-26T09:57:45.059829\", \"2020-10-26T09:57:45.059929\", \"2020-10-26T09:57:45.060029\", \"2020-10-26T09:57:45.060129\", \"2020-10-26T09:57:45.060229\", \"2020-10-26T09:57:45.060329\", \"2020-10-26T09:57:45.060429\", \"2020-10-26T09:57:45.060529\", \"2020-10-26T09:57:45.060629\", \"2020-10-26T09:57:45.060729\", \"2020-10-26T09:57:45.060829\", \"2020-10-26T09:57:45.060929\", \"2020-10-26T09:57:45.061029\", \"2020-10-26T09:57:45.061129\", \"2020-10-26T09:57:45.061229\", \"2020-10-26T09:57:45.061329\", \"2020-10-26T09:57:45.061429\", \"2020-10-26T09:57:45.061529\", \"2020-10-26T09:57:45.061629\", \"2020-10-26T09:57:45.061729\", \"2020-10-26T09:57:45.061829\", \"2020-10-26T09:57:45.061929\", \"2020-10-26T09:57:45.062029\", \"2020-10-26T09:57:45.062129\", \"2020-10-26T09:57:45.062229\", \"2020-10-26T09:57:45.062329\", \"2020-10-26T09:57:45.062429\", \"2020-10-26T09:57:45.062529\", \"2020-10-26T09:57:45.062629\", \"2020-10-26T09:57:45.062729\", \"2020-10-26T09:57:45.062829\", \"2020-10-26T09:57:45.062929\", \"2020-10-26T09:57:45.063029\", \"2020-10-26T09:57:45.063129\", \"2020-10-26T09:57:45.063229\", \"2020-10-26T09:57:45.063329\", \"2020-10-26T09:57:45.063429\", \"2020-10-26T09:57:45.063529\", \"2020-10-26T09:57:45.063629\", \"2020-10-26T09:57:45.063729\", \"2020-10-26T09:57:45.063829\", \"2020-10-26T09:57:45.063929\", \"2020-10-26T09:57:45.064029\", \"2020-10-26T09:57:45.064129\", \"2020-10-26T09:57:45.064229\", \"2020-10-26T09:57:45.064329\", \"2020-10-26T09:57:45.064429\", \"2020-10-26T09:57:45.064529\", \"2020-10-26T09:57:45.064629\", \"2020-10-26T09:57:45.064729\", \"2020-10-26T09:57:45.064829\", \"2020-10-26T09:57:45.064929\", \"2020-10-26T09:57:45.065029\", \"2020-10-26T09:57:45.065129\", \"2020-10-26T09:57:45.065229\", \"2020-10-26T09:57:45.065329\", \"2020-10-26T09:57:45.065429\", \"2020-10-26T09:57:45.065529\", \"2020-10-26T09:57:45.065629\", \"2020-10-26T09:57:45.065729\", \"2020-10-26T09:57:45.065829\", \"2020-10-26T09:57:45.065929\", \"2020-10-26T09:57:45.066029\", \"2020-10-26T09:57:45.066129\", \"2020-10-26T09:57:45.066229\", \"2020-10-26T09:57:45.066329\", \"2020-10-26T09:57:45.066429\", \"2020-10-26T09:57:45.066529\", \"2020-10-26T09:57:45.066629\", \"2020-10-26T09:57:45.066729\", \"2020-10-26T09:57:45.066829\", \"2020-10-26T09:57:45.066929\", \"2020-10-26T09:57:45.067029\", \"2020-10-26T09:57:45.067129\", \"2020-10-26T09:57:45.067229\", \"2020-10-26T09:57:45.067329\", \"2020-10-26T09:57:45.067429\", \"2020-10-26T09:57:45.067529\", \"2020-10-26T09:57:45.067629\", \"2020-10-26T09:57:45.067729\", \"2020-10-26T09:57:45.067829\", \"2020-10-26T09:57:45.067929\", \"2020-10-26T09:57:45.068029\", \"2020-10-26T09:57:45.068129\", \"2020-10-26T09:57:45.068229\", \"2020-10-26T09:57:45.068329\", \"2020-10-26T09:57:45.068429\", \"2020-10-26T09:57:45.068529\", \"2020-10-26T09:57:45.068629\", \"2020-10-26T09:57:45.068729\", \"2020-10-26T09:57:45.068829\", \"2020-10-26T09:57:45.068929\", \"2020-10-26T09:57:45.069029\", \"2020-10-26T09:57:45.069129\", \"2020-10-26T09:57:45.069229\", \"2020-10-26T09:57:45.069329\", \"2020-10-26T09:57:45.069429\", \"2020-10-26T09:57:45.069529\", \"2020-10-26T09:57:45.069629\", \"2020-10-26T09:57:45.069729\", \"2020-10-26T09:57:45.069829\", \"2020-10-26T09:57:45.069929\", \"2020-10-26T09:57:45.070029\", \"2020-10-26T09:57:45.070129\", \"2020-10-26T09:57:45.070229\", \"2020-10-26T09:57:45.070329\", \"2020-10-26T09:57:45.070429\", \"2020-10-26T09:57:45.070529\", \"2020-10-26T09:57:45.070629\", \"2020-10-26T09:57:45.070729\", \"2020-10-26T09:57:45.070829\"], \"y\": [0.5081132937511927, 0.5081132937511927, 0.5081132937511927, 0.5081132937511927, 0.5081132937511927, 0.5081132937511927, 0.5081132937511927, 0.5081132937511927, 0.5081132937511927, 0.5081132937511927, 0.5081132937511927, 0.5081132937511927, 0.5081132937511927, 0.5081132937511927, 0.5081132937511927, 0.5081132937511927, 0.5081132937511927, 0.5081132937511927, 0.5081132937511927, 0.5081132937511927, 0.5081132937511927, 0.5081132937511927, 0.5081132937511927, 0.5081132937511927, 0.5081132937511927, 0.5081132937511927, 0.5081132937511927, 0.5081132937511927, 0.5081132937511927, 0.5081132937511927, 0.5081132937511927, 0.5081132937511927, 0.5081132937511927, 0.5081132937511927, 0.5081132937511927, 0.5081132937511927, 0.5081132937511927, 0.5081132937511927, 0.5081132937511927, 0.5081132937511927, 0.5081132937511927, 0.5081132937511927, 0.5081132937511927, 0.5081132937511927, 0.5081132937511927, 0.5081132937511927, 0.5081132937511927, 0.5081132937511927, 0.5081132937511927, 0.5081132937511927, 0.5081132937511927, 0.5081132937511927, 0.5081132937511927, 0.5081132937511927, 0.5081132937511927, 0.5081132937511927, 0.5081132937511927, 0.5081132937511927, 0.5081132937511927, 0.5081132937511927, 0.5081132937511927, 0.5081132937511927, 0.5081132937511927, 0.5081132937511927, 0.5081132937511927, 0.5081132937511927, 0.5081132937511927, 0.5081132937511927, 0.5081132937511927, 0.5081132937511927, 0.5081132937511927, 0.5081132937511927, 0.5081132937511927, 0.5081132937511927, 0.5081132937511927, 0.5081132937511927, 0.5081132937511927, 0.5081132937511927, 0.5081132937511927, 0.5081132937511927, 0.5081132937511927, 0.5081132937511927, 0.5081132937511927, 0.5081132937511927, 0.5081132937511927, 0.5081132937511927, 0.5081132937511927, 0.5081132937511927, 0.5081132937511927, 0.5081132937511927, 0.5081132937511927, 0.5081132937511927, 0.5081132937511927, 0.5081132937511927, 0.5081132937511927, 0.5081132937511927, 0.5081132937511927, 0.5081132937511927, 0.5081132937511927, 0.5081132937511927, 0.5081132937511927, 0.5081132937511927, 0.5081132937511927, 0.5081132937511927, 0.5081132937511927, 0.5081132937511927, 0.5081132937511927, 0.5081132937511927, 0.5081132937511927, 0.5081132937511927, 0.5081132937511927, 0.5081132937511927, 0.5081132937511927, 0.5081132937511927, 0.5081132937511927, 0.5081132937511927, 0.5081132937511927, 0.5081132937511927, 0.5081132937511927, 0.5081132937511927, 0.5081132937511927, 0.5081132937511927, 0.5081132937511927, 0.5081132937511927, 0.5081132937511927, 0.5081132937511927, 0.5081132937511927, 0.5081132937511927, 0.5081132937511927, 0.5081132937511927, 0.5081132937511927, 0.5081132937511927, 0.5081132937511927, 0.5081132937511927, 0.5081132937511927, 0.5081132937511927, 0.5081132937511927, 0.5081132937511927, 0.5081132937511927, 0.5081132937511927, 0.5081132937511927, 0.5081132937511927, 0.5081132937511927, 0.5081132937511927, 0.5081132937511927, 0.5081132937511927, 0.5081132937511927, 0.5081132937511927, 0.5081132937511927, 0.5081132937511927, 0.5081132937511927, 0.5081132937511927, 0.5081132937511927, 0.5081132937511927, 0.5081132937511927, 0.5081132937511927, 0.5081132937511927, 0.5081132937511927, 0.5081132937511927, 0.5081132937511927, 0.5081132937511927, 0.5081132937511927, 0.5081132937511927, 0.5081132937511927, 0.5081132937511927, 0.5081132937511927, 0.5081132937511927, 0.5081132937511927, 0.5081132937511927, 0.5081132937511927, 0.5081132937511927, 0.5081132937511927, 0.5081132937511927, 0.5081132937511927, 0.5081132937511927, 0.5081132937511927, 0.5081132937511927, 0.5081132937511927, 0.5081132937511927, 0.5081132937511927, 0.5081132937511927, 0.5081132937511927, 0.5081132937511927, 0.5081132937511927, 0.5081132937511927, 0.5081132937511927, 0.5081132937511927, 0.5081132937511927, 0.5081132937511927, 0.5081132937511927, 0.5081132937511927, 0.5081132937511927, 0.5081132937511927, 0.5081132937511927, 0.5081132937511927, 0.5081132937511927, 0.5081132937511927, 0.5081132937511927, 0.5081132937511927, 0.5081132937511927, 0.5081132937511927, 0.5081132937511927, 0.5081132937511927, 0.5081132937511927, 0.5081132937511927, 0.5081132937511927, 0.5081132937511927, 0.5081132937511927, 0.5081132937511927, 0.5081132937511927, 0.5081132937511927, 0.5081132937511927, 0.5081132937511927, 0.5081132937511927, 0.5081132937511927, 0.5081132937511927, 0.5081132937511927, 0.5081132937511927, 0.5081132937511927, 0.5081132937511927, 0.5081132937511927, 0.5081132937511927, 0.5081132937511927, 0.5081132937511927, 0.5081132937511927, 0.5081132937511927, 0.5081132937511927, 0.5081132937511927, 0.5081132937511927, 0.5081132937511927, 0.5081132937511927, 0.5081132937511927, 0.5081132937511927, 0.5081132937511927, 0.5081132937511927, 0.5081132937511927, 0.5081132937511927, 0.5081132937511927, 0.5081132937511927, 0.5081132937511927, 0.5081132937511927, 0.5081132937511927, 0.5081132937511927, 0.5081132937511927, 0.5081132937511927, 0.5081132937511927, 0.5081132937511927, 0.5081132937511927, 0.5081132937511927, 0.5081132937511927, 0.5081132937511927, 0.5081132937511927, 0.5081132937511927, 0.5081132937511927, 0.5081132937511927, 0.5081132937511927, 0.5081132937511927, 0.5081132937511927, 0.5081132937511927, 0.5081132937511927, 0.5081132937511927, 0.5081132937511927, 0.5081132937511927, 0.5081132937511927, 0.5081132937511927, 0.5081132937511927, 0.5081132937511927, 0.5081132937511927, 0.5081132937511927, 0.5081132937511927, 0.5081132937511927, 0.5081132937511927, 0.5081132937511927, 0.5081132937511927, 0.5081132937511927, 0.5081132937511927, 0.5081132937511927, 0.5081132937511927, 0.5081132937511927, 0.5081132937511927, 0.5081132937511927, 0.5081132937511927, 0.5081132937511927, 0.5081132937511927, 0.5081132937511927, 0.5081132937511927, 0.5081132937511927, 0.5081132937511927, 0.5081132937511927, 0.5081132937511927, 0.5081132937511927, 0.5081132937511927, 0.5081132937511927, 0.5081132937511927, 0.5081132937511927, 0.5081132937511927, 0.5081132937511927, 0.5081132937511927, 0.5081132937511927, 0.5081132937511927, 0.5081132937511927, 0.5081132937511927, 0.5081132937511927, 0.5081132937511927, 0.5081132937511927, 0.5081132937511927, 0.5081132937511927, 0.5081132937511927, 0.5081132937511927, 0.5081132937511927, 0.5081132937511927, 0.5081132937511927, 0.5081132937511927, 0.5081132937511927, 0.5081132937511927, 0.5081132937511927, 0.5081132937511927, 0.5081132937511927, 0.5081132937511927, 0.5081132937511927, 0.5081132937511927, 0.5081132937511927, 0.5081132937511927, 0.5081132937511927, 0.5081132937511927, 0.5081132937511927, 0.5081132937511927, 0.5081132937511927, 0.5081132937511927, 0.5081132937511927, 0.5081132937511927, 0.5081132937511927, 0.5081132937511927, 0.5081132937511927, 0.5081132937511927, 0.5081132937511927, 0.5081132937511927, 0.5081132937511927, 0.5081132937511927, 0.5081132937511927, 0.5081132937511927, 0.5081132937511927, 0.5081132937511927, 0.5081132937511927, 0.5081132937511927, 0.5081132937511927, 0.5081132937511927, 0.5081132937511927, 0.5081132937511927, 0.5081132937511927, 0.5081132937511927, 0.5081132937511927, 0.5081132937511927, 0.5081132937511927, 0.5081132937511927, 0.5081132937511927, 0.5081132937511927, 0.5081132937511927, 0.5081132937511927, 0.5081132937511927, 0.5081132937511927, 0.5081132937511927, 0.5081132937511927, 0.5081132937511927, 0.5081132937511927, 0.5081132937511927, 0.5081132937511927, 0.5081132937511927, 0.5081132937511927, 0.5081132937511927, 0.5081132937511927, 0.5081132937511927, 0.5081132937511927, 0.5081132937511927, 0.5081132937511927, 0.5081132937511927, 0.5081132937511927, 0.5081132937511927, 0.5081132937511927, 0.5081132937511927, 0.5081132937511927, 0.5081132937511927, 0.5081132937511927, 0.5081132937511927, 0.5081132937511927, 0.5081132937511927, 0.5081132937511927, 0.5081132937511927, 0.5081132937511927, 0.5081132937511927, 0.5081132937511927, 0.5081132937511927, 0.5081132937511927, 0.5081132937511927, 0.5081132937511927, 0.5081132937511927, 0.5081132937511927, 0.5081132937511927, 0.5081132937511927, 0.5081132937511927, 0.5081132937511927, 0.5081132937511927, 0.5081132937511927, 0.5081132937511927, 0.5081132937511927, 0.5081132937511927, 0.5081132937511927, 0.5081132937511927, 0.5081132937511927, 0.5081132937511927, 0.5081132937511927, 0.5081132937511927, 0.5081132937511927, 0.5081132937511927, 0.5081132937511927, 0.5081132937511927, 0.5081132937511927, 0.5081132937511927, 0.5081132937511927, 0.5081132937511927, 0.5081132937511927, 0.5081132937511927, 0.5081132937511927, 0.5081132937511927, 0.5081132937511927, 0.5081132937511927, 0.5081132937511927, 0.5081132937511927, 0.5081132937511927, 0.5081132937511927, 0.5081132937511927, 0.5081132937511927, 0.5081132937511927, 0.5081132937511927, 0.5081132937511927, 0.5081132937511927, 0.5081132937511927, 0.5081132937511927, 0.5081132937511927, 0.5081132937511927, 0.5081132937511927, 0.5081132937511927, 0.5081132937511927, 0.5081132937511927, 0.5081132937511927, 0.5081132937511927, 0.5081132937511927, 0.5081132937511927, 0.5081132937511927, 0.5081132937511927, 0.5081132937511927, 0.5081132937511927, 0.5081132937511927, 0.5081132937511927, 0.5081132937511927, 0.5081132937511927, 0.5081132937511927, 0.5081132937511927, 0.5081132937511927, 0.5081132937511927, 0.5081132937511927, 0.5081132937511927, 0.5081132937511927, 0.5081132937511927, 0.5081132937511927, 0.5081132937511927, 0.5081132937511927, 0.5081132937511927, 0.5081132937511927, 0.5081132937511927, 0.5081132937511927, 0.5081132937511927, 0.5081132937511927, 0.5081132937511927, 0.5081132937511927, 0.5081132937511927, 0.5081132937511927, 0.5081132937511927, 0.5081132937511927, 0.5081132937511927, 0.5081132937511927, 0.5081132937511927, 0.5081132937511927, 0.5081132937511927, 0.5081132937511927, 0.5081132937511927, 0.5081132937511927, 0.5081132937511927, 0.5081132937511927, 0.5081132937511927, 0.5081132937511927, 0.5081132937511927, 0.5081132937511927, 0.5081132937511927, 0.5081132937511927, 0.5081132937511927, 0.5081132937511927, 0.5081132937511927, 0.5081132937511927, 0.5081132937511927, 0.5081132937511927, 0.5081132937511927, 0.5081132937511927, 0.5081132937511927, 0.5081132937511927, 0.5081132937511927, 0.5081132937511927, 0.5081132937511927, 0.5081132937511927, 0.5081132937511927, 0.5081132937511927, 0.5081132937511927, 0.5081132937511927, 0.5081132937511927, 0.5081132937511927, 0.5081132937511927, 0.5081132937511927, 0.5081132937511927, 0.5081132937511927, 0.5081132937511927, 0.5081132937511927, 0.5081132937511927, 0.5081132937511927, 0.5081132937511927, 0.5081132937511927, 0.5081132937511927, 0.5081132937511927, 0.5081132937511927, 0.5081132937511927, 0.5081132937511927, 0.5081132937511927, 0.5081132937511927, 0.5081132937511927, 0.5081132937511927, 0.5081132937511927, 0.5081132937511927, 0.5081132937511927, 0.5081132937511927, 0.5081132937511927, 0.5081132937511927, 0.5081132937511927, 0.5081132937511927, 0.5081132937511927, 0.5081132937511927, 0.5081132937511927, 0.5081132937511927, 0.5081132937511927, 0.5081132937511927, 0.5081132937511927, 0.5081132937511927, 0.5081132937511927, 0.5081132937511927, 0.5081132937511927, 0.5081132937511927, 0.5081132937511927, 0.5081132937511927, 0.5081132937511927, 0.5081132937511927, 0.5081132937511927, 0.5081132937511927, 0.5081132937511927, 0.5081132937511927, 0.5081132937511927, 0.5081132937511927, 0.5081132937511927, 0.5081132937511927, 0.5081132937511927, 0.5081132937511927, 0.5081132937511927, 0.5081132937511927, 0.5081132937511927, 0.5081132937511927, 0.5081132937511927, 0.5081132937511927, 0.5081132937511927, 0.5081132937511927, 0.5081132937511927, 0.5081132937511927, 0.5081132937511927, 0.5081132937511927, 0.5081132937511927, 0.5081132937511927, 0.5081132937511927, 0.5081132937511927, 0.5081132937511927, 0.5081132937511927, 0.5081132937511927, 0.5081132937511927, 0.5081132937511927, 0.5081132937511927, 0.5081132937511927, 0.5081132937511927, 0.5081132937511927, 0.5081132937511927, 0.5081132937511927, 0.5081132937511927, 0.5081132937511927, 0.5081132937511927, 0.5081132937511927, 0.5081132937511927]}, {\"line\": {\"color\": \"deepskyblue\"}, \"name\": \"Loss Training\", \"type\": \"scatter\", \"x\": [\"2020-10-26T09:57:45.010929\", \"2020-10-26T09:57:45.011029\", \"2020-10-26T09:57:45.011129\", \"2020-10-26T09:57:45.011229\", \"2020-10-26T09:57:45.011329\", \"2020-10-26T09:57:45.011429\", \"2020-10-26T09:57:45.011529\", \"2020-10-26T09:57:45.011629\", \"2020-10-26T09:57:45.011729\", \"2020-10-26T09:57:45.011829\", \"2020-10-26T09:57:45.011929\", \"2020-10-26T09:57:45.012029\", \"2020-10-26T09:57:45.012129\", \"2020-10-26T09:57:45.012229\", \"2020-10-26T09:57:45.012329\", \"2020-10-26T09:57:45.012429\", \"2020-10-26T09:57:45.012529\", \"2020-10-26T09:57:45.012629\", \"2020-10-26T09:57:45.012729\", \"2020-10-26T09:57:45.012829\", \"2020-10-26T09:57:45.012929\", \"2020-10-26T09:57:45.013029\", \"2020-10-26T09:57:45.013129\", \"2020-10-26T09:57:45.013229\", \"2020-10-26T09:57:45.013329\", \"2020-10-26T09:57:45.013429\", \"2020-10-26T09:57:45.013529\", \"2020-10-26T09:57:45.013629\", \"2020-10-26T09:57:45.013729\", \"2020-10-26T09:57:45.013829\", \"2020-10-26T09:57:45.013929\", \"2020-10-26T09:57:45.014029\", \"2020-10-26T09:57:45.014129\", \"2020-10-26T09:57:45.014229\", \"2020-10-26T09:57:45.014329\", \"2020-10-26T09:57:45.014429\", \"2020-10-26T09:57:45.014529\", \"2020-10-26T09:57:45.014629\", \"2020-10-26T09:57:45.014729\", \"2020-10-26T09:57:45.014829\", \"2020-10-26T09:57:45.014929\", \"2020-10-26T09:57:45.015029\", \"2020-10-26T09:57:45.015129\", \"2020-10-26T09:57:45.015229\", \"2020-10-26T09:57:45.015329\", \"2020-10-26T09:57:45.015429\", \"2020-10-26T09:57:45.015529\", \"2020-10-26T09:57:45.015629\", \"2020-10-26T09:57:45.015729\", \"2020-10-26T09:57:45.015829\", \"2020-10-26T09:57:45.015929\", \"2020-10-26T09:57:45.016029\", \"2020-10-26T09:57:45.016129\", \"2020-10-26T09:57:45.016229\", \"2020-10-26T09:57:45.016329\", \"2020-10-26T09:57:45.016429\", \"2020-10-26T09:57:45.016529\", \"2020-10-26T09:57:45.016629\", \"2020-10-26T09:57:45.016729\", \"2020-10-26T09:57:45.016829\", \"2020-10-26T09:57:45.016929\", \"2020-10-26T09:57:45.017029\", \"2020-10-26T09:57:45.017129\", \"2020-10-26T09:57:45.017229\", \"2020-10-26T09:57:45.017329\", \"2020-10-26T09:57:45.017429\", \"2020-10-26T09:57:45.017529\", \"2020-10-26T09:57:45.017629\", \"2020-10-26T09:57:45.017729\", \"2020-10-26T09:57:45.017829\", \"2020-10-26T09:57:45.017929\", \"2020-10-26T09:57:45.018029\", \"2020-10-26T09:57:45.018129\", \"2020-10-26T09:57:45.018229\", \"2020-10-26T09:57:45.018329\", \"2020-10-26T09:57:45.018429\", \"2020-10-26T09:57:45.018529\", \"2020-10-26T09:57:45.018629\", \"2020-10-26T09:57:45.018729\", \"2020-10-26T09:57:45.018829\", \"2020-10-26T09:57:45.018929\", \"2020-10-26T09:57:45.019029\", \"2020-10-26T09:57:45.019129\", \"2020-10-26T09:57:45.019229\", \"2020-10-26T09:57:45.019329\", \"2020-10-26T09:57:45.019429\", \"2020-10-26T09:57:45.019529\", \"2020-10-26T09:57:45.019629\", \"2020-10-26T09:57:45.019729\", \"2020-10-26T09:57:45.019829\", \"2020-10-26T09:57:45.019929\", \"2020-10-26T09:57:45.020029\", \"2020-10-26T09:57:45.020129\", \"2020-10-26T09:57:45.020229\", \"2020-10-26T09:57:45.020329\", \"2020-10-26T09:57:45.020429\", \"2020-10-26T09:57:45.020529\", \"2020-10-26T09:57:45.020629\", \"2020-10-26T09:57:45.020729\", \"2020-10-26T09:57:45.020829\", \"2020-10-26T09:57:45.020929\", \"2020-10-26T09:57:45.021029\", \"2020-10-26T09:57:45.021129\", \"2020-10-26T09:57:45.021229\", \"2020-10-26T09:57:45.021329\", \"2020-10-26T09:57:45.021429\", \"2020-10-26T09:57:45.021529\", \"2020-10-26T09:57:45.021629\", \"2020-10-26T09:57:45.021729\", \"2020-10-26T09:57:45.021829\", \"2020-10-26T09:57:45.021929\", \"2020-10-26T09:57:45.022029\", \"2020-10-26T09:57:45.022129\", \"2020-10-26T09:57:45.022229\", \"2020-10-26T09:57:45.022329\", \"2020-10-26T09:57:45.022429\", \"2020-10-26T09:57:45.022529\", \"2020-10-26T09:57:45.022629\", \"2020-10-26T09:57:45.022729\", \"2020-10-26T09:57:45.022829\", \"2020-10-26T09:57:45.022929\", \"2020-10-26T09:57:45.023029\", \"2020-10-26T09:57:45.023129\", \"2020-10-26T09:57:45.023229\", \"2020-10-26T09:57:45.023329\", \"2020-10-26T09:57:45.023429\", \"2020-10-26T09:57:45.023529\", \"2020-10-26T09:57:45.023629\", \"2020-10-26T09:57:45.023729\", \"2020-10-26T09:57:45.023829\", \"2020-10-26T09:57:45.023929\", \"2020-10-26T09:57:45.024029\", \"2020-10-26T09:57:45.024129\", \"2020-10-26T09:57:45.024229\", \"2020-10-26T09:57:45.024329\", \"2020-10-26T09:57:45.024429\", \"2020-10-26T09:57:45.024529\", \"2020-10-26T09:57:45.024629\", \"2020-10-26T09:57:45.024729\", \"2020-10-26T09:57:45.024829\", \"2020-10-26T09:57:45.024929\", \"2020-10-26T09:57:45.025029\", \"2020-10-26T09:57:45.025129\", \"2020-10-26T09:57:45.025229\", \"2020-10-26T09:57:45.025329\", \"2020-10-26T09:57:45.025429\", \"2020-10-26T09:57:45.025529\", \"2020-10-26T09:57:45.025629\", \"2020-10-26T09:57:45.025729\", \"2020-10-26T09:57:45.025829\", \"2020-10-26T09:57:45.025929\", \"2020-10-26T09:57:45.026029\", \"2020-10-26T09:57:45.026129\", \"2020-10-26T09:57:45.026229\", \"2020-10-26T09:57:45.026329\", \"2020-10-26T09:57:45.026429\", \"2020-10-26T09:57:45.026529\", \"2020-10-26T09:57:45.026629\", \"2020-10-26T09:57:45.026729\", \"2020-10-26T09:57:45.026829\", \"2020-10-26T09:57:45.026929\", \"2020-10-26T09:57:45.027029\", \"2020-10-26T09:57:45.027129\", \"2020-10-26T09:57:45.027229\", \"2020-10-26T09:57:45.027329\", \"2020-10-26T09:57:45.027429\", \"2020-10-26T09:57:45.027529\", \"2020-10-26T09:57:45.027629\", \"2020-10-26T09:57:45.027729\", \"2020-10-26T09:57:45.027829\", \"2020-10-26T09:57:45.027929\", \"2020-10-26T09:57:45.028029\", \"2020-10-26T09:57:45.028129\", \"2020-10-26T09:57:45.028229\", \"2020-10-26T09:57:45.028329\", \"2020-10-26T09:57:45.028429\", \"2020-10-26T09:57:45.028529\", \"2020-10-26T09:57:45.028629\", \"2020-10-26T09:57:45.028729\", \"2020-10-26T09:57:45.028829\", \"2020-10-26T09:57:45.028929\", \"2020-10-26T09:57:45.029029\", \"2020-10-26T09:57:45.029129\", \"2020-10-26T09:57:45.029229\", \"2020-10-26T09:57:45.029329\", \"2020-10-26T09:57:45.029429\", \"2020-10-26T09:57:45.029529\", \"2020-10-26T09:57:45.029629\", \"2020-10-26T09:57:45.029729\", \"2020-10-26T09:57:45.029829\", \"2020-10-26T09:57:45.029929\", \"2020-10-26T09:57:45.030029\", \"2020-10-26T09:57:45.030129\", \"2020-10-26T09:57:45.030229\", \"2020-10-26T09:57:45.030329\", \"2020-10-26T09:57:45.030429\", \"2020-10-26T09:57:45.030529\", \"2020-10-26T09:57:45.030629\", \"2020-10-26T09:57:45.030729\", \"2020-10-26T09:57:45.030829\", \"2020-10-26T09:57:45.030929\", \"2020-10-26T09:57:45.031029\", \"2020-10-26T09:57:45.031129\", \"2020-10-26T09:57:45.031229\", \"2020-10-26T09:57:45.031329\", \"2020-10-26T09:57:45.031429\", \"2020-10-26T09:57:45.031529\", \"2020-10-26T09:57:45.031629\", \"2020-10-26T09:57:45.031729\", \"2020-10-26T09:57:45.031829\", \"2020-10-26T09:57:45.031929\", \"2020-10-26T09:57:45.032029\", \"2020-10-26T09:57:45.032129\", \"2020-10-26T09:57:45.032229\", \"2020-10-26T09:57:45.032329\", \"2020-10-26T09:57:45.032429\", \"2020-10-26T09:57:45.032529\", \"2020-10-26T09:57:45.032629\", \"2020-10-26T09:57:45.032729\", \"2020-10-26T09:57:45.032829\", \"2020-10-26T09:57:45.032929\", \"2020-10-26T09:57:45.033029\", \"2020-10-26T09:57:45.033129\", \"2020-10-26T09:57:45.033229\", \"2020-10-26T09:57:45.033329\", \"2020-10-26T09:57:45.033429\", \"2020-10-26T09:57:45.033529\", \"2020-10-26T09:57:45.033629\", \"2020-10-26T09:57:45.033729\", \"2020-10-26T09:57:45.033829\", \"2020-10-26T09:57:45.033929\", \"2020-10-26T09:57:45.034029\", \"2020-10-26T09:57:45.034129\", \"2020-10-26T09:57:45.034229\", \"2020-10-26T09:57:45.034329\", \"2020-10-26T09:57:45.034429\", \"2020-10-26T09:57:45.034529\", \"2020-10-26T09:57:45.034629\", \"2020-10-26T09:57:45.034729\", \"2020-10-26T09:57:45.034829\", \"2020-10-26T09:57:45.034929\", \"2020-10-26T09:57:45.035029\", \"2020-10-26T09:57:45.035129\", \"2020-10-26T09:57:45.035229\", \"2020-10-26T09:57:45.035329\", \"2020-10-26T09:57:45.035429\", \"2020-10-26T09:57:45.035529\", \"2020-10-26T09:57:45.035629\", \"2020-10-26T09:57:45.035729\", \"2020-10-26T09:57:45.035829\", \"2020-10-26T09:57:45.035929\", \"2020-10-26T09:57:45.036029\", \"2020-10-26T09:57:45.036129\", \"2020-10-26T09:57:45.036229\", \"2020-10-26T09:57:45.036329\", \"2020-10-26T09:57:45.036429\", \"2020-10-26T09:57:45.036529\", \"2020-10-26T09:57:45.036629\", \"2020-10-26T09:57:45.036729\", \"2020-10-26T09:57:45.036829\", \"2020-10-26T09:57:45.036929\", \"2020-10-26T09:57:45.037029\", \"2020-10-26T09:57:45.037129\", \"2020-10-26T09:57:45.037229\", \"2020-10-26T09:57:45.037329\", \"2020-10-26T09:57:45.037429\", \"2020-10-26T09:57:45.037529\", \"2020-10-26T09:57:45.037629\", \"2020-10-26T09:57:45.037729\", \"2020-10-26T09:57:45.037829\", \"2020-10-26T09:57:45.037929\", \"2020-10-26T09:57:45.038029\", \"2020-10-26T09:57:45.038129\", \"2020-10-26T09:57:45.038229\", \"2020-10-26T09:57:45.038329\", \"2020-10-26T09:57:45.038429\", \"2020-10-26T09:57:45.038529\", \"2020-10-26T09:57:45.038629\", \"2020-10-26T09:57:45.038729\", \"2020-10-26T09:57:45.038829\", \"2020-10-26T09:57:45.038929\", \"2020-10-26T09:57:45.039029\", \"2020-10-26T09:57:45.039129\", \"2020-10-26T09:57:45.039229\", \"2020-10-26T09:57:45.039329\", \"2020-10-26T09:57:45.039429\", \"2020-10-26T09:57:45.039529\", \"2020-10-26T09:57:45.039629\", \"2020-10-26T09:57:45.039729\", \"2020-10-26T09:57:45.039829\", \"2020-10-26T09:57:45.039929\", \"2020-10-26T09:57:45.040029\", \"2020-10-26T09:57:45.040129\", \"2020-10-26T09:57:45.040229\", \"2020-10-26T09:57:45.040329\", \"2020-10-26T09:57:45.040429\", \"2020-10-26T09:57:45.040529\", \"2020-10-26T09:57:45.040629\", \"2020-10-26T09:57:45.040729\", \"2020-10-26T09:57:45.040829\", \"2020-10-26T09:57:45.040929\", \"2020-10-26T09:57:45.041029\", \"2020-10-26T09:57:45.041129\", \"2020-10-26T09:57:45.041229\", \"2020-10-26T09:57:45.041329\", \"2020-10-26T09:57:45.041429\", \"2020-10-26T09:57:45.041529\", \"2020-10-26T09:57:45.041629\", \"2020-10-26T09:57:45.041729\", \"2020-10-26T09:57:45.041829\", \"2020-10-26T09:57:45.041929\", \"2020-10-26T09:57:45.042029\", \"2020-10-26T09:57:45.042129\", \"2020-10-26T09:57:45.042229\", \"2020-10-26T09:57:45.042329\", \"2020-10-26T09:57:45.042429\", \"2020-10-26T09:57:45.042529\", \"2020-10-26T09:57:45.042629\", \"2020-10-26T09:57:45.042729\", \"2020-10-26T09:57:45.042829\", \"2020-10-26T09:57:45.042929\", \"2020-10-26T09:57:45.043029\", \"2020-10-26T09:57:45.043129\", \"2020-10-26T09:57:45.043229\", \"2020-10-26T09:57:45.043329\", \"2020-10-26T09:57:45.043429\", \"2020-10-26T09:57:45.043529\", \"2020-10-26T09:57:45.043629\", \"2020-10-26T09:57:45.043729\", \"2020-10-26T09:57:45.043829\", \"2020-10-26T09:57:45.043929\", \"2020-10-26T09:57:45.044029\", \"2020-10-26T09:57:45.044129\", \"2020-10-26T09:57:45.044229\", \"2020-10-26T09:57:45.044329\", \"2020-10-26T09:57:45.044429\", \"2020-10-26T09:57:45.044529\", \"2020-10-26T09:57:45.044629\", \"2020-10-26T09:57:45.044729\", \"2020-10-26T09:57:45.044829\", \"2020-10-26T09:57:45.044929\", \"2020-10-26T09:57:45.045029\", \"2020-10-26T09:57:45.045129\", \"2020-10-26T09:57:45.045229\", \"2020-10-26T09:57:45.045329\", \"2020-10-26T09:57:45.045429\", \"2020-10-26T09:57:45.045529\", \"2020-10-26T09:57:45.045629\", \"2020-10-26T09:57:45.045729\", \"2020-10-26T09:57:45.045829\", \"2020-10-26T09:57:45.045929\", \"2020-10-26T09:57:45.046029\", \"2020-10-26T09:57:45.046129\", \"2020-10-26T09:57:45.046229\", \"2020-10-26T09:57:45.046329\", \"2020-10-26T09:57:45.046429\", \"2020-10-26T09:57:45.046529\", \"2020-10-26T09:57:45.046629\", \"2020-10-26T09:57:45.046729\", \"2020-10-26T09:57:45.046829\", \"2020-10-26T09:57:45.046929\", \"2020-10-26T09:57:45.047029\", \"2020-10-26T09:57:45.047129\", \"2020-10-26T09:57:45.047229\", \"2020-10-26T09:57:45.047329\", \"2020-10-26T09:57:45.047429\", \"2020-10-26T09:57:45.047529\", \"2020-10-26T09:57:45.047629\", \"2020-10-26T09:57:45.047729\", \"2020-10-26T09:57:45.047829\", \"2020-10-26T09:57:45.047929\", \"2020-10-26T09:57:45.048029\", \"2020-10-26T09:57:45.048129\", \"2020-10-26T09:57:45.048229\", \"2020-10-26T09:57:45.048329\", \"2020-10-26T09:57:45.048429\", \"2020-10-26T09:57:45.048529\", \"2020-10-26T09:57:45.048629\", \"2020-10-26T09:57:45.048729\", \"2020-10-26T09:57:45.048829\", \"2020-10-26T09:57:45.048929\", \"2020-10-26T09:57:45.049029\", \"2020-10-26T09:57:45.049129\", \"2020-10-26T09:57:45.049229\", \"2020-10-26T09:57:45.049329\", \"2020-10-26T09:57:45.049429\", \"2020-10-26T09:57:45.049529\", \"2020-10-26T09:57:45.049629\", \"2020-10-26T09:57:45.049729\", \"2020-10-26T09:57:45.049829\", \"2020-10-26T09:57:45.049929\", \"2020-10-26T09:57:45.050029\", \"2020-10-26T09:57:45.050129\", \"2020-10-26T09:57:45.050229\", \"2020-10-26T09:57:45.050329\", \"2020-10-26T09:57:45.050429\", \"2020-10-26T09:57:45.050529\", \"2020-10-26T09:57:45.050629\", \"2020-10-26T09:57:45.050729\", \"2020-10-26T09:57:45.050829\", \"2020-10-26T09:57:45.050929\", \"2020-10-26T09:57:45.051029\", \"2020-10-26T09:57:45.051129\", \"2020-10-26T09:57:45.051229\", \"2020-10-26T09:57:45.051329\", \"2020-10-26T09:57:45.051429\", \"2020-10-26T09:57:45.051529\", \"2020-10-26T09:57:45.051629\", \"2020-10-26T09:57:45.051729\", \"2020-10-26T09:57:45.051829\", \"2020-10-26T09:57:45.051929\", \"2020-10-26T09:57:45.052029\", \"2020-10-26T09:57:45.052129\", \"2020-10-26T09:57:45.052229\", \"2020-10-26T09:57:45.052329\", \"2020-10-26T09:57:45.052429\", \"2020-10-26T09:57:45.052529\", \"2020-10-26T09:57:45.052629\", \"2020-10-26T09:57:45.052729\", \"2020-10-26T09:57:45.052829\", \"2020-10-26T09:57:45.052929\", \"2020-10-26T09:57:45.053029\", \"2020-10-26T09:57:45.053129\", \"2020-10-26T09:57:45.053229\", \"2020-10-26T09:57:45.053329\", \"2020-10-26T09:57:45.053429\", \"2020-10-26T09:57:45.053529\", \"2020-10-26T09:57:45.053629\", \"2020-10-26T09:57:45.053729\", \"2020-10-26T09:57:45.053829\", \"2020-10-26T09:57:45.053929\", \"2020-10-26T09:57:45.054029\", \"2020-10-26T09:57:45.054129\", \"2020-10-26T09:57:45.054229\", \"2020-10-26T09:57:45.054329\", \"2020-10-26T09:57:45.054429\", \"2020-10-26T09:57:45.054529\", \"2020-10-26T09:57:45.054629\", \"2020-10-26T09:57:45.054729\", \"2020-10-26T09:57:45.054829\", \"2020-10-26T09:57:45.054929\", \"2020-10-26T09:57:45.055029\", \"2020-10-26T09:57:45.055129\", \"2020-10-26T09:57:45.055229\", \"2020-10-26T09:57:45.055329\", \"2020-10-26T09:57:45.055429\", \"2020-10-26T09:57:45.055529\", \"2020-10-26T09:57:45.055629\", \"2020-10-26T09:57:45.055729\", \"2020-10-26T09:57:45.055829\", \"2020-10-26T09:57:45.055929\", \"2020-10-26T09:57:45.056029\", \"2020-10-26T09:57:45.056129\", \"2020-10-26T09:57:45.056229\", \"2020-10-26T09:57:45.056329\", \"2020-10-26T09:57:45.056429\", \"2020-10-26T09:57:45.056529\", \"2020-10-26T09:57:45.056629\", \"2020-10-26T09:57:45.056729\", \"2020-10-26T09:57:45.056829\", \"2020-10-26T09:57:45.056929\", \"2020-10-26T09:57:45.057029\", \"2020-10-26T09:57:45.057129\", \"2020-10-26T09:57:45.057229\", \"2020-10-26T09:57:45.057329\", \"2020-10-26T09:57:45.057429\", \"2020-10-26T09:57:45.057529\", \"2020-10-26T09:57:45.057629\", \"2020-10-26T09:57:45.057729\", \"2020-10-26T09:57:45.057829\", \"2020-10-26T09:57:45.057929\", \"2020-10-26T09:57:45.058029\", \"2020-10-26T09:57:45.058129\", \"2020-10-26T09:57:45.058229\", \"2020-10-26T09:57:45.058329\", \"2020-10-26T09:57:45.058429\", \"2020-10-26T09:57:45.058529\", \"2020-10-26T09:57:45.058629\", \"2020-10-26T09:57:45.058729\", \"2020-10-26T09:57:45.058829\", \"2020-10-26T09:57:45.058929\", \"2020-10-26T09:57:45.059029\", \"2020-10-26T09:57:45.059129\", \"2020-10-26T09:57:45.059229\", \"2020-10-26T09:57:45.059329\", \"2020-10-26T09:57:45.059429\", \"2020-10-26T09:57:45.059529\", \"2020-10-26T09:57:45.059629\", \"2020-10-26T09:57:45.059729\", \"2020-10-26T09:57:45.059829\", \"2020-10-26T09:57:45.059929\", \"2020-10-26T09:57:45.060029\", \"2020-10-26T09:57:45.060129\", \"2020-10-26T09:57:45.060229\", \"2020-10-26T09:57:45.060329\", \"2020-10-26T09:57:45.060429\", \"2020-10-26T09:57:45.060529\", \"2020-10-26T09:57:45.060629\", \"2020-10-26T09:57:45.060729\", \"2020-10-26T09:57:45.060829\"], \"y\": [0.14970786139659964, 0.24257861373370915, 0.2915182586498757, 0.19517328501737286, 0.49132167261522763, 0.2955434079798911, 0.4019472814121361, 0.15826008024468852, 0.4955344199626541, 0.031250672257426615, 0.3729257594942297, 0.476643615737145, 0.122035531803947, 0.10689596903235721, 0.020825191808557797, 0.06507996444478259, 0.2414326749711888, 0.47039853762493955, 0.32417495804330265, 0.4387380828538747, 0.07011142813271753, 0.03390454469801707, 0.09485317374519742, 0.40862820094658847, 0.48527711112420135, 0.0833563874511789, 0.2636715581511071, 0.42497519987090193, 0.19743830983010913, 0.13499477868327592, 0.22814468675559496, 0.08447697707398838, 0.35815511105188325, 0.2229829655194866, 0.12559751821278908, 0.02390748856972369, 0.14302664699188838, 0.05419642444087458, 0.27630213858500774, 0.42636050766104994, 0.3535849185270621, 0.08020808559699955, 0.017528286643852198, 0.41458825293510415, 0.20489318053510264, 0.1823019539471069, 0.07268741124842304, 0.2914973125127531, 0.07326931709247209, 0.2702059453219503, 0.07285280070010458, 0.2926087738784764, 0.024552421691739212, 0.4770261400428728, 0.09865521081880946, 0.056646589797550106, 0.35607332886698995, 0.4056408122123454, 0.24644467321524388, 0.007192944746480023, 0.3795071327518915, 0.20139419834239902, 0.4476259940372218, 0.11951682870098956, 0.051431561311314766, 0.3920064548144859, 0.3761637278496659, 0.10000338240183915, 0.3658322704083714, 0.2852933905940489, 0.42954570064228026, 0.2185068692764247, 0.18753596281716334, 0.11193113636543561, 0.15045899793452655, 0.16067600701553708, 0.16523737151854956, 0.20494053316434258, 0.4557966167893239, 0.37592316325826847, 0.475875928205336, 0.36382184228249237, 0.15397519451768638, 0.40759318425454083, 0.3965165061171225, 0.11437677898313048, 0.17033079296635822, 0.2639825364463162, 0.17529658581509544, 0.037420647379668104, 0.19846978088026823, 0.09549099759190849, 0.41568864993704846, 0.21126174412056908, 0.2377835769008385, 0.44745511418747785, 0.0053352026835016275, 0.349235387366881, 0.1329041309132597, 0.0933932276737588, 0.08142801713145165, 0.44329445791317745, 0.12525413166238852, 0.056508974088887776, 0.0818367856214186, 0.17749177102660063, 0.014683397131673992, 0.47830018456247103, 0.24453541351692554, 0.11021278439904414, 0.009795398652472365, 0.27521005584846314, 0.005844325023721453, 0.07483806122919034, 0.4654218270971233, 0.4858315519536678, 0.08466556798889435, 0.3086739976800281, 0.2958090544759777, 0.023930335941144243, 0.07254146029532027, 0.19276878821828625, 0.41329502746433455, 0.34702873310089544, 0.37220930607237523, 0.32234931296769087, 0.18545280456616808, 0.03985756267727858, 0.4751514967084285, 0.015315267482945316, 0.4224172687308787, 0.1325191277807356, 0.17780794780607323, 0.41836646242850417, 0.18054864914775592, 0.4187498867135604, 0.3063057419401325, 0.05325441548521148, 0.026114019924098564, 0.3692626742449212, 0.31445207269411046, 0.44590242253825707, 0.02470303553187403, 0.40754377640311734, 0.3109939374211734, 0.43297792175093264, 0.3287820277274225, 0.35699009165733386, 0.15977040558214828, 0.4212125124812296, 0.21755356753755262, 0.2242705463197101, 0.4741827498965083, 0.4650871757502886, 0.047915912530243965, 0.43933798376809374, 0.1587984553088182, 0.16906188934810285, 0.2136281792346173, 0.21680411564431257, 0.15505556256285047, 0.17762753336772352, 0.16062512564247022, 0.12032421272089255, 0.40062665050713875, 0.4215616081138194, 0.10376695074475695, 0.09413369798434079, 0.4320632575677559, 0.5030824690605868, 0.193361756845011, 0.037504422426286155, 0.445812650242039, 0.10809878881039658, 0.18345580578769116, 0.47596687068352583, 0.32477903008028797, 0.16825296286076252, 0.4108174000522151, 0.09717976457297706, 0.3714921601578398, 0.06220991991496483, 0.3442332748582375, 0.14921793971537411, 0.2915130322423831, 0.3481699264248981, 0.11871423407734571, 0.2874624141677504, 0.4969889260946063, 0.29742442137727476, 0.17413735265760177, 0.39365761565109114, 0.14923847914591004, 0.31127399528651, 0.051866936259562735, 0.058475867554243166, 0.16266746196347093, 0.0020810008397944557, 0.06028228675794978, 0.04268798014809949, 0.1587332188916637, 0.007239098718872405, 0.13921435035739904, 0.3664382330495286, 0.011837862947506217, 0.36067461148140545, 0.33975921883920623, 0.0844890940150913, 0.2696539172791068, 0.46037126549253315, 0.37594703702522114, 0.05460566166455827, 0.15882367097533567, 0.35946996952887655, 0.153676784847379, 0.5017258894224916, 0.42557295563220876, 0.4662137998709506, 0.08188883629250121, 0.0450390941583132, 0.43323768626843684, 0.0017206536795297822, 0.12704412053520908, 0.10655206437570097, 0.22019491530102364, 0.1431763195923743, 0.2578365612076121, 0.07632478971329792, 0.250830609230035, 0.06690395652585313, 0.44435317273555963, 0.17038482217877426, 0.10888749424870703, 0.4352657710079386, 0.08631079123650132, 0.01106173543180855, 0.2704667766270852, 0.03308804916478447, 0.40314866623500567, 0.08168417474073664, 0.13694381911906106, 0.14028702762403888, 0.18163883930890545, 0.5013403281065045, 0.19429009769941263, 0.0742359776315693, 0.24143306178354962, 0.14271702138539943, 0.019049441810037315, 0.49157402925705806, 0.0023963513001596937, 0.08312835396178908, 0.4400854403271133, 0.38066479804007614, 0.07203964892493175, 0.39480170289821714, 0.07646053954709497, 0.39519683033584396, 0.07537447006275944, 0.3838318276856052, 0.2586693539962015, 0.20346261038177005, 0.27984262469858123, 0.0017991155646592816, 0.43772677273280003, 0.30109143254994564, 0.32338063844913023, 0.14231631053468785, 0.11788576565326458, 0.31408801594380265, 0.28041107863748316, 0.04692517949574704, 0.2048455036996204, 0.2541621470419271, 0.3818242912996901, 0.33876193165027857, 0.10813292093943261, 0.06914103488504342, 0.40311214591568056, 0.007558603634832295, 0.12123563507754298, 0.060702585447229396, 0.41958418553296806, 0.40106906616582005, 0.31367452816684693, 0.24305938292056783, 0.38036615406680774, 0.30595182597116377, 0.2808796639355977, 0.39080408317346116, 0.35014289850988956, 0.28062064430527656, 0.17435319473776545, 0.2214642214833411, 0.26648817481208376, 0.26797814182416424, 0.3613753610153161, 0.34584634121425406, 0.37155625126877023, 0.3056713870807499, 0.473106650387348, 0.40978956471012484, 0.09066516820692083, 0.06737558442874025, 0.408201386949715, 0.14179564204320183, 0.03662566390858757, 0.03395011964228356, 0.39194455474187695, 0.43811687955566647, 0.23788460048766868, 0.48520108686774144, 0.18185067379770725, 0.185610711845003, 0.31229626579615566, 0.4548919024791065, 0.14020256643125073, 0.14138855987019205, 0.06785224352019625, 0.26915735495739934, 0.49891384419966744, 0.03408424884918748, 0.26785564875861123, 0.29580007392089236, 0.33797123332005086, 0.4421819941362477, 0.1370669881436788, 0.10690488514979091, 0.34473326633298473, 0.3826908611767843, 0.3433417835934254, 0.2654084352968855, 0.4205539010479864, 0.2781165262798915, 0.10151540131042136, 0.07709678227086059, 0.3287991588649266, 0.19797447784215105, 0.1205346889725405, 0.44932102295615906, 0.38092517845054097, 0.02454676365648023, 0.47987345165635364, 0.2701118445695414, 0.33112704811733895, 0.03953042173132548, 0.08215141389504055, 0.3981447460077927, 0.09886334090915039, 0.09001977608484513, 0.04476958797640407, 0.2662023234579154, 0.33971090075071153, 0.21803935350629544, 0.06794073566380554, 0.00018780874081247845, 0.4650030341389835, 0.14999024728678112, 0.1395447901175091, 0.07117260032014094, 0.14927886109099564, 0.026704780384446458, 0.18894204477666765, 0.21459943074791532, 0.3644339546686659, 0.4045699848097648, 0.009467007844767394, 0.41237432897644144, 0.11620916057043473, 0.0193316753774484, 0.1842202087589664, 0.47682576762381146, 0.3937145092637149, 0.17839817589519935, 0.2408221611176522, 0.4752433633251796, 0.4604618230551534, 0.12404633228671447, 0.44656435437939734, 0.19135229380888852, 0.010619807186919239, 0.46186507499183094, 0.2779952683055509, 0.2414709389245724, 0.39827228659715974, 0.08461270235570417, 0.009443578199349822, 0.021475648263794334, 0.4584020949014649, 0.398644636385983, 0.40211231013905113, 0.3585219662552177, 0.4844461046948494, 0.20360562626278078, 0.12382944361169645, 0.25757932071344225, 0.23840192834571639, 0.16102157366296588, 0.484750061270975, 0.3746607462541931, 0.3659763798928459, 0.36258974275417266, 0.41241069910709083, 0.22830361397244214, 0.15327157475369013, 0.5026070503365654, 0.3698754329376239, 0.2733119508247537, 0.04104722975870079, 0.03190321534556784, 0.3573925232365438, 0.2229113845549895, 0.47634590750008154, 0.37285778502909306, 0.47104672303727924, 0.26282046815071336, 0.2707814568900355, 0.35693434971236826, 0.13359807460896445, 0.12977897546690542, 0.01812211435240485, 0.20899040693632642, 0.3785129261981135, 0.2226353033127344, 0.08258740230236494, 0.05588607208879193, 0.44615969472986894, 0.18427963789066037, 0.4467081235016588, 0.019651454361801157, 0.2983814295406475, 0.08087521635970152, 0.02673854391900843, 0.4295696387785837, 0.2590372756330801, 0.20323109352057767, 0.37192106135531233, 0.4550725048772142, 0.19069847859897227, 0.042889340115404906, 0.19332338378737557, 0.1882551421707861, 0.4362315048494212, 0.16038967650892033, 0.24480872101595264, 0.29890335139420987, 0.4379066628338597, 0.1910213419363167, 0.10160079525608445, 0.16156111477929702, 0.3401453398121159, 0.22469612830279218, 0.49145586864620316, 0.2906372554798393, 0.03412123209494311, 0.1969258392754316, 0.3153710496305955, 0.136382910226291, 0.06816858951127625, 0.183331219955714, 0.2569205394346987, 0.105045428586239, 0.403704191643814, 0.24573272619740738, 0.002885972472086884, 0.12175803615671743, 0.15823760710227486, 0.1568875587955798, 0.07974583515975464, 0.41673933555444975, 0.37637927469330545, 0.3308997368243247, 0.1482916311235929, 0.37349261890400864, 0.3113408589842166, 0.3346928236479343, 0.1502657289382725, 0.08335464472770138, 0.42294257571209837, 0.4035313536266507, 0.3653054453803417, 0.03089430845012764, 0.16501035685757337, 0.46438146088585697, 0.08442686296274271, 0.006362109565305474, 0.15533117105767147, 0.07194527191692313, 0.19717370823120905, 0.48683097098189254, 0.4165934840553067, 0.4113335486631593, 0.20606213806716678, 0.4067553321726667, 0.16126317649110788, 0.11604148847216411, 0.2771124775747298, 0.3487409385913427, 0.10892676101581067, 0.4384235631888851]}, {\"line\": {\"color\": \"blue\"}, \"name\": \"Loss Testing\", \"type\": \"scatter\", \"x\": [\"2020-10-26T09:57:45.060929\", \"2020-10-26T09:57:45.061029\", \"2020-10-26T09:57:45.061129\", \"2020-10-26T09:57:45.061229\", \"2020-10-26T09:57:45.061329\", \"2020-10-26T09:57:45.061429\", \"2020-10-26T09:57:45.061529\", \"2020-10-26T09:57:45.061629\", \"2020-10-26T09:57:45.061729\", \"2020-10-26T09:57:45.061829\", \"2020-10-26T09:57:45.061929\", \"2020-10-26T09:57:45.062029\", \"2020-10-26T09:57:45.062129\", \"2020-10-26T09:57:45.062229\", \"2020-10-26T09:57:45.062329\", \"2020-10-26T09:57:45.062429\", \"2020-10-26T09:57:45.062529\", \"2020-10-26T09:57:45.062629\", \"2020-10-26T09:57:45.062729\", \"2020-10-26T09:57:45.062829\", \"2020-10-26T09:57:45.062929\", \"2020-10-26T09:57:45.063029\", \"2020-10-26T09:57:45.063129\", \"2020-10-26T09:57:45.063229\", \"2020-10-26T09:57:45.063329\", \"2020-10-26T09:57:45.063429\", \"2020-10-26T09:57:45.063529\", \"2020-10-26T09:57:45.063629\", \"2020-10-26T09:57:45.063729\", \"2020-10-26T09:57:45.063829\", \"2020-10-26T09:57:45.063929\", \"2020-10-26T09:57:45.064029\", \"2020-10-26T09:57:45.064129\", \"2020-10-26T09:57:45.064229\", \"2020-10-26T09:57:45.064329\", \"2020-10-26T09:57:45.064429\", \"2020-10-26T09:57:45.064529\", \"2020-10-26T09:57:45.064629\", \"2020-10-26T09:57:45.064729\", \"2020-10-26T09:57:45.064829\", \"2020-10-26T09:57:45.064929\", \"2020-10-26T09:57:45.065029\", \"2020-10-26T09:57:45.065129\", \"2020-10-26T09:57:45.065229\", \"2020-10-26T09:57:45.065329\", \"2020-10-26T09:57:45.065429\", \"2020-10-26T09:57:45.065529\", \"2020-10-26T09:57:45.065629\", \"2020-10-26T09:57:45.065729\", \"2020-10-26T09:57:45.065829\", \"2020-10-26T09:57:45.065929\", \"2020-10-26T09:57:45.066029\", \"2020-10-26T09:57:45.066129\", \"2020-10-26T09:57:45.066229\", \"2020-10-26T09:57:45.066329\", \"2020-10-26T09:57:45.066429\", \"2020-10-26T09:57:45.066529\", \"2020-10-26T09:57:45.066629\", \"2020-10-26T09:57:45.066729\", \"2020-10-26T09:57:45.066829\", \"2020-10-26T09:57:45.066929\", \"2020-10-26T09:57:45.067029\", \"2020-10-26T09:57:45.067129\", \"2020-10-26T09:57:45.067229\", \"2020-10-26T09:57:45.067329\", \"2020-10-26T09:57:45.067429\", \"2020-10-26T09:57:45.067529\", \"2020-10-26T09:57:45.067629\", \"2020-10-26T09:57:45.067729\", \"2020-10-26T09:57:45.067829\", \"2020-10-26T09:57:45.067929\", \"2020-10-26T09:57:45.068029\", \"2020-10-26T09:57:45.068129\", \"2020-10-26T09:57:45.068229\", \"2020-10-26T09:57:45.068329\", \"2020-10-26T09:57:45.068429\", \"2020-10-26T09:57:45.068529\", \"2020-10-26T09:57:45.068629\", \"2020-10-26T09:57:45.068729\", \"2020-10-26T09:57:45.068829\", \"2020-10-26T09:57:45.068929\", \"2020-10-26T09:57:45.069029\", \"2020-10-26T09:57:45.069129\", \"2020-10-26T09:57:45.069229\", \"2020-10-26T09:57:45.069329\", \"2020-10-26T09:57:45.069429\", \"2020-10-26T09:57:45.069529\", \"2020-10-26T09:57:45.069629\", \"2020-10-26T09:57:45.069729\", \"2020-10-26T09:57:45.069829\", \"2020-10-26T09:57:45.069929\", \"2020-10-26T09:57:45.070029\", \"2020-10-26T09:57:45.070129\", \"2020-10-26T09:57:45.070229\", \"2020-10-26T09:57:45.070329\", \"2020-10-26T09:57:45.070429\", \"2020-10-26T09:57:45.070529\", \"2020-10-26T09:57:45.070629\", \"2020-10-26T09:57:45.070729\", \"2020-10-26T09:57:45.070829\"], \"y\": [0.5583893297183327, 0.474363694359055, 0.3904974524097504, 0.40655259019966206, 0.39606224333968854, 0.5008944466506282, 0.5782367068736436, 0.46284492940877975, 0.5429601780778031, 0.5616873646999343, 0.5856014542302868, 0.558598672151625, 0.5524951322062144, 0.5265397473700224, 0.3602645205072692, 0.4644630217447405, 0.3692477645034815, 0.5752258112286937, 0.3579519053018414, 0.5645350247925185, 0.41394318166279387, 0.6304503124411864, 0.5638790020648816, 0.6001099253788933, 0.5055698870990764, 0.569223005517439, 0.3987798643993017, 0.6497925158570972, 0.3841783997519457, 0.4029208507995117, 0.3774648657054369, 0.4665951469607732, 0.4645475586570882, 0.4842649974190367, 0.4128399061939332, 0.5030237399355535, 0.46833607291786983, 0.6021072980995701, 0.39290334293905005, 0.36429640183368317, 0.5497130487391733, 0.45924450092458535, 0.4019712534658053, 0.39929513994870103, 0.5150547924900666, 0.6170080480847107, 0.6480171889425801, 0.6160176874370062, 0.47156112491681945, 0.5268814251341452, 0.40599299552284407, 0.47523847850070133, 0.4725383431092993, 0.4384359535742126, 0.5144457968558571, 0.5820360770332007, 0.5112013982857695, 0.48789770957414635, 0.5833458035303334, 0.55467520921139, 0.3578879869508409, 0.6452586120687425, 0.4362261617511498, 0.509478525905914, 0.510250951929601, 0.6280330225228576, 0.4903461035132999, 0.5321628409211705, 0.48900125228024205, 0.3913213032588443, 0.6126228813957244, 0.3948180260759857, 0.6018203445517836, 0.37591065657871603, 0.5811540269065842, 0.38238799032371595, 0.4416615968552664, 0.3710423954086579, 0.49189820008092777, 0.43150655822778283, 0.5429474167774773, 0.5283607396479644, 0.5120341492987919, 0.6388633737317644, 0.6422624321367971, 0.4483796593328675, 0.39468150915722333, 0.4151302761417428, 0.411697496323125, 0.41727841327127546, 0.4300349212719752, 0.3759307903413802, 0.5835395229444922, 0.4719111398754334, 0.44030520146928165, 0.5503036386893676, 0.6042268250781389, 0.6174812163017842, 0.44530295375219087, 0.5468781974204626]}],\n",
       "                        {\"template\": {\"data\": {\"bar\": [{\"error_x\": {\"color\": \"#2a3f5f\"}, \"error_y\": {\"color\": \"#2a3f5f\"}, \"marker\": {\"line\": {\"color\": \"#E5ECF6\", \"width\": 0.5}}, \"type\": \"bar\"}], \"barpolar\": [{\"marker\": {\"line\": {\"color\": \"#E5ECF6\", \"width\": 0.5}}, \"type\": \"barpolar\"}], \"carpet\": [{\"aaxis\": {\"endlinecolor\": \"#2a3f5f\", \"gridcolor\": \"white\", \"linecolor\": \"white\", \"minorgridcolor\": \"white\", \"startlinecolor\": \"#2a3f5f\"}, \"baxis\": {\"endlinecolor\": \"#2a3f5f\", \"gridcolor\": \"white\", \"linecolor\": \"white\", \"minorgridcolor\": \"white\", \"startlinecolor\": \"#2a3f5f\"}, \"type\": \"carpet\"}], \"choropleth\": [{\"colorbar\": {\"outlinewidth\": 0, \"ticks\": \"\"}, \"type\": \"choropleth\"}], \"contour\": [{\"colorbar\": {\"outlinewidth\": 0, \"ticks\": \"\"}, \"colorscale\": [[0.0, \"#0d0887\"], [0.1111111111111111, \"#46039f\"], [0.2222222222222222, \"#7201a8\"], [0.3333333333333333, \"#9c179e\"], [0.4444444444444444, \"#bd3786\"], [0.5555555555555556, \"#d8576b\"], [0.6666666666666666, \"#ed7953\"], [0.7777777777777778, \"#fb9f3a\"], [0.8888888888888888, \"#fdca26\"], [1.0, \"#f0f921\"]], \"type\": \"contour\"}], \"contourcarpet\": [{\"colorbar\": {\"outlinewidth\": 0, \"ticks\": \"\"}, \"type\": \"contourcarpet\"}], \"heatmap\": [{\"colorbar\": {\"outlinewidth\": 0, \"ticks\": \"\"}, \"colorscale\": [[0.0, \"#0d0887\"], [0.1111111111111111, \"#46039f\"], [0.2222222222222222, \"#7201a8\"], [0.3333333333333333, \"#9c179e\"], [0.4444444444444444, \"#bd3786\"], [0.5555555555555556, \"#d8576b\"], [0.6666666666666666, \"#ed7953\"], [0.7777777777777778, \"#fb9f3a\"], [0.8888888888888888, \"#fdca26\"], [1.0, \"#f0f921\"]], \"type\": \"heatmap\"}], \"heatmapgl\": [{\"colorbar\": {\"outlinewidth\": 0, \"ticks\": \"\"}, \"colorscale\": [[0.0, \"#0d0887\"], [0.1111111111111111, \"#46039f\"], [0.2222222222222222, \"#7201a8\"], [0.3333333333333333, \"#9c179e\"], [0.4444444444444444, \"#bd3786\"], [0.5555555555555556, \"#d8576b\"], [0.6666666666666666, \"#ed7953\"], [0.7777777777777778, \"#fb9f3a\"], [0.8888888888888888, \"#fdca26\"], [1.0, \"#f0f921\"]], \"type\": \"heatmapgl\"}], \"histogram\": [{\"marker\": {\"colorbar\": {\"outlinewidth\": 0, \"ticks\": \"\"}}, \"type\": \"histogram\"}], \"histogram2d\": [{\"colorbar\": {\"outlinewidth\": 0, \"ticks\": \"\"}, \"colorscale\": [[0.0, \"#0d0887\"], [0.1111111111111111, \"#46039f\"], [0.2222222222222222, \"#7201a8\"], [0.3333333333333333, \"#9c179e\"], [0.4444444444444444, \"#bd3786\"], [0.5555555555555556, \"#d8576b\"], [0.6666666666666666, \"#ed7953\"], [0.7777777777777778, \"#fb9f3a\"], [0.8888888888888888, \"#fdca26\"], [1.0, \"#f0f921\"]], \"type\": \"histogram2d\"}], \"histogram2dcontour\": [{\"colorbar\": {\"outlinewidth\": 0, \"ticks\": \"\"}, \"colorscale\": [[0.0, \"#0d0887\"], [0.1111111111111111, \"#46039f\"], [0.2222222222222222, \"#7201a8\"], [0.3333333333333333, \"#9c179e\"], [0.4444444444444444, \"#bd3786\"], [0.5555555555555556, \"#d8576b\"], [0.6666666666666666, \"#ed7953\"], [0.7777777777777778, \"#fb9f3a\"], [0.8888888888888888, \"#fdca26\"], [1.0, \"#f0f921\"]], \"type\": \"histogram2dcontour\"}], \"mesh3d\": [{\"colorbar\": {\"outlinewidth\": 0, \"ticks\": \"\"}, \"type\": \"mesh3d\"}], \"parcoords\": [{\"line\": {\"colorbar\": {\"outlinewidth\": 0, \"ticks\": \"\"}}, \"type\": \"parcoords\"}], \"pie\": [{\"automargin\": true, \"type\": \"pie\"}], \"scatter\": [{\"marker\": {\"colorbar\": {\"outlinewidth\": 0, \"ticks\": \"\"}}, \"type\": \"scatter\"}], \"scatter3d\": [{\"line\": {\"colorbar\": {\"outlinewidth\": 0, \"ticks\": \"\"}}, \"marker\": {\"colorbar\": {\"outlinewidth\": 0, \"ticks\": \"\"}}, \"type\": \"scatter3d\"}], \"scattercarpet\": [{\"marker\": {\"colorbar\": {\"outlinewidth\": 0, \"ticks\": \"\"}}, \"type\": \"scattercarpet\"}], \"scattergeo\": [{\"marker\": {\"colorbar\": {\"outlinewidth\": 0, \"ticks\": \"\"}}, \"type\": \"scattergeo\"}], \"scattergl\": [{\"marker\": {\"colorbar\": {\"outlinewidth\": 0, \"ticks\": \"\"}}, \"type\": \"scattergl\"}], \"scattermapbox\": [{\"marker\": {\"colorbar\": {\"outlinewidth\": 0, \"ticks\": \"\"}}, \"type\": \"scattermapbox\"}], \"scatterpolar\": [{\"marker\": {\"colorbar\": {\"outlinewidth\": 0, \"ticks\": \"\"}}, \"type\": \"scatterpolar\"}], \"scatterpolargl\": [{\"marker\": {\"colorbar\": {\"outlinewidth\": 0, \"ticks\": \"\"}}, \"type\": \"scatterpolargl\"}], \"scatterternary\": [{\"marker\": {\"colorbar\": {\"outlinewidth\": 0, \"ticks\": \"\"}}, \"type\": \"scatterternary\"}], \"surface\": [{\"colorbar\": {\"outlinewidth\": 0, \"ticks\": \"\"}, \"colorscale\": [[0.0, \"#0d0887\"], [0.1111111111111111, \"#46039f\"], [0.2222222222222222, \"#7201a8\"], [0.3333333333333333, \"#9c179e\"], [0.4444444444444444, \"#bd3786\"], [0.5555555555555556, \"#d8576b\"], [0.6666666666666666, \"#ed7953\"], [0.7777777777777778, \"#fb9f3a\"], [0.8888888888888888, \"#fdca26\"], [1.0, \"#f0f921\"]], \"type\": \"surface\"}], \"table\": [{\"cells\": {\"fill\": {\"color\": \"#EBF0F8\"}, \"line\": {\"color\": \"white\"}}, \"header\": {\"fill\": {\"color\": \"#C8D4E3\"}, \"line\": {\"color\": \"white\"}}, \"type\": \"table\"}]}, \"layout\": {\"annotationdefaults\": {\"arrowcolor\": \"#2a3f5f\", \"arrowhead\": 0, \"arrowwidth\": 1}, \"coloraxis\": {\"colorbar\": {\"outlinewidth\": 0, \"ticks\": \"\"}}, \"colorscale\": {\"diverging\": [[0, \"#8e0152\"], [0.1, \"#c51b7d\"], [0.2, \"#de77ae\"], [0.3, \"#f1b6da\"], [0.4, \"#fde0ef\"], [0.5, \"#f7f7f7\"], [0.6, \"#e6f5d0\"], [0.7, \"#b8e186\"], [0.8, \"#7fbc41\"], [0.9, \"#4d9221\"], [1, \"#276419\"]], \"sequential\": [[0.0, \"#0d0887\"], [0.1111111111111111, \"#46039f\"], [0.2222222222222222, \"#7201a8\"], [0.3333333333333333, \"#9c179e\"], [0.4444444444444444, \"#bd3786\"], [0.5555555555555556, \"#d8576b\"], [0.6666666666666666, \"#ed7953\"], [0.7777777777777778, \"#fb9f3a\"], [0.8888888888888888, \"#fdca26\"], [1.0, \"#f0f921\"]], \"sequentialminus\": [[0.0, \"#0d0887\"], [0.1111111111111111, \"#46039f\"], [0.2222222222222222, \"#7201a8\"], [0.3333333333333333, \"#9c179e\"], [0.4444444444444444, \"#bd3786\"], [0.5555555555555556, \"#d8576b\"], [0.6666666666666666, \"#ed7953\"], [0.7777777777777778, \"#fb9f3a\"], [0.8888888888888888, \"#fdca26\"], [1.0, \"#f0f921\"]]}, \"colorway\": [\"#636efa\", \"#EF553B\", \"#00cc96\", \"#ab63fa\", \"#FFA15A\", \"#19d3f3\", \"#FF6692\", \"#B6E880\", \"#FF97FF\", \"#FECB52\"], \"font\": {\"color\": \"#2a3f5f\"}, \"geo\": {\"bgcolor\": \"white\", \"lakecolor\": \"white\", \"landcolor\": \"#E5ECF6\", \"showlakes\": true, \"showland\": true, \"subunitcolor\": \"white\"}, \"hoverlabel\": {\"align\": \"left\"}, \"hovermode\": \"closest\", \"mapbox\": {\"style\": \"light\"}, \"paper_bgcolor\": \"white\", \"plot_bgcolor\": \"#E5ECF6\", \"polar\": {\"angularaxis\": {\"gridcolor\": \"white\", \"linecolor\": \"white\", \"ticks\": \"\"}, \"bgcolor\": \"#E5ECF6\", \"radialaxis\": {\"gridcolor\": \"white\", \"linecolor\": \"white\", \"ticks\": \"\"}}, \"scene\": {\"xaxis\": {\"backgroundcolor\": \"#E5ECF6\", \"gridcolor\": \"white\", \"gridwidth\": 2, \"linecolor\": \"white\", \"showbackground\": true, \"ticks\": \"\", \"zerolinecolor\": \"white\"}, \"yaxis\": {\"backgroundcolor\": \"#E5ECF6\", \"gridcolor\": \"white\", \"gridwidth\": 2, \"linecolor\": \"white\", \"showbackground\": true, \"ticks\": \"\", \"zerolinecolor\": \"white\"}, \"zaxis\": {\"backgroundcolor\": \"#E5ECF6\", \"gridcolor\": \"white\", \"gridwidth\": 2, \"linecolor\": \"white\", \"showbackground\": true, \"ticks\": \"\", \"zerolinecolor\": \"white\"}}, \"shapedefaults\": {\"line\": {\"color\": \"#2a3f5f\"}}, \"ternary\": {\"aaxis\": {\"gridcolor\": \"white\", \"linecolor\": \"white\", \"ticks\": \"\"}, \"baxis\": {\"gridcolor\": \"white\", \"linecolor\": \"white\", \"ticks\": \"\"}, \"bgcolor\": \"#E5ECF6\", \"caxis\": {\"gridcolor\": \"white\", \"linecolor\": \"white\", \"ticks\": \"\"}}, \"title\": {\"x\": 0.05}, \"xaxis\": {\"automargin\": true, \"gridcolor\": \"white\", \"linecolor\": \"white\", \"ticks\": \"\", \"title\": {\"standoff\": 15}, \"zerolinecolor\": \"white\", \"zerolinewidth\": 2}, \"yaxis\": {\"automargin\": true, \"gridcolor\": \"white\", \"linecolor\": \"white\", \"ticks\": \"\", \"title\": {\"standoff\": 15}, \"zerolinecolor\": \"white\", \"zerolinewidth\": 2}}}, \"title\": {\"text\": \"Checker prediction on test data\"}, \"xaxis\": {\"rangeslider\": {\"visible\": true}}},\n",
       "                        {\"responsive\": true}\n",
       "                    ).then(function(){\n",
       "                            \n",
       "var gd = document.getElementById('166662fb-34c6-497c-999d-e2458ce35d82');\n",
       "var x = new MutationObserver(function (mutations, observer) {{\n",
       "        var display = window.getComputedStyle(gd).display;\n",
       "        if (!display || display === 'none') {{\n",
       "            console.log([gd, 'removed!']);\n",
       "            Plotly.purge(gd);\n",
       "            observer.disconnect();\n",
       "        }}\n",
       "}});\n",
       "\n",
       "// Listen for the removal of the full notebook cells\n",
       "var notebookContainer = gd.closest('#notebook-container');\n",
       "if (notebookContainer) {{\n",
       "    x.observe(notebookContainer, {childList: true});\n",
       "}}\n",
       "\n",
       "// Listen for the clearing of the current output cell\n",
       "var outputEl = gd.closest('.output');\n",
       "if (outputEl) {{\n",
       "    x.observe(outputEl, {childList: true});\n",
       "}}\n",
       "\n",
       "                        })\n",
       "                };\n",
       "                });\n",
       "            </script>\n",
       "        </div>"
      ]
     },
     "metadata": {},
     "output_type": "display_data"
    }
   ],
   "source": [
    "date = datetime.today()\n",
    "\n",
    "model, E_full, E_test, X_test_labeled = dd_autoencoder.get_checker(X_train, X_test, tracker.ad_paths, date)\n",
    "# model, E_full, E_test, X_test = dd_autoencoder.get_checker(X_train, X_test, self.ad_paths, date=date_file)\n",
    "dd_autoencoder.plot_predictions(E_full, E_test)"
   ]
  },
  {
   "cell_type": "code",
   "execution_count": 23,
   "metadata": {
    "collapsed": false,
    "jupyter": {
     "outputs_hidden": false
    },
    "pycharm": {
     "name": "#%%\n"
    }
   },
   "outputs": [
    {
     "name": "stdout",
     "output_type": "stream",
     "text": [
      "45\n"
     ]
    },
    {
     "data": {
      "text/plain": [
       "[34.4918327631177, 34.62632473697098, 34.73095255341573]"
      ]
     },
     "execution_count": 23,
     "metadata": {},
     "output_type": "execute_result"
    }
   ],
   "source": [
    "anomalies  = X_test_labeled[X_test_labeled.Anomaly == True].qps.values\n",
    "print(len(anomalies))\n",
    "sorted(anomalies[:3], reverse=False)"
   ]
  },
  {
   "cell_type": "code",
   "execution_count": 24,
   "metadata": {
    "collapsed": false,
    "jupyter": {
     "outputs_hidden": false
    },
    "pycharm": {
     "name": "#%%\n"
    }
   },
   "outputs": [
    {
     "data": {
      "text/html": [
       "<div>\n",
       "<style scoped>\n",
       "    .dataframe tbody tr th:only-of-type {\n",
       "        vertical-align: middle;\n",
       "    }\n",
       "\n",
       "    .dataframe tbody tr th {\n",
       "        vertical-align: top;\n",
       "    }\n",
       "\n",
       "    .dataframe thead th {\n",
       "        text-align: right;\n",
       "    }\n",
       "</style>\n",
       "<table border=\"1\" class=\"dataframe\">\n",
       "  <thead>\n",
       "    <tr style=\"text-align: right;\">\n",
       "      <th></th>\n",
       "      <th>qps</th>\n",
       "      <th>Anomaly</th>\n",
       "    </tr>\n",
       "  </thead>\n",
       "  <tbody>\n",
       "    <tr>\n",
       "      <th>2020-10-26 09:57:45.067729</th>\n",
       "      <td>35.097753</td>\n",
       "      <td>False</td>\n",
       "    </tr>\n",
       "    <tr>\n",
       "      <th>2020-10-26 09:57:45.064229</th>\n",
       "      <td>35.130063</td>\n",
       "      <td>False</td>\n",
       "    </tr>\n",
       "    <tr>\n",
       "      <th>2020-10-26 09:57:45.067129</th>\n",
       "      <td>35.458754</td>\n",
       "      <td>False</td>\n",
       "    </tr>\n",
       "    <tr>\n",
       "      <th>2020-10-26 09:57:45.061529</th>\n",
       "      <td>34.491833</td>\n",
       "      <td>True</td>\n",
       "    </tr>\n",
       "    <tr>\n",
       "      <th>2020-10-26 09:57:45.062429</th>\n",
       "      <td>35.265347</td>\n",
       "      <td>False</td>\n",
       "    </tr>\n",
       "    <tr>\n",
       "      <th>2020-10-26 09:57:45.066629</th>\n",
       "      <td>35.105280</td>\n",
       "      <td>False</td>\n",
       "    </tr>\n",
       "    <tr>\n",
       "      <th>2020-10-26 09:57:45.065429</th>\n",
       "      <td>34.229389</td>\n",
       "      <td>True</td>\n",
       "    </tr>\n",
       "    <tr>\n",
       "      <th>2020-10-26 09:57:45.063329</th>\n",
       "      <td>34.984882</td>\n",
       "      <td>False</td>\n",
       "    </tr>\n",
       "    <tr>\n",
       "      <th>2020-10-26 09:57:45.068729</th>\n",
       "      <td>35.078000</td>\n",
       "      <td>False</td>\n",
       "    </tr>\n",
       "    <tr>\n",
       "      <th>2020-10-26 09:57:45.069829</th>\n",
       "      <td>35.588819</td>\n",
       "      <td>False</td>\n",
       "    </tr>\n",
       "  </tbody>\n",
       "</table>\n",
       "</div>"
      ],
      "text/plain": [
       "                                  qps  Anomaly\n",
       "2020-10-26 09:57:45.067729  35.097753    False\n",
       "2020-10-26 09:57:45.064229  35.130063    False\n",
       "2020-10-26 09:57:45.067129  35.458754    False\n",
       "2020-10-26 09:57:45.061529  34.491833     True\n",
       "2020-10-26 09:57:45.062429  35.265347    False\n",
       "2020-10-26 09:57:45.066629  35.105280    False\n",
       "2020-10-26 09:57:45.065429  34.229389     True\n",
       "2020-10-26 09:57:45.063329  34.984882    False\n",
       "2020-10-26 09:57:45.068729  35.078000    False\n",
       "2020-10-26 09:57:45.069829  35.588819    False"
      ]
     },
     "execution_count": 24,
     "metadata": {},
     "output_type": "execute_result"
    }
   ],
   "source": [
    "X_test_labeled.sample(10)"
   ]
  },
  {
   "cell_type": "markdown",
   "metadata": {},
   "source": [
    "# Improving\n",
    "\n",
    "- The improver needs to reason about what to do based on certain knowledge base.\n",
    " After that, a planning process should be triggered.\n",
    "\n",
    "- For this naive example, our knowledge base comprises the following rules: \n",
    "    > If for a 10-minute interval\n",
    "    the percentage of anomalies is greater than 30%, then change the current model A to a model B.\n",
    "\n",
    "    > This model B, should be the second highest in accuracy and have a better qps than model A.\n",
    "- We need to use an improving node to find this model B."
   ]
  },
  {
   "cell_type": "code",
   "execution_count": 25,
   "metadata": {
    "collapsed": false,
    "jupyter": {
     "outputs_hidden": false
    },
    "pycharm": {
     "name": "#%%\n"
    }
   },
   "outputs": [
    {
     "data": {
      "image/png": "[encoded data removed]",
      "text/plain": [
       "<IPython.core.display.Image object>"
      ]
     },
     "execution_count": 25,
     "metadata": {
      "image/png": {
       "height": 400,
       "width": 400
      }
     },
     "output_type": "execute_result"
    }
   ],
   "source": [
    "from IPython.display import Image\n",
    "Image(\"../pictures/improving.png\", width=400, height=400)"
   ]
  },
  {
   "cell_type": "code",
   "execution_count": 26,
   "metadata": {
    "collapsed": false,
    "jupyter": {
     "outputs_hidden": false
    },
    "pycharm": {
     "name": "#%%\n"
    }
   },
   "outputs": [
    {
     "data": {
      "text/plain": [
       "0.45"
      ]
     },
     "execution_count": 26,
     "metadata": {},
     "output_type": "execute_result"
    }
   ],
   "source": [
    "percentage = len(anomalies)/len(X_test_labeled)\n",
    "percentage"
   ]
  },
  {
   "cell_type": "code",
   "execution_count": 29,
   "metadata": {
    "collapsed": false,
    "jupyter": {
     "outputs_hidden": false
    },
    "pycharm": {
     "name": "#%%\n"
    }
   },
   "outputs": [
    {
     "data": {
      "image/png": "[encoded data removed]",
      "text/plain": [
       "<IPython.core.display.Image object>"
      ]
     },
     "execution_count": 29,
     "metadata": {
      "image/png": {
       "height": 600,
       "width": 600
      }
     },
     "output_type": "execute_result"
    }
   ],
   "source": [
    "from IPython.display import Image\n",
    "Image(\"../pictures/improving_algo.png\", width=600, height=600)"
   ]
  },
  {
   "cell_type": "markdown",
   "metadata": {
    "pycharm": {
     "name": "#%% md\n"
    }
   },
   "source": [
    "- Let's define an improving node program.\n",
    "- We can set up the metric q = accuracy/qps"
   ]
  },
  {
   "cell_type": "code",
   "execution_count": 56,
   "metadata": {},
   "outputs": [
    {
     "data": {
      "image/png": "[encoded data removed]",
      "text/plain": [
       "<IPython.core.display.Image object>"
      ]
     },
     "execution_count": 56,
     "metadata": {
      "image/png": {
       "height": 600,
       "width": 600
      }
     },
     "output_type": "execute_result"
    }
   ],
   "source": [
    "# This behaviour is similar to a multiagent system\n",
    "\n",
    "from IPython.display import Image\n",
    "Image(\"../pictures/scanflow.png\", width=600, height=600)"
   ]
  },
  {
   "cell_type": "code",
   "execution_count": 42,
   "metadata": {},
   "outputs": [
    {
     "data": {
      "text/plain": [
       "{'mlperf_conf': './mlperf.conf',\n",
       " 'profile': 'resnet50-tf',\n",
       " 'model': '/mlperf/models/resnet50_v1.pb',\n",
       " 'dataset-path': '/mlperf/fake_imagenet',\n",
       " 'output': '/mlperf/output',\n",
       " 'time': 10,\n",
       " 'max-latency': 0.2,\n",
       " 'accuracy': ''}"
      ]
     },
     "execution_count": 42,
     "metadata": {},
     "output_type": "execute_result"
    }
   ],
   "source": [
    "base_params1"
   ]
  },
  {
   "cell_type": "code",
   "execution_count": 52,
   "metadata": {},
   "outputs": [
    {
     "data": {
      "text/plain": [
       "38.59587629565625"
      ]
     },
     "execution_count": 52,
     "metadata": {},
     "output_type": "execute_result"
    }
   ],
   "source": [
    "X_train.mean().values[0]"
   ]
  },
  {
   "cell_type": "code",
   "execution_count": 59,
   "metadata": {
    "collapsed": false,
    "jupyter": {
     "outputs_hidden": false
    },
    "pycharm": {
     "name": "#%%\n"
    }
   },
   "outputs": [
    {
     "data": {
      "text/plain": [
       "{'name': 'mlperf-tf-mobilenet', 'qps': 55, 'acc': 96}"
      ]
     },
     "execution_count": 59,
     "metadata": {},
     "output_type": "execute_result"
    }
   ],
   "source": [
    "# Should be a function to gather models in registry\n",
    "models_registry = [{'name':'mlperf-tf-mobilenet' , 'qps':55, 'acc': 96},\n",
    "                  {'name':'mlperf-tflite-mobilenet' , 'qps': 66, 'acc': 94}]\n",
    "\n",
    "# Should be gathered from the tracker\n",
    "feedback = {'qps': X_train.mean().values[0], 'percentage': percentage}\n",
    "\n",
    "def modify(model, feedback):\n",
    "    \"\"\"\n",
    "        If for a 10-minute interval the percentage of anomalies is greater than 30%, \n",
    "        then change the current model A to a model B.\n",
    "        \n",
    "        This model B, should be the second highest in accuracy and have a better qps than model A.\n",
    "    \"\"\"\n",
    "    qps = feedback['qps']  # provided by tracker\n",
    "    percentage = feedback['percentage'] # provided by checker\n",
    "    \n",
    "    sorted_model = sorted(models_registry, key=lambda x: x['acc'], reverse=True)\n",
    "    new_model = sorted_model[0]\n",
    "    \n",
    "    if percentage > 0.30 and new_model['qps'] > qps:\n",
    "        return new_model\n",
    "    else:\n",
    "        return model\n",
    "\n",
    "def evaluate(model):\n",
    "    \n",
    "    return model['qps']\n",
    "\n",
    "def improving_program(model, feedback):\n",
    "    new_model = modify(model, feedback)\n",
    "    \n",
    "    new_q = evaluate(new_model)\n",
    "    \n",
    "    if new_q > feedback['qps']:\n",
    "        return new_model\n",
    "    else:\n",
    "        return None\n",
    "    \n",
    "improving_program(model, feedback)\n"
   ]
  },
  {
   "cell_type": "markdown",
   "metadata": {
    "pycharm": {
     "name": "#%% md\n"
    }
   },
   "source": [
    "# TODO\n",
    "\n",
    "The following TODO list depends on the level of mature of scanflow:\n",
    "\n",
    "- Run each node independently on demand.\n",
    "- Watch dog behaviour for all the special nodes.\n",
    "- We need a new special node: planning, to apply the conclusions from the improver node."
   ]
  },
  {
   "cell_type": "markdown",
   "metadata": {},
   "source": [
    "# Analogy\n",
    "\n",
    "- Knowledge base: Data from tracker, checker or human.\n",
    "- Reasoning/Inference: Improver (how to manipulate these symbols).\n",
    "- Planning: New special node: planner."
   ]
  },
  {
   "cell_type": "code",
   "execution_count": null,
   "metadata": {},
   "outputs": [],
   "source": []
  }
 ],
 "metadata": {
  "kernelspec": {
   "display_name": "Python 3",
   "language": "python",
   "name": "python3"
  },
  "language_info": {
   "codemirror_mode": {
    "name": "ipython",
    "version": 3
   },
   "file_extension": ".py",
   "mimetype": "text/x-python",
   "name": "python",
   "nbconvert_exporter": "python",
   "pygments_lexer": "ipython3",
   "version": "3.7.5"
  }
 },
 "nbformat": 4,
 "nbformat_minor": 4
}
