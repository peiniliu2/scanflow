{
 "cells": [
  {
   "cell_type": "markdown",
   "metadata": {},
   "source": [
    "# MNIST demo"
   ]
  },
  {
   "cell_type": "code",
   "execution_count": 52,
   "metadata": {
    "jupyter": {
     "source_hidden": true
    }
   },
   "outputs": [],
   "source": [
    "import matplotlib.pyplot as plt\n",
    "import tensorflow as tf\n",
    "import seaborn as sns\n",
    "import numpy as np\n",
    "import pandas as pd\n",
    "import math\n",
    "import os\n",
    "import plotly.graph_objects as go\n",
    "\n",
    "from datetime import datetime\n",
    "\n",
    "def show_numbers(x, y, n_display=9, title='MNIST'):\n",
    "    n_cells = math.ceil(math.sqrt(n_display))\n",
    "    fig = plt.figure(figsize=(5,5))\n",
    "\n",
    "    for i in range(n_display):\n",
    "        plt.subplot(n_cells, n_cells, i+1)\n",
    "        plt.xticks([])\n",
    "        plt.yticks([])\n",
    "        plt.grid(False)\n",
    "        plt.imshow(x[i], cmap='gray')\n",
    "        # plt.imshow(x[i], cmap=plt.cm.binary)\n",
    "        plt.xlabel(y[i])\n",
    "\n",
    "    fig.suptitle(title)    \n",
    "#     fig.savefig(f\"{title}.png\")\n",
    "    plt.show()\n",
    "    \n",
    "def load_mnist_c(corruption='scale'):\n",
    "\n",
    "    img_rows, img_cols = 28, 28\n",
    "    x_train = np.load(f'mnist_c/{corruption}/train_images.npy')\n",
    "    y_train = np.load(f'mnist_c/{corruption}/train_labels.npy')\n",
    "\n",
    "    x_test = np.load(f'mnist_c/{corruption}/test_images.npy')\n",
    "    y_test = np.load(f'mnist_c/{corruption}/test_labels.npy')\n",
    "\n",
    "    x_train = x_train.reshape(x_train.shape[0], img_rows, img_cols)\n",
    "    x_test = x_test.reshape(x_test.shape[0], img_rows, img_cols)\n",
    "\n",
    "    return (x_train, y_train), (x_test, y_test) \n",
    "\n",
    "def save_images(x):\n",
    "    base_path = os.path.dirname(os.getcwd())\n",
    "    images = os.path.join(base_path, \"examples/demo_mnist/data-science/workflow/images/test_images.npy\")\n",
    "\n",
    "    with open(images, 'wb') as f:\n",
    "        np.save(f, x)\n",
    "        \n",
    "mnist_dataset = tf.keras.datasets.mnist\n",
    "(x_train, y_train), (x_test, y_test) = mnist_dataset.load_data()"
   ]
  },
  {
   "cell_type": "code",
   "execution_count": 53,
   "metadata": {},
   "outputs": [
    {
     "name": "stdout",
     "output_type": "stream",
     "text": [
      "MNIST shape: ((60000, 28, 28), (10000, 28, 28))\n"
     ]
    },
    {
     "data": {
      "image/png": "[encoded data removed]",
      "text/plain": [
       "<Figure size 360x360 with 9 Axes>"
      ]
     },
     "metadata": {},
     "output_type": "display_data"
    }
   ],
   "source": [
    "print(f'MNIST shape: {x_train.shape, x_test.shape}')\n",
    "show_numbers(x_train, y_train, title=f\"MNIST_original\")"
   ]
  },
  {
   "cell_type": "code",
   "execution_count": 39,
   "metadata": {},
   "outputs": [],
   "source": [
    "save_images(x_train[:20])"
   ]
  },
  {
   "cell_type": "code",
   "execution_count": 22,
   "metadata": {},
   "outputs": [
    {
     "name": "stderr",
     "output_type": "stream",
     "text": [
      "08-Mar-21 02:43:09 -  INFO - [Tracker] Port 8002 is set successfully.\n"
     ]
    },
    {
     "data": {
      "text/plain": [
       "\n",
       "Setup = (\n",
       "    Workflows: ['mnist']\n",
       ")"
      ]
     },
     "execution_count": 22,
     "metadata": {},
     "output_type": "execute_result"
    }
   ],
   "source": [
    "import sys\n",
    "import matplotlib.pyplot as plt\n",
    "import os\n",
    "sys.path.insert(0,'..')\n",
    "\n",
    "import scanflow\n",
    "\n",
    "from scanflow.setup import Setup, Executor, Workflow\n",
    "from scanflow.special import Tracker, Checker, Improver, Planner\n",
    "from scanflow.deploy import Deploy\n",
    "\n",
    "# App folder\n",
    "base_path = os.path.dirname(os.getcwd())\n",
    "app_dir = os.path.join(base_path, \"examples/demo_mnist/data-science/\")\n",
    "\n",
    "\n",
    "executors = [Executor(name='predictor', \n",
    "                      file='predictor.py',\n",
    "                      parameters={'input_path': './images/test_images.npy', \n",
    "                                  'model_path': './mnist_cnn.pt'},\n",
    "                      requirements='req_predictor.txt')           \n",
    "            ]\n",
    "\n",
    "\n",
    "workflow1 = Workflow(name='mnist', \n",
    "                     executors=executors,\n",
    "                     mode='online', # Online debugging\n",
    "                     tracker=Tracker(port=8002)) # Agent Checker\n",
    "    \n",
    "setup = Setup(app_dir, workflows=[workflow1],\n",
    "                             verbose=True)\n",
    "\n",
    "setup"
   ]
  },
  {
   "cell_type": "code",
   "execution_count": 29,
   "metadata": {},
   "outputs": [],
   "source": [
    "deployer = Deploy(setup, verbose=True)\n",
    "deployer.pipeline() # Build, Start and Run\n",
    "# deployer.stop_workflows()"
   ]
  },
  {
   "cell_type": "code",
   "execution_count": 41,
   "metadata": {},
   "outputs": [
    {
     "name": "stderr",
     "output_type": "stream",
     "text": [
      "  0%|          | 0/1 [00:00<?, ?it/s]08-Mar-21 03:09:34 -  INFO - [++] Running workflow: [mnist].\n",
      "08-Mar-21 03:09:34 -  INFO - [+] Running env: [mnist:predictor].\n",
      "08-Mar-21 03:09:36 -  INFO - [+] Running (predictor.py). \n",
      "08-Mar-21 03:09:36 -  INFO - [+] Output:     predictions\n",
      "0            5\n",
      "1            0\n",
      "2            4\n",
      "3            1\n",
      "4            9\n",
      " \n",
      "08-Mar-21 03:09:36 -  INFO - [+] Environment (predictor) finished successfully. \n",
      "08-Mar-21 03:09:36 -  INFO - [+] Workflow: [mnist] was run successfully.\n",
      "100%|██████████| 1/1 [00:01<00:00,  1.37s/it]"
     ]
    },
    {
     "name": "stdout",
     "output_type": "stream",
     "text": [
      "Elapsed time: 1.3763527870178223\n"
     ]
    },
    {
     "name": "stderr",
     "output_type": "stream",
     "text": [
      "\n"
     ]
    }
   ],
   "source": [
    "deployer.run_workflows()"
   ]
  },
  {
   "cell_type": "code",
   "execution_count": 47,
   "metadata": {},
   "outputs": [
    {
     "name": "stdout",
     "output_type": "stream",
     "text": [
      "MNIST-C shape: ((60000, 28, 28), (10000, 28, 28))\n"
     ]
    },
    {
     "data": {
      "image/png": "[encoded data removed]",
      "text/plain": [
       "<Figure size 360x360 with 9 Axes>"
      ]
     },
     "metadata": {},
     "output_type": "display_data"
    }
   ],
   "source": [
    "corruption = 'canny_edges'\n",
    "(x_train_c, y_train_c), (x_test_c, y_test_c) = load_mnist_c(corruption)\n",
    "\n",
    "print(f'MNIST-C shape: {x_train_c.shape, x_test_c.shape}')\n",
    "show_numbers(x_train_c, y_train_c, title=f\"MNIST-C_{corruption}\")    \n",
    "    "
   ]
  },
  {
   "cell_type": "code",
   "execution_count": 49,
   "metadata": {},
   "outputs": [],
   "source": [
    "save_images(x_train_c[:30])"
   ]
  },
  {
   "cell_type": "code",
   "execution_count": 50,
   "metadata": {},
   "outputs": [
    {
     "name": "stderr",
     "output_type": "stream",
     "text": [
      "  0%|          | 0/1 [00:00<?, ?it/s]08-Mar-21 03:16:39 -  INFO - [++] Running workflow: [mnist].\n",
      "08-Mar-21 03:16:39 -  INFO - [+] Running env: [mnist:predictor].\n",
      "08-Mar-21 03:16:40 -  INFO - [+] Running (predictor.py). \n",
      "08-Mar-21 03:16:40 -  INFO - [+] Output:     predictions\n",
      "0            5\n",
      "1            0\n",
      "2            4\n",
      "3            8\n",
      "4            9\n",
      " \n",
      "08-Mar-21 03:16:40 -  INFO - [+] Environment (predictor) finished successfully. \n",
      "08-Mar-21 03:16:40 -  INFO - [+] Workflow: [mnist] was run successfully.\n",
      "100%|██████████| 1/1 [00:01<00:00,  1.43s/it]"
     ]
    },
    {
     "name": "stdout",
     "output_type": "stream",
     "text": [
      "Elapsed time: 1.4353790283203125\n"
     ]
    },
    {
     "name": "stderr",
     "output_type": "stream",
     "text": [
      "\n"
     ]
    }
   ],
   "source": [
    "deployer.run_workflows()"
   ]
  },
  {
   "cell_type": "markdown",
   "metadata": {},
   "source": [
    "# Tracker"
   ]
  },
  {
   "cell_type": "code",
   "execution_count": null,
   "metadata": {},
   "outputs": [],
   "source": [
    "from scanflow import track\n",
    "\n",
    "tracker = track.Tracker(app_dir)\n",
    "X_test_path = tracker.list_artifacts('mnist', '2d4ec92be0d64e27aea4f50d4aeaf462')\n",
    "X_test = pd.read_csv(X_test_path['query_per_second_test.csv'])\n",
    "X_train = pd.read_csv(X_test_path['query_per_second_train.csv'])\n",
    "X_test.sample(5)"
   ]
  }
 ],
 "metadata": {
  "kernelspec": {
   "display_name": "Python 3",
   "language": "python",
   "name": "python3"
  },
  "language_info": {
   "codemirror_mode": {
    "name": "ipython",
    "version": 3
   },
   "file_extension": ".py",
   "mimetype": "text/x-python",
   "name": "python",
   "nbconvert_exporter": "python",
   "pygments_lexer": "ipython3",
   "version": "3.7.5"
  }
 },
 "nbformat": 4,
 "nbformat_minor": 4
}
