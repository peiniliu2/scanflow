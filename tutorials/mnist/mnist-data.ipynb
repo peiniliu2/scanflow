{
 "cells": [
  {
   "cell_type": "markdown",
   "metadata": {},
   "source": [
    "# Mnist Data (Discovery Stage)\n",
    "\n",
    "## Prepare the dataset\n",
    "  \n",
    "## Submit datset to Scanflow Server\n",
    "```bash\n",
    "  mnist\n",
    "   - data\n",
    "     - mnist\n",
    "       - train_images.npy\n",
    "       - train_labels.npy\n",
    "       - test_images.npy\n",
    "       - test_labels.npy\n",
    "```"
   ]
  },
  {
   "cell_type": "code",
   "execution_count": 1,
   "metadata": {},
   "outputs": [
    {
     "name": "stderr",
     "output_type": "stream",
     "text": [
      "18-Apr-21 21:09:40 -  INFO - Scanflow tracking server uri: http://172.30.0.50:46667\n"
     ]
    }
   ],
   "source": [
    "import sys\n",
    "import matplotlib.pyplot as plt\n",
    "import os\n",
    "sys.path.insert(0,'../..')\n",
    "\n",
    "import scanflow\n",
    "from scanflow.client import ScanflowTrackerClient\n",
    "\n",
    "# App folder\n",
    "scanflow_path = \"/gpfs/bsc_home/xpliu/pv/jupyterhubpeini/scanflow\"\n",
    "app_dir = os.path.join(scanflow_path, \"examples/mnist/data\")\n",
    "app_name = \"mnist\"\n",
    "\n",
    "# scanflow client\n",
    "client = ScanflowTrackerClient(server_tracker_uri=\"http://172.30.0.50:46667\",\n",
    "                        verbose=True)"
   ]
  },
  {
   "cell_type": "code",
   "execution_count": 2,
   "metadata": {},
   "outputs": [
    {
     "name": "stderr",
     "output_type": "stream",
     "text": [
      "18-Apr-21 20:41:49 -  INFO - save app in /gpfs/bsc_home/xpliu/pv/jupyterhubpeini/scanflow/examples/mnist/data to artifact uri: s3://scanflow/1/f435ea1d8fa14fe3898dd91e73b62f1a/artifacts\n",
      "18-Apr-21 20:41:49 -  INFO - Found credentials in environment variables.\n"
     ]
    }
   ],
   "source": [
    "client.save_app(app_name=app_name, \n",
    "                team_name=\"data\", \n",
    "                app_dir=app_dir)"
   ]
  },
  {
   "cell_type": "code",
   "execution_count": null,
   "metadata": {},
   "outputs": [],
   "source": []
  },
  {
   "cell_type": "markdown",
   "metadata": {},
   "source": [
    "### some tests"
   ]
  },
  {
   "cell_type": "code",
   "execution_count": 3,
   "metadata": {},
   "outputs": [
    {
     "name": "stderr",
     "output_type": "stream",
     "text": [
      "18-Apr-21 21:10:01 -  INFO - [download_app] by 'app_name'. None. Get the latest submission by mnist\n",
      "18-Apr-21 21:10:01 -  INFO - get latest run within the experiment:['1']\n",
      "18-Apr-21 21:10:01 -  INFO - {'info': {'artifact_uri': 's3://scanflow/1/f435ea1d8fa14fe3898dd91e73b62f1a/artifacts', 'end_time': 1618771321492, 'experiment_id': '1', 'lifecycle_stage': 'active', 'run_id': 'f435ea1d8fa14fe3898dd91e73b62f1a', 'run_uuid': 'f435ea1d8fa14fe3898dd91e73b62f1a', 'start_time': 1618771309570, 'status': 'FINISHED', 'user_id': 'xpliu'}, 'data': {'metrics': {}, 'params': {}, 'tags': {'mlflow.user': 'xpliu', 'mlflow.source.name': '/gpfs/bsc_home/xpliu/anaconda3/lib/python3.8/site-packages/ipykernel_launcher.py', 'mlflow.source.type': 'LOCAL', 'mlflow.runName': 'data'}}}\n",
      "18-Apr-21 21:10:11 -  INFO - Artifacts downloaded in: /gpfs/bsc_home/xpliu/pv/jupyterhubpeini/scanflow/tutorials/mnist/mnist\n",
      "18-Apr-21 21:10:11 -  INFO - Artifacts: ['data']\n"
     ]
    }
   ],
   "source": [
    "client.download_app(app_name=app_name, \n",
    "                    local_dir=\"/gpfs/bsc_home/xpliu/pv/jupyterhubpeini/scanflow/tutorials/mnist\")"
   ]
  },
  {
   "cell_type": "code",
   "execution_count": 6,
   "metadata": {},
   "outputs": [
    {
     "name": "stderr",
     "output_type": "stream",
     "text": [
      "18-Apr-21 21:11:04 -  INFO - [download_app] by 'run_name'. data. Get the latest submission by data\n",
      "18-Apr-21 21:11:04 -  INFO - search_run by tag.mlflow.runName = 'data'\n",
      "18-Apr-21 21:11:04 -  INFO - get latest run within the experiment:['1']\n",
      "18-Apr-21 21:11:04 -  INFO - {'info': {'artifact_uri': 's3://scanflow/1/f435ea1d8fa14fe3898dd91e73b62f1a/artifacts', 'end_time': 1618771321492, 'experiment_id': '1', 'lifecycle_stage': 'active', 'run_id': 'f435ea1d8fa14fe3898dd91e73b62f1a', 'run_uuid': 'f435ea1d8fa14fe3898dd91e73b62f1a', 'start_time': 1618771309570, 'status': 'FINISHED', 'user_id': 'xpliu'}, 'data': {'metrics': {}, 'params': {}, 'tags': {'mlflow.user': 'xpliu', 'mlflow.source.name': '/gpfs/bsc_home/xpliu/anaconda3/lib/python3.8/site-packages/ipykernel_launcher.py', 'mlflow.source.type': 'LOCAL', 'mlflow.runName': 'data'}}}\n",
      "18-Apr-21 21:11:14 -  INFO - Artifacts downloaded in: /gpfs/bsc_home/xpliu/pv/jupyterhubpeini/scanflow/tutorials/mnist/mnist\n",
      "18-Apr-21 21:11:14 -  INFO - Artifacts: ['data']\n"
     ]
    }
   ],
   "source": [
    "client.download_app(app_name=app_name, \n",
    "                    team_name=\"data\",\n",
    "                    local_dir=\"/gpfs/bsc_home/xpliu/pv/jupyterhubpeini/scanflow/tutorials/mnist\")"
   ]
  },
  {
   "cell_type": "code",
   "execution_count": 4,
   "metadata": {},
   "outputs": [
    {
     "name": "stderr",
     "output_type": "stream",
     "text": [
      "18-Apr-21 20:57:15 -  INFO - [download_app] by 'run_id'. aadd04288ed94baf804232a8a6ae0665\n",
      "18-Apr-21 20:57:15 -  INFO - Found credentials in environment variables.\n",
      "18-Apr-21 20:57:25 -  INFO - Artifacts downloaded in: /gpfs/bsc_home/xpliu/pv/jupyterhubpeini/scanflow/tutorials/mnist/mnist\n",
      "18-Apr-21 20:57:25 -  INFO - Artifacts: ['data']\n"
     ]
    }
   ],
   "source": [
    "client.download_app(app_name=\"mnist\", \n",
    "                    run_id=\"aadd04288ed94baf804232a8a6ae0665\",\n",
    "                    local_dir=\"/gpfs/bsc_home/xpliu/pv/jupyterhubpeini/scanflow/tutorials/mnist\")"
   ]
  },
  {
   "cell_type": "code",
   "execution_count": null,
   "metadata": {},
   "outputs": [],
   "source": []
  }
 ],
 "metadata": {
  "kernelspec": {
   "display_name": "Python 3",
   "language": "python",
   "name": "python3"
  },
  "language_info": {
   "codemirror_mode": {
    "name": "ipython",
    "version": 3
   },
   "file_extension": ".py",
   "mimetype": "text/x-python",
   "name": "python",
   "nbconvert_exporter": "python",
   "pygments_lexer": "ipython3",
   "version": "3.8.5"
  }
 },
 "nbformat": 4,
 "nbformat_minor": 4
}
