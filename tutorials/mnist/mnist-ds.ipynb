{
 "cells": [
  {
   "cell_type": "markdown",
   "metadata": {},
   "source": [
    "# Mnist DataScience (Training Stage)\n",
    "\n",
    "## Develop training workflow\n",
    "\n",
    "  1. develop component within the workflow (requirement.txt, script.py)\n",
    "  3. define workflow (dependencies, parameters)\n",
    "\n",
    "## Deploy training workflow\n",
    "  \n",
    "  1. choose deploying backend\n",
    "  2. build/run workflow to train checker\n",
    "  3. build/run workflow to train model\n",
    "  \n",
    "## Download the final prepared model/Push the model(future)\n",
    "\n",
    "  1. download checker model (e.g., drift_detector)\n",
    "  2. download model (e.g., mnist_cnn)\n",
    "  \n",
    "## Clean training environment\n",
    "  \n",
    "  1. clean training workflow, delete namespace\n",
    "  \n",
    "## Submit all model and artifacts to Scanflow Server\n",
    "```bash\n",
    "  mnist\n",
    "    - workflow\n",
    "       - data\n",
    "         - mnist\n",
    "           - train_images.npy\n",
    "           - train_labels.npy\n",
    "           - test_images.npy\n",
    "           - test_labels.npy\n",
    "       - modeling\n",
    "         - modeling.py\n",
    "         - req_modeling.txt\n",
    "       - checker\n",
    "         - checker.py\n",
    "         - req_checker.txt\n",
    "    - meta\n",
    "       - mnist-wf.json\n",
    "       - mnist-checker-wf.json\n",
    "       - Dockerfile-modeling\n",
    "       - Dockerfile-checker\n",
    "       - mnist_cnn(model)\n",
    "       - drift_detector(model)\n",
    "```"
   ]
  },
  {
   "cell_type": "markdown",
   "metadata": {},
   "source": [
    "## Demo: Train workflows"
   ]
  },
  {
   "cell_type": "code",
   "execution_count": 3,
   "metadata": {},
   "outputs": [],
   "source": [
    "import sys\n",
    "import matplotlib.pyplot as plt\n",
    "import os\n",
    "sys.path.insert(0,'../..')\n",
    "\n",
    "import scanflow\n",
    "\n",
    "from scanflow.setup import Setup, Executor, Workflow\n",
    "from scanflow.special import Tracker, Checker, Improver, Planner\n",
    "from scanflow.client import ScanflowClient\n",
    "\n",
    "# App folder\n",
    "base_path = os.path.dirname(os.getcwd())\n",
    "app_dir = os.path.join(base_path, \"examples/mnist-DS/workflow\")\n",
    "app_name = \"mnist\"\n",
    "\n",
    "\n",
    "executors = [Executor(name='modeling-mnist', \n",
    "                      file='modeling.py',\n",
    "                      parameters={'x_train_path': './data/mnist/train_images.npy', \n",
    "                                  'y_train_path': './data/mnist/train_labels.npy',\n",
    "                                  'x_test_path': './data/mnist/test_images.npy',\n",
    "                                  'y_test_path': './data/mnist/test_labels.npy'},\n",
    "                      requirements='req_modeling.txt')           \n",
    "            ]\n",
    "\n",
    "\n",
    "workflow1 = Workflow(name='mnist', \n",
    "                     executors=executors,\n",
    "                     tracker=Tracker)\n",
    "    \n",
    "setup = Setup(app_name, app_dir, workflows=[workflow1],\n",
    "                             verbose=True)"
   ]
  },
  {
   "cell_type": "code",
   "execution_count": 5,
   "metadata": {},
   "outputs": [],
   "source": [
    "# scanflow client\n",
    "client = ScanflowClient(server_uri=\"http://172.30.0.50:46666\",\n",
    "                        server_tracker_uri=\"http://172.30.0.50:46667\",\n",
    "                        verbose=True)"
   ]
  },
  {
   "cell_type": "code",
   "execution_count": 7,
   "metadata": {},
   "outputs": [
    {
     "name": "stderr",
     "output_type": "stream",
     "text": [
      "15-Apr-21 19:32:00 -  INFO - [++]Creating namespace \"mnist-training\"\n",
      "15-Apr-21 19:32:00 -  INFO - [++]Creating Role for 'default service account'\n"
     ]
    }
   ],
   "source": [
    "# deploy backend\n",
    "argo = client.get_deploy_backend(setup, \n",
    "                  backend=\"argo\", \n",
    "                  namespace=\"mnist-training\",\n",
    "                  registry=\"172.30.0.49:5000\",\n",
    "                  k8sconfigdir=\"/gpfs/bsc_home/xpliu/.kube/config\")"
   ]
  },
  {
   "cell_type": "code",
   "execution_count": null,
   "metadata": {},
   "outputs": [],
   "source": [
    "argo.build_workflows()"
   ]
  },
  {
   "cell_type": "markdown",
   "metadata": {},
   "source": [
    "## Submit All"
   ]
  },
  {
   "cell_type": "code",
   "execution_count": null,
   "metadata": {},
   "outputs": [],
   "source": []
  }
 ],
 "metadata": {
  "kernelspec": {
   "display_name": "Python 3",
   "language": "python",
   "name": "python3"
  },
  "language_info": {
   "codemirror_mode": {
    "name": "ipython",
    "version": 3
   },
   "file_extension": ".py",
   "mimetype": "text/x-python",
   "name": "python",
   "nbconvert_exporter": "python",
   "pygments_lexer": "ipython3",
   "version": "3.8.5"
  }
 },
 "nbformat": 4,
 "nbformat_minor": 4
}
