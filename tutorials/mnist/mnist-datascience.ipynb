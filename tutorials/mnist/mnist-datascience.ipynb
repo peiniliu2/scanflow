{
 "cells": [
  {
   "cell_type": "markdown",
   "metadata": {},
   "source": [
    "# Mnist DataScience (Training Stage)\n",
    "\n",
    "## Develop training workflow\n",
    "\n",
    "  1. develop component within the workflow (requirement.txt, script.py)\n",
    "  3. define workflow (dependencies, parameters)\n",
    "\n",
    "## Deploy training workflow\n",
    "  \n",
    "  1. choose deploying backend\n",
    "  2. build/run workflow to train checker\n",
    "  3. build/run workflow to train model\n",
    "  \n",
    "## Call Scanflow Server save the model\n",
    "\n",
    "  1. scanflow server pull checker model (e.g., drift_detector)\n",
    "  2. scanflow server pull model (e.g., mnist_cnn)\n",
    "  \n",
    "## Clean training environment\n",
    "  \n",
    "  1. clean training workflow, delete namespace\n",
    "  \n",
    "## Submit all model and artifacts to Scanflow Server\n",
    "```bash\n",
    "  mnist\n",
    "    - workflow\n",
    "       - load_data\n",
    "         - loaddata.py\n",
    "         - req_loaddata.txt\n",
    "       - modeling_cnn\n",
    "         - modeling.py\n",
    "         - req_modeling.txt\n",
    "       - checker\n",
    "         - checker.py\n",
    "         - req_checker.txt\n",
    "    - meta\n",
    "       - \n",
    "       - mnist-wf.json\n",
    "       - mnist-checker-wf.json\n",
    "       - Dockerfile-modeling\n",
    "       - Dockerfile-checker\n",
    "```"
   ]
  },
  {
   "cell_type": "markdown",
   "metadata": {},
   "source": [
    "## Demo: Develop Training Workflows"
   ]
  },
  {
   "cell_type": "code",
   "execution_count": 1,
   "metadata": {},
   "outputs": [],
   "source": [
    "import sys\n",
    "import matplotlib.pyplot as plt\n",
    "import os\n",
    "sys.path.insert(0,'../..')\n",
    "\n",
    "import scanflow\n",
    "\n",
    "from scanflow.app import Executor, Relation, Workflow, Application\n",
    "from scanflow.client import ScanflowClient\n",
    "\n",
    "# App folder\n",
    "base_path = os.path.dirname(os.getcwd())\n",
    "app_dir = os.path.join(base_path, \"examples/mnist-DS/workflow\")\n",
    "app_name = \"mnist\"\n",
    "\n",
    "\n",
    "##workflow1 mnist-wf\n",
    "## -- load_data\n",
    "##       -- modeling_cnn\n",
    "##       -- modeling_cnn1\n",
    "executor1 = Executor(name='load_data', \n",
    "                      mainfile='loaddata.py',\n",
    "                      parameters={'app_name': app_name,\n",
    "                                  'team_name': 'data'},\n",
    "                      requirements='req_loaddata.txt')\n",
    "\n",
    "executor2 = Executor(name='modeling_cnn', \n",
    "                      mainfile='modeling.py',\n",
    "                      parameters={'x_train_path': './data/mnist/train_images.npy', \n",
    "                                  'y_train_path': './data/mnist/train_labels.npy',\n",
    "                                  'x_test_path': './data/mnist/test_images.npy',\n",
    "                                  'y_test_path': './data/mnist/test_labels.npy'},\n",
    "                      requirements='req_modeling.txt')\n",
    "\n",
    "executor3 = Executor(name='modeling_cnn1', \n",
    "                      mainfile='modeling.py',\n",
    "                      parameters={'x_train_path': './data/mnist/train_images.npy', \n",
    "                                  'y_train_path': './data/mnist/train_labels.npy',\n",
    "                                  'x_test_path': './data/mnist/test_images.npy',\n",
    "                                  'y_test_path': './data/mnist/test_labels.npy'},\n",
    "                      requirements='req_modeling.txt')\n",
    "\n",
    "executors1 = [executor1, executor2, executor3]\n",
    "\n",
    "relation1 = Relation(depender='load_data',\n",
    "                     dependee='modeling_cnn')\n",
    "\n",
    "relation2 = Relation(depender='load_data',\n",
    "                     dependee='modeling_cnn1')\n",
    "\n",
    "relations1 = [relation1, relation2]\n",
    "\n",
    "workflow1 = Workflow(name='mnist-wf', \n",
    "                     executors=executors1,\n",
    "                     relations=relations1)\n",
    "\n",
    "##workflow2 mnist-checker-wf\n",
    "## -- load_data\n",
    "##    -- checker\n",
    "executor4 = Executor(name='checker', \n",
    "                      mainfile='modeling.py',\n",
    "                      parameters={'x_train_path': './data/mnist/train_images.npy'},\n",
    "                      requirements='req_modeling.txt')\n",
    "\n",
    "executors2 = [executor1, executor4]\n",
    "\n",
    "relation4 = Relation(depender='load_data',\n",
    "                     dependee='checker')\n",
    "\n",
    "relations2 = [relation4]\n",
    "\n",
    "workflow2 = Workflow(name='mnist-checker-wf', \n",
    "                     executors=executors2,\n",
    "                     relations=relations2)\n",
    "\n",
    "\n",
    "workflows = [workflow1, workflow2]\n",
    "\n",
    "app = Application(app_name, app_dir, \n",
    "              workflows=workflows,\n",
    "              verbose=True)"
   ]
  },
  {
   "cell_type": "code",
   "execution_count": 4,
   "metadata": {},
   "outputs": [
    {
     "name": "stdout",
     "output_type": "stream",
     "text": [
      "{\n",
      "  \"dictA\": {\n",
      "    \"key_1\": \"value_1\"\n",
      "  },\n",
      "  \"dictB\": {\n",
      "    \"key_2\": \"value_2\"\n",
      "  }\n",
      "}\n"
     ]
    }
   ],
   "source": [
    "import json\n",
    "nested_dict = { 'dictA': {'key_1': 'value_1'},\n",
    "                'dictB': {'key_2': 'value_2'}}\n",
    "print(json.dumps(nested_dict, indent=2))"
   ]
  },
  {
   "cell_type": "code",
   "execution_count": 2,
   "metadata": {},
   "outputs": [
    {
     "name": "stderr",
     "output_type": "stream",
     "text": [
      "20-Apr-21 11:05:30 -  INFO - Scanflowapp: {'app_name': 'mnist', 'app_dir': '/gpfs/bsc_home/xpliu/pv/jupyterhubpeini/scanflow/tutorials/examples/mnist-DS/workflow', 'workflows': [{'name': 'mnist-wf', 'executors': [{'name': 'load_data', 'mainfile': 'loaddata.py', 'parameters': {'app_name': 'mnist', 'team_name': 'data'}, 'requirements': 'req_loaddata.txt', 'dockerfile': None, 'env': None}, {'name': 'modeling_cnn', 'mainfile': 'modeling.py', 'parameters': {'x_train_path': './data/mnist/train_images.npy', 'y_train_path': './data/mnist/train_labels.npy', 'x_test_path': './data/mnist/test_images.npy', 'y_test_path': './data/mnist/test_labels.npy'}, 'requirements': 'req_modeling.txt', 'dockerfile': None, 'env': None}, {'name': 'modeling_cnn1', 'mainfile': 'modeling.py', 'parameters': {'x_train_path': './data/mnist/train_images.npy', 'y_train_path': './data/mnist/train_labels.npy', 'x_test_path': './data/mnist/test_images.npy', 'y_test_path': './data/mnist/test_labels.npy'}, 'requirements': 'req_modeling.txt', 'dockerfile': None, 'env': None}], 'relations': [{'depender': 'load_data', 'dependee': 'modeling_cnn', 'priority': 0}, {'depender': 'load_data', 'dependee': 'modeling_cnn1', 'priority': 0}]}, {'name': 'mnist-checker-wf', 'executors': [{'name': 'load_data', 'mainfile': 'loaddata.py', 'parameters': {'app_name': 'mnist', 'team_name': 'data'}, 'requirements': 'req_loaddata.txt', 'dockerfile': None, 'env': None}, {'name': 'checker', 'mainfile': 'modeling.py', 'parameters': {'x_train_path': './data/mnist/train_images.npy'}, 'requirements': 'req_modeling.txt', 'dockerfile': None, 'env': None}], 'relations': [{'depender': 'load_data', 'dependee': 'checker', 'priority': 0}]}], 'agents': None, 'verbose': True}\n"
     ]
    }
   ],
   "source": [
    "dic = app.to_dict()"
   ]
  },
  {
   "cell_type": "code",
   "execution_count": 5,
   "metadata": {},
   "outputs": [
    {
     "data": {
      "text/plain": [
       "{'app_name': 'mnist',\n",
       " 'app_dir': '/gpfs/bsc_home/xpliu/pv/jupyterhubpeini/scanflow/tutorials/examples/mnist-DS/workflow',\n",
       " 'workflows': [<scanflow.app.workflow.Workflow at 0x2af28f59c280>,\n",
       "  <scanflow.app.workflow.Workflow at 0x2af3c9985220>],\n",
       " 'agents': None,\n",
       " 'verbose': True}"
      ]
     },
     "execution_count": 5,
     "metadata": {},
     "output_type": "execute_result"
    }
   ],
   "source": [
    "app.__dict__"
   ]
  },
  {
   "cell_type": "code",
   "execution_count": 3,
   "metadata": {},
   "outputs": [
    {
     "name": "stdout",
     "output_type": "stream",
     "text": [
      "{\n",
      "  \"app_name\": \"mnist\",\n",
      "  \"app_dir\": \"/gpfs/bsc_home/xpliu/pv/jupyterhubpeini/scanflow/tutorials/examples/mnist-DS/workflow\",\n",
      "  \"workflows\": [\n",
      "    {\n",
      "      \"name\": \"mnist-wf\",\n",
      "      \"executors\": [\n",
      "        {\n",
      "          \"name\": \"load_data\",\n",
      "          \"mainfile\": \"loaddata.py\",\n",
      "          \"parameters\": {\n",
      "            \"app_name\": \"mnist\",\n",
      "            \"team_name\": \"data\"\n",
      "          },\n",
      "          \"requirements\": \"req_loaddata.txt\",\n",
      "          \"dockerfile\": null,\n",
      "          \"env\": null\n",
      "        },\n",
      "        {\n",
      "          \"name\": \"modeling_cnn\",\n",
      "          \"mainfile\": \"modeling.py\",\n",
      "          \"parameters\": {\n",
      "            \"x_train_path\": \"./data/mnist/train_images.npy\",\n",
      "            \"y_train_path\": \"./data/mnist/train_labels.npy\",\n",
      "            \"x_test_path\": \"./data/mnist/test_images.npy\",\n",
      "            \"y_test_path\": \"./data/mnist/test_labels.npy\"\n",
      "          },\n",
      "          \"requirements\": \"req_modeling.txt\",\n",
      "          \"dockerfile\": null,\n",
      "          \"env\": null\n",
      "        },\n",
      "        {\n",
      "          \"name\": \"modeling_cnn1\",\n",
      "          \"mainfile\": \"modeling.py\",\n",
      "          \"parameters\": {\n",
      "            \"x_train_path\": \"./data/mnist/train_images.npy\",\n",
      "            \"y_train_path\": \"./data/mnist/train_labels.npy\",\n",
      "            \"x_test_path\": \"./data/mnist/test_images.npy\",\n",
      "            \"y_test_path\": \"./data/mnist/test_labels.npy\"\n",
      "          },\n",
      "          \"requirements\": \"req_modeling.txt\",\n",
      "          \"dockerfile\": null,\n",
      "          \"env\": null\n",
      "        }\n",
      "      ],\n",
      "      \"relations\": [\n",
      "        {\n",
      "          \"depender\": \"load_data\",\n",
      "          \"dependee\": \"modeling_cnn\",\n",
      "          \"priority\": 0\n",
      "        },\n",
      "        {\n",
      "          \"depender\": \"load_data\",\n",
      "          \"dependee\": \"modeling_cnn1\",\n",
      "          \"priority\": 0\n",
      "        }\n",
      "      ]\n",
      "    },\n",
      "    {\n",
      "      \"name\": \"mnist-checker-wf\",\n",
      "      \"executors\": [\n",
      "        {\n",
      "          \"name\": \"load_data\",\n",
      "          \"mainfile\": \"loaddata.py\",\n",
      "          \"parameters\": {\n",
      "            \"app_name\": \"mnist\",\n",
      "            \"team_name\": \"data\"\n",
      "          },\n",
      "          \"requirements\": \"req_loaddata.txt\",\n",
      "          \"dockerfile\": null,\n",
      "          \"env\": null\n",
      "        },\n",
      "        {\n",
      "          \"name\": \"checker\",\n",
      "          \"mainfile\": \"modeling.py\",\n",
      "          \"parameters\": {\n",
      "            \"x_train_path\": \"./data/mnist/train_images.npy\"\n",
      "          },\n",
      "          \"requirements\": \"req_modeling.txt\",\n",
      "          \"dockerfile\": null,\n",
      "          \"env\": null\n",
      "        }\n",
      "      ],\n",
      "      \"relations\": [\n",
      "        {\n",
      "          \"depender\": \"load_data\",\n",
      "          \"dependee\": \"checker\",\n",
      "          \"priority\": 0\n",
      "        }\n",
      "      ]\n",
      "    }\n",
      "  ],\n",
      "  \"agents\": null,\n",
      "  \"verbose\": true\n",
      "}\n"
     ]
    }
   ],
   "source": [
    "import json\n",
    "print(json.dumps(dic, indent=2))"
   ]
  },
  {
   "cell_type": "code",
   "execution_count": 15,
   "metadata": {},
   "outputs": [
    {
     "data": {
      "text/plain": [
       "{'name': 'mnist-wf',\n",
       " 'executors': [<scanflow.app.executor.Executor at 0x2b348aacfeb0>,\n",
       "  <scanflow.app.executor.Executor at 0x2b348aacfa90>,\n",
       "  <scanflow.app.executor.Executor at 0x2b348a98e070>],\n",
       " 'relations': [<scanflow.app.relation.Relation at 0x2b348a99b580>,\n",
       "  <scanflow.app.relation.Relation at 0x2b348aacf100>],\n",
       " '_to_dict': {'self': <scanflow.app.workflow.Workflow at 0x2b334ff29340>,\n",
       "  'name': 'mnist-wf',\n",
       "  'executors': [<scanflow.app.executor.Executor at 0x2b348aacfeb0>,\n",
       "   <scanflow.app.executor.Executor at 0x2b348aacfa90>,\n",
       "   <scanflow.app.executor.Executor at 0x2b348a98e070>],\n",
       "  'relations': [<scanflow.app.relation.Relation at 0x2b348a99b580>,\n",
       "   <scanflow.app.relation.Relation at 0x2b348aacf100>]}}"
      ]
     },
     "execution_count": 15,
     "metadata": {},
     "output_type": "execute_result"
    }
   ],
   "source": [
    "app.workflows[0].__dict__"
   ]
  },
  {
   "cell_type": "code",
   "execution_count": 16,
   "metadata": {},
   "outputs": [
    {
     "data": {
      "text/plain": [
       "{'name': 'load_data',\n",
       " 'mainfile': 'loaddata.py',\n",
       " 'parameters': {'app_name': 'mnist', 'team_name': 'data'},\n",
       " 'requirements': 'req_loaddata.txt',\n",
       " 'dockerfile': None,\n",
       " 'env': None,\n",
       " '_to_dict': {'self': <scanflow.app.executor.Executor at 0x2b348aacfeb0>,\n",
       "  'name': 'load_data',\n",
       "  'mainfile': 'loaddata.py',\n",
       "  'parameters': {'app_name': 'mnist', 'team_name': 'data'},\n",
       "  'requirements': 'req_loaddata.txt',\n",
       "  'dockerfile': None,\n",
       "  'env': None,\n",
       "  '__class__': scanflow.app.executor.Executor}}"
      ]
     },
     "execution_count": 16,
     "metadata": {},
     "output_type": "execute_result"
    }
   ],
   "source": [
    "app.workflows[0].executors[0].__dict__"
   ]
  },
  {
   "cell_type": "code",
   "execution_count": 12,
   "metadata": {},
   "outputs": [
    {
     "ename": "TypeError",
     "evalue": "'dict' object is not callable",
     "output_type": "error",
     "traceback": [
      "\u001b[0;31m---------------------------------------------------------------------------\u001b[0m",
      "\u001b[0;31mTypeError\u001b[0m                                 Traceback (most recent call last)",
      "\u001b[0;32m<ipython-input-12-8e422e36a19d>\u001b[0m in \u001b[0;36m<module>\u001b[0;34m\u001b[0m\n\u001b[1;32m      1\u001b[0m \u001b[0;32mimport\u001b[0m \u001b[0mjson\u001b[0m\u001b[0;34m\u001b[0m\u001b[0;34m\u001b[0m\u001b[0m\n\u001b[1;32m      2\u001b[0m \u001b[0;31m# with open(\"/gpfs/bsc_home/xpliu/pv/jupyterhubpeini/scanflow/tutorials/mnist/workflow.json\",\"w\") as fd:\u001b[0m\u001b[0;34m\u001b[0m\u001b[0;34m\u001b[0m\u001b[0;34m\u001b[0m\u001b[0m\n\u001b[0;32m----> 3\u001b[0;31m \u001b[0mprint\u001b[0m\u001b[0;34m(\u001b[0m\u001b[0mjson\u001b[0m\u001b[0;34m.\u001b[0m\u001b[0mdumps\u001b[0m\u001b[0;34m(\u001b[0m\u001b[0mapp\u001b[0m\u001b[0;34m,\u001b[0m \u001b[0mdefault\u001b[0m\u001b[0;34m=\u001b[0m\u001b[0;32mlambda\u001b[0m \u001b[0mobj\u001b[0m\u001b[0;34m:\u001b[0m \u001b[0mobj\u001b[0m\u001b[0;34m.\u001b[0m\u001b[0m__dict__\u001b[0m\u001b[0;34m(\u001b[0m\u001b[0;34m)\u001b[0m\u001b[0;34m)\u001b[0m\u001b[0;34m)\u001b[0m\u001b[0;34m\u001b[0m\u001b[0;34m\u001b[0m\u001b[0m\n\u001b[0m",
      "\u001b[0;32m~/anaconda3/lib/python3.8/json/__init__.py\u001b[0m in \u001b[0;36mdumps\u001b[0;34m(obj, skipkeys, ensure_ascii, check_circular, allow_nan, cls, indent, separators, default, sort_keys, **kw)\u001b[0m\n\u001b[1;32m    232\u001b[0m     \u001b[0;32mif\u001b[0m \u001b[0mcls\u001b[0m \u001b[0;32mis\u001b[0m \u001b[0;32mNone\u001b[0m\u001b[0;34m:\u001b[0m\u001b[0;34m\u001b[0m\u001b[0;34m\u001b[0m\u001b[0m\n\u001b[1;32m    233\u001b[0m         \u001b[0mcls\u001b[0m \u001b[0;34m=\u001b[0m \u001b[0mJSONEncoder\u001b[0m\u001b[0;34m\u001b[0m\u001b[0;34m\u001b[0m\u001b[0m\n\u001b[0;32m--> 234\u001b[0;31m     return cls(\n\u001b[0m\u001b[1;32m    235\u001b[0m         \u001b[0mskipkeys\u001b[0m\u001b[0;34m=\u001b[0m\u001b[0mskipkeys\u001b[0m\u001b[0;34m,\u001b[0m \u001b[0mensure_ascii\u001b[0m\u001b[0;34m=\u001b[0m\u001b[0mensure_ascii\u001b[0m\u001b[0;34m,\u001b[0m\u001b[0;34m\u001b[0m\u001b[0;34m\u001b[0m\u001b[0m\n\u001b[1;32m    236\u001b[0m         \u001b[0mcheck_circular\u001b[0m\u001b[0;34m=\u001b[0m\u001b[0mcheck_circular\u001b[0m\u001b[0;34m,\u001b[0m \u001b[0mallow_nan\u001b[0m\u001b[0;34m=\u001b[0m\u001b[0mallow_nan\u001b[0m\u001b[0;34m,\u001b[0m \u001b[0mindent\u001b[0m\u001b[0;34m=\u001b[0m\u001b[0mindent\u001b[0m\u001b[0;34m,\u001b[0m\u001b[0;34m\u001b[0m\u001b[0;34m\u001b[0m\u001b[0m\n",
      "\u001b[0;32m~/anaconda3/lib/python3.8/json/encoder.py\u001b[0m in \u001b[0;36mencode\u001b[0;34m(self, o)\u001b[0m\n\u001b[1;32m    197\u001b[0m         \u001b[0;31m# exceptions aren't as detailed.  The list call should be roughly\u001b[0m\u001b[0;34m\u001b[0m\u001b[0;34m\u001b[0m\u001b[0;34m\u001b[0m\u001b[0m\n\u001b[1;32m    198\u001b[0m         \u001b[0;31m# equivalent to the PySequence_Fast that ''.join() would do.\u001b[0m\u001b[0;34m\u001b[0m\u001b[0;34m\u001b[0m\u001b[0;34m\u001b[0m\u001b[0m\n\u001b[0;32m--> 199\u001b[0;31m         \u001b[0mchunks\u001b[0m \u001b[0;34m=\u001b[0m \u001b[0mself\u001b[0m\u001b[0;34m.\u001b[0m\u001b[0miterencode\u001b[0m\u001b[0;34m(\u001b[0m\u001b[0mo\u001b[0m\u001b[0;34m,\u001b[0m \u001b[0m_one_shot\u001b[0m\u001b[0;34m=\u001b[0m\u001b[0;32mTrue\u001b[0m\u001b[0;34m)\u001b[0m\u001b[0;34m\u001b[0m\u001b[0;34m\u001b[0m\u001b[0m\n\u001b[0m\u001b[1;32m    200\u001b[0m         \u001b[0;32mif\u001b[0m \u001b[0;32mnot\u001b[0m \u001b[0misinstance\u001b[0m\u001b[0;34m(\u001b[0m\u001b[0mchunks\u001b[0m\u001b[0;34m,\u001b[0m \u001b[0;34m(\u001b[0m\u001b[0mlist\u001b[0m\u001b[0;34m,\u001b[0m \u001b[0mtuple\u001b[0m\u001b[0;34m)\u001b[0m\u001b[0;34m)\u001b[0m\u001b[0;34m:\u001b[0m\u001b[0;34m\u001b[0m\u001b[0;34m\u001b[0m\u001b[0m\n\u001b[1;32m    201\u001b[0m             \u001b[0mchunks\u001b[0m \u001b[0;34m=\u001b[0m \u001b[0mlist\u001b[0m\u001b[0;34m(\u001b[0m\u001b[0mchunks\u001b[0m\u001b[0;34m)\u001b[0m\u001b[0;34m\u001b[0m\u001b[0;34m\u001b[0m\u001b[0m\n",
      "\u001b[0;32m~/anaconda3/lib/python3.8/json/encoder.py\u001b[0m in \u001b[0;36miterencode\u001b[0;34m(self, o, _one_shot)\u001b[0m\n\u001b[1;32m    255\u001b[0m                 \u001b[0mself\u001b[0m\u001b[0;34m.\u001b[0m\u001b[0mkey_separator\u001b[0m\u001b[0;34m,\u001b[0m \u001b[0mself\u001b[0m\u001b[0;34m.\u001b[0m\u001b[0mitem_separator\u001b[0m\u001b[0;34m,\u001b[0m \u001b[0mself\u001b[0m\u001b[0;34m.\u001b[0m\u001b[0msort_keys\u001b[0m\u001b[0;34m,\u001b[0m\u001b[0;34m\u001b[0m\u001b[0;34m\u001b[0m\u001b[0m\n\u001b[1;32m    256\u001b[0m                 self.skipkeys, _one_shot)\n\u001b[0;32m--> 257\u001b[0;31m         \u001b[0;32mreturn\u001b[0m \u001b[0m_iterencode\u001b[0m\u001b[0;34m(\u001b[0m\u001b[0mo\u001b[0m\u001b[0;34m,\u001b[0m \u001b[0;36m0\u001b[0m\u001b[0;34m)\u001b[0m\u001b[0;34m\u001b[0m\u001b[0;34m\u001b[0m\u001b[0m\n\u001b[0m\u001b[1;32m    258\u001b[0m \u001b[0;34m\u001b[0m\u001b[0m\n\u001b[1;32m    259\u001b[0m def _make_iterencode(markers, _default, _encoder, _indent, _floatstr,\n",
      "\u001b[0;32m<ipython-input-12-8e422e36a19d>\u001b[0m in \u001b[0;36m<lambda>\u001b[0;34m(obj)\u001b[0m\n\u001b[1;32m      1\u001b[0m \u001b[0;32mimport\u001b[0m \u001b[0mjson\u001b[0m\u001b[0;34m\u001b[0m\u001b[0;34m\u001b[0m\u001b[0m\n\u001b[1;32m      2\u001b[0m \u001b[0;31m# with open(\"/gpfs/bsc_home/xpliu/pv/jupyterhubpeini/scanflow/tutorials/mnist/workflow.json\",\"w\") as fd:\u001b[0m\u001b[0;34m\u001b[0m\u001b[0;34m\u001b[0m\u001b[0;34m\u001b[0m\u001b[0m\n\u001b[0;32m----> 3\u001b[0;31m \u001b[0mprint\u001b[0m\u001b[0;34m(\u001b[0m\u001b[0mjson\u001b[0m\u001b[0;34m.\u001b[0m\u001b[0mdumps\u001b[0m\u001b[0;34m(\u001b[0m\u001b[0mapp\u001b[0m\u001b[0;34m,\u001b[0m \u001b[0mdefault\u001b[0m\u001b[0;34m=\u001b[0m\u001b[0;32mlambda\u001b[0m \u001b[0mobj\u001b[0m\u001b[0;34m:\u001b[0m \u001b[0mobj\u001b[0m\u001b[0;34m.\u001b[0m\u001b[0m__dict__\u001b[0m\u001b[0;34m(\u001b[0m\u001b[0;34m)\u001b[0m\u001b[0;34m)\u001b[0m\u001b[0;34m)\u001b[0m\u001b[0;34m\u001b[0m\u001b[0;34m\u001b[0m\u001b[0m\n\u001b[0m",
      "\u001b[0;31mTypeError\u001b[0m: 'dict' object is not callable"
     ]
    }
   ],
   "source": [
    "import json\n",
    "# with open(\"/gpfs/bsc_home/xpliu/pv/jupyterhubpeini/scanflow/tutorials/mnist/workflow.json\",\"w\") as fd:\n",
    "print(json.dumps(app, default=lambda obj: obj.__dict__()))"
   ]
  },
  {
   "cell_type": "code",
   "execution_count": 1,
   "metadata": {},
   "outputs": [],
   "source": [
    "class Person(object):\n",
    "    def __init__(self, first_name, last_name):\n",
    "        self.first_name = first_name\n",
    "        self.last_name = last_name\n",
    "\n",
    "    @property\n",
    "    def full_name(self):\n",
    "        return self.first_name + ' ' + self.last_name\n",
    "\n",
    "    @full_name.setter\n",
    "    def full_name(self, value):\n",
    "        first_name, last_name = value.split(' ')\n",
    "        self.first_name = first_name\n",
    "        self.last_name = last_name\n",
    "\n",
    "    @full_name.deleter\n",
    "    def full_name(self):\n",
    "        del self.first_name\n",
    "        del self.last_name"
   ]
  },
  {
   "cell_type": "code",
   "execution_count": 2,
   "metadata": {},
   "outputs": [],
   "source": [
    "person = Person('Billy', 'Bob')"
   ]
  },
  {
   "cell_type": "code",
   "execution_count": 3,
   "metadata": {},
   "outputs": [
    {
     "data": {
      "text/plain": [
       "'Billy Bob'"
      ]
     },
     "execution_count": 3,
     "metadata": {},
     "output_type": "execute_result"
    }
   ],
   "source": [
    "person.full_name"
   ]
  },
  {
   "cell_type": "code",
   "execution_count": 20,
   "metadata": {},
   "outputs": [
    {
     "data": {
      "text/plain": [
       "'Billy'"
      ]
     },
     "execution_count": 20,
     "metadata": {},
     "output_type": "execute_result"
    }
   ],
   "source": [
    "person.first_name"
   ]
  },
  {
   "cell_type": "code",
   "execution_count": 21,
   "metadata": {},
   "outputs": [],
   "source": [
    "person.first_name = 'peini'"
   ]
  },
  {
   "cell_type": "code",
   "execution_count": 22,
   "metadata": {},
   "outputs": [
    {
     "data": {
      "text/plain": [
       "'peini'"
      ]
     },
     "execution_count": 22,
     "metadata": {},
     "output_type": "execute_result"
    }
   ],
   "source": [
    "person.first_name"
   ]
  },
  {
   "cell_type": "code",
   "execution_count": 23,
   "metadata": {},
   "outputs": [],
   "source": [
    "del person.first_name"
   ]
  },
  {
   "cell_type": "code",
   "execution_count": 24,
   "metadata": {},
   "outputs": [
    {
     "ename": "AttributeError",
     "evalue": "'Person' object has no attribute 'first_name'",
     "output_type": "error",
     "traceback": [
      "\u001b[0;31m---------------------------------------------------------------------------\u001b[0m",
      "\u001b[0;31mAttributeError\u001b[0m                            Traceback (most recent call last)",
      "\u001b[0;32m<ipython-input-24-e613cb1463e3>\u001b[0m in \u001b[0;36m<module>\u001b[0;34m\u001b[0m\n\u001b[0;32m----> 1\u001b[0;31m \u001b[0mperson\u001b[0m\u001b[0;34m.\u001b[0m\u001b[0mfirst_name\u001b[0m\u001b[0;34m\u001b[0m\u001b[0;34m\u001b[0m\u001b[0m\n\u001b[0m",
      "\u001b[0;31mAttributeError\u001b[0m: 'Person' object has no attribute 'first_name'"
     ]
    }
   ],
   "source": [
    "person.first_name"
   ]
  },
  {
   "cell_type": "code",
   "execution_count": null,
   "metadata": {},
   "outputs": [],
   "source": []
  },
  {
   "cell_type": "code",
   "execution_count": 12,
   "metadata": {},
   "outputs": [
    {
     "data": {
      "text/plain": [
       "\n",
       "Setup = (\n",
       "    Workflows: ['mnist']\n",
       ")"
      ]
     },
     "execution_count": 12,
     "metadata": {},
     "output_type": "execute_result"
    }
   ],
   "source": [
    "setup"
   ]
  },
  {
   "cell_type": "code",
   "execution_count": 15,
   "metadata": {},
   "outputs": [
    {
     "data": {
      "text/plain": [
       "[{'name': 'mnist',\n",
       "  'executors': [{'name': 'modeling-mnist',\n",
       "    'file': 'modeling.py',\n",
       "    'parameters': {'x_train_path': './data/mnist/train_images.npy',\n",
       "     'y_train_path': './data/mnist/train_labels.npy',\n",
       "     'x_test_path': './data/mnist/test_images.npy',\n",
       "     'y_test_path': './data/mnist/test_labels.npy'},\n",
       "    'requirements': 'req_modeling.txt'}],\n",
       "  'tracker': <property at 0x2adbfc5a5c70>,\n",
       "  'parallel': False}]"
      ]
     },
     "execution_count": 15,
     "metadata": {},
     "output_type": "execute_result"
    }
   ],
   "source": [
    "setup.workflows_user"
   ]
  },
  {
   "cell_type": "code",
   "execution_count": 9,
   "metadata": {},
   "outputs": [
    {
     "data": {
      "image/png": "[encoded data removed]",
      "text/plain": [
       "<Figure size 720x504 with 1 Axes>"
      ]
     },
     "metadata": {},
     "output_type": "display_data"
    }
   ],
   "source": [
    "setup.draw_graph()"
   ]
  },
  {
   "cell_type": "code",
   "execution_count": 5,
   "metadata": {},
   "outputs": [],
   "source": [
    "# scanflow client\n",
    "client = ScanflowClient(server_uri=\"http://172.30.0.50:46666\",\n",
    "                        server_tracker_uri=\"http://172.30.0.50:46667\",\n",
    "                        verbose=True)"
   ]
  },
  {
   "cell_type": "code",
   "execution_count": 7,
   "metadata": {},
   "outputs": [
    {
     "name": "stderr",
     "output_type": "stream",
     "text": [
      "15-Apr-21 19:32:00 -  INFO - [++]Creating namespace \"mnist-training\"\n",
      "15-Apr-21 19:32:00 -  INFO - [++]Creating Role for 'default service account'\n"
     ]
    }
   ],
   "source": [
    "# deploy backend\n",
    "argo = client.get_deploy_backend(setup, \n",
    "                  backend=\"argo\", \n",
    "                  namespace=\"mnist-training\",\n",
    "                  registry=\"172.30.0.49:5000\",\n",
    "                  k8sconfigdir=\"/gpfs/bsc_home/xpliu/.kube/config\")"
   ]
  },
  {
   "cell_type": "code",
   "execution_count": null,
   "metadata": {},
   "outputs": [],
   "source": [
    "argo.build_workflows()"
   ]
  },
  {
   "cell_type": "markdown",
   "metadata": {},
   "source": [
    "## Submit All"
   ]
  },
  {
   "cell_type": "code",
   "execution_count": null,
   "metadata": {},
   "outputs": [],
   "source": []
  }
 ],
 "metadata": {
  "kernelspec": {
   "display_name": "Python 3",
   "language": "python",
   "name": "python3"
  },
  "language_info": {
   "codemirror_mode": {
    "name": "ipython",
    "version": 3
   },
   "file_extension": ".py",
   "mimetype": "text/x-python",
   "name": "python",
   "nbconvert_exporter": "python",
   "pygments_lexer": "ipython3",
   "version": "3.8.5"
  }
 },
 "nbformat": 4,
 "nbformat_minor": 4
}
